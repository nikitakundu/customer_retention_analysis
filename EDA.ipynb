{
 "cells": [
  {
   "cell_type": "code",
   "execution_count": 11,
   "id": "c8e1f3cb-d7c3-4936-bdc0-0f2a56ce7c20",
   "metadata": {},
   "outputs": [
    {
     "data": {
      "application/vnd.plotly.v1+json": {
       "config": {
        "plotlyServerURL": "https://plot.ly"
       },
       "data": [
        {
         "marker": {
          "color": [
           "#636EFA",
           "#EF553B",
           "#00CC96"
          ]
         },
         "textinfo": "value+percent previous",
         "textposition": "inside",
         "type": "funnel",
         "x": [
          2000,
          2000,
          1438
         ],
         "y": [
          "Signed Up",
          "Placed 1st Order",
          "Placed 2nd Order"
         ]
        }
       ],
       "layout": {
        "template": {
         "data": {
          "bar": [
           {
            "error_x": {
             "color": "#2a3f5f"
            },
            "error_y": {
             "color": "#2a3f5f"
            },
            "marker": {
             "line": {
              "color": "#E5ECF6",
              "width": 0.5
             },
             "pattern": {
              "fillmode": "overlay",
              "size": 10,
              "solidity": 0.2
             }
            },
            "type": "bar"
           }
          ],
          "barpolar": [
           {
            "marker": {
             "line": {
              "color": "#E5ECF6",
              "width": 0.5
             },
             "pattern": {
              "fillmode": "overlay",
              "size": 10,
              "solidity": 0.2
             }
            },
            "type": "barpolar"
           }
          ],
          "carpet": [
           {
            "aaxis": {
             "endlinecolor": "#2a3f5f",
             "gridcolor": "white",
             "linecolor": "white",
             "minorgridcolor": "white",
             "startlinecolor": "#2a3f5f"
            },
            "baxis": {
             "endlinecolor": "#2a3f5f",
             "gridcolor": "white",
             "linecolor": "white",
             "minorgridcolor": "white",
             "startlinecolor": "#2a3f5f"
            },
            "type": "carpet"
           }
          ],
          "choropleth": [
           {
            "colorbar": {
             "outlinewidth": 0,
             "ticks": ""
            },
            "type": "choropleth"
           }
          ],
          "contour": [
           {
            "colorbar": {
             "outlinewidth": 0,
             "ticks": ""
            },
            "colorscale": [
             [
              0,
              "#0d0887"
             ],
             [
              0.1111111111111111,
              "#46039f"
             ],
             [
              0.2222222222222222,
              "#7201a8"
             ],
             [
              0.3333333333333333,
              "#9c179e"
             ],
             [
              0.4444444444444444,
              "#bd3786"
             ],
             [
              0.5555555555555556,
              "#d8576b"
             ],
             [
              0.6666666666666666,
              "#ed7953"
             ],
             [
              0.7777777777777778,
              "#fb9f3a"
             ],
             [
              0.8888888888888888,
              "#fdca26"
             ],
             [
              1,
              "#f0f921"
             ]
            ],
            "type": "contour"
           }
          ],
          "contourcarpet": [
           {
            "colorbar": {
             "outlinewidth": 0,
             "ticks": ""
            },
            "type": "contourcarpet"
           }
          ],
          "heatmap": [
           {
            "colorbar": {
             "outlinewidth": 0,
             "ticks": ""
            },
            "colorscale": [
             [
              0,
              "#0d0887"
             ],
             [
              0.1111111111111111,
              "#46039f"
             ],
             [
              0.2222222222222222,
              "#7201a8"
             ],
             [
              0.3333333333333333,
              "#9c179e"
             ],
             [
              0.4444444444444444,
              "#bd3786"
             ],
             [
              0.5555555555555556,
              "#d8576b"
             ],
             [
              0.6666666666666666,
              "#ed7953"
             ],
             [
              0.7777777777777778,
              "#fb9f3a"
             ],
             [
              0.8888888888888888,
              "#fdca26"
             ],
             [
              1,
              "#f0f921"
             ]
            ],
            "type": "heatmap"
           }
          ],
          "heatmapgl": [
           {
            "colorbar": {
             "outlinewidth": 0,
             "ticks": ""
            },
            "colorscale": [
             [
              0,
              "#0d0887"
             ],
             [
              0.1111111111111111,
              "#46039f"
             ],
             [
              0.2222222222222222,
              "#7201a8"
             ],
             [
              0.3333333333333333,
              "#9c179e"
             ],
             [
              0.4444444444444444,
              "#bd3786"
             ],
             [
              0.5555555555555556,
              "#d8576b"
             ],
             [
              0.6666666666666666,
              "#ed7953"
             ],
             [
              0.7777777777777778,
              "#fb9f3a"
             ],
             [
              0.8888888888888888,
              "#fdca26"
             ],
             [
              1,
              "#f0f921"
             ]
            ],
            "type": "heatmapgl"
           }
          ],
          "histogram": [
           {
            "marker": {
             "pattern": {
              "fillmode": "overlay",
              "size": 10,
              "solidity": 0.2
             }
            },
            "type": "histogram"
           }
          ],
          "histogram2d": [
           {
            "colorbar": {
             "outlinewidth": 0,
             "ticks": ""
            },
            "colorscale": [
             [
              0,
              "#0d0887"
             ],
             [
              0.1111111111111111,
              "#46039f"
             ],
             [
              0.2222222222222222,
              "#7201a8"
             ],
             [
              0.3333333333333333,
              "#9c179e"
             ],
             [
              0.4444444444444444,
              "#bd3786"
             ],
             [
              0.5555555555555556,
              "#d8576b"
             ],
             [
              0.6666666666666666,
              "#ed7953"
             ],
             [
              0.7777777777777778,
              "#fb9f3a"
             ],
             [
              0.8888888888888888,
              "#fdca26"
             ],
             [
              1,
              "#f0f921"
             ]
            ],
            "type": "histogram2d"
           }
          ],
          "histogram2dcontour": [
           {
            "colorbar": {
             "outlinewidth": 0,
             "ticks": ""
            },
            "colorscale": [
             [
              0,
              "#0d0887"
             ],
             [
              0.1111111111111111,
              "#46039f"
             ],
             [
              0.2222222222222222,
              "#7201a8"
             ],
             [
              0.3333333333333333,
              "#9c179e"
             ],
             [
              0.4444444444444444,
              "#bd3786"
             ],
             [
              0.5555555555555556,
              "#d8576b"
             ],
             [
              0.6666666666666666,
              "#ed7953"
             ],
             [
              0.7777777777777778,
              "#fb9f3a"
             ],
             [
              0.8888888888888888,
              "#fdca26"
             ],
             [
              1,
              "#f0f921"
             ]
            ],
            "type": "histogram2dcontour"
           }
          ],
          "mesh3d": [
           {
            "colorbar": {
             "outlinewidth": 0,
             "ticks": ""
            },
            "type": "mesh3d"
           }
          ],
          "parcoords": [
           {
            "line": {
             "colorbar": {
              "outlinewidth": 0,
              "ticks": ""
             }
            },
            "type": "parcoords"
           }
          ],
          "pie": [
           {
            "automargin": true,
            "type": "pie"
           }
          ],
          "scatter": [
           {
            "fillpattern": {
             "fillmode": "overlay",
             "size": 10,
             "solidity": 0.2
            },
            "type": "scatter"
           }
          ],
          "scatter3d": [
           {
            "line": {
             "colorbar": {
              "outlinewidth": 0,
              "ticks": ""
             }
            },
            "marker": {
             "colorbar": {
              "outlinewidth": 0,
              "ticks": ""
             }
            },
            "type": "scatter3d"
           }
          ],
          "scattercarpet": [
           {
            "marker": {
             "colorbar": {
              "outlinewidth": 0,
              "ticks": ""
             }
            },
            "type": "scattercarpet"
           }
          ],
          "scattergeo": [
           {
            "marker": {
             "colorbar": {
              "outlinewidth": 0,
              "ticks": ""
             }
            },
            "type": "scattergeo"
           }
          ],
          "scattergl": [
           {
            "marker": {
             "colorbar": {
              "outlinewidth": 0,
              "ticks": ""
             }
            },
            "type": "scattergl"
           }
          ],
          "scattermapbox": [
           {
            "marker": {
             "colorbar": {
              "outlinewidth": 0,
              "ticks": ""
             }
            },
            "type": "scattermapbox"
           }
          ],
          "scatterpolar": [
           {
            "marker": {
             "colorbar": {
              "outlinewidth": 0,
              "ticks": ""
             }
            },
            "type": "scatterpolar"
           }
          ],
          "scatterpolargl": [
           {
            "marker": {
             "colorbar": {
              "outlinewidth": 0,
              "ticks": ""
             }
            },
            "type": "scatterpolargl"
           }
          ],
          "scatterternary": [
           {
            "marker": {
             "colorbar": {
              "outlinewidth": 0,
              "ticks": ""
             }
            },
            "type": "scatterternary"
           }
          ],
          "surface": [
           {
            "colorbar": {
             "outlinewidth": 0,
             "ticks": ""
            },
            "colorscale": [
             [
              0,
              "#0d0887"
             ],
             [
              0.1111111111111111,
              "#46039f"
             ],
             [
              0.2222222222222222,
              "#7201a8"
             ],
             [
              0.3333333333333333,
              "#9c179e"
             ],
             [
              0.4444444444444444,
              "#bd3786"
             ],
             [
              0.5555555555555556,
              "#d8576b"
             ],
             [
              0.6666666666666666,
              "#ed7953"
             ],
             [
              0.7777777777777778,
              "#fb9f3a"
             ],
             [
              0.8888888888888888,
              "#fdca26"
             ],
             [
              1,
              "#f0f921"
             ]
            ],
            "type": "surface"
           }
          ],
          "table": [
           {
            "cells": {
             "fill": {
              "color": "#EBF0F8"
             },
             "line": {
              "color": "white"
             }
            },
            "header": {
             "fill": {
              "color": "#C8D4E3"
             },
             "line": {
              "color": "white"
             }
            },
            "type": "table"
           }
          ]
         },
         "layout": {
          "annotationdefaults": {
           "arrowcolor": "#2a3f5f",
           "arrowhead": 0,
           "arrowwidth": 1
          },
          "autotypenumbers": "strict",
          "coloraxis": {
           "colorbar": {
            "outlinewidth": 0,
            "ticks": ""
           }
          },
          "colorscale": {
           "diverging": [
            [
             0,
             "#8e0152"
            ],
            [
             0.1,
             "#c51b7d"
            ],
            [
             0.2,
             "#de77ae"
            ],
            [
             0.3,
             "#f1b6da"
            ],
            [
             0.4,
             "#fde0ef"
            ],
            [
             0.5,
             "#f7f7f7"
            ],
            [
             0.6,
             "#e6f5d0"
            ],
            [
             0.7,
             "#b8e186"
            ],
            [
             0.8,
             "#7fbc41"
            ],
            [
             0.9,
             "#4d9221"
            ],
            [
             1,
             "#276419"
            ]
           ],
           "sequential": [
            [
             0,
             "#0d0887"
            ],
            [
             0.1111111111111111,
             "#46039f"
            ],
            [
             0.2222222222222222,
             "#7201a8"
            ],
            [
             0.3333333333333333,
             "#9c179e"
            ],
            [
             0.4444444444444444,
             "#bd3786"
            ],
            [
             0.5555555555555556,
             "#d8576b"
            ],
            [
             0.6666666666666666,
             "#ed7953"
            ],
            [
             0.7777777777777778,
             "#fb9f3a"
            ],
            [
             0.8888888888888888,
             "#fdca26"
            ],
            [
             1,
             "#f0f921"
            ]
           ],
           "sequentialminus": [
            [
             0,
             "#0d0887"
            ],
            [
             0.1111111111111111,
             "#46039f"
            ],
            [
             0.2222222222222222,
             "#7201a8"
            ],
            [
             0.3333333333333333,
             "#9c179e"
            ],
            [
             0.4444444444444444,
             "#bd3786"
            ],
            [
             0.5555555555555556,
             "#d8576b"
            ],
            [
             0.6666666666666666,
             "#ed7953"
            ],
            [
             0.7777777777777778,
             "#fb9f3a"
            ],
            [
             0.8888888888888888,
             "#fdca26"
            ],
            [
             1,
             "#f0f921"
            ]
           ]
          },
          "colorway": [
           "#636efa",
           "#EF553B",
           "#00cc96",
           "#ab63fa",
           "#FFA15A",
           "#19d3f3",
           "#FF6692",
           "#B6E880",
           "#FF97FF",
           "#FECB52"
          ],
          "font": {
           "color": "#2a3f5f"
          },
          "geo": {
           "bgcolor": "white",
           "lakecolor": "white",
           "landcolor": "#E5ECF6",
           "showlakes": true,
           "showland": true,
           "subunitcolor": "white"
          },
          "hoverlabel": {
           "align": "left"
          },
          "hovermode": "closest",
          "mapbox": {
           "style": "light"
          },
          "paper_bgcolor": "white",
          "plot_bgcolor": "#E5ECF6",
          "polar": {
           "angularaxis": {
            "gridcolor": "white",
            "linecolor": "white",
            "ticks": ""
           },
           "bgcolor": "#E5ECF6",
           "radialaxis": {
            "gridcolor": "white",
            "linecolor": "white",
            "ticks": ""
           }
          },
          "scene": {
           "xaxis": {
            "backgroundcolor": "#E5ECF6",
            "gridcolor": "white",
            "gridwidth": 2,
            "linecolor": "white",
            "showbackground": true,
            "ticks": "",
            "zerolinecolor": "white"
           },
           "yaxis": {
            "backgroundcolor": "#E5ECF6",
            "gridcolor": "white",
            "gridwidth": 2,
            "linecolor": "white",
            "showbackground": true,
            "ticks": "",
            "zerolinecolor": "white"
           },
           "zaxis": {
            "backgroundcolor": "#E5ECF6",
            "gridcolor": "white",
            "gridwidth": 2,
            "linecolor": "white",
            "showbackground": true,
            "ticks": "",
            "zerolinecolor": "white"
           }
          },
          "shapedefaults": {
           "line": {
            "color": "#2a3f5f"
           }
          },
          "ternary": {
           "aaxis": {
            "gridcolor": "white",
            "linecolor": "white",
            "ticks": ""
           },
           "baxis": {
            "gridcolor": "white",
            "linecolor": "white",
            "ticks": ""
           },
           "bgcolor": "#E5ECF6",
           "caxis": {
            "gridcolor": "white",
            "linecolor": "white",
            "ticks": ""
           }
          },
          "title": {
           "x": 0.05
          },
          "xaxis": {
           "automargin": true,
           "gridcolor": "white",
           "linecolor": "white",
           "ticks": "",
           "title": {
            "standoff": 15
           },
           "zerolinecolor": "white",
           "zerolinewidth": 2
          },
          "yaxis": {
           "automargin": true,
           "gridcolor": "white",
           "linecolor": "white",
           "ticks": "",
           "title": {
            "standoff": 15
           },
           "zerolinecolor": "white",
           "zerolinewidth": 2
          }
         }
        },
        "title": {
         "text": "🔽 User Conversion Funnel"
        }
       }
      },
      "image/png": "[encoded data removed]",
      "text/html": [
       "<div>                            <div id=\"c1c78cce-785d-452f-8523-0de0866b15b1\" class=\"plotly-graph-div\" style=\"height:525px; width:100%;\"></div>            <script type=\"text/javascript\">                require([\"plotly\"], function(Plotly) {                    window.PLOTLYENV=window.PLOTLYENV || {};                                    if (document.getElementById(\"c1c78cce-785d-452f-8523-0de0866b15b1\")) {                    Plotly.newPlot(                        \"c1c78cce-785d-452f-8523-0de0866b15b1\",                        [{\"marker\":{\"color\":[\"#636EFA\",\"#EF553B\",\"#00CC96\"]},\"textinfo\":\"value+percent previous\",\"textposition\":\"inside\",\"x\":[2000,2000,1438],\"y\":[\"Signed Up\",\"Placed 1st Order\",\"Placed 2nd Order\"],\"type\":\"funnel\"}],                        {\"template\":{\"data\":{\"histogram2dcontour\":[{\"type\":\"histogram2dcontour\",\"colorbar\":{\"outlinewidth\":0,\"ticks\":\"\"},\"colorscale\":[[0.0,\"#0d0887\"],[0.1111111111111111,\"#46039f\"],[0.2222222222222222,\"#7201a8\"],[0.3333333333333333,\"#9c179e\"],[0.4444444444444444,\"#bd3786\"],[0.5555555555555556,\"#d8576b\"],[0.6666666666666666,\"#ed7953\"],[0.7777777777777778,\"#fb9f3a\"],[0.8888888888888888,\"#fdca26\"],[1.0,\"#f0f921\"]]}],\"choropleth\":[{\"type\":\"choropleth\",\"colorbar\":{\"outlinewidth\":0,\"ticks\":\"\"}}],\"histogram2d\":[{\"type\":\"histogram2d\",\"colorbar\":{\"outlinewidth\":0,\"ticks\":\"\"},\"colorscale\":[[0.0,\"#0d0887\"],[0.1111111111111111,\"#46039f\"],[0.2222222222222222,\"#7201a8\"],[0.3333333333333333,\"#9c179e\"],[0.4444444444444444,\"#bd3786\"],[0.5555555555555556,\"#d8576b\"],[0.6666666666666666,\"#ed7953\"],[0.7777777777777778,\"#fb9f3a\"],[0.8888888888888888,\"#fdca26\"],[1.0,\"#f0f921\"]]}],\"heatmap\":[{\"type\":\"heatmap\",\"colorbar\":{\"outlinewidth\":0,\"ticks\":\"\"},\"colorscale\":[[0.0,\"#0d0887\"],[0.1111111111111111,\"#46039f\"],[0.2222222222222222,\"#7201a8\"],[0.3333333333333333,\"#9c179e\"],[0.4444444444444444,\"#bd3786\"],[0.5555555555555556,\"#d8576b\"],[0.6666666666666666,\"#ed7953\"],[0.7777777777777778,\"#fb9f3a\"],[0.8888888888888888,\"#fdca26\"],[1.0,\"#f0f921\"]]}],\"heatmapgl\":[{\"type\":\"heatmapgl\",\"colorbar\":{\"outlinewidth\":0,\"ticks\":\"\"},\"colorscale\":[[0.0,\"#0d0887\"],[0.1111111111111111,\"#46039f\"],[0.2222222222222222,\"#7201a8\"],[0.3333333333333333,\"#9c179e\"],[0.4444444444444444,\"#bd3786\"],[0.5555555555555556,\"#d8576b\"],[0.6666666666666666,\"#ed7953\"],[0.7777777777777778,\"#fb9f3a\"],[0.8888888888888888,\"#fdca26\"],[1.0,\"#f0f921\"]]}],\"contourcarpet\":[{\"type\":\"contourcarpet\",\"colorbar\":{\"outlinewidth\":0,\"ticks\":\"\"}}],\"contour\":[{\"type\":\"contour\",\"colorbar\":{\"outlinewidth\":0,\"ticks\":\"\"},\"colorscale\":[[0.0,\"#0d0887\"],[0.1111111111111111,\"#46039f\"],[0.2222222222222222,\"#7201a8\"],[0.3333333333333333,\"#9c179e\"],[0.4444444444444444,\"#bd3786\"],[0.5555555555555556,\"#d8576b\"],[0.6666666666666666,\"#ed7953\"],[0.7777777777777778,\"#fb9f3a\"],[0.8888888888888888,\"#fdca26\"],[1.0,\"#f0f921\"]]}],\"surface\":[{\"type\":\"surface\",\"colorbar\":{\"outlinewidth\":0,\"ticks\":\"\"},\"colorscale\":[[0.0,\"#0d0887\"],[0.1111111111111111,\"#46039f\"],[0.2222222222222222,\"#7201a8\"],[0.3333333333333333,\"#9c179e\"],[0.4444444444444444,\"#bd3786\"],[0.5555555555555556,\"#d8576b\"],[0.6666666666666666,\"#ed7953\"],[0.7777777777777778,\"#fb9f3a\"],[0.8888888888888888,\"#fdca26\"],[1.0,\"#f0f921\"]]}],\"mesh3d\":[{\"type\":\"mesh3d\",\"colorbar\":{\"outlinewidth\":0,\"ticks\":\"\"}}],\"scatter\":[{\"fillpattern\":{\"fillmode\":\"overlay\",\"size\":10,\"solidity\":0.2},\"type\":\"scatter\"}],\"parcoords\":[{\"type\":\"parcoords\",\"line\":{\"colorbar\":{\"outlinewidth\":0,\"ticks\":\"\"}}}],\"scatterpolargl\":[{\"type\":\"scatterpolargl\",\"marker\":{\"colorbar\":{\"outlinewidth\":0,\"ticks\":\"\"}}}],\"bar\":[{\"error_x\":{\"color\":\"#2a3f5f\"},\"error_y\":{\"color\":\"#2a3f5f\"},\"marker\":{\"line\":{\"color\":\"#E5ECF6\",\"width\":0.5},\"pattern\":{\"fillmode\":\"overlay\",\"size\":10,\"solidity\":0.2}},\"type\":\"bar\"}],\"scattergeo\":[{\"type\":\"scattergeo\",\"marker\":{\"colorbar\":{\"outlinewidth\":0,\"ticks\":\"\"}}}],\"scatterpolar\":[{\"type\":\"scatterpolar\",\"marker\":{\"colorbar\":{\"outlinewidth\":0,\"ticks\":\"\"}}}],\"histogram\":[{\"marker\":{\"pattern\":{\"fillmode\":\"overlay\",\"size\":10,\"solidity\":0.2}},\"type\":\"histogram\"}],\"scattergl\":[{\"type\":\"scattergl\",\"marker\":{\"colorbar\":{\"outlinewidth\":0,\"ticks\":\"\"}}}],\"scatter3d\":[{\"type\":\"scatter3d\",\"line\":{\"colorbar\":{\"outlinewidth\":0,\"ticks\":\"\"}},\"marker\":{\"colorbar\":{\"outlinewidth\":0,\"ticks\":\"\"}}}],\"scattermapbox\":[{\"type\":\"scattermapbox\",\"marker\":{\"colorbar\":{\"outlinewidth\":0,\"ticks\":\"\"}}}],\"scatterternary\":[{\"type\":\"scatterternary\",\"marker\":{\"colorbar\":{\"outlinewidth\":0,\"ticks\":\"\"}}}],\"scattercarpet\":[{\"type\":\"scattercarpet\",\"marker\":{\"colorbar\":{\"outlinewidth\":0,\"ticks\":\"\"}}}],\"carpet\":[{\"aaxis\":{\"endlinecolor\":\"#2a3f5f\",\"gridcolor\":\"white\",\"linecolor\":\"white\",\"minorgridcolor\":\"white\",\"startlinecolor\":\"#2a3f5f\"},\"baxis\":{\"endlinecolor\":\"#2a3f5f\",\"gridcolor\":\"white\",\"linecolor\":\"white\",\"minorgridcolor\":\"white\",\"startlinecolor\":\"#2a3f5f\"},\"type\":\"carpet\"}],\"table\":[{\"cells\":{\"fill\":{\"color\":\"#EBF0F8\"},\"line\":{\"color\":\"white\"}},\"header\":{\"fill\":{\"color\":\"#C8D4E3\"},\"line\":{\"color\":\"white\"}},\"type\":\"table\"}],\"barpolar\":[{\"marker\":{\"line\":{\"color\":\"#E5ECF6\",\"width\":0.5},\"pattern\":{\"fillmode\":\"overlay\",\"size\":10,\"solidity\":0.2}},\"type\":\"barpolar\"}],\"pie\":[{\"automargin\":true,\"type\":\"pie\"}]},\"layout\":{\"autotypenumbers\":\"strict\",\"colorway\":[\"#636efa\",\"#EF553B\",\"#00cc96\",\"#ab63fa\",\"#FFA15A\",\"#19d3f3\",\"#FF6692\",\"#B6E880\",\"#FF97FF\",\"#FECB52\"],\"font\":{\"color\":\"#2a3f5f\"},\"hovermode\":\"closest\",\"hoverlabel\":{\"align\":\"left\"},\"paper_bgcolor\":\"white\",\"plot_bgcolor\":\"#E5ECF6\",\"polar\":{\"bgcolor\":\"#E5ECF6\",\"angularaxis\":{\"gridcolor\":\"white\",\"linecolor\":\"white\",\"ticks\":\"\"},\"radialaxis\":{\"gridcolor\":\"white\",\"linecolor\":\"white\",\"ticks\":\"\"}},\"ternary\":{\"bgcolor\":\"#E5ECF6\",\"aaxis\":{\"gridcolor\":\"white\",\"linecolor\":\"white\",\"ticks\":\"\"},\"baxis\":{\"gridcolor\":\"white\",\"linecolor\":\"white\",\"ticks\":\"\"},\"caxis\":{\"gridcolor\":\"white\",\"linecolor\":\"white\",\"ticks\":\"\"}},\"coloraxis\":{\"colorbar\":{\"outlinewidth\":0,\"ticks\":\"\"}},\"colorscale\":{\"sequential\":[[0.0,\"#0d0887\"],[0.1111111111111111,\"#46039f\"],[0.2222222222222222,\"#7201a8\"],[0.3333333333333333,\"#9c179e\"],[0.4444444444444444,\"#bd3786\"],[0.5555555555555556,\"#d8576b\"],[0.6666666666666666,\"#ed7953\"],[0.7777777777777778,\"#fb9f3a\"],[0.8888888888888888,\"#fdca26\"],[1.0,\"#f0f921\"]],\"sequentialminus\":[[0.0,\"#0d0887\"],[0.1111111111111111,\"#46039f\"],[0.2222222222222222,\"#7201a8\"],[0.3333333333333333,\"#9c179e\"],[0.4444444444444444,\"#bd3786\"],[0.5555555555555556,\"#d8576b\"],[0.6666666666666666,\"#ed7953\"],[0.7777777777777778,\"#fb9f3a\"],[0.8888888888888888,\"#fdca26\"],[1.0,\"#f0f921\"]],\"diverging\":[[0,\"#8e0152\"],[0.1,\"#c51b7d\"],[0.2,\"#de77ae\"],[0.3,\"#f1b6da\"],[0.4,\"#fde0ef\"],[0.5,\"#f7f7f7\"],[0.6,\"#e6f5d0\"],[0.7,\"#b8e186\"],[0.8,\"#7fbc41\"],[0.9,\"#4d9221\"],[1,\"#276419\"]]},\"xaxis\":{\"gridcolor\":\"white\",\"linecolor\":\"white\",\"ticks\":\"\",\"title\":{\"standoff\":15},\"zerolinecolor\":\"white\",\"automargin\":true,\"zerolinewidth\":2},\"yaxis\":{\"gridcolor\":\"white\",\"linecolor\":\"white\",\"ticks\":\"\",\"title\":{\"standoff\":15},\"zerolinecolor\":\"white\",\"automargin\":true,\"zerolinewidth\":2},\"scene\":{\"xaxis\":{\"backgroundcolor\":\"#E5ECF6\",\"gridcolor\":\"white\",\"linecolor\":\"white\",\"showbackground\":true,\"ticks\":\"\",\"zerolinecolor\":\"white\",\"gridwidth\":2},\"yaxis\":{\"backgroundcolor\":\"#E5ECF6\",\"gridcolor\":\"white\",\"linecolor\":\"white\",\"showbackground\":true,\"ticks\":\"\",\"zerolinecolor\":\"white\",\"gridwidth\":2},\"zaxis\":{\"backgroundcolor\":\"#E5ECF6\",\"gridcolor\":\"white\",\"linecolor\":\"white\",\"showbackground\":true,\"ticks\":\"\",\"zerolinecolor\":\"white\",\"gridwidth\":2}},\"shapedefaults\":{\"line\":{\"color\":\"#2a3f5f\"}},\"annotationdefaults\":{\"arrowcolor\":\"#2a3f5f\",\"arrowhead\":0,\"arrowwidth\":1},\"geo\":{\"bgcolor\":\"white\",\"landcolor\":\"#E5ECF6\",\"subunitcolor\":\"white\",\"showland\":true,\"showlakes\":true,\"lakecolor\":\"white\"},\"title\":{\"x\":0.05},\"mapbox\":{\"style\":\"light\"}}},\"title\":{\"text\":\"\\ud83d\\udd3d User Conversion Funnel\"}},                        {\"responsive\": true}                    ).then(function(){\n",
       "                            \n",
       "var gd = document.getElementById('c1c78cce-785d-452f-8523-0de0866b15b1');\n",
       "var x = new MutationObserver(function (mutations, observer) {{\n",
       "        var display = window.getComputedStyle(gd).display;\n",
       "        if (!display || display === 'none') {{\n",
       "            console.log([gd, 'removed!']);\n",
       "            Plotly.purge(gd);\n",
       "            observer.disconnect();\n",
       "        }}\n",
       "}});\n",
       "\n",
       "// Listen for the removal of the full notebook cells\n",
       "var notebookContainer = gd.closest('#notebook-container');\n",
       "if (notebookContainer) {{\n",
       "    x.observe(notebookContainer, {childList: true});\n",
       "}}\n",
       "\n",
       "// Listen for the clearing of the current output cell\n",
       "var outputEl = gd.closest('.output');\n",
       "if (outputEl) {{\n",
       "    x.observe(outputEl, {childList: true});\n",
       "}}\n",
       "\n",
       "                        })                };                });            </script>        </div>"
      ]
     },
     "metadata": {},
     "output_type": "display_data"
    },
    {
     "data": {
      "application/vnd.plotly.v1+json": {
       "config": {
        "plotlyServerURL": "https://plot.ly"
       },
       "data": [
        {
         "hovertemplate": "variable=retention_1st<br>Signup Month=%{x}<br>Retention Rate=%{y}<extra></extra>",
         "legendgroup": "retention_1st",
         "line": {
          "color": "#636EFA",
          "dash": "solid"
         },
         "marker": {
          "symbol": "circle"
         },
         "mode": "lines+markers",
         "name": "retention_1st",
         "orientation": "v",
         "showlegend": true,
         "type": "scatter",
         "x": [
          "2024-07",
          "2024-08",
          "2024-09",
          "2024-10",
          "2024-11",
          "2024-12",
          "2025-01",
          "2025-02",
          "2025-03",
          "2025-04",
          "2025-05",
          "2025-06",
          "2025-07"
         ],
         "xaxis": "x",
         "y": [
          1,
          1,
          1,
          1,
          1,
          1,
          1,
          1,
          1,
          1,
          1,
          1,
          1
         ],
         "yaxis": "y"
        },
        {
         "hovertemplate": "variable=retention_2nd<br>Signup Month=%{x}<br>Retention Rate=%{y}<extra></extra>",
         "legendgroup": "retention_2nd",
         "line": {
          "color": "#EF553B",
          "dash": "solid"
         },
         "marker": {
          "symbol": "circle"
         },
         "mode": "lines+markers",
         "name": "retention_2nd",
         "orientation": "v",
         "showlegend": true,
         "type": "scatter",
         "x": [
          "2024-07",
          "2024-08",
          "2024-09",
          "2024-10",
          "2024-11",
          "2024-12",
          "2025-01",
          "2025-02",
          "2025-03",
          "2025-04",
          "2025-05",
          "2025-06",
          "2025-07"
         ],
         "xaxis": "x",
         "y": [
          0.7101449275362319,
          0.6514285714285715,
          0.7397260273972602,
          0.675,
          0.7516778523489933,
          0.7209302325581395,
          0.7098765432098766,
          0.7894736842105263,
          0.7204301075268817,
          0.7423312883435583,
          0.7716049382716049,
          0.686046511627907,
          0.6086956521739131
         ],
         "yaxis": "y"
        }
       ],
       "layout": {
        "legend": {
         "title": {
          "text": "variable"
         },
         "tracegroupgap": 0
        },
        "template": {
         "data": {
          "bar": [
           {
            "error_x": {
             "color": "#2a3f5f"
            },
            "error_y": {
             "color": "#2a3f5f"
            },
            "marker": {
             "line": {
              "color": "#E5ECF6",
              "width": 0.5
             },
             "pattern": {
              "fillmode": "overlay",
              "size": 10,
              "solidity": 0.2
             }
            },
            "type": "bar"
           }
          ],
          "barpolar": [
           {
            "marker": {
             "line": {
              "color": "#E5ECF6",
              "width": 0.5
             },
             "pattern": {
              "fillmode": "overlay",
              "size": 10,
              "solidity": 0.2
             }
            },
            "type": "barpolar"
           }
          ],
          "carpet": [
           {
            "aaxis": {
             "endlinecolor": "#2a3f5f",
             "gridcolor": "white",
             "linecolor": "white",
             "minorgridcolor": "white",
             "startlinecolor": "#2a3f5f"
            },
            "baxis": {
             "endlinecolor": "#2a3f5f",
             "gridcolor": "white",
             "linecolor": "white",
             "minorgridcolor": "white",
             "startlinecolor": "#2a3f5f"
            },
            "type": "carpet"
           }
          ],
          "choropleth": [
           {
            "colorbar": {
             "outlinewidth": 0,
             "ticks": ""
            },
            "type": "choropleth"
           }
          ],
          "contour": [
           {
            "colorbar": {
             "outlinewidth": 0,
             "ticks": ""
            },
            "colorscale": [
             [
              0,
              "#0d0887"
             ],
             [
              0.1111111111111111,
              "#46039f"
             ],
             [
              0.2222222222222222,
              "#7201a8"
             ],
             [
              0.3333333333333333,
              "#9c179e"
             ],
             [
              0.4444444444444444,
              "#bd3786"
             ],
             [
              0.5555555555555556,
              "#d8576b"
             ],
             [
              0.6666666666666666,
              "#ed7953"
             ],
             [
              0.7777777777777778,
              "#fb9f3a"
             ],
             [
              0.8888888888888888,
              "#fdca26"
             ],
             [
              1,
              "#f0f921"
             ]
            ],
            "type": "contour"
           }
          ],
          "contourcarpet": [
           {
            "colorbar": {
             "outlinewidth": 0,
             "ticks": ""
            },
            "type": "contourcarpet"
           }
          ],
          "heatmap": [
           {
            "colorbar": {
             "outlinewidth": 0,
             "ticks": ""
            },
            "colorscale": [
             [
              0,
              "#0d0887"
             ],
             [
              0.1111111111111111,
              "#46039f"
             ],
             [
              0.2222222222222222,
              "#7201a8"
             ],
             [
              0.3333333333333333,
              "#9c179e"
             ],
             [
              0.4444444444444444,
              "#bd3786"
             ],
             [
              0.5555555555555556,
              "#d8576b"
             ],
             [
              0.6666666666666666,
              "#ed7953"
             ],
             [
              0.7777777777777778,
              "#fb9f3a"
             ],
             [
              0.8888888888888888,
              "#fdca26"
             ],
             [
              1,
              "#f0f921"
             ]
            ],
            "type": "heatmap"
           }
          ],
          "heatmapgl": [
           {
            "colorbar": {
             "outlinewidth": 0,
             "ticks": ""
            },
            "colorscale": [
             [
              0,
              "#0d0887"
             ],
             [
              0.1111111111111111,
              "#46039f"
             ],
             [
              0.2222222222222222,
              "#7201a8"
             ],
             [
              0.3333333333333333,
              "#9c179e"
             ],
             [
              0.4444444444444444,
              "#bd3786"
             ],
             [
              0.5555555555555556,
              "#d8576b"
             ],
             [
              0.6666666666666666,
              "#ed7953"
             ],
             [
              0.7777777777777778,
              "#fb9f3a"
             ],
             [
              0.8888888888888888,
              "#fdca26"
             ],
             [
              1,
              "#f0f921"
             ]
            ],
            "type": "heatmapgl"
           }
          ],
          "histogram": [
           {
            "marker": {
             "pattern": {
              "fillmode": "overlay",
              "size": 10,
              "solidity": 0.2
             }
            },
            "type": "histogram"
           }
          ],
          "histogram2d": [
           {
            "colorbar": {
             "outlinewidth": 0,
             "ticks": ""
            },
            "colorscale": [
             [
              0,
              "#0d0887"
             ],
             [
              0.1111111111111111,
              "#46039f"
             ],
             [
              0.2222222222222222,
              "#7201a8"
             ],
             [
              0.3333333333333333,
              "#9c179e"
             ],
             [
              0.4444444444444444,
              "#bd3786"
             ],
             [
              0.5555555555555556,
              "#d8576b"
             ],
             [
              0.6666666666666666,
              "#ed7953"
             ],
             [
              0.7777777777777778,
              "#fb9f3a"
             ],
             [
              0.8888888888888888,
              "#fdca26"
             ],
             [
              1,
              "#f0f921"
             ]
            ],
            "type": "histogram2d"
           }
          ],
          "histogram2dcontour": [
           {
            "colorbar": {
             "outlinewidth": 0,
             "ticks": ""
            },
            "colorscale": [
             [
              0,
              "#0d0887"
             ],
             [
              0.1111111111111111,
              "#46039f"
             ],
             [
              0.2222222222222222,
              "#7201a8"
             ],
             [
              0.3333333333333333,
              "#9c179e"
             ],
             [
              0.4444444444444444,
              "#bd3786"
             ],
             [
              0.5555555555555556,
              "#d8576b"
             ],
             [
              0.6666666666666666,
              "#ed7953"
             ],
             [
              0.7777777777777778,
              "#fb9f3a"
             ],
             [
              0.8888888888888888,
              "#fdca26"
             ],
             [
              1,
              "#f0f921"
             ]
            ],
            "type": "histogram2dcontour"
           }
          ],
          "mesh3d": [
           {
            "colorbar": {
             "outlinewidth": 0,
             "ticks": ""
            },
            "type": "mesh3d"
           }
          ],
          "parcoords": [
           {
            "line": {
             "colorbar": {
              "outlinewidth": 0,
              "ticks": ""
             }
            },
            "type": "parcoords"
           }
          ],
          "pie": [
           {
            "automargin": true,
            "type": "pie"
           }
          ],
          "scatter": [
           {
            "fillpattern": {
             "fillmode": "overlay",
             "size": 10,
             "solidity": 0.2
            },
            "type": "scatter"
           }
          ],
          "scatter3d": [
           {
            "line": {
             "colorbar": {
              "outlinewidth": 0,
              "ticks": ""
             }
            },
            "marker": {
             "colorbar": {
              "outlinewidth": 0,
              "ticks": ""
             }
            },
            "type": "scatter3d"
           }
          ],
          "scattercarpet": [
           {
            "marker": {
             "colorbar": {
              "outlinewidth": 0,
              "ticks": ""
             }
            },
            "type": "scattercarpet"
           }
          ],
          "scattergeo": [
           {
            "marker": {
             "colorbar": {
              "outlinewidth": 0,
              "ticks": ""
             }
            },
            "type": "scattergeo"
           }
          ],
          "scattergl": [
           {
            "marker": {
             "colorbar": {
              "outlinewidth": 0,
              "ticks": ""
             }
            },
            "type": "scattergl"
           }
          ],
          "scattermapbox": [
           {
            "marker": {
             "colorbar": {
              "outlinewidth": 0,
              "ticks": ""
             }
            },
            "type": "scattermapbox"
           }
          ],
          "scatterpolar": [
           {
            "marker": {
             "colorbar": {
              "outlinewidth": 0,
              "ticks": ""
             }
            },
            "type": "scatterpolar"
           }
          ],
          "scatterpolargl": [
           {
            "marker": {
             "colorbar": {
              "outlinewidth": 0,
              "ticks": ""
             }
            },
            "type": "scatterpolargl"
           }
          ],
          "scatterternary": [
           {
            "marker": {
             "colorbar": {
              "outlinewidth": 0,
              "ticks": ""
             }
            },
            "type": "scatterternary"
           }
          ],
          "surface": [
           {
            "colorbar": {
             "outlinewidth": 0,
             "ticks": ""
            },
            "colorscale": [
             [
              0,
              "#0d0887"
             ],
             [
              0.1111111111111111,
              "#46039f"
             ],
             [
              0.2222222222222222,
              "#7201a8"
             ],
             [
              0.3333333333333333,
              "#9c179e"
             ],
             [
              0.4444444444444444,
              "#bd3786"
             ],
             [
              0.5555555555555556,
              "#d8576b"
             ],
             [
              0.6666666666666666,
              "#ed7953"
             ],
             [
              0.7777777777777778,
              "#fb9f3a"
             ],
             [
              0.8888888888888888,
              "#fdca26"
             ],
             [
              1,
              "#f0f921"
             ]
            ],
            "type": "surface"
           }
          ],
          "table": [
           {
            "cells": {
             "fill": {
              "color": "#EBF0F8"
             },
             "line": {
              "color": "white"
             }
            },
            "header": {
             "fill": {
              "color": "#C8D4E3"
             },
             "line": {
              "color": "white"
             }
            },
            "type": "table"
           }
          ]
         },
         "layout": {
          "annotationdefaults": {
           "arrowcolor": "#2a3f5f",
           "arrowhead": 0,
           "arrowwidth": 1
          },
          "autotypenumbers": "strict",
          "coloraxis": {
           "colorbar": {
            "outlinewidth": 0,
            "ticks": ""
           }
          },
          "colorscale": {
           "diverging": [
            [
             0,
             "#8e0152"
            ],
            [
             0.1,
             "#c51b7d"
            ],
            [
             0.2,
             "#de77ae"
            ],
            [
             0.3,
             "#f1b6da"
            ],
            [
             0.4,
             "#fde0ef"
            ],
            [
             0.5,
             "#f7f7f7"
            ],
            [
             0.6,
             "#e6f5d0"
            ],
            [
             0.7,
             "#b8e186"
            ],
            [
             0.8,
             "#7fbc41"
            ],
            [
             0.9,
             "#4d9221"
            ],
            [
             1,
             "#276419"
            ]
           ],
           "sequential": [
            [
             0,
             "#0d0887"
            ],
            [
             0.1111111111111111,
             "#46039f"
            ],
            [
             0.2222222222222222,
             "#7201a8"
            ],
            [
             0.3333333333333333,
             "#9c179e"
            ],
            [
             0.4444444444444444,
             "#bd3786"
            ],
            [
             0.5555555555555556,
             "#d8576b"
            ],
            [
             0.6666666666666666,
             "#ed7953"
            ],
            [
             0.7777777777777778,
             "#fb9f3a"
            ],
            [
             0.8888888888888888,
             "#fdca26"
            ],
            [
             1,
             "#f0f921"
            ]
           ],
           "sequentialminus": [
            [
             0,
             "#0d0887"
            ],
            [
             0.1111111111111111,
             "#46039f"
            ],
            [
             0.2222222222222222,
             "#7201a8"
            ],
            [
             0.3333333333333333,
             "#9c179e"
            ],
            [
             0.4444444444444444,
             "#bd3786"
            ],
            [
             0.5555555555555556,
             "#d8576b"
            ],
            [
             0.6666666666666666,
             "#ed7953"
            ],
            [
             0.7777777777777778,
             "#fb9f3a"
            ],
            [
             0.8888888888888888,
             "#fdca26"
            ],
            [
             1,
             "#f0f921"
            ]
           ]
          },
          "colorway": [
           "#636efa",
           "#EF553B",
           "#00cc96",
           "#ab63fa",
           "#FFA15A",
           "#19d3f3",
           "#FF6692",
           "#B6E880",
           "#FF97FF",
           "#FECB52"
          ],
          "font": {
           "color": "#2a3f5f"
          },
          "geo": {
           "bgcolor": "white",
           "lakecolor": "white",
           "landcolor": "#E5ECF6",
           "showlakes": true,
           "showland": true,
           "subunitcolor": "white"
          },
          "hoverlabel": {
           "align": "left"
          },
          "hovermode": "closest",
          "mapbox": {
           "style": "light"
          },
          "paper_bgcolor": "white",
          "plot_bgcolor": "#E5ECF6",
          "polar": {
           "angularaxis": {
            "gridcolor": "white",
            "linecolor": "white",
            "ticks": ""
           },
           "bgcolor": "#E5ECF6",
           "radialaxis": {
            "gridcolor": "white",
            "linecolor": "white",
            "ticks": ""
           }
          },
          "scene": {
           "xaxis": {
            "backgroundcolor": "#E5ECF6",
            "gridcolor": "white",
            "gridwidth": 2,
            "linecolor": "white",
            "showbackground": true,
            "ticks": "",
            "zerolinecolor": "white"
           },
           "yaxis": {
            "backgroundcolor": "#E5ECF6",
            "gridcolor": "white",
            "gridwidth": 2,
            "linecolor": "white",
            "showbackground": true,
            "ticks": "",
            "zerolinecolor": "white"
           },
           "zaxis": {
            "backgroundcolor": "#E5ECF6",
            "gridcolor": "white",
            "gridwidth": 2,
            "linecolor": "white",
            "showbackground": true,
            "ticks": "",
            "zerolinecolor": "white"
           }
          },
          "shapedefaults": {
           "line": {
            "color": "#2a3f5f"
           }
          },
          "ternary": {
           "aaxis": {
            "gridcolor": "white",
            "linecolor": "white",
            "ticks": ""
           },
           "baxis": {
            "gridcolor": "white",
            "linecolor": "white",
            "ticks": ""
           },
           "bgcolor": "#E5ECF6",
           "caxis": {
            "gridcolor": "white",
            "linecolor": "white",
            "ticks": ""
           }
          },
          "title": {
           "x": 0.05
          },
          "xaxis": {
           "automargin": true,
           "gridcolor": "white",
           "linecolor": "white",
           "ticks": "",
           "title": {
            "standoff": 15
           },
           "zerolinecolor": "white",
           "zerolinewidth": 2
          },
          "yaxis": {
           "automargin": true,
           "gridcolor": "white",
           "linecolor": "white",
           "ticks": "",
           "title": {
            "standoff": 15
           },
           "zerolinecolor": "white",
           "zerolinewidth": 2
          }
         }
        },
        "title": {
         "text": "📅 Monthly Retention Trends (1st & 2nd Orders)"
        },
        "xaxis": {
         "anchor": "y",
         "domain": [
          0,
          1
         ],
         "title": {
          "text": "Signup Month"
         }
        },
        "yaxis": {
         "anchor": "x",
         "domain": [
          0,
          1
         ],
         "title": {
          "text": "Retention Rate"
         }
        }
       }
      },
      "image/png": "[encoded data removed]",
      "text/html": [
       "<div>                            <div id=\"31dfb7ff-f1bd-4ef6-acec-e837b698bfdf\" class=\"plotly-graph-div\" style=\"height:525px; width:100%;\"></div>            <script type=\"text/javascript\">                require([\"plotly\"], function(Plotly) {                    window.PLOTLYENV=window.PLOTLYENV || {};                                    if (document.getElementById(\"31dfb7ff-f1bd-4ef6-acec-e837b698bfdf\")) {                    Plotly.newPlot(                        \"31dfb7ff-f1bd-4ef6-acec-e837b698bfdf\",                        [{\"hovertemplate\":\"variable=retention_1st\\u003cbr\\u003eSignup Month=%{x}\\u003cbr\\u003eRetention Rate=%{y}\\u003cextra\\u003e\\u003c\\u002fextra\\u003e\",\"legendgroup\":\"retention_1st\",\"line\":{\"color\":\"#636EFA\",\"dash\":\"solid\"},\"marker\":{\"symbol\":\"circle\"},\"mode\":\"lines+markers\",\"name\":\"retention_1st\",\"orientation\":\"v\",\"showlegend\":true,\"x\":[\"2024-07\",\"2024-08\",\"2024-09\",\"2024-10\",\"2024-11\",\"2024-12\",\"2025-01\",\"2025-02\",\"2025-03\",\"2025-04\",\"2025-05\",\"2025-06\",\"2025-07\"],\"xaxis\":\"x\",\"y\":[1.0,1.0,1.0,1.0,1.0,1.0,1.0,1.0,1.0,1.0,1.0,1.0,1.0],\"yaxis\":\"y\",\"type\":\"scatter\"},{\"hovertemplate\":\"variable=retention_2nd\\u003cbr\\u003eSignup Month=%{x}\\u003cbr\\u003eRetention Rate=%{y}\\u003cextra\\u003e\\u003c\\u002fextra\\u003e\",\"legendgroup\":\"retention_2nd\",\"line\":{\"color\":\"#EF553B\",\"dash\":\"solid\"},\"marker\":{\"symbol\":\"circle\"},\"mode\":\"lines+markers\",\"name\":\"retention_2nd\",\"orientation\":\"v\",\"showlegend\":true,\"x\":[\"2024-07\",\"2024-08\",\"2024-09\",\"2024-10\",\"2024-11\",\"2024-12\",\"2025-01\",\"2025-02\",\"2025-03\",\"2025-04\",\"2025-05\",\"2025-06\",\"2025-07\"],\"xaxis\":\"x\",\"y\":[0.7101449275362319,0.6514285714285715,0.7397260273972602,0.675,0.7516778523489933,0.7209302325581395,0.7098765432098766,0.7894736842105263,0.7204301075268817,0.7423312883435583,0.7716049382716049,0.686046511627907,0.6086956521739131],\"yaxis\":\"y\",\"type\":\"scatter\"}],                        {\"template\":{\"data\":{\"histogram2dcontour\":[{\"type\":\"histogram2dcontour\",\"colorbar\":{\"outlinewidth\":0,\"ticks\":\"\"},\"colorscale\":[[0.0,\"#0d0887\"],[0.1111111111111111,\"#46039f\"],[0.2222222222222222,\"#7201a8\"],[0.3333333333333333,\"#9c179e\"],[0.4444444444444444,\"#bd3786\"],[0.5555555555555556,\"#d8576b\"],[0.6666666666666666,\"#ed7953\"],[0.7777777777777778,\"#fb9f3a\"],[0.8888888888888888,\"#fdca26\"],[1.0,\"#f0f921\"]]}],\"choropleth\":[{\"type\":\"choropleth\",\"colorbar\":{\"outlinewidth\":0,\"ticks\":\"\"}}],\"histogram2d\":[{\"type\":\"histogram2d\",\"colorbar\":{\"outlinewidth\":0,\"ticks\":\"\"},\"colorscale\":[[0.0,\"#0d0887\"],[0.1111111111111111,\"#46039f\"],[0.2222222222222222,\"#7201a8\"],[0.3333333333333333,\"#9c179e\"],[0.4444444444444444,\"#bd3786\"],[0.5555555555555556,\"#d8576b\"],[0.6666666666666666,\"#ed7953\"],[0.7777777777777778,\"#fb9f3a\"],[0.8888888888888888,\"#fdca26\"],[1.0,\"#f0f921\"]]}],\"heatmap\":[{\"type\":\"heatmap\",\"colorbar\":{\"outlinewidth\":0,\"ticks\":\"\"},\"colorscale\":[[0.0,\"#0d0887\"],[0.1111111111111111,\"#46039f\"],[0.2222222222222222,\"#7201a8\"],[0.3333333333333333,\"#9c179e\"],[0.4444444444444444,\"#bd3786\"],[0.5555555555555556,\"#d8576b\"],[0.6666666666666666,\"#ed7953\"],[0.7777777777777778,\"#fb9f3a\"],[0.8888888888888888,\"#fdca26\"],[1.0,\"#f0f921\"]]}],\"heatmapgl\":[{\"type\":\"heatmapgl\",\"colorbar\":{\"outlinewidth\":0,\"ticks\":\"\"},\"colorscale\":[[0.0,\"#0d0887\"],[0.1111111111111111,\"#46039f\"],[0.2222222222222222,\"#7201a8\"],[0.3333333333333333,\"#9c179e\"],[0.4444444444444444,\"#bd3786\"],[0.5555555555555556,\"#d8576b\"],[0.6666666666666666,\"#ed7953\"],[0.7777777777777778,\"#fb9f3a\"],[0.8888888888888888,\"#fdca26\"],[1.0,\"#f0f921\"]]}],\"contourcarpet\":[{\"type\":\"contourcarpet\",\"colorbar\":{\"outlinewidth\":0,\"ticks\":\"\"}}],\"contour\":[{\"type\":\"contour\",\"colorbar\":{\"outlinewidth\":0,\"ticks\":\"\"},\"colorscale\":[[0.0,\"#0d0887\"],[0.1111111111111111,\"#46039f\"],[0.2222222222222222,\"#7201a8\"],[0.3333333333333333,\"#9c179e\"],[0.4444444444444444,\"#bd3786\"],[0.5555555555555556,\"#d8576b\"],[0.6666666666666666,\"#ed7953\"],[0.7777777777777778,\"#fb9f3a\"],[0.8888888888888888,\"#fdca26\"],[1.0,\"#f0f921\"]]}],\"surface\":[{\"type\":\"surface\",\"colorbar\":{\"outlinewidth\":0,\"ticks\":\"\"},\"colorscale\":[[0.0,\"#0d0887\"],[0.1111111111111111,\"#46039f\"],[0.2222222222222222,\"#7201a8\"],[0.3333333333333333,\"#9c179e\"],[0.4444444444444444,\"#bd3786\"],[0.5555555555555556,\"#d8576b\"],[0.6666666666666666,\"#ed7953\"],[0.7777777777777778,\"#fb9f3a\"],[0.8888888888888888,\"#fdca26\"],[1.0,\"#f0f921\"]]}],\"mesh3d\":[{\"type\":\"mesh3d\",\"colorbar\":{\"outlinewidth\":0,\"ticks\":\"\"}}],\"scatter\":[{\"fillpattern\":{\"fillmode\":\"overlay\",\"size\":10,\"solidity\":0.2},\"type\":\"scatter\"}],\"parcoords\":[{\"type\":\"parcoords\",\"line\":{\"colorbar\":{\"outlinewidth\":0,\"ticks\":\"\"}}}],\"scatterpolargl\":[{\"type\":\"scatterpolargl\",\"marker\":{\"colorbar\":{\"outlinewidth\":0,\"ticks\":\"\"}}}],\"bar\":[{\"error_x\":{\"color\":\"#2a3f5f\"},\"error_y\":{\"color\":\"#2a3f5f\"},\"marker\":{\"line\":{\"color\":\"#E5ECF6\",\"width\":0.5},\"pattern\":{\"fillmode\":\"overlay\",\"size\":10,\"solidity\":0.2}},\"type\":\"bar\"}],\"scattergeo\":[{\"type\":\"scattergeo\",\"marker\":{\"colorbar\":{\"outlinewidth\":0,\"ticks\":\"\"}}}],\"scatterpolar\":[{\"type\":\"scatterpolar\",\"marker\":{\"colorbar\":{\"outlinewidth\":0,\"ticks\":\"\"}}}],\"histogram\":[{\"marker\":{\"pattern\":{\"fillmode\":\"overlay\",\"size\":10,\"solidity\":0.2}},\"type\":\"histogram\"}],\"scattergl\":[{\"type\":\"scattergl\",\"marker\":{\"colorbar\":{\"outlinewidth\":0,\"ticks\":\"\"}}}],\"scatter3d\":[{\"type\":\"scatter3d\",\"line\":{\"colorbar\":{\"outlinewidth\":0,\"ticks\":\"\"}},\"marker\":{\"colorbar\":{\"outlinewidth\":0,\"ticks\":\"\"}}}],\"scattermapbox\":[{\"type\":\"scattermapbox\",\"marker\":{\"colorbar\":{\"outlinewidth\":0,\"ticks\":\"\"}}}],\"scatterternary\":[{\"type\":\"scatterternary\",\"marker\":{\"colorbar\":{\"outlinewidth\":0,\"ticks\":\"\"}}}],\"scattercarpet\":[{\"type\":\"scattercarpet\",\"marker\":{\"colorbar\":{\"outlinewidth\":0,\"ticks\":\"\"}}}],\"carpet\":[{\"aaxis\":{\"endlinecolor\":\"#2a3f5f\",\"gridcolor\":\"white\",\"linecolor\":\"white\",\"minorgridcolor\":\"white\",\"startlinecolor\":\"#2a3f5f\"},\"baxis\":{\"endlinecolor\":\"#2a3f5f\",\"gridcolor\":\"white\",\"linecolor\":\"white\",\"minorgridcolor\":\"white\",\"startlinecolor\":\"#2a3f5f\"},\"type\":\"carpet\"}],\"table\":[{\"cells\":{\"fill\":{\"color\":\"#EBF0F8\"},\"line\":{\"color\":\"white\"}},\"header\":{\"fill\":{\"color\":\"#C8D4E3\"},\"line\":{\"color\":\"white\"}},\"type\":\"table\"}],\"barpolar\":[{\"marker\":{\"line\":{\"color\":\"#E5ECF6\",\"width\":0.5},\"pattern\":{\"fillmode\":\"overlay\",\"size\":10,\"solidity\":0.2}},\"type\":\"barpolar\"}],\"pie\":[{\"automargin\":true,\"type\":\"pie\"}]},\"layout\":{\"autotypenumbers\":\"strict\",\"colorway\":[\"#636efa\",\"#EF553B\",\"#00cc96\",\"#ab63fa\",\"#FFA15A\",\"#19d3f3\",\"#FF6692\",\"#B6E880\",\"#FF97FF\",\"#FECB52\"],\"font\":{\"color\":\"#2a3f5f\"},\"hovermode\":\"closest\",\"hoverlabel\":{\"align\":\"left\"},\"paper_bgcolor\":\"white\",\"plot_bgcolor\":\"#E5ECF6\",\"polar\":{\"bgcolor\":\"#E5ECF6\",\"angularaxis\":{\"gridcolor\":\"white\",\"linecolor\":\"white\",\"ticks\":\"\"},\"radialaxis\":{\"gridcolor\":\"white\",\"linecolor\":\"white\",\"ticks\":\"\"}},\"ternary\":{\"bgcolor\":\"#E5ECF6\",\"aaxis\":{\"gridcolor\":\"white\",\"linecolor\":\"white\",\"ticks\":\"\"},\"baxis\":{\"gridcolor\":\"white\",\"linecolor\":\"white\",\"ticks\":\"\"},\"caxis\":{\"gridcolor\":\"white\",\"linecolor\":\"white\",\"ticks\":\"\"}},\"coloraxis\":{\"colorbar\":{\"outlinewidth\":0,\"ticks\":\"\"}},\"colorscale\":{\"sequential\":[[0.0,\"#0d0887\"],[0.1111111111111111,\"#46039f\"],[0.2222222222222222,\"#7201a8\"],[0.3333333333333333,\"#9c179e\"],[0.4444444444444444,\"#bd3786\"],[0.5555555555555556,\"#d8576b\"],[0.6666666666666666,\"#ed7953\"],[0.7777777777777778,\"#fb9f3a\"],[0.8888888888888888,\"#fdca26\"],[1.0,\"#f0f921\"]],\"sequentialminus\":[[0.0,\"#0d0887\"],[0.1111111111111111,\"#46039f\"],[0.2222222222222222,\"#7201a8\"],[0.3333333333333333,\"#9c179e\"],[0.4444444444444444,\"#bd3786\"],[0.5555555555555556,\"#d8576b\"],[0.6666666666666666,\"#ed7953\"],[0.7777777777777778,\"#fb9f3a\"],[0.8888888888888888,\"#fdca26\"],[1.0,\"#f0f921\"]],\"diverging\":[[0,\"#8e0152\"],[0.1,\"#c51b7d\"],[0.2,\"#de77ae\"],[0.3,\"#f1b6da\"],[0.4,\"#fde0ef\"],[0.5,\"#f7f7f7\"],[0.6,\"#e6f5d0\"],[0.7,\"#b8e186\"],[0.8,\"#7fbc41\"],[0.9,\"#4d9221\"],[1,\"#276419\"]]},\"xaxis\":{\"gridcolor\":\"white\",\"linecolor\":\"white\",\"ticks\":\"\",\"title\":{\"standoff\":15},\"zerolinecolor\":\"white\",\"automargin\":true,\"zerolinewidth\":2},\"yaxis\":{\"gridcolor\":\"white\",\"linecolor\":\"white\",\"ticks\":\"\",\"title\":{\"standoff\":15},\"zerolinecolor\":\"white\",\"automargin\":true,\"zerolinewidth\":2},\"scene\":{\"xaxis\":{\"backgroundcolor\":\"#E5ECF6\",\"gridcolor\":\"white\",\"linecolor\":\"white\",\"showbackground\":true,\"ticks\":\"\",\"zerolinecolor\":\"white\",\"gridwidth\":2},\"yaxis\":{\"backgroundcolor\":\"#E5ECF6\",\"gridcolor\":\"white\",\"linecolor\":\"white\",\"showbackground\":true,\"ticks\":\"\",\"zerolinecolor\":\"white\",\"gridwidth\":2},\"zaxis\":{\"backgroundcolor\":\"#E5ECF6\",\"gridcolor\":\"white\",\"linecolor\":\"white\",\"showbackground\":true,\"ticks\":\"\",\"zerolinecolor\":\"white\",\"gridwidth\":2}},\"shapedefaults\":{\"line\":{\"color\":\"#2a3f5f\"}},\"annotationdefaults\":{\"arrowcolor\":\"#2a3f5f\",\"arrowhead\":0,\"arrowwidth\":1},\"geo\":{\"bgcolor\":\"white\",\"landcolor\":\"#E5ECF6\",\"subunitcolor\":\"white\",\"showland\":true,\"showlakes\":true,\"lakecolor\":\"white\"},\"title\":{\"x\":0.05},\"mapbox\":{\"style\":\"light\"}}},\"xaxis\":{\"anchor\":\"y\",\"domain\":[0.0,1.0],\"title\":{\"text\":\"Signup Month\"}},\"yaxis\":{\"anchor\":\"x\",\"domain\":[0.0,1.0],\"title\":{\"text\":\"Retention Rate\"}},\"legend\":{\"title\":{\"text\":\"variable\"},\"tracegroupgap\":0},\"title\":{\"text\":\"\\ud83d\\udcc5 Monthly Retention Trends (1st & 2nd Orders)\"}},                        {\"responsive\": true}                    ).then(function(){\n",
       "                            \n",
       "var gd = document.getElementById('31dfb7ff-f1bd-4ef6-acec-e837b698bfdf');\n",
       "var x = new MutationObserver(function (mutations, observer) {{\n",
       "        var display = window.getComputedStyle(gd).display;\n",
       "        if (!display || display === 'none') {{\n",
       "            console.log([gd, 'removed!']);\n",
       "            Plotly.purge(gd);\n",
       "            observer.disconnect();\n",
       "        }}\n",
       "}});\n",
       "\n",
       "// Listen for the removal of the full notebook cells\n",
       "var notebookContainer = gd.closest('#notebook-container');\n",
       "if (notebookContainer) {{\n",
       "    x.observe(notebookContainer, {childList: true});\n",
       "}}\n",
       "\n",
       "// Listen for the clearing of the current output cell\n",
       "var outputEl = gd.closest('.output');\n",
       "if (outputEl) {{\n",
       "    x.observe(outputEl, {childList: true});\n",
       "}}\n",
       "\n",
       "                        })                };                });            </script>        </div>"
      ]
     },
     "metadata": {},
     "output_type": "display_data"
    },
    {
     "data": {
      "application/vnd.plotly.v1+json": {
       "config": {
        "plotlyServerURL": "https://plot.ly"
       },
       "data": [
        {
         "alignmentgroup": "True",
         "bingroup": "x",
         "hovertemplate": "avg_order_value=%{x}<br>count=%{y}<extra></extra>",
         "legendgroup": "",
         "marker": {
          "color": "#00CC96",
          "pattern": {
           "shape": ""
          }
         },
         "name": "",
         "nbinsx": 40,
         "offsetgroup": "",
         "orientation": "v",
         "showlegend": false,
         "type": "histogram",
         "x": [
          544.7833333333334,
          315.46999999999997,
          402.28000000000003,
          460.67,
          343.595,
          665.71,
          243.245,
          271.295,
          382.92,
          350.405,
          275.29,
          319.82,
          421.51666666666665,
          456.995,
          298.2366666666667,
          429.18,
          549.0633333333334,
          359.57,
          293.655,
          283.87,
          475.43,
          417.27,
          383.66,
          681.75,
          655.2266666666668,
          454.9866666666667,
          246.64333333333335,
          323.01,
          426.6166666666666,
          425.62,
          184.55,
          388.02500000000003,
          524.9033333333333,
          103.31,
          581.6949999999999,
          575.0799999999999,
          243.01,
          570.9200000000001,
          243.34,
          315.85,
          584.2066666666666,
          383.33,
          171.76,
          567.21,
          436.77,
          490.8333333333333,
          245.5,
          329.77333333333337,
          405.14,
          644.54,
          249.58,
          346.23,
          345.59999999999997,
          409.4666666666667,
          557.4549999999999,
          627.54,
          211.94,
          554.575,
          636.0550000000001,
          264.53000000000003,
          554.5033333333333,
          280.31,
          316.855,
          413.41333333333336,
          442.3333333333333,
          592.9066666666666,
          343.31666666666666,
          221.515,
          366.08,
          267.19,
          391.88000000000005,
          393.67,
          493.31,
          503.28,
          424.775,
          453.79999999999995,
          479.38,
          475.78999999999996,
          402.67499999999995,
          292.47,
          193.19,
          390.3433333333333,
          407.26,
          342.53999999999996,
          536.2133333333333,
          182.51,
          261.36,
          654.82,
          465.58,
          568.1600000000001,
          450.45500000000004,
          225.485,
          619.48,
          303.42,
          527.79,
          595.1333333333333,
          150.48,
          466.6566666666667,
          158.2,
          325.57,
          337.86,
          528.16,
          405.93499999999995,
          293.795,
          543.835,
          577.05,
          440.99,
          278.65,
          455.3533333333333,
          581.9549999999999,
          514.235,
          445.825,
          217.15,
          425.96500000000003,
          114.59,
          485.9433333333333,
          581.1266666666667,
          407.72333333333336,
          679.99,
          678.17,
          439.84666666666664,
          475.41499999999996,
          342.89,
          614.655,
          325.175,
          606.515,
          440.48999999999995,
          561.3866666666667,
          425.8233333333333,
          651.4166666666666,
          428.86,
          563.38,
          630.74,
          339.07500000000005,
          274.9766666666667,
          427.475,
          271.92,
          311.4,
          377.35999999999996,
          319.795,
          562,
          229.49,
          473.73,
          267.01,
          514.1633333333333,
          496.3533333333333,
          577.11,
          337.94,
          346.6233333333333,
          521.5133333333333,
          203.98,
          193.86,
          364.845,
          464.28000000000003,
          582.7566666666667,
          389.14333333333326,
          358.97666666666663,
          173.89333333333335,
          592.735,
          346.0566666666667,
          319,
          374.70500000000004,
          392.5833333333333,
          324.77,
          530.43,
          371.49,
          142.34,
          325.68,
          553.63,
          431.2733333333333,
          507.97,
          676.71,
          367.4333333333334,
          160.47,
          158.8,
          347.9666666666667,
          469.8566666666666,
          352.68333333333334,
          477.37,
          608.76,
          582.09,
          269.22,
          206.46,
          592.235,
          488.35999999999996,
          542.9266666666667,
          540.9899999999999,
          485.3766666666667,
          403.15,
          541.7366666666667,
          394.4166666666667,
          405.4666666666667,
          564.5066666666667,
          347.40000000000003,
          576.6266666666667,
          573.77,
          261.96999999999997,
          509.08666666666676,
          255.52999999999997,
          538.92,
          160.67,
          360.52000000000004,
          453.51,
          148.81,
          150.9,
          533.27,
          559.4733333333334,
          691.6,
          375.9633333333333,
          525.665,
          524.17,
          166.72,
          327.8633333333333,
          191.86333333333334,
          529.06,
          526.11,
          271.43,
          544.4166666666666,
          419.60999999999996,
          425.7366666666667,
          457.45666666666665,
          572.72,
          477.64,
          488.90000000000003,
          439.51666666666665,
          494.41499999999996,
          526.5433333333334,
          319.17333333333335,
          406.1,
          440.64,
          630.315,
          421.66,
          285.72,
          574.56,
          512.55,
          669.88,
          484.81,
          664.64,
          146.475,
          568.1933333333333,
          358.42,
          663.4066666666666,
          390.055,
          223.935,
          618.83,
          587.74,
          643.6899999999999,
          639.125,
          454.1,
          370.33,
          449.965,
          434.6366666666666,
          417.89,
          168.13,
          482.56,
          563.39,
          518.1833333333333,
          436.56,
          416.16333333333336,
          414.18,
          344.01666666666665,
          234.54000000000002,
          417.26,
          486.6133333333334,
          479.06000000000006,
          473.25,
          668.565,
          447.095,
          375.23333333333335,
          493.6133333333333,
          323.21666666666664,
          215.1,
          183.3,
          367.01666666666665,
          536.225,
          500.53,
          234.38,
          231.01,
          210.60333333333332,
          339.60999999999996,
          379.96,
          579.65,
          449.9833333333333,
          385.09999999999997,
          583.72,
          404.83500000000004,
          298.945,
          455.83000000000004,
          374.435,
          360.245,
          505.53000000000003,
          407.01,
          316.78499999999997,
          419.01,
          311.1333333333333,
          227.645,
          265.07666666666665,
          565.98,
          408.24,
          507.20666666666665,
          359,
          176.55,
          319.06,
          447.8933333333334,
          691.91,
          322.28999999999996,
          245.23333333333332,
          211.94,
          271.06,
          363.4066666666666,
          516.7933333333334,
          277.965,
          681.68,
          619.3,
          447.49,
          202.53,
          604.41,
          415.00666666666666,
          389.38000000000005,
          355.26,
          404.57,
          245.45,
          336.15000000000003,
          376.68,
          317.5333333333333,
          180.65,
          408.47,
          585.92,
          252.78,
          540.8066666666667,
          379.78999999999996,
          653.0450000000001,
          451.8,
          503.42,
          367.28499999999997,
          549.89,
          360.6666666666667,
          361.83,
          442.75333333333333,
          505.89500000000004,
          459.87000000000006,
          435.6700000000001,
          345.48,
          498.7333333333333,
          643.88,
          469.52666666666664,
          413.78,
          404.99,
          471.06,
          629.75,
          191,
          293.05999999999995,
          402.8066666666667,
          529.5966666666667,
          404.565,
          417.18,
          402.23333333333335,
          467.64000000000004,
          525.53,
          425.63,
          289.15333333333336,
          645.07,
          420.275,
          377.2,
          455.19,
          451.74,
          460.2,
          392.07,
          659.27,
          570.1899999999999,
          524.34,
          343.645,
          486.79333333333335,
          682.98,
          370.5,
          520.7266666666666,
          438.655,
          621.94,
          458.03499999999997,
          339.4,
          241.99,
          361.53000000000003,
          405.66999999999996,
          651.91,
          419.49333333333334,
          359.18333333333334,
          220.17000000000002,
          400.19,
          504.8999999999999,
          479.36,
          327.99,
          206.82,
          676.64,
          293.985,
          151.21,
          698.12,
          454.275,
          370.115,
          225.94,
          455.95500000000004,
          273.1933333333333,
          314.16499999999996,
          565.32,
          417.02,
          356.46000000000004,
          531.3000000000001,
          390.9466666666667,
          251.38666666666668,
          413.73,
          260.90999999999997,
          292.48,
          418.54,
          331.40666666666664,
          414.63,
          549.9533333333333,
          386.92,
          481.84499999999997,
          194.61333333333334,
          115.92,
          370.51000000000005,
          635.6,
          472.78,
          379.2166666666667,
          393.66,
          389.8633333333334,
          638.615,
          184.07,
          531.77,
          557.2566666666667,
          113.48,
          368.095,
          392.40999999999997,
          417.285,
          578.025,
          225.80666666666664,
          648.58,
          333.28000000000003,
          429.2633333333333,
          597.85,
          223.85,
          106.6,
          436.07,
          624.33,
          458.45,
          504.66499999999996,
          435.04333333333335,
          329.88,
          279.76666666666665,
          371.25,
          379.54999999999995,
          340.06666666666666,
          449.84666666666664,
          548.6433333333333,
          539.54,
          235.01,
          361.91,
          458.11,
          375.68666666666667,
          393.0933333333333,
          461.96999999999997,
          247.84,
          610.5550000000001,
          444.75,
          316.58,
          427.66999999999996,
          182.09,
          449.6066666666666,
          549.4549999999999,
          586.635,
          573.3866666666667,
          249.8,
          472.99333333333334,
          420.05,
          614.25,
          349.56,
          462.7033333333334,
          571.8933333333333,
          589.4399999999999,
          474.095,
          425.77,
          238.01,
          172.34,
          146.17,
          435.845,
          534.86,
          139.21,
          381.43,
          480.40333333333336,
          631.59,
          307.97999999999996,
          392.40999999999997,
          546.09,
          663.44,
          579.27,
          698.76,
          460.37,
          435.1966666666667,
          682.33,
          560.96,
          448.67333333333335,
          229.775,
          320.9633333333333,
          240.16,
          142.99,
          493.2966666666666,
          394.37,
          645.895,
          153.65,
          581.62,
          380.44,
          487.6566666666667,
          239,
          665.64,
          487.34666666666664,
          238.4,
          250.02333333333334,
          370.84666666666664,
          681.46,
          668.46,
          446.3433333333334,
          561.2750000000001,
          372.1666666666667,
          404.07666666666665,
          448.05,
          415.685,
          259.36,
          430.48,
          658.7933333333334,
          486.83,
          273.63,
          314.73,
          490.78999999999996,
          215.37,
          352.82,
          498.71999999999997,
          455.44,
          476.75,
          506.81,
          374.83000000000004,
          600.2366666666667,
          618.5833333333334,
          576.2566666666667,
          536.4,
          436.84,
          478.7166666666667,
          374.83,
          418.62,
          599.28,
          279.15500000000003,
          272.22,
          604.4350000000001,
          479.09,
          420.09,
          567.91,
          385.405,
          576.28,
          417.345,
          435.365,
          662.34,
          512.73,
          140.7,
          348.63000000000005,
          443.1266666666666,
          127.45,
          678.505,
          681.33,
          549.79,
          391.505,
          114.75,
          228.72,
          393.19,
          562.24,
          413.90000000000003,
          508.27,
          412.53,
          399.33500000000004,
          416.81333333333333,
          492.24,
          190.63,
          537.785,
          442.48,
          338.56,
          264.53,
          542.995,
          400.7633333333333,
          329.84000000000003,
          321.12,
          618.61,
          458.7233333333333,
          618.565,
          609.71,
          437.03000000000003,
          411.015,
          512.2733333333333,
          197.745,
          396.60999999999996,
          394.96,
          318.855,
          261.4,
          445.9633333333333,
          106.97,
          322.31,
          392.505,
          516.99,
          616.99,
          281.035,
          162.96,
          407.57666666666665,
          460.11,
          387.71000000000004,
          295.88,
          410.63,
          227.67333333333332,
          267.65,
          411.27666666666664,
          425.22,
          206.615,
          408.23333333333335,
          421.45500000000004,
          500.11,
          622.58,
          579.745,
          471.28499999999997,
          417.48,
          496.77666666666664,
          513.6466666666666,
          211.15,
          434.40000000000003,
          439.73,
          459.43666666666667,
          487.8866666666667,
          492.43499999999995,
          498.27,
          508.14,
          143.32,
          283.5233333333333,
          620.96,
          512.4066666666666,
          307.56,
          413.0933333333333,
          510.20000000000005,
          488.575,
          572.4999999999999,
          385.755,
          482.5333333333333,
          432.5833333333333,
          529.49,
          398.58666666666664,
          534.6866666666666,
          455.3866666666667,
          367.18,
          408.89,
          410.655,
          291.38,
          493.265,
          484.41,
          455.205,
          331.95,
          197.975,
          382.03,
          597.33,
          358.53,
          384.76,
          387.15000000000003,
          186.285,
          508.29999999999995,
          619.95,
          465.22333333333336,
          167.15,
          223.05,
          418.7,
          661.96,
          256.06666666666666,
          660.33,
          372.015,
          181.975,
          524.6700000000001,
          671.09,
          577.11,
          372.84,
          467.59666666666664,
          183.79,
          341.84999999999997,
          221.11,
          504.06,
          681.95,
          156.34,
          503.56,
          518.5699999999999,
          206.29,
          628.4066666666666,
          479.125,
          571.025,
          439.72333333333336,
          534.815,
          387.02,
          416.47,
          538.2933333333333,
          545.34,
          440.21,
          537.5533333333334,
          296.22,
          580.88,
          543.58,
          172.13,
          308.3,
          319.88,
          452.49,
          348.29333333333335,
          323.95,
          215.14,
          511.56333333333333,
          377.985,
          505.65333333333336,
          282.75333333333333,
          339.29,
          448.1,
          467.45000000000005,
          592.5299999999999,
          673.31,
          189.205,
          443.9466666666667,
          246.09,
          517.68,
          310.97,
          160.85,
          338.83666666666664,
          458.095,
          380.14,
          522.945,
          294.9433333333333,
          342.07333333333327,
          415.1,
          369.78,
          490.69666666666666,
          511.865,
          430.14,
          327.96999999999997,
          590.905,
          519.6266666666667,
          227.23,
          466.59,
          500.27,
          431.39333333333326,
          568.32,
          454.225,
          354.24,
          500.53,
          340.82000000000005,
          371.06,
          351.39,
          604.9,
          200.55000000000004,
          499.72,
          428.02,
          311.855,
          456.69,
          398.06,
          497.20666666666665,
          374.755,
          613.59,
          324.7033333333333,
          447.03,
          264.5,
          147.65,
          367.67333333333335,
          294.02,
          235.99,
          252.325,
          410.74,
          464.09666666666664,
          434.9666666666667,
          425.745,
          576.0833333333334,
          538.39,
          379.12,
          449.3500000000001,
          205.18,
          392.28,
          349.91,
          456.12,
          563.11,
          656.31,
          240.79,
          442.1766666666667,
          565.085,
          605.22,
          412.57,
          474.15,
          327.75333333333333,
          607.4300000000001,
          342.9433333333333,
          275.5133333333334,
          492.5866666666666,
          422.28999999999996,
          555.525,
          571.735,
          610.85,
          225.11,
          439.09000000000003,
          590.47,
          328.37,
          643.7233333333334,
          453.41499999999996,
          270.17,
          376.24666666666667,
          621.1466666666666,
          423.36,
          547.9449999999999,
          536.3199999999999,
          348.5466666666667,
          187.82,
          320.52,
          153.195,
          462.8966666666667,
          544.495,
          370.39,
          370.5366666666667,
          430.49666666666667,
          332.16,
          435.8999999999999,
          480.6333333333334,
          233.89666666666668,
          246.3,
          515.3,
          137.38,
          576.835,
          553.755,
          283.75,
          470.28,
          292.03999999999996,
          525.915,
          328.6366666666667,
          593.345,
          372.63000000000005,
          275.165,
          364.77666666666664,
          285.85999999999996,
          537.0533333333333,
          675.75,
          362.4433333333333,
          514.62,
          280.6066666666666,
          443.61,
          385.61,
          379.2966666666667,
          659.82,
          455.69,
          409.41333333333336,
          489.5466666666666,
          376.89,
          482.32,
          591.34,
          500.18,
          139.99,
          414.5333333333333,
          380.1566666666667,
          365.335,
          164.42333333333332,
          673.9,
          410.79333333333335,
          309.82,
          457.57666666666665,
          206.755,
          552.4,
          206.96666666666667,
          680.72,
          444.4,
          426.98,
          321.75,
          564.78,
          486.34,
          418.18,
          428.13,
          547.6333333333333,
          461.13,
          561.7833333333333,
          493.89,
          176.86,
          504.905,
          234.77,
          366.275,
          363.64,
          492.67666666666673,
          374.51,
          482.8666666666666,
          658.6966666666667,
          251.34,
          553.03,
          539.5366666666667,
          455.3433333333334,
          626.75,
          201.27666666666664,
          535.59,
          434.39,
          528.9649999999999,
          506.41,
          366.775,
          501.17,
          587.4766666666666,
          311.485,
          329.83,
          695.09,
          275.205,
          445.17,
          539.84,
          469.59,
          288.02,
          526.41,
          103.14,
          363.89,
          409.46500000000003,
          463.92,
          261.345,
          686.895,
          441.1333333333334,
          507.49,
          457.47,
          328.99333333333334,
          576.52,
          365.7633333333333,
          390.76666666666665,
          478.46000000000004,
          569.435,
          453.46,
          260.1033333333333,
          460.74,
          536.0466666666666,
          301.295,
          296.92,
          360.41,
          217.765,
          599.7833333333333,
          597.7049999999999,
          442.23,
          396.10999999999996,
          492.4333333333334,
          452.66,
          289.015,
          233.21499999999997,
          359.1266666666666,
          370.045,
          459.26,
          513.4866666666667,
          482.0933333333333,
          180.09,
          367.56,
          404.995,
          464.1166666666666,
          432.7266666666667,
          494.17,
          673.97,
          141.37,
          134.23,
          291.50666666666666,
          643.75,
          281.45,
          530.5033333333333,
          290.88,
          333.87333333333333,
          326.5,
          352.535,
          450.42,
          625.41,
          279.5733333333333,
          527.0633333333334,
          492.5,
          354.03,
          542.2266666666666,
          256.30333333333334,
          267.885,
          548.55,
          316.445,
          463.45666666666665,
          524.7,
          350.0466666666666,
          320.14,
          626.2733333333332,
          438.34,
          307.31,
          488.96000000000004,
          131.17,
          571.77,
          258.27,
          454.6033333333333,
          222.93,
          658.9333333333334,
          332.01,
          490.1666666666667,
          283.74,
          559.375,
          305.985,
          568.665,
          328.25,
          647.03,
          336.18,
          575.71,
          488.655,
          483.16499999999996,
          454.5466666666666,
          517.54,
          458.01,
          614.31,
          479.915,
          398.5833333333333,
          479.8333333333333,
          302.725,
          449.57,
          582.16,
          566.7,
          547.2933333333334,
          480.8,
          428.4066666666667,
          280.25,
          499.025,
          415.895,
          400.67499999999995,
          576.9433333333333,
          526.15,
          288.61,
          512.84,
          370.12,
          464.8666666666666,
          204.26,
          586.4000000000001,
          160.38,
          239.55,
          308.76,
          370.21,
          544.995,
          496.2833333333333,
          382.77,
          687.46,
          420.65333333333336,
          295.06,
          319.50333333333333,
          613.44,
          402.0333333333333,
          526.11,
          339.45666666666665,
          119.91,
          282.37,
          491.9,
          648.4466666666667,
          561.03,
          256.17,
          598.3800000000001,
          436.26,
          337.01,
          491.6566666666667,
          686.08,
          166.43,
          374.2266666666667,
          650.85,
          466.515,
          275.33,
          624.4200000000001,
          371.87,
          532.18,
          597.64,
          386.7033333333333,
          522.21,
          424.42,
          157.92,
          277.94666666666666,
          394.885,
          401.40333333333336,
          128.89,
          641.74,
          555.99,
          635.38,
          204.29,
          243.71,
          576.75,
          310.24,
          697.26,
          538.145,
          432.12999999999994,
          357.01666666666665,
          501.52,
          589.34,
          410.47,
          369.73,
          564.33,
          573.3299999999999,
          440.14,
          478.78,
          439.68666666666667,
          333.55333333333334,
          551.4166666666666,
          503.43666666666667,
          325.21666666666664,
          375.305,
          180.7,
          449.2733333333333,
          391.11666666666673,
          334.18333333333334,
          128.95,
          201.735,
          259.07,
          581.55,
          443.23,
          407.6,
          457.7833333333333,
          296.93333333333334,
          380.78999999999996,
          624.53,
          483.745,
          462.29,
          351.56333333333333,
          346.61,
          644.57,
          459.59333333333325,
          594.27,
          673.04,
          371.83000000000004,
          331.26,
          254.56,
          403.31333333333333,
          274.495,
          373.74,
          315.14,
          371.65500000000003,
          408.67,
          501.14,
          507.2,
          326.47666666666663,
          589.815,
          575.38,
          351.2266666666667,
          270.8933333333333,
          373.9466666666667,
          311.28,
          329.495,
          446.7,
          571.41,
          408.99,
          453.59000000000003,
          546.7766666666666,
          614.54,
          529.285,
          387.78,
          460.64,
          487.03999999999996,
          200.12,
          358.32,
          434.80999999999995,
          238.49333333333334,
          509.815,
          297.7233333333333,
          286.73,
          509.87,
          447.44000000000005,
          467.68,
          312.84000000000003,
          116.52,
          403.27,
          678.41,
          224.16333333333333,
          332.79,
          180.01,
          489.42,
          273.55,
          429.865,
          505.965,
          572.405,
          668.2149999999999,
          499.86,
          357.5,
          304.23,
          333.66499999999996,
          453.625,
          540.53,
          293.5,
          252.27666666666667,
          492.21000000000004,
          346.72333333333336,
          366.43,
          436.71666666666664,
          696.31,
          576.115,
          441.63,
          376.75666666666666,
          344.94,
          482.53499999999997,
          614.48,
          420.03,
          491.55999999999995,
          372.2933333333333,
          527.3199999999999,
          558.1,
          529.085,
          453.24,
          325.2,
          383.49333333333334,
          331.92,
          449.5133333333333,
          584.1133333333333,
          596.51,
          558.72,
          583.875,
          217.92000000000002,
          561.3499999999999,
          501.1333333333334,
          412.625,
          447.75333333333333,
          386.11,
          553.9233333333333,
          180.66,
          322.435,
          449.96,
          475.445,
          470.0333333333333,
          597.08,
          217.68,
          595.8333333333334,
          185.71,
          581.7049999999999,
          495.12,
          608.6099999999999,
          335.66,
          294.585,
          309.46666666666664,
          309.29,
          506.7166666666667,
          433.23,
          313.13666666666666,
          533.7766666666666,
          130.14,
          267.73,
          277.17,
          396.70666666666665,
          525.3,
          493.28499999999997,
          401.92333333333335,
          521.3933333333333,
          465.21333333333337,
          401.85,
          369.61,
          389.82,
          461.0333333333333,
          593.52,
          508.66,
          185.73,
          439.03000000000003,
          359.28999999999996,
          296.87666666666667,
          346.6066666666666,
          406.68,
          339.3333333333333,
          314.5,
          421.315,
          289.0133333333333,
          458.935,
          455.685,
          635.12,
          477.55,
          441.01,
          447.03,
          401.52,
          442.60999999999996,
          668.9033333333333,
          521.52,
          246.02499999999998,
          428.16333333333336,
          316.03,
          511.32,
          340.39000000000004,
          371.28,
          349.9,
          593.31,
          443.70500000000004,
          494.41,
          446.9666666666667,
          449.50666666666666,
          361.47,
          441.27,
          483.9666666666667,
          408.7033333333333,
          320.67,
          175.885,
          457.1233333333333,
          279.56333333333333,
          111.6,
          286.405,
          418.95,
          457.08,
          267.205,
          678.1,
          435.02333333333337,
          589.0699999999999,
          457.9066666666666,
          361.13,
          403.205,
          209.94,
          275.99,
          461.17666666666673,
          236.925,
          279.88,
          611.2,
          487.18,
          594.075,
          381.8,
          252.7033333333333,
          247.96,
          494.46000000000004,
          284.5,
          670.4699999999999,
          633.0500000000001,
          257.385,
          245.73666666666668,
          529.74,
          188.18,
          559.12,
          397.7733333333333,
          443.97,
          381.99,
          604.355,
          176.79999999999998,
          375.90333333333336,
          479.2333333333333,
          384.6233333333333,
          449.5,
          426.875,
          268.015,
          308.385,
          353.8966666666667,
          658.96,
          245.19,
          676.38,
          561.9699999999999,
          632.86,
          373.725,
          362.2,
          324.995,
          492.06,
          635.15,
          666.22,
          569.48,
          686.38,
          554.39,
          316.57,
          531,
          444.24333333333334,
          197.62,
          439.05,
          562.98,
          278.29999999999995,
          105.42,
          314.22,
          471.46500000000003,
          368.95666666666665,
          467.7966666666667,
          321.0833333333333,
          359.28,
          331.015,
          524.8733333333333,
          438.3666666666666,
          626.81,
          583.415,
          468.4,
          368.06333333333333,
          493.98,
          254.6,
          438.53000000000003,
          232.51,
          147.485,
          437.59499999999997,
          494.885,
          448.97,
          440.0133333333333,
          555.27,
          439.2633333333333,
          585.0233333333334,
          484.18,
          363.745,
          280.31,
          359.9866666666667,
          436.67333333333335,
          345.65,
          586.53,
          475.405,
          516.17,
          562.67,
          469.76,
          423.46,
          282.38666666666666,
          393.02500000000003,
          249.975,
          298.145,
          484.765,
          307.445,
          238.25,
          472.8666666666666,
          234.58,
          584.01,
          343.50666666666666,
          583.82,
          208.97,
          549.2466666666667,
          559.7966666666666,
          454.38,
          346.84000000000003,
          426.7,
          387.99,
          596.6566666666666,
          217.325,
          455.84,
          555.4,
          161.51,
          408.31,
          495.55,
          582.415,
          552.7433333333333,
          552.075,
          521.8966666666666,
          217.14,
          307.21,
          567.4699999999999,
          531.39,
          558.005,
          399.2833333333333,
          460.64,
          308.45666666666665,
          627.185,
          362.6,
          406.95,
          599.4533333333333,
          388.31666666666666,
          501.71000000000004,
          349.52666666666664,
          399.8033333333333,
          473.44,
          565.815,
          422.75,
          646.675,
          107.29,
          388.27666666666664,
          272.58,
          389.5433333333333,
          300.43,
          374.45,
          445.855,
          460.46500000000003,
          285.92333333333335,
          584.8666666666667,
          374.385,
          351,
          359.3633333333333,
          337.5,
          439.36,
          334.42,
          430.84999999999997,
          506.3666666666666,
          307.91,
          323.57,
          331.51,
          375.8833333333334,
          463.16333333333336,
          398.19000000000005,
          396.2866666666667,
          399.77,
          109.07,
          489.775,
          539.8,
          372.1333333333334,
          564.13,
          374.82666666666665,
          666.84,
          497.7666666666666,
          527.1,
          334.63,
          251.86,
          547.3499999999999,
          496.65,
          213.12,
          619.84,
          158.065,
          360.15,
          155.58,
          549.03,
          648.73,
          358.76000000000005,
          397.72333333333336,
          467.98,
          452.0833333333333,
          366.95666666666665,
          333.50333333333333,
          279.8866666666667,
          281.44,
          526.8399999999999,
          351.20500000000004,
          652.3466666666667,
          651.71,
          405.59666666666664,
          545.73,
          502.81,
          405.40333333333336,
          461.83500000000004,
          439.8633333333334,
          514.9733333333334,
          478.15,
          409.6233333333333,
          365.53,
          463.25333333333333,
          594.85,
          345.89,
          221.89,
          292.645,
          394.66,
          434.755,
          499.18666666666667,
          249.37333333333333,
          142.3,
          211.39,
          588.77,
          455.2733333333333,
          304.695,
          354.485,
          392.73,
          479.7,
          535.51,
          460.12999999999994,
          559.025,
          418.66499999999996,
          408.83,
          334.1,
          585.7249999999999,
          634.005,
          549.01,
          439.93,
          335.9866666666667,
          402.065,
          190.29999999999998,
          531.24,
          415.0733333333333,
          150.13,
          348.48,
          273.56333333333333,
          347.47499999999997,
          380.92999999999995,
          259.63,
          261.125,
          559.9433333333333,
          349.47,
          466.59,
          387.155,
          400.07,
          347.17,
          540.2233333333334,
          169.24,
          463.38,
          170.32,
          367.75666666666666,
          304.435,
          454.89000000000004,
          379.35999999999996,
          141.43,
          466.00666666666666,
          323.71,
          502.73,
          622.25,
          606,
          391.06,
          448.62999999999994,
          436.525,
          629.54,
          287.605,
          551.9599999999999,
          206.13,
          626.41,
          404.35,
          469.92333333333335,
          259.87,
          496.18499999999995,
          591.875,
          292.7,
          321.96666666666664,
          141.23,
          321.74,
          502.0733333333333,
          320.29333333333335,
          468.7,
          449.86000000000007,
          409.6133333333334,
          556.8199999999999,
          425.59666666666664,
          512.485,
          398.64,
          500.41,
          644.94,
          531.76,
          587.98,
          406.8666666666666,
          384.35,
          421.20500000000004,
          221.35,
          287.3833333333334,
          501.28333333333336,
          212.75,
          364.5166666666667,
          588.85,
          414.29499999999996,
          501.2333333333334,
          294.71,
          263.135,
          435.06333333333333,
          481.64000000000004,
          566.82,
          556.51,
          207.82999999999998,
          519.37,
          365.21000000000004,
          118.69,
          255.75,
          398.86,
          301.27666666666664,
          510.8933333333334,
          489.02,
          677.84,
          467.45,
          140.35,
          417.42333333333335,
          548.91,
          665.7966666666666,
          271.94,
          235.92333333333332,
          529.975,
          373.16333333333336,
          358.62,
          474.25,
          365.37,
          537.3433333333334,
          474.77,
          560.41,
          596.49,
          484.71,
          453.99,
          237.33,
          624.1666666666666,
          305.14,
          416.61,
          226.98,
          697.38,
          620.3433333333334,
          529.06,
          318.95,
          372.86,
          478.4199999999999,
          457.715,
          511.01,
          489.18,
          254.445,
          495.57,
          390.345,
          461.88,
          602.42,
          326.93,
          562.8299999999999,
          593.2666666666667,
          392.115,
          342.885,
          266.21,
          576.345,
          455.7,
          312.95,
          234.74666666666667,
          150.74,
          607.48,
          495.43,
          525.4,
          405.225,
          550.61,
          443.34,
          684.03,
          408.29333333333335,
          301.17,
          140.21,
          662.6949999999999,
          611.53,
          415.0666666666666,
          235.57333333333335,
          381.46,
          240.74,
          461.11,
          555.58,
          680.66,
          436.6133333333333,
          304.96,
          281.62666666666667,
          345.96999999999997,
          226.3,
          393.04999999999995,
          430.88,
          295.18,
          384.75,
          582.28,
          340.355,
          319.88,
          394.28999999999996,
          296.03,
          354.815,
          388.80999999999995,
          351.16,
          375.06,
          514.785,
          500.33,
          616.7750000000001,
          288.33,
          606.8466666666667,
          633.71,
          344.53999999999996,
          544.98,
          417.725,
          602.94,
          491.36,
          345.51,
          372.39,
          350.3066666666667,
          670.87,
          347.965,
          476.07,
          359.75,
          323.3,
          408.08666666666664,
          269.86,
          427.56499999999994,
          488.845,
          587.36,
          280.265,
          578.64,
          335.57,
          607.07,
          462.09666666666664,
          256.61,
          410.73,
          466.1166666666666,
          538.28,
          325.65000000000003,
          156.27,
          547.0600000000001,
          224.46,
          404.1566666666666,
          405.30999999999995,
          556.35,
          347.68333333333334,
          603.94,
          475.195,
          424.48,
          118.28,
          222.67,
          380.3,
          582.72,
          345.61000000000007,
          300.825,
          508.21000000000004,
          180.695,
          330.95500000000004,
          310.49666666666667,
          391.81,
          204.1,
          327.85,
          580.87,
          335.26,
          387.875,
          427.90999999999997,
          567.8000000000001,
          261.04499999999996,
          407.48333333333335,
          427.905,
          237.555,
          645.8466666666667,
          259.3,
          466.88,
          507.1,
          555.9,
          612.175,
          266.48,
          498.495,
          419.84999999999997,
          608.84,
          287.13,
          305.67333333333335,
          256.63,
          478.385,
          461.365,
          323.51,
          422.135,
          155.42,
          352.4,
          460.565,
          409.47,
          409.24333333333334,
          550.71,
          524.5250000000001,
          642.62,
          459.3433333333334,
          190.8,
          447.415,
          569.8433333333334,
          491.91999999999996,
          363.99333333333334,
          210.78,
          453.9333333333334,
          171.93,
          504.915,
          349.4766666666667,
          457.65,
          276.3,
          559.735,
          448.085,
          615.5733333333333,
          557.7366666666667,
          339.71,
          226.285,
          613.26,
          162.67,
          365.24333333333334,
          483.58000000000004,
          413.52333333333337,
          332.35,
          315.67,
          347.145,
          495.4,
          545.7266666666667,
          681.83,
          358.74,
          308.51,
          130.21,
          131.66,
          408.6266666666667,
          385.04499999999996,
          406.05499999999995,
          618.275,
          386.41,
          339.015,
          401.9266666666667,
          340.03666666666663,
          421.96,
          614.605,
          378.12,
          404.23,
          563.1700000000001,
          316.5366666666667,
          491.09,
          437.31,
          359.96000000000004,
          362.7,
          605.08,
          329.76,
          543.6366666666667,
          420.58500000000004,
          276.55333333333334,
          482.7633333333333,
          264.61,
          366.5133333333333,
          259.1933333333333,
          466.8833333333334,
          401.46,
          631.88,
          456.99,
          680.215,
          504.57,
          471.68500000000006,
          487.62,
          357.07,
          591.79,
          187.86,
          576.9133333333333,
          368.1,
          474.87,
          606.53,
          424.435,
          374.68,
          196.86333333333334,
          601.1833333333333,
          447.25,
          502.66,
          650.655,
          340.13,
          439.77,
          429.83000000000004,
          523.5500000000001,
          172.23,
          460.91499999999996,
          363.8633333333333,
          414.1,
          196.14,
          202.56,
          548.0133333333333,
          150.48,
          235.32333333333335,
          504.25,
          217.44000000000003,
          667.89,
          380.4066666666666,
          655.88,
          266.075,
          123.64,
          444.37,
          335.74,
          117.19,
          303.365,
          572.42,
          229.005,
          420.81,
          491.98,
          510.36999999999995,
          324.83,
          338.6433333333334,
          616.405,
          386.8733333333333,
          432.73,
          361.255,
          411.26,
          414.08000000000004,
          130.78,
          395.52,
          357.95,
          350.50666666666666,
          538.23,
          556.1,
          247.59666666666666,
          316.64,
          345.07,
          507.82,
          152.405,
          335.15,
          439.7533333333333,
          541.6533333333333,
          283.185,
          398.17666666666656,
          595.64,
          512.2233333333334,
          193.79,
          542.77,
          393.80999999999995,
          447.145,
          468.385,
          656.3299999999999,
          495.65,
          480,
          380.61,
          434.16999999999996,
          352.33000000000004,
          438.54,
          440.63,
          622.69,
          433.71,
          456.15333333333336,
          404.01500000000004,
          510.80999999999995,
          379.07666666666665,
          352.2066666666667,
          620.895,
          476.365,
          506.22,
          510.705,
          389.40333333333336,
          423.455,
          443.5366666666667,
          548.25,
          208.6,
          450.6166666666666,
          357.4266666666667,
          547.22,
          364.19,
          108.21,
          206.94000000000003,
          478.83,
          355.84,
          428.89,
          204.79,
          412.92499999999995,
          429.715,
          634.23,
          461.55,
          172.785,
          407.565,
          522.155,
          382.40000000000003,
          436.66333333333336,
          607.0966666666667,
          507.78,
          667.55,
          277.49,
          206.92000000000002,
          230.73,
          497.1,
          382.02,
          440.695,
          491.49,
          247.67999999999998,
          649.9749999999999,
          350.96500000000003,
          515.49,
          299.41,
          313.96,
          294.87,
          608.24
         ],
         "xaxis": "x",
         "yaxis": "y"
        },
        {
         "alignmentgroup": "True",
         "hovertemplate": "avg_order_value=%{x}<extra></extra>",
         "legendgroup": "",
         "marker": {
          "color": "#00CC96"
         },
         "name": "",
         "notched": true,
         "offsetgroup": "",
         "showlegend": false,
         "type": "box",
         "x": [
          544.7833333333334,
          315.46999999999997,
          402.28000000000003,
          460.67,
          343.595,
          665.71,
          243.245,
          271.295,
          382.92,
          350.405,
          275.29,
          319.82,
          421.51666666666665,
          456.995,
          298.2366666666667,
          429.18,
          549.0633333333334,
          359.57,
          293.655,
          283.87,
          475.43,
          417.27,
          383.66,
          681.75,
          655.2266666666668,
          454.9866666666667,
          246.64333333333335,
          323.01,
          426.6166666666666,
          425.62,
          184.55,
          388.02500000000003,
          524.9033333333333,
          103.31,
          581.6949999999999,
          575.0799999999999,
          243.01,
          570.9200000000001,
          243.34,
          315.85,
          584.2066666666666,
          383.33,
          171.76,
          567.21,
          436.77,
          490.8333333333333,
          245.5,
          329.77333333333337,
          405.14,
          644.54,
          249.58,
          346.23,
          345.59999999999997,
          409.4666666666667,
          557.4549999999999,
          627.54,
          211.94,
          554.575,
          636.0550000000001,
          264.53000000000003,
          554.5033333333333,
          280.31,
          316.855,
          413.41333333333336,
          442.3333333333333,
          592.9066666666666,
          343.31666666666666,
          221.515,
          366.08,
          267.19,
          391.88000000000005,
          393.67,
          493.31,
          503.28,
          424.775,
          453.79999999999995,
          479.38,
          475.78999999999996,
          402.67499999999995,
          292.47,
          193.19,
          390.3433333333333,
          407.26,
          342.53999999999996,
          536.2133333333333,
          182.51,
          261.36,
          654.82,
          465.58,
          568.1600000000001,
          450.45500000000004,
          225.485,
          619.48,
          303.42,
          527.79,
          595.1333333333333,
          150.48,
          466.6566666666667,
          158.2,
          325.57,
          337.86,
          528.16,
          405.93499999999995,
          293.795,
          543.835,
          577.05,
          440.99,
          278.65,
          455.3533333333333,
          581.9549999999999,
          514.235,
          445.825,
          217.15,
          425.96500000000003,
          114.59,
          485.9433333333333,
          581.1266666666667,
          407.72333333333336,
          679.99,
          678.17,
          439.84666666666664,
          475.41499999999996,
          342.89,
          614.655,
          325.175,
          606.515,
          440.48999999999995,
          561.3866666666667,
          425.8233333333333,
          651.4166666666666,
          428.86,
          563.38,
          630.74,
          339.07500000000005,
          274.9766666666667,
          427.475,
          271.92,
          311.4,
          377.35999999999996,
          319.795,
          562,
          229.49,
          473.73,
          267.01,
          514.1633333333333,
          496.3533333333333,
          577.11,
          337.94,
          346.6233333333333,
          521.5133333333333,
          203.98,
          193.86,
          364.845,
          464.28000000000003,
          582.7566666666667,
          389.14333333333326,
          358.97666666666663,
          173.89333333333335,
          592.735,
          346.0566666666667,
          319,
          374.70500000000004,
          392.5833333333333,
          324.77,
          530.43,
          371.49,
          142.34,
          325.68,
          553.63,
          431.2733333333333,
          507.97,
          676.71,
          367.4333333333334,
          160.47,
          158.8,
          347.9666666666667,
          469.8566666666666,
          352.68333333333334,
          477.37,
          608.76,
          582.09,
          269.22,
          206.46,
          592.235,
          488.35999999999996,
          542.9266666666667,
          540.9899999999999,
          485.3766666666667,
          403.15,
          541.7366666666667,
          394.4166666666667,
          405.4666666666667,
          564.5066666666667,
          347.40000000000003,
          576.6266666666667,
          573.77,
          261.96999999999997,
          509.08666666666676,
          255.52999999999997,
          538.92,
          160.67,
          360.52000000000004,
          453.51,
          148.81,
          150.9,
          533.27,
          559.4733333333334,
          691.6,
          375.9633333333333,
          525.665,
          524.17,
          166.72,
          327.8633333333333,
          191.86333333333334,
          529.06,
          526.11,
          271.43,
          544.4166666666666,
          419.60999999999996,
          425.7366666666667,
          457.45666666666665,
          572.72,
          477.64,
          488.90000000000003,
          439.51666666666665,
          494.41499999999996,
          526.5433333333334,
          319.17333333333335,
          406.1,
          440.64,
          630.315,
          421.66,
          285.72,
          574.56,
          512.55,
          669.88,
          484.81,
          664.64,
          146.475,
          568.1933333333333,
          358.42,
          663.4066666666666,
          390.055,
          223.935,
          618.83,
          587.74,
          643.6899999999999,
          639.125,
          454.1,
          370.33,
          449.965,
          434.6366666666666,
          417.89,
          168.13,
          482.56,
          563.39,
          518.1833333333333,
          436.56,
          416.16333333333336,
          414.18,
          344.01666666666665,
          234.54000000000002,
          417.26,
          486.6133333333334,
          479.06000000000006,
          473.25,
          668.565,
          447.095,
          375.23333333333335,
          493.6133333333333,
          323.21666666666664,
          215.1,
          183.3,
          367.01666666666665,
          536.225,
          500.53,
          234.38,
          231.01,
          210.60333333333332,
          339.60999999999996,
          379.96,
          579.65,
          449.9833333333333,
          385.09999999999997,
          583.72,
          404.83500000000004,
          298.945,
          455.83000000000004,
          374.435,
          360.245,
          505.53000000000003,
          407.01,
          316.78499999999997,
          419.01,
          311.1333333333333,
          227.645,
          265.07666666666665,
          565.98,
          408.24,
          507.20666666666665,
          359,
          176.55,
          319.06,
          447.8933333333334,
          691.91,
          322.28999999999996,
          245.23333333333332,
          211.94,
          271.06,
          363.4066666666666,
          516.7933333333334,
          277.965,
          681.68,
          619.3,
          447.49,
          202.53,
          604.41,
          415.00666666666666,
          389.38000000000005,
          355.26,
          404.57,
          245.45,
          336.15000000000003,
          376.68,
          317.5333333333333,
          180.65,
          408.47,
          585.92,
          252.78,
          540.8066666666667,
          379.78999999999996,
          653.0450000000001,
          451.8,
          503.42,
          367.28499999999997,
          549.89,
          360.6666666666667,
          361.83,
          442.75333333333333,
          505.89500000000004,
          459.87000000000006,
          435.6700000000001,
          345.48,
          498.7333333333333,
          643.88,
          469.52666666666664,
          413.78,
          404.99,
          471.06,
          629.75,
          191,
          293.05999999999995,
          402.8066666666667,
          529.5966666666667,
          404.565,
          417.18,
          402.23333333333335,
          467.64000000000004,
          525.53,
          425.63,
          289.15333333333336,
          645.07,
          420.275,
          377.2,
          455.19,
          451.74,
          460.2,
          392.07,
          659.27,
          570.1899999999999,
          524.34,
          343.645,
          486.79333333333335,
          682.98,
          370.5,
          520.7266666666666,
          438.655,
          621.94,
          458.03499999999997,
          339.4,
          241.99,
          361.53000000000003,
          405.66999999999996,
          651.91,
          419.49333333333334,
          359.18333333333334,
          220.17000000000002,
          400.19,
          504.8999999999999,
          479.36,
          327.99,
          206.82,
          676.64,
          293.985,
          151.21,
          698.12,
          454.275,
          370.115,
          225.94,
          455.95500000000004,
          273.1933333333333,
          314.16499999999996,
          565.32,
          417.02,
          356.46000000000004,
          531.3000000000001,
          390.9466666666667,
          251.38666666666668,
          413.73,
          260.90999999999997,
          292.48,
          418.54,
          331.40666666666664,
          414.63,
          549.9533333333333,
          386.92,
          481.84499999999997,
          194.61333333333334,
          115.92,
          370.51000000000005,
          635.6,
          472.78,
          379.2166666666667,
          393.66,
          389.8633333333334,
          638.615,
          184.07,
          531.77,
          557.2566666666667,
          113.48,
          368.095,
          392.40999999999997,
          417.285,
          578.025,
          225.80666666666664,
          648.58,
          333.28000000000003,
          429.2633333333333,
          597.85,
          223.85,
          106.6,
          436.07,
          624.33,
          458.45,
          504.66499999999996,
          435.04333333333335,
          329.88,
          279.76666666666665,
          371.25,
          379.54999999999995,
          340.06666666666666,
          449.84666666666664,
          548.6433333333333,
          539.54,
          235.01,
          361.91,
          458.11,
          375.68666666666667,
          393.0933333333333,
          461.96999999999997,
          247.84,
          610.5550000000001,
          444.75,
          316.58,
          427.66999999999996,
          182.09,
          449.6066666666666,
          549.4549999999999,
          586.635,
          573.3866666666667,
          249.8,
          472.99333333333334,
          420.05,
          614.25,
          349.56,
          462.7033333333334,
          571.8933333333333,
          589.4399999999999,
          474.095,
          425.77,
          238.01,
          172.34,
          146.17,
          435.845,
          534.86,
          139.21,
          381.43,
          480.40333333333336,
          631.59,
          307.97999999999996,
          392.40999999999997,
          546.09,
          663.44,
          579.27,
          698.76,
          460.37,
          435.1966666666667,
          682.33,
          560.96,
          448.67333333333335,
          229.775,
          320.9633333333333,
          240.16,
          142.99,
          493.2966666666666,
          394.37,
          645.895,
          153.65,
          581.62,
          380.44,
          487.6566666666667,
          239,
          665.64,
          487.34666666666664,
          238.4,
          250.02333333333334,
          370.84666666666664,
          681.46,
          668.46,
          446.3433333333334,
          561.2750000000001,
          372.1666666666667,
          404.07666666666665,
          448.05,
          415.685,
          259.36,
          430.48,
          658.7933333333334,
          486.83,
          273.63,
          314.73,
          490.78999999999996,
          215.37,
          352.82,
          498.71999999999997,
          455.44,
          476.75,
          506.81,
          374.83000000000004,
          600.2366666666667,
          618.5833333333334,
          576.2566666666667,
          536.4,
          436.84,
          478.7166666666667,
          374.83,
          418.62,
          599.28,
          279.15500000000003,
          272.22,
          604.4350000000001,
          479.09,
          420.09,
          567.91,
          385.405,
          576.28,
          417.345,
          435.365,
          662.34,
          512.73,
          140.7,
          348.63000000000005,
          443.1266666666666,
          127.45,
          678.505,
          681.33,
          549.79,
          391.505,
          114.75,
          228.72,
          393.19,
          562.24,
          413.90000000000003,
          508.27,
          412.53,
          399.33500000000004,
          416.81333333333333,
          492.24,
          190.63,
          537.785,
          442.48,
          338.56,
          264.53,
          542.995,
          400.7633333333333,
          329.84000000000003,
          321.12,
          618.61,
          458.7233333333333,
          618.565,
          609.71,
          437.03000000000003,
          411.015,
          512.2733333333333,
          197.745,
          396.60999999999996,
          394.96,
          318.855,
          261.4,
          445.9633333333333,
          106.97,
          322.31,
          392.505,
          516.99,
          616.99,
          281.035,
          162.96,
          407.57666666666665,
          460.11,
          387.71000000000004,
          295.88,
          410.63,
          227.67333333333332,
          267.65,
          411.27666666666664,
          425.22,
          206.615,
          408.23333333333335,
          421.45500000000004,
          500.11,
          622.58,
          579.745,
          471.28499999999997,
          417.48,
          496.77666666666664,
          513.6466666666666,
          211.15,
          434.40000000000003,
          439.73,
          459.43666666666667,
          487.8866666666667,
          492.43499999999995,
          498.27,
          508.14,
          143.32,
          283.5233333333333,
          620.96,
          512.4066666666666,
          307.56,
          413.0933333333333,
          510.20000000000005,
          488.575,
          572.4999999999999,
          385.755,
          482.5333333333333,
          432.5833333333333,
          529.49,
          398.58666666666664,
          534.6866666666666,
          455.3866666666667,
          367.18,
          408.89,
          410.655,
          291.38,
          493.265,
          484.41,
          455.205,
          331.95,
          197.975,
          382.03,
          597.33,
          358.53,
          384.76,
          387.15000000000003,
          186.285,
          508.29999999999995,
          619.95,
          465.22333333333336,
          167.15,
          223.05,
          418.7,
          661.96,
          256.06666666666666,
          660.33,
          372.015,
          181.975,
          524.6700000000001,
          671.09,
          577.11,
          372.84,
          467.59666666666664,
          183.79,
          341.84999999999997,
          221.11,
          504.06,
          681.95,
          156.34,
          503.56,
          518.5699999999999,
          206.29,
          628.4066666666666,
          479.125,
          571.025,
          439.72333333333336,
          534.815,
          387.02,
          416.47,
          538.2933333333333,
          545.34,
          440.21,
          537.5533333333334,
          296.22,
          580.88,
          543.58,
          172.13,
          308.3,
          319.88,
          452.49,
          348.29333333333335,
          323.95,
          215.14,
          511.56333333333333,
          377.985,
          505.65333333333336,
          282.75333333333333,
          339.29,
          448.1,
          467.45000000000005,
          592.5299999999999,
          673.31,
          189.205,
          443.9466666666667,
          246.09,
          517.68,
          310.97,
          160.85,
          338.83666666666664,
          458.095,
          380.14,
          522.945,
          294.9433333333333,
          342.07333333333327,
          415.1,
          369.78,
          490.69666666666666,
          511.865,
          430.14,
          327.96999999999997,
          590.905,
          519.6266666666667,
          227.23,
          466.59,
          500.27,
          431.39333333333326,
          568.32,
          454.225,
          354.24,
          500.53,
          340.82000000000005,
          371.06,
          351.39,
          604.9,
          200.55000000000004,
          499.72,
          428.02,
          311.855,
          456.69,
          398.06,
          497.20666666666665,
          374.755,
          613.59,
          324.7033333333333,
          447.03,
          264.5,
          147.65,
          367.67333333333335,
          294.02,
          235.99,
          252.325,
          410.74,
          464.09666666666664,
          434.9666666666667,
          425.745,
          576.0833333333334,
          538.39,
          379.12,
          449.3500000000001,
          205.18,
          392.28,
          349.91,
          456.12,
          563.11,
          656.31,
          240.79,
          442.1766666666667,
          565.085,
          605.22,
          412.57,
          474.15,
          327.75333333333333,
          607.4300000000001,
          342.9433333333333,
          275.5133333333334,
          492.5866666666666,
          422.28999999999996,
          555.525,
          571.735,
          610.85,
          225.11,
          439.09000000000003,
          590.47,
          328.37,
          643.7233333333334,
          453.41499999999996,
          270.17,
          376.24666666666667,
          621.1466666666666,
          423.36,
          547.9449999999999,
          536.3199999999999,
          348.5466666666667,
          187.82,
          320.52,
          153.195,
          462.8966666666667,
          544.495,
          370.39,
          370.5366666666667,
          430.49666666666667,
          332.16,
          435.8999999999999,
          480.6333333333334,
          233.89666666666668,
          246.3,
          515.3,
          137.38,
          576.835,
          553.755,
          283.75,
          470.28,
          292.03999999999996,
          525.915,
          328.6366666666667,
          593.345,
          372.63000000000005,
          275.165,
          364.77666666666664,
          285.85999999999996,
          537.0533333333333,
          675.75,
          362.4433333333333,
          514.62,
          280.6066666666666,
          443.61,
          385.61,
          379.2966666666667,
          659.82,
          455.69,
          409.41333333333336,
          489.5466666666666,
          376.89,
          482.32,
          591.34,
          500.18,
          139.99,
          414.5333333333333,
          380.1566666666667,
          365.335,
          164.42333333333332,
          673.9,
          410.79333333333335,
          309.82,
          457.57666666666665,
          206.755,
          552.4,
          206.96666666666667,
          680.72,
          444.4,
          426.98,
          321.75,
          564.78,
          486.34,
          418.18,
          428.13,
          547.6333333333333,
          461.13,
          561.7833333333333,
          493.89,
          176.86,
          504.905,
          234.77,
          366.275,
          363.64,
          492.67666666666673,
          374.51,
          482.8666666666666,
          658.6966666666667,
          251.34,
          553.03,
          539.5366666666667,
          455.3433333333334,
          626.75,
          201.27666666666664,
          535.59,
          434.39,
          528.9649999999999,
          506.41,
          366.775,
          501.17,
          587.4766666666666,
          311.485,
          329.83,
          695.09,
          275.205,
          445.17,
          539.84,
          469.59,
          288.02,
          526.41,
          103.14,
          363.89,
          409.46500000000003,
          463.92,
          261.345,
          686.895,
          441.1333333333334,
          507.49,
          457.47,
          328.99333333333334,
          576.52,
          365.7633333333333,
          390.76666666666665,
          478.46000000000004,
          569.435,
          453.46,
          260.1033333333333,
          460.74,
          536.0466666666666,
          301.295,
          296.92,
          360.41,
          217.765,
          599.7833333333333,
          597.7049999999999,
          442.23,
          396.10999999999996,
          492.4333333333334,
          452.66,
          289.015,
          233.21499999999997,
          359.1266666666666,
          370.045,
          459.26,
          513.4866666666667,
          482.0933333333333,
          180.09,
          367.56,
          404.995,
          464.1166666666666,
          432.7266666666667,
          494.17,
          673.97,
          141.37,
          134.23,
          291.50666666666666,
          643.75,
          281.45,
          530.5033333333333,
          290.88,
          333.87333333333333,
          326.5,
          352.535,
          450.42,
          625.41,
          279.5733333333333,
          527.0633333333334,
          492.5,
          354.03,
          542.2266666666666,
          256.30333333333334,
          267.885,
          548.55,
          316.445,
          463.45666666666665,
          524.7,
          350.0466666666666,
          320.14,
          626.2733333333332,
          438.34,
          307.31,
          488.96000000000004,
          131.17,
          571.77,
          258.27,
          454.6033333333333,
          222.93,
          658.9333333333334,
          332.01,
          490.1666666666667,
          283.74,
          559.375,
          305.985,
          568.665,
          328.25,
          647.03,
          336.18,
          575.71,
          488.655,
          483.16499999999996,
          454.5466666666666,
          517.54,
          458.01,
          614.31,
          479.915,
          398.5833333333333,
          479.8333333333333,
          302.725,
          449.57,
          582.16,
          566.7,
          547.2933333333334,
          480.8,
          428.4066666666667,
          280.25,
          499.025,
          415.895,
          400.67499999999995,
          576.9433333333333,
          526.15,
          288.61,
          512.84,
          370.12,
          464.8666666666666,
          204.26,
          586.4000000000001,
          160.38,
          239.55,
          308.76,
          370.21,
          544.995,
          496.2833333333333,
          382.77,
          687.46,
          420.65333333333336,
          295.06,
          319.50333333333333,
          613.44,
          402.0333333333333,
          526.11,
          339.45666666666665,
          119.91,
          282.37,
          491.9,
          648.4466666666667,
          561.03,
          256.17,
          598.3800000000001,
          436.26,
          337.01,
          491.6566666666667,
          686.08,
          166.43,
          374.2266666666667,
          650.85,
          466.515,
          275.33,
          624.4200000000001,
          371.87,
          532.18,
          597.64,
          386.7033333333333,
          522.21,
          424.42,
          157.92,
          277.94666666666666,
          394.885,
          401.40333333333336,
          128.89,
          641.74,
          555.99,
          635.38,
          204.29,
          243.71,
          576.75,
          310.24,
          697.26,
          538.145,
          432.12999999999994,
          357.01666666666665,
          501.52,
          589.34,
          410.47,
          369.73,
          564.33,
          573.3299999999999,
          440.14,
          478.78,
          439.68666666666667,
          333.55333333333334,
          551.4166666666666,
          503.43666666666667,
          325.21666666666664,
          375.305,
          180.7,
          449.2733333333333,
          391.11666666666673,
          334.18333333333334,
          128.95,
          201.735,
          259.07,
          581.55,
          443.23,
          407.6,
          457.7833333333333,
          296.93333333333334,
          380.78999999999996,
          624.53,
          483.745,
          462.29,
          351.56333333333333,
          346.61,
          644.57,
          459.59333333333325,
          594.27,
          673.04,
          371.83000000000004,
          331.26,
          254.56,
          403.31333333333333,
          274.495,
          373.74,
          315.14,
          371.65500000000003,
          408.67,
          501.14,
          507.2,
          326.47666666666663,
          589.815,
          575.38,
          351.2266666666667,
          270.8933333333333,
          373.9466666666667,
          311.28,
          329.495,
          446.7,
          571.41,
          408.99,
          453.59000000000003,
          546.7766666666666,
          614.54,
          529.285,
          387.78,
          460.64,
          487.03999999999996,
          200.12,
          358.32,
          434.80999999999995,
          238.49333333333334,
          509.815,
          297.7233333333333,
          286.73,
          509.87,
          447.44000000000005,
          467.68,
          312.84000000000003,
          116.52,
          403.27,
          678.41,
          224.16333333333333,
          332.79,
          180.01,
          489.42,
          273.55,
          429.865,
          505.965,
          572.405,
          668.2149999999999,
          499.86,
          357.5,
          304.23,
          333.66499999999996,
          453.625,
          540.53,
          293.5,
          252.27666666666667,
          492.21000000000004,
          346.72333333333336,
          366.43,
          436.71666666666664,
          696.31,
          576.115,
          441.63,
          376.75666666666666,
          344.94,
          482.53499999999997,
          614.48,
          420.03,
          491.55999999999995,
          372.2933333333333,
          527.3199999999999,
          558.1,
          529.085,
          453.24,
          325.2,
          383.49333333333334,
          331.92,
          449.5133333333333,
          584.1133333333333,
          596.51,
          558.72,
          583.875,
          217.92000000000002,
          561.3499999999999,
          501.1333333333334,
          412.625,
          447.75333333333333,
          386.11,
          553.9233333333333,
          180.66,
          322.435,
          449.96,
          475.445,
          470.0333333333333,
          597.08,
          217.68,
          595.8333333333334,
          185.71,
          581.7049999999999,
          495.12,
          608.6099999999999,
          335.66,
          294.585,
          309.46666666666664,
          309.29,
          506.7166666666667,
          433.23,
          313.13666666666666,
          533.7766666666666,
          130.14,
          267.73,
          277.17,
          396.70666666666665,
          525.3,
          493.28499999999997,
          401.92333333333335,
          521.3933333333333,
          465.21333333333337,
          401.85,
          369.61,
          389.82,
          461.0333333333333,
          593.52,
          508.66,
          185.73,
          439.03000000000003,
          359.28999999999996,
          296.87666666666667,
          346.6066666666666,
          406.68,
          339.3333333333333,
          314.5,
          421.315,
          289.0133333333333,
          458.935,
          455.685,
          635.12,
          477.55,
          441.01,
          447.03,
          401.52,
          442.60999999999996,
          668.9033333333333,
          521.52,
          246.02499999999998,
          428.16333333333336,
          316.03,
          511.32,
          340.39000000000004,
          371.28,
          349.9,
          593.31,
          443.70500000000004,
          494.41,
          446.9666666666667,
          449.50666666666666,
          361.47,
          441.27,
          483.9666666666667,
          408.7033333333333,
          320.67,
          175.885,
          457.1233333333333,
          279.56333333333333,
          111.6,
          286.405,
          418.95,
          457.08,
          267.205,
          678.1,
          435.02333333333337,
          589.0699999999999,
          457.9066666666666,
          361.13,
          403.205,
          209.94,
          275.99,
          461.17666666666673,
          236.925,
          279.88,
          611.2,
          487.18,
          594.075,
          381.8,
          252.7033333333333,
          247.96,
          494.46000000000004,
          284.5,
          670.4699999999999,
          633.0500000000001,
          257.385,
          245.73666666666668,
          529.74,
          188.18,
          559.12,
          397.7733333333333,
          443.97,
          381.99,
          604.355,
          176.79999999999998,
          375.90333333333336,
          479.2333333333333,
          384.6233333333333,
          449.5,
          426.875,
          268.015,
          308.385,
          353.8966666666667,
          658.96,
          245.19,
          676.38,
          561.9699999999999,
          632.86,
          373.725,
          362.2,
          324.995,
          492.06,
          635.15,
          666.22,
          569.48,
          686.38,
          554.39,
          316.57,
          531,
          444.24333333333334,
          197.62,
          439.05,
          562.98,
          278.29999999999995,
          105.42,
          314.22,
          471.46500000000003,
          368.95666666666665,
          467.7966666666667,
          321.0833333333333,
          359.28,
          331.015,
          524.8733333333333,
          438.3666666666666,
          626.81,
          583.415,
          468.4,
          368.06333333333333,
          493.98,
          254.6,
          438.53000000000003,
          232.51,
          147.485,
          437.59499999999997,
          494.885,
          448.97,
          440.0133333333333,
          555.27,
          439.2633333333333,
          585.0233333333334,
          484.18,
          363.745,
          280.31,
          359.9866666666667,
          436.67333333333335,
          345.65,
          586.53,
          475.405,
          516.17,
          562.67,
          469.76,
          423.46,
          282.38666666666666,
          393.02500000000003,
          249.975,
          298.145,
          484.765,
          307.445,
          238.25,
          472.8666666666666,
          234.58,
          584.01,
          343.50666666666666,
          583.82,
          208.97,
          549.2466666666667,
          559.7966666666666,
          454.38,
          346.84000000000003,
          426.7,
          387.99,
          596.6566666666666,
          217.325,
          455.84,
          555.4,
          161.51,
          408.31,
          495.55,
          582.415,
          552.7433333333333,
          552.075,
          521.8966666666666,
          217.14,
          307.21,
          567.4699999999999,
          531.39,
          558.005,
          399.2833333333333,
          460.64,
          308.45666666666665,
          627.185,
          362.6,
          406.95,
          599.4533333333333,
          388.31666666666666,
          501.71000000000004,
          349.52666666666664,
          399.8033333333333,
          473.44,
          565.815,
          422.75,
          646.675,
          107.29,
          388.27666666666664,
          272.58,
          389.5433333333333,
          300.43,
          374.45,
          445.855,
          460.46500000000003,
          285.92333333333335,
          584.8666666666667,
          374.385,
          351,
          359.3633333333333,
          337.5,
          439.36,
          334.42,
          430.84999999999997,
          506.3666666666666,
          307.91,
          323.57,
          331.51,
          375.8833333333334,
          463.16333333333336,
          398.19000000000005,
          396.2866666666667,
          399.77,
          109.07,
          489.775,
          539.8,
          372.1333333333334,
          564.13,
          374.82666666666665,
          666.84,
          497.7666666666666,
          527.1,
          334.63,
          251.86,
          547.3499999999999,
          496.65,
          213.12,
          619.84,
          158.065,
          360.15,
          155.58,
          549.03,
          648.73,
          358.76000000000005,
          397.72333333333336,
          467.98,
          452.0833333333333,
          366.95666666666665,
          333.50333333333333,
          279.8866666666667,
          281.44,
          526.8399999999999,
          351.20500000000004,
          652.3466666666667,
          651.71,
          405.59666666666664,
          545.73,
          502.81,
          405.40333333333336,
          461.83500000000004,
          439.8633333333334,
          514.9733333333334,
          478.15,
          409.6233333333333,
          365.53,
          463.25333333333333,
          594.85,
          345.89,
          221.89,
          292.645,
          394.66,
          434.755,
          499.18666666666667,
          249.37333333333333,
          142.3,
          211.39,
          588.77,
          455.2733333333333,
          304.695,
          354.485,
          392.73,
          479.7,
          535.51,
          460.12999999999994,
          559.025,
          418.66499999999996,
          408.83,
          334.1,
          585.7249999999999,
          634.005,
          549.01,
          439.93,
          335.9866666666667,
          402.065,
          190.29999999999998,
          531.24,
          415.0733333333333,
          150.13,
          348.48,
          273.56333333333333,
          347.47499999999997,
          380.92999999999995,
          259.63,
          261.125,
          559.9433333333333,
          349.47,
          466.59,
          387.155,
          400.07,
          347.17,
          540.2233333333334,
          169.24,
          463.38,
          170.32,
          367.75666666666666,
          304.435,
          454.89000000000004,
          379.35999999999996,
          141.43,
          466.00666666666666,
          323.71,
          502.73,
          622.25,
          606,
          391.06,
          448.62999999999994,
          436.525,
          629.54,
          287.605,
          551.9599999999999,
          206.13,
          626.41,
          404.35,
          469.92333333333335,
          259.87,
          496.18499999999995,
          591.875,
          292.7,
          321.96666666666664,
          141.23,
          321.74,
          502.0733333333333,
          320.29333333333335,
          468.7,
          449.86000000000007,
          409.6133333333334,
          556.8199999999999,
          425.59666666666664,
          512.485,
          398.64,
          500.41,
          644.94,
          531.76,
          587.98,
          406.8666666666666,
          384.35,
          421.20500000000004,
          221.35,
          287.3833333333334,
          501.28333333333336,
          212.75,
          364.5166666666667,
          588.85,
          414.29499999999996,
          501.2333333333334,
          294.71,
          263.135,
          435.06333333333333,
          481.64000000000004,
          566.82,
          556.51,
          207.82999999999998,
          519.37,
          365.21000000000004,
          118.69,
          255.75,
          398.86,
          301.27666666666664,
          510.8933333333334,
          489.02,
          677.84,
          467.45,
          140.35,
          417.42333333333335,
          548.91,
          665.7966666666666,
          271.94,
          235.92333333333332,
          529.975,
          373.16333333333336,
          358.62,
          474.25,
          365.37,
          537.3433333333334,
          474.77,
          560.41,
          596.49,
          484.71,
          453.99,
          237.33,
          624.1666666666666,
          305.14,
          416.61,
          226.98,
          697.38,
          620.3433333333334,
          529.06,
          318.95,
          372.86,
          478.4199999999999,
          457.715,
          511.01,
          489.18,
          254.445,
          495.57,
          390.345,
          461.88,
          602.42,
          326.93,
          562.8299999999999,
          593.2666666666667,
          392.115,
          342.885,
          266.21,
          576.345,
          455.7,
          312.95,
          234.74666666666667,
          150.74,
          607.48,
          495.43,
          525.4,
          405.225,
          550.61,
          443.34,
          684.03,
          408.29333333333335,
          301.17,
          140.21,
          662.6949999999999,
          611.53,
          415.0666666666666,
          235.57333333333335,
          381.46,
          240.74,
          461.11,
          555.58,
          680.66,
          436.6133333333333,
          304.96,
          281.62666666666667,
          345.96999999999997,
          226.3,
          393.04999999999995,
          430.88,
          295.18,
          384.75,
          582.28,
          340.355,
          319.88,
          394.28999999999996,
          296.03,
          354.815,
          388.80999999999995,
          351.16,
          375.06,
          514.785,
          500.33,
          616.7750000000001,
          288.33,
          606.8466666666667,
          633.71,
          344.53999999999996,
          544.98,
          417.725,
          602.94,
          491.36,
          345.51,
          372.39,
          350.3066666666667,
          670.87,
          347.965,
          476.07,
          359.75,
          323.3,
          408.08666666666664,
          269.86,
          427.56499999999994,
          488.845,
          587.36,
          280.265,
          578.64,
          335.57,
          607.07,
          462.09666666666664,
          256.61,
          410.73,
          466.1166666666666,
          538.28,
          325.65000000000003,
          156.27,
          547.0600000000001,
          224.46,
          404.1566666666666,
          405.30999999999995,
          556.35,
          347.68333333333334,
          603.94,
          475.195,
          424.48,
          118.28,
          222.67,
          380.3,
          582.72,
          345.61000000000007,
          300.825,
          508.21000000000004,
          180.695,
          330.95500000000004,
          310.49666666666667,
          391.81,
          204.1,
          327.85,
          580.87,
          335.26,
          387.875,
          427.90999999999997,
          567.8000000000001,
          261.04499999999996,
          407.48333333333335,
          427.905,
          237.555,
          645.8466666666667,
          259.3,
          466.88,
          507.1,
          555.9,
          612.175,
          266.48,
          498.495,
          419.84999999999997,
          608.84,
          287.13,
          305.67333333333335,
          256.63,
          478.385,
          461.365,
          323.51,
          422.135,
          155.42,
          352.4,
          460.565,
          409.47,
          409.24333333333334,
          550.71,
          524.5250000000001,
          642.62,
          459.3433333333334,
          190.8,
          447.415,
          569.8433333333334,
          491.91999999999996,
          363.99333333333334,
          210.78,
          453.9333333333334,
          171.93,
          504.915,
          349.4766666666667,
          457.65,
          276.3,
          559.735,
          448.085,
          615.5733333333333,
          557.7366666666667,
          339.71,
          226.285,
          613.26,
          162.67,
          365.24333333333334,
          483.58000000000004,
          413.52333333333337,
          332.35,
          315.67,
          347.145,
          495.4,
          545.7266666666667,
          681.83,
          358.74,
          308.51,
          130.21,
          131.66,
          408.6266666666667,
          385.04499999999996,
          406.05499999999995,
          618.275,
          386.41,
          339.015,
          401.9266666666667,
          340.03666666666663,
          421.96,
          614.605,
          378.12,
          404.23,
          563.1700000000001,
          316.5366666666667,
          491.09,
          437.31,
          359.96000000000004,
          362.7,
          605.08,
          329.76,
          543.6366666666667,
          420.58500000000004,
          276.55333333333334,
          482.7633333333333,
          264.61,
          366.5133333333333,
          259.1933333333333,
          466.8833333333334,
          401.46,
          631.88,
          456.99,
          680.215,
          504.57,
          471.68500000000006,
          487.62,
          357.07,
          591.79,
          187.86,
          576.9133333333333,
          368.1,
          474.87,
          606.53,
          424.435,
          374.68,
          196.86333333333334,
          601.1833333333333,
          447.25,
          502.66,
          650.655,
          340.13,
          439.77,
          429.83000000000004,
          523.5500000000001,
          172.23,
          460.91499999999996,
          363.8633333333333,
          414.1,
          196.14,
          202.56,
          548.0133333333333,
          150.48,
          235.32333333333335,
          504.25,
          217.44000000000003,
          667.89,
          380.4066666666666,
          655.88,
          266.075,
          123.64,
          444.37,
          335.74,
          117.19,
          303.365,
          572.42,
          229.005,
          420.81,
          491.98,
          510.36999999999995,
          324.83,
          338.6433333333334,
          616.405,
          386.8733333333333,
          432.73,
          361.255,
          411.26,
          414.08000000000004,
          130.78,
          395.52,
          357.95,
          350.50666666666666,
          538.23,
          556.1,
          247.59666666666666,
          316.64,
          345.07,
          507.82,
          152.405,
          335.15,
          439.7533333333333,
          541.6533333333333,
          283.185,
          398.17666666666656,
          595.64,
          512.2233333333334,
          193.79,
          542.77,
          393.80999999999995,
          447.145,
          468.385,
          656.3299999999999,
          495.65,
          480,
          380.61,
          434.16999999999996,
          352.33000000000004,
          438.54,
          440.63,
          622.69,
          433.71,
          456.15333333333336,
          404.01500000000004,
          510.80999999999995,
          379.07666666666665,
          352.2066666666667,
          620.895,
          476.365,
          506.22,
          510.705,
          389.40333333333336,
          423.455,
          443.5366666666667,
          548.25,
          208.6,
          450.6166666666666,
          357.4266666666667,
          547.22,
          364.19,
          108.21,
          206.94000000000003,
          478.83,
          355.84,
          428.89,
          204.79,
          412.92499999999995,
          429.715,
          634.23,
          461.55,
          172.785,
          407.565,
          522.155,
          382.40000000000003,
          436.66333333333336,
          607.0966666666667,
          507.78,
          667.55,
          277.49,
          206.92000000000002,
          230.73,
          497.1,
          382.02,
          440.695,
          491.49,
          247.67999999999998,
          649.9749999999999,
          350.96500000000003,
          515.49,
          299.41,
          313.96,
          294.87,
          608.24
         ],
         "xaxis": "x2",
         "yaxis": "y2"
        }
       ],
       "layout": {
        "barmode": "relative",
        "legend": {
         "tracegroupgap": 0
        },
        "template": {
         "data": {
          "bar": [
           {
            "error_x": {
             "color": "#2a3f5f"
            },
            "error_y": {
             "color": "#2a3f5f"
            },
            "marker": {
             "line": {
              "color": "#E5ECF6",
              "width": 0.5
             },
             "pattern": {
              "fillmode": "overlay",
              "size": 10,
              "solidity": 0.2
             }
            },
            "type": "bar"
           }
          ],
          "barpolar": [
           {
            "marker": {
             "line": {
              "color": "#E5ECF6",
              "width": 0.5
             },
             "pattern": {
              "fillmode": "overlay",
              "size": 10,
              "solidity": 0.2
             }
            },
            "type": "barpolar"
           }
          ],
          "carpet": [
           {
            "aaxis": {
             "endlinecolor": "#2a3f5f",
             "gridcolor": "white",
             "linecolor": "white",
             "minorgridcolor": "white",
             "startlinecolor": "#2a3f5f"
            },
            "baxis": {
             "endlinecolor": "#2a3f5f",
             "gridcolor": "white",
             "linecolor": "white",
             "minorgridcolor": "white",
             "startlinecolor": "#2a3f5f"
            },
            "type": "carpet"
           }
          ],
          "choropleth": [
           {
            "colorbar": {
             "outlinewidth": 0,
             "ticks": ""
            },
            "type": "choropleth"
           }
          ],
          "contour": [
           {
            "colorbar": {
             "outlinewidth": 0,
             "ticks": ""
            },
            "colorscale": [
             [
              0,
              "#0d0887"
             ],
             [
              0.1111111111111111,
              "#46039f"
             ],
             [
              0.2222222222222222,
              "#7201a8"
             ],
             [
              0.3333333333333333,
              "#9c179e"
             ],
             [
              0.4444444444444444,
              "#bd3786"
             ],
             [
              0.5555555555555556,
              "#d8576b"
             ],
             [
              0.6666666666666666,
              "#ed7953"
             ],
             [
              0.7777777777777778,
              "#fb9f3a"
             ],
             [
              0.8888888888888888,
              "#fdca26"
             ],
             [
              1,
              "#f0f921"
             ]
            ],
            "type": "contour"
           }
          ],
          "contourcarpet": [
           {
            "colorbar": {
             "outlinewidth": 0,
             "ticks": ""
            },
            "type": "contourcarpet"
           }
          ],
          "heatmap": [
           {
            "colorbar": {
             "outlinewidth": 0,
             "ticks": ""
            },
            "colorscale": [
             [
              0,
              "#0d0887"
             ],
             [
              0.1111111111111111,
              "#46039f"
             ],
             [
              0.2222222222222222,
              "#7201a8"
             ],
             [
              0.3333333333333333,
              "#9c179e"
             ],
             [
              0.4444444444444444,
              "#bd3786"
             ],
             [
              0.5555555555555556,
              "#d8576b"
             ],
             [
              0.6666666666666666,
              "#ed7953"
             ],
             [
              0.7777777777777778,
              "#fb9f3a"
             ],
             [
              0.8888888888888888,
              "#fdca26"
             ],
             [
              1,
              "#f0f921"
             ]
            ],
            "type": "heatmap"
           }
          ],
          "heatmapgl": [
           {
            "colorbar": {
             "outlinewidth": 0,
             "ticks": ""
            },
            "colorscale": [
             [
              0,
              "#0d0887"
             ],
             [
              0.1111111111111111,
              "#46039f"
             ],
             [
              0.2222222222222222,
              "#7201a8"
             ],
             [
              0.3333333333333333,
              "#9c179e"
             ],
             [
              0.4444444444444444,
              "#bd3786"
             ],
             [
              0.5555555555555556,
              "#d8576b"
             ],
             [
              0.6666666666666666,
              "#ed7953"
             ],
             [
              0.7777777777777778,
              "#fb9f3a"
             ],
             [
              0.8888888888888888,
              "#fdca26"
             ],
             [
              1,
              "#f0f921"
             ]
            ],
            "type": "heatmapgl"
           }
          ],
          "histogram": [
           {
            "marker": {
             "pattern": {
              "fillmode": "overlay",
              "size": 10,
              "solidity": 0.2
             }
            },
            "type": "histogram"
           }
          ],
          "histogram2d": [
           {
            "colorbar": {
             "outlinewidth": 0,
             "ticks": ""
            },
            "colorscale": [
             [
              0,
              "#0d0887"
             ],
             [
              0.1111111111111111,
              "#46039f"
             ],
             [
              0.2222222222222222,
              "#7201a8"
             ],
             [
              0.3333333333333333,
              "#9c179e"
             ],
             [
              0.4444444444444444,
              "#bd3786"
             ],
             [
              0.5555555555555556,
              "#d8576b"
             ],
             [
              0.6666666666666666,
              "#ed7953"
             ],
             [
              0.7777777777777778,
              "#fb9f3a"
             ],
             [
              0.8888888888888888,
              "#fdca26"
             ],
             [
              1,
              "#f0f921"
             ]
            ],
            "type": "histogram2d"
           }
          ],
          "histogram2dcontour": [
           {
            "colorbar": {
             "outlinewidth": 0,
             "ticks": ""
            },
            "colorscale": [
             [
              0,
              "#0d0887"
             ],
             [
              0.1111111111111111,
              "#46039f"
             ],
             [
              0.2222222222222222,
              "#7201a8"
             ],
             [
              0.3333333333333333,
              "#9c179e"
             ],
             [
              0.4444444444444444,
              "#bd3786"
             ],
             [
              0.5555555555555556,
              "#d8576b"
             ],
             [
              0.6666666666666666,
              "#ed7953"
             ],
             [
              0.7777777777777778,
              "#fb9f3a"
             ],
             [
              0.8888888888888888,
              "#fdca26"
             ],
             [
              1,
              "#f0f921"
             ]
            ],
            "type": "histogram2dcontour"
           }
          ],
          "mesh3d": [
           {
            "colorbar": {
             "outlinewidth": 0,
             "ticks": ""
            },
            "type": "mesh3d"
           }
          ],
          "parcoords": [
           {
            "line": {
             "colorbar": {
              "outlinewidth": 0,
              "ticks": ""
             }
            },
            "type": "parcoords"
           }
          ],
          "pie": [
           {
            "automargin": true,
            "type": "pie"
           }
          ],
          "scatter": [
           {
            "fillpattern": {
             "fillmode": "overlay",
             "size": 10,
             "solidity": 0.2
            },
            "type": "scatter"
           }
          ],
          "scatter3d": [
           {
            "line": {
             "colorbar": {
              "outlinewidth": 0,
              "ticks": ""
             }
            },
            "marker": {
             "colorbar": {
              "outlinewidth": 0,
              "ticks": ""
             }
            },
            "type": "scatter3d"
           }
          ],
          "scattercarpet": [
           {
            "marker": {
             "colorbar": {
              "outlinewidth": 0,
              "ticks": ""
             }
            },
            "type": "scattercarpet"
           }
          ],
          "scattergeo": [
           {
            "marker": {
             "colorbar": {
              "outlinewidth": 0,
              "ticks": ""
             }
            },
            "type": "scattergeo"
           }
          ],
          "scattergl": [
           {
            "marker": {
             "colorbar": {
              "outlinewidth": 0,
              "ticks": ""
             }
            },
            "type": "scattergl"
           }
          ],
          "scattermapbox": [
           {
            "marker": {
             "colorbar": {
              "outlinewidth": 0,
              "ticks": ""
             }
            },
            "type": "scattermapbox"
           }
          ],
          "scatterpolar": [
           {
            "marker": {
             "colorbar": {
              "outlinewidth": 0,
              "ticks": ""
             }
            },
            "type": "scatterpolar"
           }
          ],
          "scatterpolargl": [
           {
            "marker": {
             "colorbar": {
              "outlinewidth": 0,
              "ticks": ""
             }
            },
            "type": "scatterpolargl"
           }
          ],
          "scatterternary": [
           {
            "marker": {
             "colorbar": {
              "outlinewidth": 0,
              "ticks": ""
             }
            },
            "type": "scatterternary"
           }
          ],
          "surface": [
           {
            "colorbar": {
             "outlinewidth": 0,
             "ticks": ""
            },
            "colorscale": [
             [
              0,
              "#0d0887"
             ],
             [
              0.1111111111111111,
              "#46039f"
             ],
             [
              0.2222222222222222,
              "#7201a8"
             ],
             [
              0.3333333333333333,
              "#9c179e"
             ],
             [
              0.4444444444444444,
              "#bd3786"
             ],
             [
              0.5555555555555556,
              "#d8576b"
             ],
             [
              0.6666666666666666,
              "#ed7953"
             ],
             [
              0.7777777777777778,
              "#fb9f3a"
             ],
             [
              0.8888888888888888,
              "#fdca26"
             ],
             [
              1,
              "#f0f921"
             ]
            ],
            "type": "surface"
           }
          ],
          "table": [
           {
            "cells": {
             "fill": {
              "color": "#EBF0F8"
             },
             "line": {
              "color": "white"
             }
            },
            "header": {
             "fill": {
              "color": "#C8D4E3"
             },
             "line": {
              "color": "white"
             }
            },
            "type": "table"
           }
          ]
         },
         "layout": {
          "annotationdefaults": {
           "arrowcolor": "#2a3f5f",
           "arrowhead": 0,
           "arrowwidth": 1
          },
          "autotypenumbers": "strict",
          "coloraxis": {
           "colorbar": {
            "outlinewidth": 0,
            "ticks": ""
           }
          },
          "colorscale": {
           "diverging": [
            [
             0,
             "#8e0152"
            ],
            [
             0.1,
             "#c51b7d"
            ],
            [
             0.2,
             "#de77ae"
            ],
            [
             0.3,
             "#f1b6da"
            ],
            [
             0.4,
             "#fde0ef"
            ],
            [
             0.5,
             "#f7f7f7"
            ],
            [
             0.6,
             "#e6f5d0"
            ],
            [
             0.7,
             "#b8e186"
            ],
            [
             0.8,
             "#7fbc41"
            ],
            [
             0.9,
             "#4d9221"
            ],
            [
             1,
             "#276419"
            ]
           ],
           "sequential": [
            [
             0,
             "#0d0887"
            ],
            [
             0.1111111111111111,
             "#46039f"
            ],
            [
             0.2222222222222222,
             "#7201a8"
            ],
            [
             0.3333333333333333,
             "#9c179e"
            ],
            [
             0.4444444444444444,
             "#bd3786"
            ],
            [
             0.5555555555555556,
             "#d8576b"
            ],
            [
             0.6666666666666666,
             "#ed7953"
            ],
            [
             0.7777777777777778,
             "#fb9f3a"
            ],
            [
             0.8888888888888888,
             "#fdca26"
            ],
            [
             1,
             "#f0f921"
            ]
           ],
           "sequentialminus": [
            [
             0,
             "#0d0887"
            ],
            [
             0.1111111111111111,
             "#46039f"
            ],
            [
             0.2222222222222222,
             "#7201a8"
            ],
            [
             0.3333333333333333,
             "#9c179e"
            ],
            [
             0.4444444444444444,
             "#bd3786"
            ],
            [
             0.5555555555555556,
             "#d8576b"
            ],
            [
             0.6666666666666666,
             "#ed7953"
            ],
            [
             0.7777777777777778,
             "#fb9f3a"
            ],
            [
             0.8888888888888888,
             "#fdca26"
            ],
            [
             1,
             "#f0f921"
            ]
           ]
          },
          "colorway": [
           "#636efa",
           "#EF553B",
           "#00cc96",
           "#ab63fa",
           "#FFA15A",
           "#19d3f3",
           "#FF6692",
           "#B6E880",
           "#FF97FF",
           "#FECB52"
          ],
          "font": {
           "color": "#2a3f5f"
          },
          "geo": {
           "bgcolor": "white",
           "lakecolor": "white",
           "landcolor": "#E5ECF6",
           "showlakes": true,
           "showland": true,
           "subunitcolor": "white"
          },
          "hoverlabel": {
           "align": "left"
          },
          "hovermode": "closest",
          "mapbox": {
           "style": "light"
          },
          "paper_bgcolor": "white",
          "plot_bgcolor": "#E5ECF6",
          "polar": {
           "angularaxis": {
            "gridcolor": "white",
            "linecolor": "white",
            "ticks": ""
           },
           "bgcolor": "#E5ECF6",
           "radialaxis": {
            "gridcolor": "white",
            "linecolor": "white",
            "ticks": ""
           }
          },
          "scene": {
           "xaxis": {
            "backgroundcolor": "#E5ECF6",
            "gridcolor": "white",
            "gridwidth": 2,
            "linecolor": "white",
            "showbackground": true,
            "ticks": "",
            "zerolinecolor": "white"
           },
           "yaxis": {
            "backgroundcolor": "#E5ECF6",
            "gridcolor": "white",
            "gridwidth": 2,
            "linecolor": "white",
            "showbackground": true,
            "ticks": "",
            "zerolinecolor": "white"
           },
           "zaxis": {
            "backgroundcolor": "#E5ECF6",
            "gridcolor": "white",
            "gridwidth": 2,
            "linecolor": "white",
            "showbackground": true,
            "ticks": "",
            "zerolinecolor": "white"
           }
          },
          "shapedefaults": {
           "line": {
            "color": "#2a3f5f"
           }
          },
          "ternary": {
           "aaxis": {
            "gridcolor": "white",
            "linecolor": "white",
            "ticks": ""
           },
           "baxis": {
            "gridcolor": "white",
            "linecolor": "white",
            "ticks": ""
           },
           "bgcolor": "#E5ECF6",
           "caxis": {
            "gridcolor": "white",
            "linecolor": "white",
            "ticks": ""
           }
          },
          "title": {
           "x": 0.05
          },
          "xaxis": {
           "automargin": true,
           "gridcolor": "white",
           "linecolor": "white",
           "ticks": "",
           "title": {
            "standoff": 15
           },
           "zerolinecolor": "white",
           "zerolinewidth": 2
          },
          "yaxis": {
           "automargin": true,
           "gridcolor": "white",
           "linecolor": "white",
           "ticks": "",
           "title": {
            "standoff": 15
           },
           "zerolinecolor": "white",
           "zerolinewidth": 2
          }
         }
        },
        "title": {
         "text": "💰 Distribution of Average Order Value"
        },
        "xaxis": {
         "anchor": "y",
         "domain": [
          0,
          1
         ],
         "title": {
          "text": "avg_order_value"
         }
        },
        "xaxis2": {
         "anchor": "y2",
         "domain": [
          0,
          1
         ],
         "matches": "x",
         "showgrid": true,
         "showticklabels": false
        },
        "yaxis": {
         "anchor": "x",
         "domain": [
          0,
          0.8316
         ],
         "title": {
          "text": "count"
         }
        },
        "yaxis2": {
         "anchor": "x2",
         "domain": [
          0.8416,
          1
         ],
         "matches": "y2",
         "showgrid": false,
         "showline": false,
         "showticklabels": false,
         "ticks": ""
        }
       }
      },
      "image/png": "[encoded data removed]",
      "text/html": [
       "<div>                            <div id=\"48b67c99-ae12-414d-ade4-898b8c010af2\" class=\"plotly-graph-div\" style=\"height:525px; width:100%;\"></div>            <script type=\"text/javascript\">                require([\"plotly\"], function(Plotly) {                    window.PLOTLYENV=window.PLOTLYENV || {};                                    if (document.getElementById(\"48b67c99-ae12-414d-ade4-898b8c010af2\")) {                    Plotly.newPlot(                        \"48b67c99-ae12-414d-ade4-898b8c010af2\",                        [{\"alignmentgroup\":\"True\",\"bingroup\":\"x\",\"hovertemplate\":\"avg_order_value=%{x}\\u003cbr\\u003ecount=%{y}\\u003cextra\\u003e\\u003c\\u002fextra\\u003e\",\"legendgroup\":\"\",\"marker\":{\"color\":\"#00CC96\",\"pattern\":{\"shape\":\"\"}},\"name\":\"\",\"nbinsx\":40,\"offsetgroup\":\"\",\"orientation\":\"v\",\"showlegend\":false,\"x\":[544.7833333333334,315.46999999999997,402.28000000000003,460.67,343.595,665.71,243.245,271.295,382.92,350.405,275.29,319.82,421.51666666666665,456.995,298.2366666666667,429.18,549.0633333333334,359.57,293.655,283.87,475.43,417.27,383.66,681.75,655.2266666666668,454.9866666666667,246.64333333333335,323.01,426.6166666666666,425.62,184.55,388.02500000000003,524.9033333333333,103.31,581.6949999999999,575.0799999999999,243.01,570.9200000000001,243.34,315.85,584.2066666666666,383.33,171.76,567.21,436.77,490.8333333333333,245.5,329.77333333333337,405.14,644.54,249.58,346.23,345.59999999999997,409.4666666666667,557.4549999999999,627.54,211.94,554.575,636.0550000000001,264.53000000000003,554.5033333333333,280.31,316.855,413.41333333333336,442.3333333333333,592.9066666666666,343.31666666666666,221.515,366.08,267.19,391.88000000000005,393.67,493.31,503.28,424.775,453.79999999999995,479.38,475.78999999999996,402.67499999999995,292.47,193.19,390.3433333333333,407.26,342.53999999999996,536.2133333333333,182.51,261.36,654.82,465.58,568.1600000000001,450.45500000000004,225.485,619.48,303.42,527.79,595.1333333333333,150.48,466.6566666666667,158.2,325.57,337.86,528.16,405.93499999999995,293.795,543.835,577.05,440.99,278.65,455.3533333333333,581.9549999999999,514.235,445.825,217.15,425.96500000000003,114.59,485.9433333333333,581.1266666666667,407.72333333333336,679.99,678.17,439.84666666666664,475.41499999999996,342.89,614.655,325.175,606.515,440.48999999999995,561.3866666666667,425.8233333333333,651.4166666666666,428.86,563.38,630.74,339.07500000000005,274.9766666666667,427.475,271.92,311.4,377.35999999999996,319.795,562.0,229.49,473.73,267.01,514.1633333333333,496.3533333333333,577.11,337.94,346.6233333333333,521.5133333333333,203.98,193.86,364.845,464.28000000000003,582.7566666666667,389.14333333333326,358.97666666666663,173.89333333333335,592.735,346.0566666666667,319.0,374.70500000000004,392.5833333333333,324.77,530.43,371.49,142.34,325.68,553.63,431.2733333333333,507.97,676.71,367.4333333333334,160.47,158.8,347.9666666666667,469.8566666666666,352.68333333333334,477.37,608.76,582.09,269.22,206.46,592.235,488.35999999999996,542.9266666666667,540.9899999999999,485.3766666666667,403.15,541.7366666666667,394.4166666666667,405.4666666666667,564.5066666666667,347.40000000000003,576.6266666666667,573.77,261.96999999999997,509.08666666666676,255.52999999999997,538.92,160.67,360.52000000000004,453.51,148.81,150.9,533.27,559.4733333333334,691.6,375.9633333333333,525.665,524.17,166.72,327.8633333333333,191.86333333333334,529.06,526.11,271.43,544.4166666666666,419.60999999999996,425.7366666666667,457.45666666666665,572.72,477.64,488.90000000000003,439.51666666666665,494.41499999999996,526.5433333333334,319.17333333333335,406.1,440.64,630.315,421.66,285.72,574.56,512.55,669.88,484.81,664.64,146.475,568.1933333333333,358.42,663.4066666666666,390.055,223.935,618.83,587.74,643.6899999999999,639.125,454.1,370.33,449.965,434.6366666666666,417.89,168.13,482.56,563.39,518.1833333333333,436.56,416.16333333333336,414.18,344.01666666666665,234.54000000000002,417.26,486.6133333333334,479.06000000000006,473.25,668.565,447.095,375.23333333333335,493.6133333333333,323.21666666666664,215.1,183.3,367.01666666666665,536.225,500.53,234.38,231.01,210.60333333333332,339.60999999999996,379.96,579.65,449.9833333333333,385.09999999999997,583.72,404.83500000000004,298.945,455.83000000000004,374.435,360.245,505.53000000000003,407.01,316.78499999999997,419.01,311.1333333333333,227.645,265.07666666666665,565.98,408.24,507.20666666666665,359.0,176.55,319.06,447.8933333333334,691.91,322.28999999999996,245.23333333333332,211.94,271.06,363.4066666666666,516.7933333333334,277.965,681.68,619.3,447.49,202.53,604.41,415.00666666666666,389.38000000000005,355.26,404.57,245.45,336.15000000000003,376.68,317.5333333333333,180.65,408.47,585.92,252.78,540.8066666666667,379.78999999999996,653.0450000000001,451.8,503.42,367.28499999999997,549.89,360.6666666666667,361.83,442.75333333333333,505.89500000000004,459.87000000000006,435.6700000000001,345.48,498.7333333333333,643.88,469.52666666666664,413.78,404.99,471.06,629.75,191.0,293.05999999999995,402.8066666666667,529.5966666666667,404.565,417.18,402.23333333333335,467.64000000000004,525.53,425.63,289.15333333333336,645.07,420.275,377.2,455.19,451.74,460.2,392.07,659.27,570.1899999999999,524.34,343.645,486.79333333333335,682.98,370.5,520.7266666666666,438.655,621.94,458.03499999999997,339.4,241.99,361.53000000000003,405.66999999999996,651.91,419.49333333333334,359.18333333333334,220.17000000000002,400.19,504.8999999999999,479.36,327.99,206.82,676.64,293.985,151.21,698.12,454.275,370.115,225.94,455.95500000000004,273.1933333333333,314.16499999999996,565.32,417.02,356.46000000000004,531.3000000000001,390.9466666666667,251.38666666666668,413.73,260.90999999999997,292.48,418.54,331.40666666666664,414.63,549.9533333333333,386.92,481.84499999999997,194.61333333333334,115.92,370.51000000000005,635.6,472.78,379.2166666666667,393.66,389.8633333333334,638.615,184.07,531.77,557.2566666666667,113.48,368.095,392.40999999999997,417.285,578.025,225.80666666666664,648.58,333.28000000000003,429.2633333333333,597.85,223.85,106.6,436.07,624.33,458.45,504.66499999999996,435.04333333333335,329.88,279.76666666666665,371.25,379.54999999999995,340.06666666666666,449.84666666666664,548.6433333333333,539.54,235.01,361.91,458.11,375.68666666666667,393.0933333333333,461.96999999999997,247.84,610.5550000000001,444.75,316.58,427.66999999999996,182.09,449.6066666666666,549.4549999999999,586.635,573.3866666666667,249.8,472.99333333333334,420.05,614.25,349.56,462.7033333333334,571.8933333333333,589.4399999999999,474.095,425.77,238.01,172.34,146.17,435.845,534.86,139.21,381.43,480.40333333333336,631.59,307.97999999999996,392.40999999999997,546.09,663.44,579.27,698.76,460.37,435.1966666666667,682.33,560.96,448.67333333333335,229.775,320.9633333333333,240.16,142.99,493.2966666666666,394.37,645.895,153.65,581.62,380.44,487.6566666666667,239.0,665.64,487.34666666666664,238.4,250.02333333333334,370.84666666666664,681.46,668.46,446.3433333333334,561.2750000000001,372.1666666666667,404.07666666666665,448.05,415.685,259.36,430.48,658.7933333333334,486.83,273.63,314.73,490.78999999999996,215.37,352.82,498.71999999999997,455.44,476.75,506.81,374.83000000000004,600.2366666666667,618.5833333333334,576.2566666666667,536.4,436.84,478.7166666666667,374.83,418.62,599.28,279.15500000000003,272.22,604.4350000000001,479.09,420.09,567.91,385.405,576.28,417.345,435.365,662.34,512.73,140.7,348.63000000000005,443.1266666666666,127.45,678.505,681.33,549.79,391.505,114.75,228.72,393.19,562.24,413.90000000000003,508.27,412.53,399.33500000000004,416.81333333333333,492.24,190.63,537.785,442.48,338.56,264.53,542.995,400.7633333333333,329.84000000000003,321.12,618.61,458.7233333333333,618.565,609.71,437.03000000000003,411.015,512.2733333333333,197.745,396.60999999999996,394.96,318.855,261.4,445.9633333333333,106.97,322.31,392.505,516.99,616.99,281.035,162.96,407.57666666666665,460.11,387.71000000000004,295.88,410.63,227.67333333333332,267.65,411.27666666666664,425.22,206.615,408.23333333333335,421.45500000000004,500.11,622.58,579.745,471.28499999999997,417.48,496.77666666666664,513.6466666666666,211.15,434.40000000000003,439.73,459.43666666666667,487.8866666666667,492.43499999999995,498.27,508.14,143.32,283.5233333333333,620.96,512.4066666666666,307.56,413.0933333333333,510.20000000000005,488.575,572.4999999999999,385.755,482.5333333333333,432.5833333333333,529.49,398.58666666666664,534.6866666666666,455.3866666666667,367.18,408.89,410.655,291.38,493.265,484.41,455.205,331.95,197.975,382.03,597.33,358.53,384.76,387.15000000000003,186.285,508.29999999999995,619.95,465.22333333333336,167.15,223.05,418.7,661.96,256.06666666666666,660.33,372.015,181.975,524.6700000000001,671.09,577.11,372.84,467.59666666666664,183.79,341.84999999999997,221.11,504.06,681.95,156.34,503.56,518.5699999999999,206.29,628.4066666666666,479.125,571.025,439.72333333333336,534.815,387.02,416.47,538.2933333333333,545.34,440.21,537.5533333333334,296.22,580.88,543.58,172.13,308.3,319.88,452.49,348.29333333333335,323.95,215.14,511.56333333333333,377.985,505.65333333333336,282.75333333333333,339.29,448.1,467.45000000000005,592.5299999999999,673.31,189.205,443.9466666666667,246.09,517.68,310.97,160.85,338.83666666666664,458.095,380.14,522.945,294.9433333333333,342.07333333333327,415.1,369.78,490.69666666666666,511.865,430.14,327.96999999999997,590.905,519.6266666666667,227.23,466.59,500.27,431.39333333333326,568.32,454.225,354.24,500.53,340.82000000000005,371.06,351.39,604.9,200.55000000000004,499.72,428.02,311.855,456.69,398.06,497.20666666666665,374.755,613.59,324.7033333333333,447.03,264.5,147.65,367.67333333333335,294.02,235.99,252.325,410.74,464.09666666666664,434.9666666666667,425.745,576.0833333333334,538.39,379.12,449.3500000000001,205.18,392.28,349.91,456.12,563.11,656.31,240.79,442.1766666666667,565.085,605.22,412.57,474.15,327.75333333333333,607.4300000000001,342.9433333333333,275.5133333333334,492.5866666666666,422.28999999999996,555.525,571.735,610.85,225.11,439.09000000000003,590.47,328.37,643.7233333333334,453.41499999999996,270.17,376.24666666666667,621.1466666666666,423.36,547.9449999999999,536.3199999999999,348.5466666666667,187.82,320.52,153.195,462.8966666666667,544.495,370.39,370.5366666666667,430.49666666666667,332.16,435.8999999999999,480.6333333333334,233.89666666666668,246.3,515.3,137.38,576.835,553.755,283.75,470.28,292.03999999999996,525.915,328.6366666666667,593.345,372.63000000000005,275.165,364.77666666666664,285.85999999999996,537.0533333333333,675.75,362.4433333333333,514.62,280.6066666666666,443.61,385.61,379.2966666666667,659.82,455.69,409.41333333333336,489.5466666666666,376.89,482.32,591.34,500.18,139.99,414.5333333333333,380.1566666666667,365.335,164.42333333333332,673.9,410.79333333333335,309.82,457.57666666666665,206.755,552.4,206.96666666666667,680.72,444.4,426.98,321.75,564.78,486.34,418.18,428.13,547.6333333333333,461.13,561.7833333333333,493.89,176.86,504.905,234.77,366.275,363.64,492.67666666666673,374.51,482.8666666666666,658.6966666666667,251.34,553.03,539.5366666666667,455.3433333333334,626.75,201.27666666666664,535.59,434.39,528.9649999999999,506.41,366.775,501.17,587.4766666666666,311.485,329.83,695.09,275.205,445.17,539.84,469.59,288.02,526.41,103.14,363.89,409.46500000000003,463.92,261.345,686.895,441.1333333333334,507.49,457.47,328.99333333333334,576.52,365.7633333333333,390.76666666666665,478.46000000000004,569.435,453.46,260.1033333333333,460.74,536.0466666666666,301.295,296.92,360.41,217.765,599.7833333333333,597.7049999999999,442.23,396.10999999999996,492.4333333333334,452.66,289.015,233.21499999999997,359.1266666666666,370.045,459.26,513.4866666666667,482.0933333333333,180.09,367.56,404.995,464.1166666666666,432.7266666666667,494.17,673.97,141.37,134.23,291.50666666666666,643.75,281.45,530.5033333333333,290.88,333.87333333333333,326.5,352.535,450.42,625.41,279.5733333333333,527.0633333333334,492.5,354.03,542.2266666666666,256.30333333333334,267.885,548.55,316.445,463.45666666666665,524.7,350.0466666666666,320.14,626.2733333333332,438.34,307.31,488.96000000000004,131.17,571.77,258.27,454.6033333333333,222.93,658.9333333333334,332.01,490.1666666666667,283.74,559.375,305.985,568.665,328.25,647.03,336.18,575.71,488.655,483.16499999999996,454.5466666666666,517.54,458.01,614.31,479.915,398.5833333333333,479.8333333333333,302.725,449.57,582.16,566.7,547.2933333333334,480.8,428.4066666666667,280.25,499.025,415.895,400.67499999999995,576.9433333333333,526.15,288.61,512.84,370.12,464.8666666666666,204.26,586.4000000000001,160.38,239.55,308.76,370.21,544.995,496.2833333333333,382.77,687.46,420.65333333333336,295.06,319.50333333333333,613.44,402.0333333333333,526.11,339.45666666666665,119.91,282.37,491.9,648.4466666666667,561.03,256.17,598.3800000000001,436.26,337.01,491.6566666666667,686.08,166.43,374.2266666666667,650.85,466.515,275.33,624.4200000000001,371.87,532.18,597.64,386.7033333333333,522.21,424.42,157.92,277.94666666666666,394.885,401.40333333333336,128.89,641.74,555.99,635.38,204.29,243.71,576.75,310.24,697.26,538.145,432.12999999999994,357.01666666666665,501.52,589.34,410.47,369.73,564.33,573.3299999999999,440.14,478.78,439.68666666666667,333.55333333333334,551.4166666666666,503.43666666666667,325.21666666666664,375.305,180.7,449.2733333333333,391.11666666666673,334.18333333333334,128.95,201.735,259.07,581.55,443.23,407.6,457.7833333333333,296.93333333333334,380.78999999999996,624.53,483.745,462.29,351.56333333333333,346.61,644.57,459.59333333333325,594.27,673.04,371.83000000000004,331.26,254.56,403.31333333333333,274.495,373.74,315.14,371.65500000000003,408.67,501.14,507.2,326.47666666666663,589.815,575.38,351.2266666666667,270.8933333333333,373.9466666666667,311.28,329.495,446.7,571.41,408.99,453.59000000000003,546.7766666666666,614.54,529.285,387.78,460.64,487.03999999999996,200.12,358.32,434.80999999999995,238.49333333333334,509.815,297.7233333333333,286.73,509.87,447.44000000000005,467.68,312.84000000000003,116.52,403.27,678.41,224.16333333333333,332.79,180.01,489.42,273.55,429.865,505.965,572.405,668.2149999999999,499.86,357.5,304.23,333.66499999999996,453.625,540.53,293.5,252.27666666666667,492.21000000000004,346.72333333333336,366.43,436.71666666666664,696.31,576.115,441.63,376.75666666666666,344.94,482.53499999999997,614.48,420.03,491.55999999999995,372.2933333333333,527.3199999999999,558.1,529.085,453.24,325.2,383.49333333333334,331.92,449.5133333333333,584.1133333333333,596.51,558.72,583.875,217.92000000000002,561.3499999999999,501.1333333333334,412.625,447.75333333333333,386.11,553.9233333333333,180.66,322.435,449.96,475.445,470.0333333333333,597.08,217.68,595.8333333333334,185.71,581.7049999999999,495.12,608.6099999999999,335.66,294.585,309.46666666666664,309.29,506.7166666666667,433.23,313.13666666666666,533.7766666666666,130.14,267.73,277.17,396.70666666666665,525.3,493.28499999999997,401.92333333333335,521.3933333333333,465.21333333333337,401.85,369.61,389.82,461.0333333333333,593.52,508.66,185.73,439.03000000000003,359.28999999999996,296.87666666666667,346.6066666666666,406.68,339.3333333333333,314.5,421.315,289.0133333333333,458.935,455.685,635.12,477.55,441.01,447.03,401.52,442.60999999999996,668.9033333333333,521.52,246.02499999999998,428.16333333333336,316.03,511.32,340.39000000000004,371.28,349.9,593.31,443.70500000000004,494.41,446.9666666666667,449.50666666666666,361.47,441.27,483.9666666666667,408.7033333333333,320.67,175.885,457.1233333333333,279.56333333333333,111.6,286.405,418.95,457.08,267.205,678.1,435.02333333333337,589.0699999999999,457.9066666666666,361.13,403.205,209.94,275.99,461.17666666666673,236.925,279.88,611.2,487.18,594.075,381.8,252.7033333333333,247.96,494.46000000000004,284.5,670.4699999999999,633.0500000000001,257.385,245.73666666666668,529.74,188.18,559.12,397.7733333333333,443.97,381.99,604.355,176.79999999999998,375.90333333333336,479.2333333333333,384.6233333333333,449.5,426.875,268.015,308.385,353.8966666666667,658.96,245.19,676.38,561.9699999999999,632.86,373.725,362.2,324.995,492.06,635.15,666.22,569.48,686.38,554.39,316.57,531.0,444.24333333333334,197.62,439.05,562.98,278.29999999999995,105.42,314.22,471.46500000000003,368.95666666666665,467.7966666666667,321.0833333333333,359.28,331.015,524.8733333333333,438.3666666666666,626.81,583.415,468.4,368.06333333333333,493.98,254.6,438.53000000000003,232.51,147.485,437.59499999999997,494.885,448.97,440.0133333333333,555.27,439.2633333333333,585.0233333333334,484.18,363.745,280.31,359.9866666666667,436.67333333333335,345.65,586.53,475.405,516.17,562.67,469.76,423.46,282.38666666666666,393.02500000000003,249.975,298.145,484.765,307.445,238.25,472.8666666666666,234.58,584.01,343.50666666666666,583.82,208.97,549.2466666666667,559.7966666666666,454.38,346.84000000000003,426.7,387.99,596.6566666666666,217.325,455.84,555.4,161.51,408.31,495.55,582.415,552.7433333333333,552.075,521.8966666666666,217.14,307.21,567.4699999999999,531.39,558.005,399.2833333333333,460.64,308.45666666666665,627.185,362.6,406.95,599.4533333333333,388.31666666666666,501.71000000000004,349.52666666666664,399.8033333333333,473.44,565.815,422.75,646.675,107.29,388.27666666666664,272.58,389.5433333333333,300.43,374.45,445.855,460.46500000000003,285.92333333333335,584.8666666666667,374.385,351.0,359.3633333333333,337.5,439.36,334.42,430.84999999999997,506.3666666666666,307.91,323.57,331.51,375.8833333333334,463.16333333333336,398.19000000000005,396.2866666666667,399.77,109.07,489.775,539.8,372.1333333333334,564.13,374.82666666666665,666.84,497.7666666666666,527.1,334.63,251.86,547.3499999999999,496.65,213.12,619.84,158.065,360.15,155.58,549.03,648.73,358.76000000000005,397.72333333333336,467.98,452.0833333333333,366.95666666666665,333.50333333333333,279.8866666666667,281.44,526.8399999999999,351.20500000000004,652.3466666666667,651.71,405.59666666666664,545.73,502.81,405.40333333333336,461.83500000000004,439.8633333333334,514.9733333333334,478.15,409.6233333333333,365.53,463.25333333333333,594.85,345.89,221.89,292.645,394.66,434.755,499.18666666666667,249.37333333333333,142.3,211.39,588.77,455.2733333333333,304.695,354.485,392.73,479.7,535.51,460.12999999999994,559.025,418.66499999999996,408.83,334.1,585.7249999999999,634.005,549.01,439.93,335.9866666666667,402.065,190.29999999999998,531.24,415.0733333333333,150.13,348.48,273.56333333333333,347.47499999999997,380.92999999999995,259.63,261.125,559.9433333333333,349.47,466.59,387.155,400.07,347.17,540.2233333333334,169.24,463.38,170.32,367.75666666666666,304.435,454.89000000000004,379.35999999999996,141.43,466.00666666666666,323.71,502.73,622.25,606.0,391.06,448.62999999999994,436.525,629.54,287.605,551.9599999999999,206.13,626.41,404.35,469.92333333333335,259.87,496.18499999999995,591.875,292.7,321.96666666666664,141.23,321.74,502.0733333333333,320.29333333333335,468.7,449.86000000000007,409.6133333333334,556.8199999999999,425.59666666666664,512.485,398.64,500.41,644.94,531.76,587.98,406.8666666666666,384.35,421.20500000000004,221.35,287.3833333333334,501.28333333333336,212.75,364.5166666666667,588.85,414.29499999999996,501.2333333333334,294.71,263.135,435.06333333333333,481.64000000000004,566.82,556.51,207.82999999999998,519.37,365.21000000000004,118.69,255.75,398.86,301.27666666666664,510.8933333333334,489.02,677.84,467.45,140.35,417.42333333333335,548.91,665.7966666666666,271.94,235.92333333333332,529.975,373.16333333333336,358.62,474.25,365.37,537.3433333333334,474.77,560.41,596.49,484.71,453.99,237.33,624.1666666666666,305.14,416.61,226.98,697.38,620.3433333333334,529.06,318.95,372.86,478.4199999999999,457.715,511.01,489.18,254.445,495.57,390.345,461.88,602.42,326.93,562.8299999999999,593.2666666666667,392.115,342.885,266.21,576.345,455.7,312.95,234.74666666666667,150.74,607.48,495.43,525.4,405.225,550.61,443.34,684.03,408.29333333333335,301.17,140.21,662.6949999999999,611.53,415.0666666666666,235.57333333333335,381.46,240.74,461.11,555.58,680.66,436.6133333333333,304.96,281.62666666666667,345.96999999999997,226.3,393.04999999999995,430.88,295.18,384.75,582.28,340.355,319.88,394.28999999999996,296.03,354.815,388.80999999999995,351.16,375.06,514.785,500.33,616.7750000000001,288.33,606.8466666666667,633.71,344.53999999999996,544.98,417.725,602.94,491.36,345.51,372.39,350.3066666666667,670.87,347.965,476.07,359.75,323.3,408.08666666666664,269.86,427.56499999999994,488.845,587.36,280.265,578.64,335.57,607.07,462.09666666666664,256.61,410.73,466.1166666666666,538.28,325.65000000000003,156.27,547.0600000000001,224.46,404.1566666666666,405.30999999999995,556.35,347.68333333333334,603.94,475.195,424.48,118.28,222.67,380.3,582.72,345.61000000000007,300.825,508.21000000000004,180.695,330.95500000000004,310.49666666666667,391.81,204.1,327.85,580.87,335.26,387.875,427.90999999999997,567.8000000000001,261.04499999999996,407.48333333333335,427.905,237.555,645.8466666666667,259.3,466.88,507.1,555.9,612.175,266.48,498.495,419.84999999999997,608.84,287.13,305.67333333333335,256.63,478.385,461.365,323.51,422.135,155.42,352.4,460.565,409.47,409.24333333333334,550.71,524.5250000000001,642.62,459.3433333333334,190.8,447.415,569.8433333333334,491.91999999999996,363.99333333333334,210.78,453.9333333333334,171.93,504.915,349.4766666666667,457.65,276.3,559.735,448.085,615.5733333333333,557.7366666666667,339.71,226.285,613.26,162.67,365.24333333333334,483.58000000000004,413.52333333333337,332.35,315.67,347.145,495.4,545.7266666666667,681.83,358.74,308.51,130.21,131.66,408.6266666666667,385.04499999999996,406.05499999999995,618.275,386.41,339.015,401.9266666666667,340.03666666666663,421.96,614.605,378.12,404.23,563.1700000000001,316.5366666666667,491.09,437.31,359.96000000000004,362.7,605.08,329.76,543.6366666666667,420.58500000000004,276.55333333333334,482.7633333333333,264.61,366.5133333333333,259.1933333333333,466.8833333333334,401.46,631.88,456.99,680.215,504.57,471.68500000000006,487.62,357.07,591.79,187.86,576.9133333333333,368.1,474.87,606.53,424.435,374.68,196.86333333333334,601.1833333333333,447.25,502.66,650.655,340.13,439.77,429.83000000000004,523.5500000000001,172.23,460.91499999999996,363.8633333333333,414.1,196.14,202.56,548.0133333333333,150.48,235.32333333333335,504.25,217.44000000000003,667.89,380.4066666666666,655.88,266.075,123.64,444.37,335.74,117.19,303.365,572.42,229.005,420.81,491.98,510.36999999999995,324.83,338.6433333333334,616.405,386.8733333333333,432.73,361.255,411.26,414.08000000000004,130.78,395.52,357.95,350.50666666666666,538.23,556.1,247.59666666666666,316.64,345.07,507.82,152.405,335.15,439.7533333333333,541.6533333333333,283.185,398.17666666666656,595.64,512.2233333333334,193.79,542.77,393.80999999999995,447.145,468.385,656.3299999999999,495.65,480.0,380.61,434.16999999999996,352.33000000000004,438.54,440.63,622.69,433.71,456.15333333333336,404.01500000000004,510.80999999999995,379.07666666666665,352.2066666666667,620.895,476.365,506.22,510.705,389.40333333333336,423.455,443.5366666666667,548.25,208.6,450.6166666666666,357.4266666666667,547.22,364.19,108.21,206.94000000000003,478.83,355.84,428.89,204.79,412.92499999999995,429.715,634.23,461.55,172.785,407.565,522.155,382.40000000000003,436.66333333333336,607.0966666666667,507.78,667.55,277.49,206.92000000000002,230.73,497.1,382.02,440.695,491.49,247.67999999999998,649.9749999999999,350.96500000000003,515.49,299.41,313.96,294.87,608.24],\"xaxis\":\"x\",\"yaxis\":\"y\",\"type\":\"histogram\"},{\"alignmentgroup\":\"True\",\"hovertemplate\":\"avg_order_value=%{x}\\u003cextra\\u003e\\u003c\\u002fextra\\u003e\",\"legendgroup\":\"\",\"marker\":{\"color\":\"#00CC96\"},\"name\":\"\",\"notched\":true,\"offsetgroup\":\"\",\"showlegend\":false,\"x\":[544.7833333333334,315.46999999999997,402.28000000000003,460.67,343.595,665.71,243.245,271.295,382.92,350.405,275.29,319.82,421.51666666666665,456.995,298.2366666666667,429.18,549.0633333333334,359.57,293.655,283.87,475.43,417.27,383.66,681.75,655.2266666666668,454.9866666666667,246.64333333333335,323.01,426.6166666666666,425.62,184.55,388.02500000000003,524.9033333333333,103.31,581.6949999999999,575.0799999999999,243.01,570.9200000000001,243.34,315.85,584.2066666666666,383.33,171.76,567.21,436.77,490.8333333333333,245.5,329.77333333333337,405.14,644.54,249.58,346.23,345.59999999999997,409.4666666666667,557.4549999999999,627.54,211.94,554.575,636.0550000000001,264.53000000000003,554.5033333333333,280.31,316.855,413.41333333333336,442.3333333333333,592.9066666666666,343.31666666666666,221.515,366.08,267.19,391.88000000000005,393.67,493.31,503.28,424.775,453.79999999999995,479.38,475.78999999999996,402.67499999999995,292.47,193.19,390.3433333333333,407.26,342.53999999999996,536.2133333333333,182.51,261.36,654.82,465.58,568.1600000000001,450.45500000000004,225.485,619.48,303.42,527.79,595.1333333333333,150.48,466.6566666666667,158.2,325.57,337.86,528.16,405.93499999999995,293.795,543.835,577.05,440.99,278.65,455.3533333333333,581.9549999999999,514.235,445.825,217.15,425.96500000000003,114.59,485.9433333333333,581.1266666666667,407.72333333333336,679.99,678.17,439.84666666666664,475.41499999999996,342.89,614.655,325.175,606.515,440.48999999999995,561.3866666666667,425.8233333333333,651.4166666666666,428.86,563.38,630.74,339.07500000000005,274.9766666666667,427.475,271.92,311.4,377.35999999999996,319.795,562.0,229.49,473.73,267.01,514.1633333333333,496.3533333333333,577.11,337.94,346.6233333333333,521.5133333333333,203.98,193.86,364.845,464.28000000000003,582.7566666666667,389.14333333333326,358.97666666666663,173.89333333333335,592.735,346.0566666666667,319.0,374.70500000000004,392.5833333333333,324.77,530.43,371.49,142.34,325.68,553.63,431.2733333333333,507.97,676.71,367.4333333333334,160.47,158.8,347.9666666666667,469.8566666666666,352.68333333333334,477.37,608.76,582.09,269.22,206.46,592.235,488.35999999999996,542.9266666666667,540.9899999999999,485.3766666666667,403.15,541.7366666666667,394.4166666666667,405.4666666666667,564.5066666666667,347.40000000000003,576.6266666666667,573.77,261.96999999999997,509.08666666666676,255.52999999999997,538.92,160.67,360.52000000000004,453.51,148.81,150.9,533.27,559.4733333333334,691.6,375.9633333333333,525.665,524.17,166.72,327.8633333333333,191.86333333333334,529.06,526.11,271.43,544.4166666666666,419.60999999999996,425.7366666666667,457.45666666666665,572.72,477.64,488.90000000000003,439.51666666666665,494.41499999999996,526.5433333333334,319.17333333333335,406.1,440.64,630.315,421.66,285.72,574.56,512.55,669.88,484.81,664.64,146.475,568.1933333333333,358.42,663.4066666666666,390.055,223.935,618.83,587.74,643.6899999999999,639.125,454.1,370.33,449.965,434.6366666666666,417.89,168.13,482.56,563.39,518.1833333333333,436.56,416.16333333333336,414.18,344.01666666666665,234.54000000000002,417.26,486.6133333333334,479.06000000000006,473.25,668.565,447.095,375.23333333333335,493.6133333333333,323.21666666666664,215.1,183.3,367.01666666666665,536.225,500.53,234.38,231.01,210.60333333333332,339.60999999999996,379.96,579.65,449.9833333333333,385.09999999999997,583.72,404.83500000000004,298.945,455.83000000000004,374.435,360.245,505.53000000000003,407.01,316.78499999999997,419.01,311.1333333333333,227.645,265.07666666666665,565.98,408.24,507.20666666666665,359.0,176.55,319.06,447.8933333333334,691.91,322.28999999999996,245.23333333333332,211.94,271.06,363.4066666666666,516.7933333333334,277.965,681.68,619.3,447.49,202.53,604.41,415.00666666666666,389.38000000000005,355.26,404.57,245.45,336.15000000000003,376.68,317.5333333333333,180.65,408.47,585.92,252.78,540.8066666666667,379.78999999999996,653.0450000000001,451.8,503.42,367.28499999999997,549.89,360.6666666666667,361.83,442.75333333333333,505.89500000000004,459.87000000000006,435.6700000000001,345.48,498.7333333333333,643.88,469.52666666666664,413.78,404.99,471.06,629.75,191.0,293.05999999999995,402.8066666666667,529.5966666666667,404.565,417.18,402.23333333333335,467.64000000000004,525.53,425.63,289.15333333333336,645.07,420.275,377.2,455.19,451.74,460.2,392.07,659.27,570.1899999999999,524.34,343.645,486.79333333333335,682.98,370.5,520.7266666666666,438.655,621.94,458.03499999999997,339.4,241.99,361.53000000000003,405.66999999999996,651.91,419.49333333333334,359.18333333333334,220.17000000000002,400.19,504.8999999999999,479.36,327.99,206.82,676.64,293.985,151.21,698.12,454.275,370.115,225.94,455.95500000000004,273.1933333333333,314.16499999999996,565.32,417.02,356.46000000000004,531.3000000000001,390.9466666666667,251.38666666666668,413.73,260.90999999999997,292.48,418.54,331.40666666666664,414.63,549.9533333333333,386.92,481.84499999999997,194.61333333333334,115.92,370.51000000000005,635.6,472.78,379.2166666666667,393.66,389.8633333333334,638.615,184.07,531.77,557.2566666666667,113.48,368.095,392.40999999999997,417.285,578.025,225.80666666666664,648.58,333.28000000000003,429.2633333333333,597.85,223.85,106.6,436.07,624.33,458.45,504.66499999999996,435.04333333333335,329.88,279.76666666666665,371.25,379.54999999999995,340.06666666666666,449.84666666666664,548.6433333333333,539.54,235.01,361.91,458.11,375.68666666666667,393.0933333333333,461.96999999999997,247.84,610.5550000000001,444.75,316.58,427.66999999999996,182.09,449.6066666666666,549.4549999999999,586.635,573.3866666666667,249.8,472.99333333333334,420.05,614.25,349.56,462.7033333333334,571.8933333333333,589.4399999999999,474.095,425.77,238.01,172.34,146.17,435.845,534.86,139.21,381.43,480.40333333333336,631.59,307.97999999999996,392.40999999999997,546.09,663.44,579.27,698.76,460.37,435.1966666666667,682.33,560.96,448.67333333333335,229.775,320.9633333333333,240.16,142.99,493.2966666666666,394.37,645.895,153.65,581.62,380.44,487.6566666666667,239.0,665.64,487.34666666666664,238.4,250.02333333333334,370.84666666666664,681.46,668.46,446.3433333333334,561.2750000000001,372.1666666666667,404.07666666666665,448.05,415.685,259.36,430.48,658.7933333333334,486.83,273.63,314.73,490.78999999999996,215.37,352.82,498.71999999999997,455.44,476.75,506.81,374.83000000000004,600.2366666666667,618.5833333333334,576.2566666666667,536.4,436.84,478.7166666666667,374.83,418.62,599.28,279.15500000000003,272.22,604.4350000000001,479.09,420.09,567.91,385.405,576.28,417.345,435.365,662.34,512.73,140.7,348.63000000000005,443.1266666666666,127.45,678.505,681.33,549.79,391.505,114.75,228.72,393.19,562.24,413.90000000000003,508.27,412.53,399.33500000000004,416.81333333333333,492.24,190.63,537.785,442.48,338.56,264.53,542.995,400.7633333333333,329.84000000000003,321.12,618.61,458.7233333333333,618.565,609.71,437.03000000000003,411.015,512.2733333333333,197.745,396.60999999999996,394.96,318.855,261.4,445.9633333333333,106.97,322.31,392.505,516.99,616.99,281.035,162.96,407.57666666666665,460.11,387.71000000000004,295.88,410.63,227.67333333333332,267.65,411.27666666666664,425.22,206.615,408.23333333333335,421.45500000000004,500.11,622.58,579.745,471.28499999999997,417.48,496.77666666666664,513.6466666666666,211.15,434.40000000000003,439.73,459.43666666666667,487.8866666666667,492.43499999999995,498.27,508.14,143.32,283.5233333333333,620.96,512.4066666666666,307.56,413.0933333333333,510.20000000000005,488.575,572.4999999999999,385.755,482.5333333333333,432.5833333333333,529.49,398.58666666666664,534.6866666666666,455.3866666666667,367.18,408.89,410.655,291.38,493.265,484.41,455.205,331.95,197.975,382.03,597.33,358.53,384.76,387.15000000000003,186.285,508.29999999999995,619.95,465.22333333333336,167.15,223.05,418.7,661.96,256.06666666666666,660.33,372.015,181.975,524.6700000000001,671.09,577.11,372.84,467.59666666666664,183.79,341.84999999999997,221.11,504.06,681.95,156.34,503.56,518.5699999999999,206.29,628.4066666666666,479.125,571.025,439.72333333333336,534.815,387.02,416.47,538.2933333333333,545.34,440.21,537.5533333333334,296.22,580.88,543.58,172.13,308.3,319.88,452.49,348.29333333333335,323.95,215.14,511.56333333333333,377.985,505.65333333333336,282.75333333333333,339.29,448.1,467.45000000000005,592.5299999999999,673.31,189.205,443.9466666666667,246.09,517.68,310.97,160.85,338.83666666666664,458.095,380.14,522.945,294.9433333333333,342.07333333333327,415.1,369.78,490.69666666666666,511.865,430.14,327.96999999999997,590.905,519.6266666666667,227.23,466.59,500.27,431.39333333333326,568.32,454.225,354.24,500.53,340.82000000000005,371.06,351.39,604.9,200.55000000000004,499.72,428.02,311.855,456.69,398.06,497.20666666666665,374.755,613.59,324.7033333333333,447.03,264.5,147.65,367.67333333333335,294.02,235.99,252.325,410.74,464.09666666666664,434.9666666666667,425.745,576.0833333333334,538.39,379.12,449.3500000000001,205.18,392.28,349.91,456.12,563.11,656.31,240.79,442.1766666666667,565.085,605.22,412.57,474.15,327.75333333333333,607.4300000000001,342.9433333333333,275.5133333333334,492.5866666666666,422.28999999999996,555.525,571.735,610.85,225.11,439.09000000000003,590.47,328.37,643.7233333333334,453.41499999999996,270.17,376.24666666666667,621.1466666666666,423.36,547.9449999999999,536.3199999999999,348.5466666666667,187.82,320.52,153.195,462.8966666666667,544.495,370.39,370.5366666666667,430.49666666666667,332.16,435.8999999999999,480.6333333333334,233.89666666666668,246.3,515.3,137.38,576.835,553.755,283.75,470.28,292.03999999999996,525.915,328.6366666666667,593.345,372.63000000000005,275.165,364.77666666666664,285.85999999999996,537.0533333333333,675.75,362.4433333333333,514.62,280.6066666666666,443.61,385.61,379.2966666666667,659.82,455.69,409.41333333333336,489.5466666666666,376.89,482.32,591.34,500.18,139.99,414.5333333333333,380.1566666666667,365.335,164.42333333333332,673.9,410.79333333333335,309.82,457.57666666666665,206.755,552.4,206.96666666666667,680.72,444.4,426.98,321.75,564.78,486.34,418.18,428.13,547.6333333333333,461.13,561.7833333333333,493.89,176.86,504.905,234.77,366.275,363.64,492.67666666666673,374.51,482.8666666666666,658.6966666666667,251.34,553.03,539.5366666666667,455.3433333333334,626.75,201.27666666666664,535.59,434.39,528.9649999999999,506.41,366.775,501.17,587.4766666666666,311.485,329.83,695.09,275.205,445.17,539.84,469.59,288.02,526.41,103.14,363.89,409.46500000000003,463.92,261.345,686.895,441.1333333333334,507.49,457.47,328.99333333333334,576.52,365.7633333333333,390.76666666666665,478.46000000000004,569.435,453.46,260.1033333333333,460.74,536.0466666666666,301.295,296.92,360.41,217.765,599.7833333333333,597.7049999999999,442.23,396.10999999999996,492.4333333333334,452.66,289.015,233.21499999999997,359.1266666666666,370.045,459.26,513.4866666666667,482.0933333333333,180.09,367.56,404.995,464.1166666666666,432.7266666666667,494.17,673.97,141.37,134.23,291.50666666666666,643.75,281.45,530.5033333333333,290.88,333.87333333333333,326.5,352.535,450.42,625.41,279.5733333333333,527.0633333333334,492.5,354.03,542.2266666666666,256.30333333333334,267.885,548.55,316.445,463.45666666666665,524.7,350.0466666666666,320.14,626.2733333333332,438.34,307.31,488.96000000000004,131.17,571.77,258.27,454.6033333333333,222.93,658.9333333333334,332.01,490.1666666666667,283.74,559.375,305.985,568.665,328.25,647.03,336.18,575.71,488.655,483.16499999999996,454.5466666666666,517.54,458.01,614.31,479.915,398.5833333333333,479.8333333333333,302.725,449.57,582.16,566.7,547.2933333333334,480.8,428.4066666666667,280.25,499.025,415.895,400.67499999999995,576.9433333333333,526.15,288.61,512.84,370.12,464.8666666666666,204.26,586.4000000000001,160.38,239.55,308.76,370.21,544.995,496.2833333333333,382.77,687.46,420.65333333333336,295.06,319.50333333333333,613.44,402.0333333333333,526.11,339.45666666666665,119.91,282.37,491.9,648.4466666666667,561.03,256.17,598.3800000000001,436.26,337.01,491.6566666666667,686.08,166.43,374.2266666666667,650.85,466.515,275.33,624.4200000000001,371.87,532.18,597.64,386.7033333333333,522.21,424.42,157.92,277.94666666666666,394.885,401.40333333333336,128.89,641.74,555.99,635.38,204.29,243.71,576.75,310.24,697.26,538.145,432.12999999999994,357.01666666666665,501.52,589.34,410.47,369.73,564.33,573.3299999999999,440.14,478.78,439.68666666666667,333.55333333333334,551.4166666666666,503.43666666666667,325.21666666666664,375.305,180.7,449.2733333333333,391.11666666666673,334.18333333333334,128.95,201.735,259.07,581.55,443.23,407.6,457.7833333333333,296.93333333333334,380.78999999999996,624.53,483.745,462.29,351.56333333333333,346.61,644.57,459.59333333333325,594.27,673.04,371.83000000000004,331.26,254.56,403.31333333333333,274.495,373.74,315.14,371.65500000000003,408.67,501.14,507.2,326.47666666666663,589.815,575.38,351.2266666666667,270.8933333333333,373.9466666666667,311.28,329.495,446.7,571.41,408.99,453.59000000000003,546.7766666666666,614.54,529.285,387.78,460.64,487.03999999999996,200.12,358.32,434.80999999999995,238.49333333333334,509.815,297.7233333333333,286.73,509.87,447.44000000000005,467.68,312.84000000000003,116.52,403.27,678.41,224.16333333333333,332.79,180.01,489.42,273.55,429.865,505.965,572.405,668.2149999999999,499.86,357.5,304.23,333.66499999999996,453.625,540.53,293.5,252.27666666666667,492.21000000000004,346.72333333333336,366.43,436.71666666666664,696.31,576.115,441.63,376.75666666666666,344.94,482.53499999999997,614.48,420.03,491.55999999999995,372.2933333333333,527.3199999999999,558.1,529.085,453.24,325.2,383.49333333333334,331.92,449.5133333333333,584.1133333333333,596.51,558.72,583.875,217.92000000000002,561.3499999999999,501.1333333333334,412.625,447.75333333333333,386.11,553.9233333333333,180.66,322.435,449.96,475.445,470.0333333333333,597.08,217.68,595.8333333333334,185.71,581.7049999999999,495.12,608.6099999999999,335.66,294.585,309.46666666666664,309.29,506.7166666666667,433.23,313.13666666666666,533.7766666666666,130.14,267.73,277.17,396.70666666666665,525.3,493.28499999999997,401.92333333333335,521.3933333333333,465.21333333333337,401.85,369.61,389.82,461.0333333333333,593.52,508.66,185.73,439.03000000000003,359.28999999999996,296.87666666666667,346.6066666666666,406.68,339.3333333333333,314.5,421.315,289.0133333333333,458.935,455.685,635.12,477.55,441.01,447.03,401.52,442.60999999999996,668.9033333333333,521.52,246.02499999999998,428.16333333333336,316.03,511.32,340.39000000000004,371.28,349.9,593.31,443.70500000000004,494.41,446.9666666666667,449.50666666666666,361.47,441.27,483.9666666666667,408.7033333333333,320.67,175.885,457.1233333333333,279.56333333333333,111.6,286.405,418.95,457.08,267.205,678.1,435.02333333333337,589.0699999999999,457.9066666666666,361.13,403.205,209.94,275.99,461.17666666666673,236.925,279.88,611.2,487.18,594.075,381.8,252.7033333333333,247.96,494.46000000000004,284.5,670.4699999999999,633.0500000000001,257.385,245.73666666666668,529.74,188.18,559.12,397.7733333333333,443.97,381.99,604.355,176.79999999999998,375.90333333333336,479.2333333333333,384.6233333333333,449.5,426.875,268.015,308.385,353.8966666666667,658.96,245.19,676.38,561.9699999999999,632.86,373.725,362.2,324.995,492.06,635.15,666.22,569.48,686.38,554.39,316.57,531.0,444.24333333333334,197.62,439.05,562.98,278.29999999999995,105.42,314.22,471.46500000000003,368.95666666666665,467.7966666666667,321.0833333333333,359.28,331.015,524.8733333333333,438.3666666666666,626.81,583.415,468.4,368.06333333333333,493.98,254.6,438.53000000000003,232.51,147.485,437.59499999999997,494.885,448.97,440.0133333333333,555.27,439.2633333333333,585.0233333333334,484.18,363.745,280.31,359.9866666666667,436.67333333333335,345.65,586.53,475.405,516.17,562.67,469.76,423.46,282.38666666666666,393.02500000000003,249.975,298.145,484.765,307.445,238.25,472.8666666666666,234.58,584.01,343.50666666666666,583.82,208.97,549.2466666666667,559.7966666666666,454.38,346.84000000000003,426.7,387.99,596.6566666666666,217.325,455.84,555.4,161.51,408.31,495.55,582.415,552.7433333333333,552.075,521.8966666666666,217.14,307.21,567.4699999999999,531.39,558.005,399.2833333333333,460.64,308.45666666666665,627.185,362.6,406.95,599.4533333333333,388.31666666666666,501.71000000000004,349.52666666666664,399.8033333333333,473.44,565.815,422.75,646.675,107.29,388.27666666666664,272.58,389.5433333333333,300.43,374.45,445.855,460.46500000000003,285.92333333333335,584.8666666666667,374.385,351.0,359.3633333333333,337.5,439.36,334.42,430.84999999999997,506.3666666666666,307.91,323.57,331.51,375.8833333333334,463.16333333333336,398.19000000000005,396.2866666666667,399.77,109.07,489.775,539.8,372.1333333333334,564.13,374.82666666666665,666.84,497.7666666666666,527.1,334.63,251.86,547.3499999999999,496.65,213.12,619.84,158.065,360.15,155.58,549.03,648.73,358.76000000000005,397.72333333333336,467.98,452.0833333333333,366.95666666666665,333.50333333333333,279.8866666666667,281.44,526.8399999999999,351.20500000000004,652.3466666666667,651.71,405.59666666666664,545.73,502.81,405.40333333333336,461.83500000000004,439.8633333333334,514.9733333333334,478.15,409.6233333333333,365.53,463.25333333333333,594.85,345.89,221.89,292.645,394.66,434.755,499.18666666666667,249.37333333333333,142.3,211.39,588.77,455.2733333333333,304.695,354.485,392.73,479.7,535.51,460.12999999999994,559.025,418.66499999999996,408.83,334.1,585.7249999999999,634.005,549.01,439.93,335.9866666666667,402.065,190.29999999999998,531.24,415.0733333333333,150.13,348.48,273.56333333333333,347.47499999999997,380.92999999999995,259.63,261.125,559.9433333333333,349.47,466.59,387.155,400.07,347.17,540.2233333333334,169.24,463.38,170.32,367.75666666666666,304.435,454.89000000000004,379.35999999999996,141.43,466.00666666666666,323.71,502.73,622.25,606.0,391.06,448.62999999999994,436.525,629.54,287.605,551.9599999999999,206.13,626.41,404.35,469.92333333333335,259.87,496.18499999999995,591.875,292.7,321.96666666666664,141.23,321.74,502.0733333333333,320.29333333333335,468.7,449.86000000000007,409.6133333333334,556.8199999999999,425.59666666666664,512.485,398.64,500.41,644.94,531.76,587.98,406.8666666666666,384.35,421.20500000000004,221.35,287.3833333333334,501.28333333333336,212.75,364.5166666666667,588.85,414.29499999999996,501.2333333333334,294.71,263.135,435.06333333333333,481.64000000000004,566.82,556.51,207.82999999999998,519.37,365.21000000000004,118.69,255.75,398.86,301.27666666666664,510.8933333333334,489.02,677.84,467.45,140.35,417.42333333333335,548.91,665.7966666666666,271.94,235.92333333333332,529.975,373.16333333333336,358.62,474.25,365.37,537.3433333333334,474.77,560.41,596.49,484.71,453.99,237.33,624.1666666666666,305.14,416.61,226.98,697.38,620.3433333333334,529.06,318.95,372.86,478.4199999999999,457.715,511.01,489.18,254.445,495.57,390.345,461.88,602.42,326.93,562.8299999999999,593.2666666666667,392.115,342.885,266.21,576.345,455.7,312.95,234.74666666666667,150.74,607.48,495.43,525.4,405.225,550.61,443.34,684.03,408.29333333333335,301.17,140.21,662.6949999999999,611.53,415.0666666666666,235.57333333333335,381.46,240.74,461.11,555.58,680.66,436.6133333333333,304.96,281.62666666666667,345.96999999999997,226.3,393.04999999999995,430.88,295.18,384.75,582.28,340.355,319.88,394.28999999999996,296.03,354.815,388.80999999999995,351.16,375.06,514.785,500.33,616.7750000000001,288.33,606.8466666666667,633.71,344.53999999999996,544.98,417.725,602.94,491.36,345.51,372.39,350.3066666666667,670.87,347.965,476.07,359.75,323.3,408.08666666666664,269.86,427.56499999999994,488.845,587.36,280.265,578.64,335.57,607.07,462.09666666666664,256.61,410.73,466.1166666666666,538.28,325.65000000000003,156.27,547.0600000000001,224.46,404.1566666666666,405.30999999999995,556.35,347.68333333333334,603.94,475.195,424.48,118.28,222.67,380.3,582.72,345.61000000000007,300.825,508.21000000000004,180.695,330.95500000000004,310.49666666666667,391.81,204.1,327.85,580.87,335.26,387.875,427.90999999999997,567.8000000000001,261.04499999999996,407.48333333333335,427.905,237.555,645.8466666666667,259.3,466.88,507.1,555.9,612.175,266.48,498.495,419.84999999999997,608.84,287.13,305.67333333333335,256.63,478.385,461.365,323.51,422.135,155.42,352.4,460.565,409.47,409.24333333333334,550.71,524.5250000000001,642.62,459.3433333333334,190.8,447.415,569.8433333333334,491.91999999999996,363.99333333333334,210.78,453.9333333333334,171.93,504.915,349.4766666666667,457.65,276.3,559.735,448.085,615.5733333333333,557.7366666666667,339.71,226.285,613.26,162.67,365.24333333333334,483.58000000000004,413.52333333333337,332.35,315.67,347.145,495.4,545.7266666666667,681.83,358.74,308.51,130.21,131.66,408.6266666666667,385.04499999999996,406.05499999999995,618.275,386.41,339.015,401.9266666666667,340.03666666666663,421.96,614.605,378.12,404.23,563.1700000000001,316.5366666666667,491.09,437.31,359.96000000000004,362.7,605.08,329.76,543.6366666666667,420.58500000000004,276.55333333333334,482.7633333333333,264.61,366.5133333333333,259.1933333333333,466.8833333333334,401.46,631.88,456.99,680.215,504.57,471.68500000000006,487.62,357.07,591.79,187.86,576.9133333333333,368.1,474.87,606.53,424.435,374.68,196.86333333333334,601.1833333333333,447.25,502.66,650.655,340.13,439.77,429.83000000000004,523.5500000000001,172.23,460.91499999999996,363.8633333333333,414.1,196.14,202.56,548.0133333333333,150.48,235.32333333333335,504.25,217.44000000000003,667.89,380.4066666666666,655.88,266.075,123.64,444.37,335.74,117.19,303.365,572.42,229.005,420.81,491.98,510.36999999999995,324.83,338.6433333333334,616.405,386.8733333333333,432.73,361.255,411.26,414.08000000000004,130.78,395.52,357.95,350.50666666666666,538.23,556.1,247.59666666666666,316.64,345.07,507.82,152.405,335.15,439.7533333333333,541.6533333333333,283.185,398.17666666666656,595.64,512.2233333333334,193.79,542.77,393.80999999999995,447.145,468.385,656.3299999999999,495.65,480.0,380.61,434.16999999999996,352.33000000000004,438.54,440.63,622.69,433.71,456.15333333333336,404.01500000000004,510.80999999999995,379.07666666666665,352.2066666666667,620.895,476.365,506.22,510.705,389.40333333333336,423.455,443.5366666666667,548.25,208.6,450.6166666666666,357.4266666666667,547.22,364.19,108.21,206.94000000000003,478.83,355.84,428.89,204.79,412.92499999999995,429.715,634.23,461.55,172.785,407.565,522.155,382.40000000000003,436.66333333333336,607.0966666666667,507.78,667.55,277.49,206.92000000000002,230.73,497.1,382.02,440.695,491.49,247.67999999999998,649.9749999999999,350.96500000000003,515.49,299.41,313.96,294.87,608.24],\"xaxis\":\"x2\",\"yaxis\":\"y2\",\"type\":\"box\"}],                        {\"template\":{\"data\":{\"histogram2dcontour\":[{\"type\":\"histogram2dcontour\",\"colorbar\":{\"outlinewidth\":0,\"ticks\":\"\"},\"colorscale\":[[0.0,\"#0d0887\"],[0.1111111111111111,\"#46039f\"],[0.2222222222222222,\"#7201a8\"],[0.3333333333333333,\"#9c179e\"],[0.4444444444444444,\"#bd3786\"],[0.5555555555555556,\"#d8576b\"],[0.6666666666666666,\"#ed7953\"],[0.7777777777777778,\"#fb9f3a\"],[0.8888888888888888,\"#fdca26\"],[1.0,\"#f0f921\"]]}],\"choropleth\":[{\"type\":\"choropleth\",\"colorbar\":{\"outlinewidth\":0,\"ticks\":\"\"}}],\"histogram2d\":[{\"type\":\"histogram2d\",\"colorbar\":{\"outlinewidth\":0,\"ticks\":\"\"},\"colorscale\":[[0.0,\"#0d0887\"],[0.1111111111111111,\"#46039f\"],[0.2222222222222222,\"#7201a8\"],[0.3333333333333333,\"#9c179e\"],[0.4444444444444444,\"#bd3786\"],[0.5555555555555556,\"#d8576b\"],[0.6666666666666666,\"#ed7953\"],[0.7777777777777778,\"#fb9f3a\"],[0.8888888888888888,\"#fdca26\"],[1.0,\"#f0f921\"]]}],\"heatmap\":[{\"type\":\"heatmap\",\"colorbar\":{\"outlinewidth\":0,\"ticks\":\"\"},\"colorscale\":[[0.0,\"#0d0887\"],[0.1111111111111111,\"#46039f\"],[0.2222222222222222,\"#7201a8\"],[0.3333333333333333,\"#9c179e\"],[0.4444444444444444,\"#bd3786\"],[0.5555555555555556,\"#d8576b\"],[0.6666666666666666,\"#ed7953\"],[0.7777777777777778,\"#fb9f3a\"],[0.8888888888888888,\"#fdca26\"],[1.0,\"#f0f921\"]]}],\"heatmapgl\":[{\"type\":\"heatmapgl\",\"colorbar\":{\"outlinewidth\":0,\"ticks\":\"\"},\"colorscale\":[[0.0,\"#0d0887\"],[0.1111111111111111,\"#46039f\"],[0.2222222222222222,\"#7201a8\"],[0.3333333333333333,\"#9c179e\"],[0.4444444444444444,\"#bd3786\"],[0.5555555555555556,\"#d8576b\"],[0.6666666666666666,\"#ed7953\"],[0.7777777777777778,\"#fb9f3a\"],[0.8888888888888888,\"#fdca26\"],[1.0,\"#f0f921\"]]}],\"contourcarpet\":[{\"type\":\"contourcarpet\",\"colorbar\":{\"outlinewidth\":0,\"ticks\":\"\"}}],\"contour\":[{\"type\":\"contour\",\"colorbar\":{\"outlinewidth\":0,\"ticks\":\"\"},\"colorscale\":[[0.0,\"#0d0887\"],[0.1111111111111111,\"#46039f\"],[0.2222222222222222,\"#7201a8\"],[0.3333333333333333,\"#9c179e\"],[0.4444444444444444,\"#bd3786\"],[0.5555555555555556,\"#d8576b\"],[0.6666666666666666,\"#ed7953\"],[0.7777777777777778,\"#fb9f3a\"],[0.8888888888888888,\"#fdca26\"],[1.0,\"#f0f921\"]]}],\"surface\":[{\"type\":\"surface\",\"colorbar\":{\"outlinewidth\":0,\"ticks\":\"\"},\"colorscale\":[[0.0,\"#0d0887\"],[0.1111111111111111,\"#46039f\"],[0.2222222222222222,\"#7201a8\"],[0.3333333333333333,\"#9c179e\"],[0.4444444444444444,\"#bd3786\"],[0.5555555555555556,\"#d8576b\"],[0.6666666666666666,\"#ed7953\"],[0.7777777777777778,\"#fb9f3a\"],[0.8888888888888888,\"#fdca26\"],[1.0,\"#f0f921\"]]}],\"mesh3d\":[{\"type\":\"mesh3d\",\"colorbar\":{\"outlinewidth\":0,\"ticks\":\"\"}}],\"scatter\":[{\"fillpattern\":{\"fillmode\":\"overlay\",\"size\":10,\"solidity\":0.2},\"type\":\"scatter\"}],\"parcoords\":[{\"type\":\"parcoords\",\"line\":{\"colorbar\":{\"outlinewidth\":0,\"ticks\":\"\"}}}],\"scatterpolargl\":[{\"type\":\"scatterpolargl\",\"marker\":{\"colorbar\":{\"outlinewidth\":0,\"ticks\":\"\"}}}],\"bar\":[{\"error_x\":{\"color\":\"#2a3f5f\"},\"error_y\":{\"color\":\"#2a3f5f\"},\"marker\":{\"line\":{\"color\":\"#E5ECF6\",\"width\":0.5},\"pattern\":{\"fillmode\":\"overlay\",\"size\":10,\"solidity\":0.2}},\"type\":\"bar\"}],\"scattergeo\":[{\"type\":\"scattergeo\",\"marker\":{\"colorbar\":{\"outlinewidth\":0,\"ticks\":\"\"}}}],\"scatterpolar\":[{\"type\":\"scatterpolar\",\"marker\":{\"colorbar\":{\"outlinewidth\":0,\"ticks\":\"\"}}}],\"histogram\":[{\"marker\":{\"pattern\":{\"fillmode\":\"overlay\",\"size\":10,\"solidity\":0.2}},\"type\":\"histogram\"}],\"scattergl\":[{\"type\":\"scattergl\",\"marker\":{\"colorbar\":{\"outlinewidth\":0,\"ticks\":\"\"}}}],\"scatter3d\":[{\"type\":\"scatter3d\",\"line\":{\"colorbar\":{\"outlinewidth\":0,\"ticks\":\"\"}},\"marker\":{\"colorbar\":{\"outlinewidth\":0,\"ticks\":\"\"}}}],\"scattermapbox\":[{\"type\":\"scattermapbox\",\"marker\":{\"colorbar\":{\"outlinewidth\":0,\"ticks\":\"\"}}}],\"scatterternary\":[{\"type\":\"scatterternary\",\"marker\":{\"colorbar\":{\"outlinewidth\":0,\"ticks\":\"\"}}}],\"scattercarpet\":[{\"type\":\"scattercarpet\",\"marker\":{\"colorbar\":{\"outlinewidth\":0,\"ticks\":\"\"}}}],\"carpet\":[{\"aaxis\":{\"endlinecolor\":\"#2a3f5f\",\"gridcolor\":\"white\",\"linecolor\":\"white\",\"minorgridcolor\":\"white\",\"startlinecolor\":\"#2a3f5f\"},\"baxis\":{\"endlinecolor\":\"#2a3f5f\",\"gridcolor\":\"white\",\"linecolor\":\"white\",\"minorgridcolor\":\"white\",\"startlinecolor\":\"#2a3f5f\"},\"type\":\"carpet\"}],\"table\":[{\"cells\":{\"fill\":{\"color\":\"#EBF0F8\"},\"line\":{\"color\":\"white\"}},\"header\":{\"fill\":{\"color\":\"#C8D4E3\"},\"line\":{\"color\":\"white\"}},\"type\":\"table\"}],\"barpolar\":[{\"marker\":{\"line\":{\"color\":\"#E5ECF6\",\"width\":0.5},\"pattern\":{\"fillmode\":\"overlay\",\"size\":10,\"solidity\":0.2}},\"type\":\"barpolar\"}],\"pie\":[{\"automargin\":true,\"type\":\"pie\"}]},\"layout\":{\"autotypenumbers\":\"strict\",\"colorway\":[\"#636efa\",\"#EF553B\",\"#00cc96\",\"#ab63fa\",\"#FFA15A\",\"#19d3f3\",\"#FF6692\",\"#B6E880\",\"#FF97FF\",\"#FECB52\"],\"font\":{\"color\":\"#2a3f5f\"},\"hovermode\":\"closest\",\"hoverlabel\":{\"align\":\"left\"},\"paper_bgcolor\":\"white\",\"plot_bgcolor\":\"#E5ECF6\",\"polar\":{\"bgcolor\":\"#E5ECF6\",\"angularaxis\":{\"gridcolor\":\"white\",\"linecolor\":\"white\",\"ticks\":\"\"},\"radialaxis\":{\"gridcolor\":\"white\",\"linecolor\":\"white\",\"ticks\":\"\"}},\"ternary\":{\"bgcolor\":\"#E5ECF6\",\"aaxis\":{\"gridcolor\":\"white\",\"linecolor\":\"white\",\"ticks\":\"\"},\"baxis\":{\"gridcolor\":\"white\",\"linecolor\":\"white\",\"ticks\":\"\"},\"caxis\":{\"gridcolor\":\"white\",\"linecolor\":\"white\",\"ticks\":\"\"}},\"coloraxis\":{\"colorbar\":{\"outlinewidth\":0,\"ticks\":\"\"}},\"colorscale\":{\"sequential\":[[0.0,\"#0d0887\"],[0.1111111111111111,\"#46039f\"],[0.2222222222222222,\"#7201a8\"],[0.3333333333333333,\"#9c179e\"],[0.4444444444444444,\"#bd3786\"],[0.5555555555555556,\"#d8576b\"],[0.6666666666666666,\"#ed7953\"],[0.7777777777777778,\"#fb9f3a\"],[0.8888888888888888,\"#fdca26\"],[1.0,\"#f0f921\"]],\"sequentialminus\":[[0.0,\"#0d0887\"],[0.1111111111111111,\"#46039f\"],[0.2222222222222222,\"#7201a8\"],[0.3333333333333333,\"#9c179e\"],[0.4444444444444444,\"#bd3786\"],[0.5555555555555556,\"#d8576b\"],[0.6666666666666666,\"#ed7953\"],[0.7777777777777778,\"#fb9f3a\"],[0.8888888888888888,\"#fdca26\"],[1.0,\"#f0f921\"]],\"diverging\":[[0,\"#8e0152\"],[0.1,\"#c51b7d\"],[0.2,\"#de77ae\"],[0.3,\"#f1b6da\"],[0.4,\"#fde0ef\"],[0.5,\"#f7f7f7\"],[0.6,\"#e6f5d0\"],[0.7,\"#b8e186\"],[0.8,\"#7fbc41\"],[0.9,\"#4d9221\"],[1,\"#276419\"]]},\"xaxis\":{\"gridcolor\":\"white\",\"linecolor\":\"white\",\"ticks\":\"\",\"title\":{\"standoff\":15},\"zerolinecolor\":\"white\",\"automargin\":true,\"zerolinewidth\":2},\"yaxis\":{\"gridcolor\":\"white\",\"linecolor\":\"white\",\"ticks\":\"\",\"title\":{\"standoff\":15},\"zerolinecolor\":\"white\",\"automargin\":true,\"zerolinewidth\":2},\"scene\":{\"xaxis\":{\"backgroundcolor\":\"#E5ECF6\",\"gridcolor\":\"white\",\"linecolor\":\"white\",\"showbackground\":true,\"ticks\":\"\",\"zerolinecolor\":\"white\",\"gridwidth\":2},\"yaxis\":{\"backgroundcolor\":\"#E5ECF6\",\"gridcolor\":\"white\",\"linecolor\":\"white\",\"showbackground\":true,\"ticks\":\"\",\"zerolinecolor\":\"white\",\"gridwidth\":2},\"zaxis\":{\"backgroundcolor\":\"#E5ECF6\",\"gridcolor\":\"white\",\"linecolor\":\"white\",\"showbackground\":true,\"ticks\":\"\",\"zerolinecolor\":\"white\",\"gridwidth\":2}},\"shapedefaults\":{\"line\":{\"color\":\"#2a3f5f\"}},\"annotationdefaults\":{\"arrowcolor\":\"#2a3f5f\",\"arrowhead\":0,\"arrowwidth\":1},\"geo\":{\"bgcolor\":\"white\",\"landcolor\":\"#E5ECF6\",\"subunitcolor\":\"white\",\"showland\":true,\"showlakes\":true,\"lakecolor\":\"white\"},\"title\":{\"x\":0.05},\"mapbox\":{\"style\":\"light\"}}},\"xaxis\":{\"anchor\":\"y\",\"domain\":[0.0,1.0],\"title\":{\"text\":\"avg_order_value\"}},\"yaxis\":{\"anchor\":\"x\",\"domain\":[0.0,0.8316],\"title\":{\"text\":\"count\"}},\"xaxis2\":{\"anchor\":\"y2\",\"domain\":[0.0,1.0],\"matches\":\"x\",\"showticklabels\":false,\"showgrid\":true},\"yaxis2\":{\"anchor\":\"x2\",\"domain\":[0.8416,1.0],\"matches\":\"y2\",\"showticklabels\":false,\"showline\":false,\"ticks\":\"\",\"showgrid\":false},\"legend\":{\"tracegroupgap\":0},\"title\":{\"text\":\"\\ud83d\\udcb0 Distribution of Average Order Value\"},\"barmode\":\"relative\"},                        {\"responsive\": true}                    ).then(function(){\n",
       "                            \n",
       "var gd = document.getElementById('48b67c99-ae12-414d-ade4-898b8c010af2');\n",
       "var x = new MutationObserver(function (mutations, observer) {{\n",
       "        var display = window.getComputedStyle(gd).display;\n",
       "        if (!display || display === 'none') {{\n",
       "            console.log([gd, 'removed!']);\n",
       "            Plotly.purge(gd);\n",
       "            observer.disconnect();\n",
       "        }}\n",
       "}});\n",
       "\n",
       "// Listen for the removal of the full notebook cells\n",
       "var notebookContainer = gd.closest('#notebook-container');\n",
       "if (notebookContainer) {{\n",
       "    x.observe(notebookContainer, {childList: true});\n",
       "}}\n",
       "\n",
       "// Listen for the clearing of the current output cell\n",
       "var outputEl = gd.closest('.output');\n",
       "if (outputEl) {{\n",
       "    x.observe(outputEl, {childList: true});\n",
       "}}\n",
       "\n",
       "                        })                };                });            </script>        </div>"
      ]
     },
     "metadata": {},
     "output_type": "display_data"
    },
    {
     "data": {
      "application/vnd.plotly.v1+json": {
       "config": {
        "plotlyServerURL": "https://plot.ly"
       },
       "data": [
        {
         "alignmentgroup": "True",
         "hovertemplate": "city=%{x}<br>User Count=%{y}<br>Avg Order Value=%{marker.color}<extra></extra>",
         "legendgroup": "",
         "marker": {
          "color": [
           407.886987654321,
           433.22927648578815,
           434.8500651041667,
           438.69885416666665,
           441.4280708661417,
           436.0970341207349,
           417.5971522309711,
           408.68253443526174,
           396.68354341736693,
           416.70635854341737,
           428.7711764705882,
           406.92168128654976,
           402.97970501474924,
           411.13497023809526,
           416.0747897897898
          ],
          "coloraxis": "coloraxis",
          "pattern": {
           "shape": ""
          }
         },
         "name": "",
         "offsetgroup": "",
         "orientation": "v",
         "showlegend": false,
         "text": [
          407.886987654321,
          433.22927648578815,
          434.8500651041667,
          438.69885416666665,
          441.4280708661417,
          436.0970341207349,
          417.5971522309711,
          408.68253443526174,
          396.68354341736693,
          416.70635854341737,
          428.7711764705882,
          406.92168128654976,
          402.97970501474924,
          411.13497023809526,
          416.0747897897898
         ],
         "textposition": "auto",
         "type": "bar",
         "x": [
          "Visakhapatnam",
          "Bengaluru",
          "Ahmedabad",
          "Nagpur",
          "Indore",
          "Lucknow",
          "Pune",
          "Jaipur",
          "Bhopal",
          "Delhi",
          "Mumbai",
          "Surat",
          "Kolkata",
          "Chennai",
          "Kanpur"
         ],
         "xaxis": "x",
         "y": [
          135,
          129,
          128,
          128,
          127,
          127,
          127,
          121,
          119,
          119,
          119,
          114,
          113,
          112,
          111
         ],
         "yaxis": "y"
        }
       ],
       "layout": {
        "barmode": "relative",
        "coloraxis": {
         "colorbar": {
          "title": {
           "text": "Avg Order Value"
          }
         },
         "colorscale": [
          [
           0,
           "#440154"
          ],
          [
           0.1111111111111111,
           "#482878"
          ],
          [
           0.2222222222222222,
           "#3e4989"
          ],
          [
           0.3333333333333333,
           "#31688e"
          ],
          [
           0.4444444444444444,
           "#26828e"
          ],
          [
           0.5555555555555556,
           "#1f9e89"
          ],
          [
           0.6666666666666666,
           "#35b779"
          ],
          [
           0.7777777777777778,
           "#6ece58"
          ],
          [
           0.8888888888888888,
           "#b5de2b"
          ],
          [
           1,
           "#fde725"
          ]
         ]
        },
        "legend": {
         "tracegroupgap": 0
        },
        "template": {
         "data": {
          "bar": [
           {
            "error_x": {
             "color": "#2a3f5f"
            },
            "error_y": {
             "color": "#2a3f5f"
            },
            "marker": {
             "line": {
              "color": "#E5ECF6",
              "width": 0.5
             },
             "pattern": {
              "fillmode": "overlay",
              "size": 10,
              "solidity": 0.2
             }
            },
            "type": "bar"
           }
          ],
          "barpolar": [
           {
            "marker": {
             "line": {
              "color": "#E5ECF6",
              "width": 0.5
             },
             "pattern": {
              "fillmode": "overlay",
              "size": 10,
              "solidity": 0.2
             }
            },
            "type": "barpolar"
           }
          ],
          "carpet": [
           {
            "aaxis": {
             "endlinecolor": "#2a3f5f",
             "gridcolor": "white",
             "linecolor": "white",
             "minorgridcolor": "white",
             "startlinecolor": "#2a3f5f"
            },
            "baxis": {
             "endlinecolor": "#2a3f5f",
             "gridcolor": "white",
             "linecolor": "white",
             "minorgridcolor": "white",
             "startlinecolor": "#2a3f5f"
            },
            "type": "carpet"
           }
          ],
          "choropleth": [
           {
            "colorbar": {
             "outlinewidth": 0,
             "ticks": ""
            },
            "type": "choropleth"
           }
          ],
          "contour": [
           {
            "colorbar": {
             "outlinewidth": 0,
             "ticks": ""
            },
            "colorscale": [
             [
              0,
              "#0d0887"
             ],
             [
              0.1111111111111111,
              "#46039f"
             ],
             [
              0.2222222222222222,
              "#7201a8"
             ],
             [
              0.3333333333333333,
              "#9c179e"
             ],
             [
              0.4444444444444444,
              "#bd3786"
             ],
             [
              0.5555555555555556,
              "#d8576b"
             ],
             [
              0.6666666666666666,
              "#ed7953"
             ],
             [
              0.7777777777777778,
              "#fb9f3a"
             ],
             [
              0.8888888888888888,
              "#fdca26"
             ],
             [
              1,
              "#f0f921"
             ]
            ],
            "type": "contour"
           }
          ],
          "contourcarpet": [
           {
            "colorbar": {
             "outlinewidth": 0,
             "ticks": ""
            },
            "type": "contourcarpet"
           }
          ],
          "heatmap": [
           {
            "colorbar": {
             "outlinewidth": 0,
             "ticks": ""
            },
            "colorscale": [
             [
              0,
              "#0d0887"
             ],
             [
              0.1111111111111111,
              "#46039f"
             ],
             [
              0.2222222222222222,
              "#7201a8"
             ],
             [
              0.3333333333333333,
              "#9c179e"
             ],
             [
              0.4444444444444444,
              "#bd3786"
             ],
             [
              0.5555555555555556,
              "#d8576b"
             ],
             [
              0.6666666666666666,
              "#ed7953"
             ],
             [
              0.7777777777777778,
              "#fb9f3a"
             ],
             [
              0.8888888888888888,
              "#fdca26"
             ],
             [
              1,
              "#f0f921"
             ]
            ],
            "type": "heatmap"
           }
          ],
          "heatmapgl": [
           {
            "colorbar": {
             "outlinewidth": 0,
             "ticks": ""
            },
            "colorscale": [
             [
              0,
              "#0d0887"
             ],
             [
              0.1111111111111111,
              "#46039f"
             ],
             [
              0.2222222222222222,
              "#7201a8"
             ],
             [
              0.3333333333333333,
              "#9c179e"
             ],
             [
              0.4444444444444444,
              "#bd3786"
             ],
             [
              0.5555555555555556,
              "#d8576b"
             ],
             [
              0.6666666666666666,
              "#ed7953"
             ],
             [
              0.7777777777777778,
              "#fb9f3a"
             ],
             [
              0.8888888888888888,
              "#fdca26"
             ],
             [
              1,
              "#f0f921"
             ]
            ],
            "type": "heatmapgl"
           }
          ],
          "histogram": [
           {
            "marker": {
             "pattern": {
              "fillmode": "overlay",
              "size": 10,
              "solidity": 0.2
             }
            },
            "type": "histogram"
           }
          ],
          "histogram2d": [
           {
            "colorbar": {
             "outlinewidth": 0,
             "ticks": ""
            },
            "colorscale": [
             [
              0,
              "#0d0887"
             ],
             [
              0.1111111111111111,
              "#46039f"
             ],
             [
              0.2222222222222222,
              "#7201a8"
             ],
             [
              0.3333333333333333,
              "#9c179e"
             ],
             [
              0.4444444444444444,
              "#bd3786"
             ],
             [
              0.5555555555555556,
              "#d8576b"
             ],
             [
              0.6666666666666666,
              "#ed7953"
             ],
             [
              0.7777777777777778,
              "#fb9f3a"
             ],
             [
              0.8888888888888888,
              "#fdca26"
             ],
             [
              1,
              "#f0f921"
             ]
            ],
            "type": "histogram2d"
           }
          ],
          "histogram2dcontour": [
           {
            "colorbar": {
             "outlinewidth": 0,
             "ticks": ""
            },
            "colorscale": [
             [
              0,
              "#0d0887"
             ],
             [
              0.1111111111111111,
              "#46039f"
             ],
             [
              0.2222222222222222,
              "#7201a8"
             ],
             [
              0.3333333333333333,
              "#9c179e"
             ],
             [
              0.4444444444444444,
              "#bd3786"
             ],
             [
              0.5555555555555556,
              "#d8576b"
             ],
             [
              0.6666666666666666,
              "#ed7953"
             ],
             [
              0.7777777777777778,
              "#fb9f3a"
             ],
             [
              0.8888888888888888,
              "#fdca26"
             ],
             [
              1,
              "#f0f921"
             ]
            ],
            "type": "histogram2dcontour"
           }
          ],
          "mesh3d": [
           {
            "colorbar": {
             "outlinewidth": 0,
             "ticks": ""
            },
            "type": "mesh3d"
           }
          ],
          "parcoords": [
           {
            "line": {
             "colorbar": {
              "outlinewidth": 0,
              "ticks": ""
             }
            },
            "type": "parcoords"
           }
          ],
          "pie": [
           {
            "automargin": true,
            "type": "pie"
           }
          ],
          "scatter": [
           {
            "fillpattern": {
             "fillmode": "overlay",
             "size": 10,
             "solidity": 0.2
            },
            "type": "scatter"
           }
          ],
          "scatter3d": [
           {
            "line": {
             "colorbar": {
              "outlinewidth": 0,
              "ticks": ""
             }
            },
            "marker": {
             "colorbar": {
              "outlinewidth": 0,
              "ticks": ""
             }
            },
            "type": "scatter3d"
           }
          ],
          "scattercarpet": [
           {
            "marker": {
             "colorbar": {
              "outlinewidth": 0,
              "ticks": ""
             }
            },
            "type": "scattercarpet"
           }
          ],
          "scattergeo": [
           {
            "marker": {
             "colorbar": {
              "outlinewidth": 0,
              "ticks": ""
             }
            },
            "type": "scattergeo"
           }
          ],
          "scattergl": [
           {
            "marker": {
             "colorbar": {
              "outlinewidth": 0,
              "ticks": ""
             }
            },
            "type": "scattergl"
           }
          ],
          "scattermapbox": [
           {
            "marker": {
             "colorbar": {
              "outlinewidth": 0,
              "ticks": ""
             }
            },
            "type": "scattermapbox"
           }
          ],
          "scatterpolar": [
           {
            "marker": {
             "colorbar": {
              "outlinewidth": 0,
              "ticks": ""
             }
            },
            "type": "scatterpolar"
           }
          ],
          "scatterpolargl": [
           {
            "marker": {
             "colorbar": {
              "outlinewidth": 0,
              "ticks": ""
             }
            },
            "type": "scatterpolargl"
           }
          ],
          "scatterternary": [
           {
            "marker": {
             "colorbar": {
              "outlinewidth": 0,
              "ticks": ""
             }
            },
            "type": "scatterternary"
           }
          ],
          "surface": [
           {
            "colorbar": {
             "outlinewidth": 0,
             "ticks": ""
            },
            "colorscale": [
             [
              0,
              "#0d0887"
             ],
             [
              0.1111111111111111,
              "#46039f"
             ],
             [
              0.2222222222222222,
              "#7201a8"
             ],
             [
              0.3333333333333333,
              "#9c179e"
             ],
             [
              0.4444444444444444,
              "#bd3786"
             ],
             [
              0.5555555555555556,
              "#d8576b"
             ],
             [
              0.6666666666666666,
              "#ed7953"
             ],
             [
              0.7777777777777778,
              "#fb9f3a"
             ],
             [
              0.8888888888888888,
              "#fdca26"
             ],
             [
              1,
              "#f0f921"
             ]
            ],
            "type": "surface"
           }
          ],
          "table": [
           {
            "cells": {
             "fill": {
              "color": "#EBF0F8"
             },
             "line": {
              "color": "white"
             }
            },
            "header": {
             "fill": {
              "color": "#C8D4E3"
             },
             "line": {
              "color": "white"
             }
            },
            "type": "table"
           }
          ]
         },
         "layout": {
          "annotationdefaults": {
           "arrowcolor": "#2a3f5f",
           "arrowhead": 0,
           "arrowwidth": 1
          },
          "autotypenumbers": "strict",
          "coloraxis": {
           "colorbar": {
            "outlinewidth": 0,
            "ticks": ""
           }
          },
          "colorscale": {
           "diverging": [
            [
             0,
             "#8e0152"
            ],
            [
             0.1,
             "#c51b7d"
            ],
            [
             0.2,
             "#de77ae"
            ],
            [
             0.3,
             "#f1b6da"
            ],
            [
             0.4,
             "#fde0ef"
            ],
            [
             0.5,
             "#f7f7f7"
            ],
            [
             0.6,
             "#e6f5d0"
            ],
            [
             0.7,
             "#b8e186"
            ],
            [
             0.8,
             "#7fbc41"
            ],
            [
             0.9,
             "#4d9221"
            ],
            [
             1,
             "#276419"
            ]
           ],
           "sequential": [
            [
             0,
             "#0d0887"
            ],
            [
             0.1111111111111111,
             "#46039f"
            ],
            [
             0.2222222222222222,
             "#7201a8"
            ],
            [
             0.3333333333333333,
             "#9c179e"
            ],
            [
             0.4444444444444444,
             "#bd3786"
            ],
            [
             0.5555555555555556,
             "#d8576b"
            ],
            [
             0.6666666666666666,
             "#ed7953"
            ],
            [
             0.7777777777777778,
             "#fb9f3a"
            ],
            [
             0.8888888888888888,
             "#fdca26"
            ],
            [
             1,
             "#f0f921"
            ]
           ],
           "sequentialminus": [
            [
             0,
             "#0d0887"
            ],
            [
             0.1111111111111111,
             "#46039f"
            ],
            [
             0.2222222222222222,
             "#7201a8"
            ],
            [
             0.3333333333333333,
             "#9c179e"
            ],
            [
             0.4444444444444444,
             "#bd3786"
            ],
            [
             0.5555555555555556,
             "#d8576b"
            ],
            [
             0.6666666666666666,
             "#ed7953"
            ],
            [
             0.7777777777777778,
             "#fb9f3a"
            ],
            [
             0.8888888888888888,
             "#fdca26"
            ],
            [
             1,
             "#f0f921"
            ]
           ]
          },
          "colorway": [
           "#636efa",
           "#EF553B",
           "#00cc96",
           "#ab63fa",
           "#FFA15A",
           "#19d3f3",
           "#FF6692",
           "#B6E880",
           "#FF97FF",
           "#FECB52"
          ],
          "font": {
           "color": "#2a3f5f"
          },
          "geo": {
           "bgcolor": "white",
           "lakecolor": "white",
           "landcolor": "#E5ECF6",
           "showlakes": true,
           "showland": true,
           "subunitcolor": "white"
          },
          "hoverlabel": {
           "align": "left"
          },
          "hovermode": "closest",
          "mapbox": {
           "style": "light"
          },
          "paper_bgcolor": "white",
          "plot_bgcolor": "#E5ECF6",
          "polar": {
           "angularaxis": {
            "gridcolor": "white",
            "linecolor": "white",
            "ticks": ""
           },
           "bgcolor": "#E5ECF6",
           "radialaxis": {
            "gridcolor": "white",
            "linecolor": "white",
            "ticks": ""
           }
          },
          "scene": {
           "xaxis": {
            "backgroundcolor": "#E5ECF6",
            "gridcolor": "white",
            "gridwidth": 2,
            "linecolor": "white",
            "showbackground": true,
            "ticks": "",
            "zerolinecolor": "white"
           },
           "yaxis": {
            "backgroundcolor": "#E5ECF6",
            "gridcolor": "white",
            "gridwidth": 2,
            "linecolor": "white",
            "showbackground": true,
            "ticks": "",
            "zerolinecolor": "white"
           },
           "zaxis": {
            "backgroundcolor": "#E5ECF6",
            "gridcolor": "white",
            "gridwidth": 2,
            "linecolor": "white",
            "showbackground": true,
            "ticks": "",
            "zerolinecolor": "white"
           }
          },
          "shapedefaults": {
           "line": {
            "color": "#2a3f5f"
           }
          },
          "ternary": {
           "aaxis": {
            "gridcolor": "white",
            "linecolor": "white",
            "ticks": ""
           },
           "baxis": {
            "gridcolor": "white",
            "linecolor": "white",
            "ticks": ""
           },
           "bgcolor": "#E5ECF6",
           "caxis": {
            "gridcolor": "white",
            "linecolor": "white",
            "ticks": ""
           }
          },
          "title": {
           "x": 0.05
          },
          "xaxis": {
           "automargin": true,
           "gridcolor": "white",
           "linecolor": "white",
           "ticks": "",
           "title": {
            "standoff": 15
           },
           "zerolinecolor": "white",
           "zerolinewidth": 2
          },
          "yaxis": {
           "automargin": true,
           "gridcolor": "white",
           "linecolor": "white",
           "ticks": "",
           "title": {
            "standoff": 15
           },
           "zerolinecolor": "white",
           "zerolinewidth": 2
          }
         }
        },
        "title": {
         "text": "🏙️ Top 15 Cities by User Count and AOV"
        },
        "xaxis": {
         "anchor": "y",
         "domain": [
          0,
          1
         ],
         "title": {
          "text": "city"
         }
        },
        "yaxis": {
         "anchor": "x",
         "domain": [
          0,
          1
         ],
         "title": {
          "text": "User Count"
         }
        }
       }
      },
      "image/png": "[encoded data removed]",
      "text/html": [
       "<div>                            <div id=\"059d2105-0edd-44cb-8a3e-50bd17f057fd\" class=\"plotly-graph-div\" style=\"height:525px; width:100%;\"></div>            <script type=\"text/javascript\">                require([\"plotly\"], function(Plotly) {                    window.PLOTLYENV=window.PLOTLYENV || {};                                    if (document.getElementById(\"059d2105-0edd-44cb-8a3e-50bd17f057fd\")) {                    Plotly.newPlot(                        \"059d2105-0edd-44cb-8a3e-50bd17f057fd\",                        [{\"alignmentgroup\":\"True\",\"hovertemplate\":\"city=%{x}\\u003cbr\\u003eUser Count=%{y}\\u003cbr\\u003eAvg Order Value=%{marker.color}\\u003cextra\\u003e\\u003c\\u002fextra\\u003e\",\"legendgroup\":\"\",\"marker\":{\"color\":[407.886987654321,433.22927648578815,434.8500651041667,438.69885416666665,441.4280708661417,436.0970341207349,417.5971522309711,408.68253443526174,396.68354341736693,416.70635854341737,428.7711764705882,406.92168128654976,402.97970501474924,411.13497023809526,416.0747897897898],\"coloraxis\":\"coloraxis\",\"pattern\":{\"shape\":\"\"}},\"name\":\"\",\"offsetgroup\":\"\",\"orientation\":\"v\",\"showlegend\":false,\"text\":[407.886987654321,433.22927648578815,434.8500651041667,438.69885416666665,441.4280708661417,436.0970341207349,417.5971522309711,408.68253443526174,396.68354341736693,416.70635854341737,428.7711764705882,406.92168128654976,402.97970501474924,411.13497023809526,416.0747897897898],\"textposition\":\"auto\",\"x\":[\"Visakhapatnam\",\"Bengaluru\",\"Ahmedabad\",\"Nagpur\",\"Indore\",\"Lucknow\",\"Pune\",\"Jaipur\",\"Bhopal\",\"Delhi\",\"Mumbai\",\"Surat\",\"Kolkata\",\"Chennai\",\"Kanpur\"],\"xaxis\":\"x\",\"y\":[135,129,128,128,127,127,127,121,119,119,119,114,113,112,111],\"yaxis\":\"y\",\"type\":\"bar\"}],                        {\"template\":{\"data\":{\"histogram2dcontour\":[{\"type\":\"histogram2dcontour\",\"colorbar\":{\"outlinewidth\":0,\"ticks\":\"\"},\"colorscale\":[[0.0,\"#0d0887\"],[0.1111111111111111,\"#46039f\"],[0.2222222222222222,\"#7201a8\"],[0.3333333333333333,\"#9c179e\"],[0.4444444444444444,\"#bd3786\"],[0.5555555555555556,\"#d8576b\"],[0.6666666666666666,\"#ed7953\"],[0.7777777777777778,\"#fb9f3a\"],[0.8888888888888888,\"#fdca26\"],[1.0,\"#f0f921\"]]}],\"choropleth\":[{\"type\":\"choropleth\",\"colorbar\":{\"outlinewidth\":0,\"ticks\":\"\"}}],\"histogram2d\":[{\"type\":\"histogram2d\",\"colorbar\":{\"outlinewidth\":0,\"ticks\":\"\"},\"colorscale\":[[0.0,\"#0d0887\"],[0.1111111111111111,\"#46039f\"],[0.2222222222222222,\"#7201a8\"],[0.3333333333333333,\"#9c179e\"],[0.4444444444444444,\"#bd3786\"],[0.5555555555555556,\"#d8576b\"],[0.6666666666666666,\"#ed7953\"],[0.7777777777777778,\"#fb9f3a\"],[0.8888888888888888,\"#fdca26\"],[1.0,\"#f0f921\"]]}],\"heatmap\":[{\"type\":\"heatmap\",\"colorbar\":{\"outlinewidth\":0,\"ticks\":\"\"},\"colorscale\":[[0.0,\"#0d0887\"],[0.1111111111111111,\"#46039f\"],[0.2222222222222222,\"#7201a8\"],[0.3333333333333333,\"#9c179e\"],[0.4444444444444444,\"#bd3786\"],[0.5555555555555556,\"#d8576b\"],[0.6666666666666666,\"#ed7953\"],[0.7777777777777778,\"#fb9f3a\"],[0.8888888888888888,\"#fdca26\"],[1.0,\"#f0f921\"]]}],\"heatmapgl\":[{\"type\":\"heatmapgl\",\"colorbar\":{\"outlinewidth\":0,\"ticks\":\"\"},\"colorscale\":[[0.0,\"#0d0887\"],[0.1111111111111111,\"#46039f\"],[0.2222222222222222,\"#7201a8\"],[0.3333333333333333,\"#9c179e\"],[0.4444444444444444,\"#bd3786\"],[0.5555555555555556,\"#d8576b\"],[0.6666666666666666,\"#ed7953\"],[0.7777777777777778,\"#fb9f3a\"],[0.8888888888888888,\"#fdca26\"],[1.0,\"#f0f921\"]]}],\"contourcarpet\":[{\"type\":\"contourcarpet\",\"colorbar\":{\"outlinewidth\":0,\"ticks\":\"\"}}],\"contour\":[{\"type\":\"contour\",\"colorbar\":{\"outlinewidth\":0,\"ticks\":\"\"},\"colorscale\":[[0.0,\"#0d0887\"],[0.1111111111111111,\"#46039f\"],[0.2222222222222222,\"#7201a8\"],[0.3333333333333333,\"#9c179e\"],[0.4444444444444444,\"#bd3786\"],[0.5555555555555556,\"#d8576b\"],[0.6666666666666666,\"#ed7953\"],[0.7777777777777778,\"#fb9f3a\"],[0.8888888888888888,\"#fdca26\"],[1.0,\"#f0f921\"]]}],\"surface\":[{\"type\":\"surface\",\"colorbar\":{\"outlinewidth\":0,\"ticks\":\"\"},\"colorscale\":[[0.0,\"#0d0887\"],[0.1111111111111111,\"#46039f\"],[0.2222222222222222,\"#7201a8\"],[0.3333333333333333,\"#9c179e\"],[0.4444444444444444,\"#bd3786\"],[0.5555555555555556,\"#d8576b\"],[0.6666666666666666,\"#ed7953\"],[0.7777777777777778,\"#fb9f3a\"],[0.8888888888888888,\"#fdca26\"],[1.0,\"#f0f921\"]]}],\"mesh3d\":[{\"type\":\"mesh3d\",\"colorbar\":{\"outlinewidth\":0,\"ticks\":\"\"}}],\"scatter\":[{\"fillpattern\":{\"fillmode\":\"overlay\",\"size\":10,\"solidity\":0.2},\"type\":\"scatter\"}],\"parcoords\":[{\"type\":\"parcoords\",\"line\":{\"colorbar\":{\"outlinewidth\":0,\"ticks\":\"\"}}}],\"scatterpolargl\":[{\"type\":\"scatterpolargl\",\"marker\":{\"colorbar\":{\"outlinewidth\":0,\"ticks\":\"\"}}}],\"bar\":[{\"error_x\":{\"color\":\"#2a3f5f\"},\"error_y\":{\"color\":\"#2a3f5f\"},\"marker\":{\"line\":{\"color\":\"#E5ECF6\",\"width\":0.5},\"pattern\":{\"fillmode\":\"overlay\",\"size\":10,\"solidity\":0.2}},\"type\":\"bar\"}],\"scattergeo\":[{\"type\":\"scattergeo\",\"marker\":{\"colorbar\":{\"outlinewidth\":0,\"ticks\":\"\"}}}],\"scatterpolar\":[{\"type\":\"scatterpolar\",\"marker\":{\"colorbar\":{\"outlinewidth\":0,\"ticks\":\"\"}}}],\"histogram\":[{\"marker\":{\"pattern\":{\"fillmode\":\"overlay\",\"size\":10,\"solidity\":0.2}},\"type\":\"histogram\"}],\"scattergl\":[{\"type\":\"scattergl\",\"marker\":{\"colorbar\":{\"outlinewidth\":0,\"ticks\":\"\"}}}],\"scatter3d\":[{\"type\":\"scatter3d\",\"line\":{\"colorbar\":{\"outlinewidth\":0,\"ticks\":\"\"}},\"marker\":{\"colorbar\":{\"outlinewidth\":0,\"ticks\":\"\"}}}],\"scattermapbox\":[{\"type\":\"scattermapbox\",\"marker\":{\"colorbar\":{\"outlinewidth\":0,\"ticks\":\"\"}}}],\"scatterternary\":[{\"type\":\"scatterternary\",\"marker\":{\"colorbar\":{\"outlinewidth\":0,\"ticks\":\"\"}}}],\"scattercarpet\":[{\"type\":\"scattercarpet\",\"marker\":{\"colorbar\":{\"outlinewidth\":0,\"ticks\":\"\"}}}],\"carpet\":[{\"aaxis\":{\"endlinecolor\":\"#2a3f5f\",\"gridcolor\":\"white\",\"linecolor\":\"white\",\"minorgridcolor\":\"white\",\"startlinecolor\":\"#2a3f5f\"},\"baxis\":{\"endlinecolor\":\"#2a3f5f\",\"gridcolor\":\"white\",\"linecolor\":\"white\",\"minorgridcolor\":\"white\",\"startlinecolor\":\"#2a3f5f\"},\"type\":\"carpet\"}],\"table\":[{\"cells\":{\"fill\":{\"color\":\"#EBF0F8\"},\"line\":{\"color\":\"white\"}},\"header\":{\"fill\":{\"color\":\"#C8D4E3\"},\"line\":{\"color\":\"white\"}},\"type\":\"table\"}],\"barpolar\":[{\"marker\":{\"line\":{\"color\":\"#E5ECF6\",\"width\":0.5},\"pattern\":{\"fillmode\":\"overlay\",\"size\":10,\"solidity\":0.2}},\"type\":\"barpolar\"}],\"pie\":[{\"automargin\":true,\"type\":\"pie\"}]},\"layout\":{\"autotypenumbers\":\"strict\",\"colorway\":[\"#636efa\",\"#EF553B\",\"#00cc96\",\"#ab63fa\",\"#FFA15A\",\"#19d3f3\",\"#FF6692\",\"#B6E880\",\"#FF97FF\",\"#FECB52\"],\"font\":{\"color\":\"#2a3f5f\"},\"hovermode\":\"closest\",\"hoverlabel\":{\"align\":\"left\"},\"paper_bgcolor\":\"white\",\"plot_bgcolor\":\"#E5ECF6\",\"polar\":{\"bgcolor\":\"#E5ECF6\",\"angularaxis\":{\"gridcolor\":\"white\",\"linecolor\":\"white\",\"ticks\":\"\"},\"radialaxis\":{\"gridcolor\":\"white\",\"linecolor\":\"white\",\"ticks\":\"\"}},\"ternary\":{\"bgcolor\":\"#E5ECF6\",\"aaxis\":{\"gridcolor\":\"white\",\"linecolor\":\"white\",\"ticks\":\"\"},\"baxis\":{\"gridcolor\":\"white\",\"linecolor\":\"white\",\"ticks\":\"\"},\"caxis\":{\"gridcolor\":\"white\",\"linecolor\":\"white\",\"ticks\":\"\"}},\"coloraxis\":{\"colorbar\":{\"outlinewidth\":0,\"ticks\":\"\"}},\"colorscale\":{\"sequential\":[[0.0,\"#0d0887\"],[0.1111111111111111,\"#46039f\"],[0.2222222222222222,\"#7201a8\"],[0.3333333333333333,\"#9c179e\"],[0.4444444444444444,\"#bd3786\"],[0.5555555555555556,\"#d8576b\"],[0.6666666666666666,\"#ed7953\"],[0.7777777777777778,\"#fb9f3a\"],[0.8888888888888888,\"#fdca26\"],[1.0,\"#f0f921\"]],\"sequentialminus\":[[0.0,\"#0d0887\"],[0.1111111111111111,\"#46039f\"],[0.2222222222222222,\"#7201a8\"],[0.3333333333333333,\"#9c179e\"],[0.4444444444444444,\"#bd3786\"],[0.5555555555555556,\"#d8576b\"],[0.6666666666666666,\"#ed7953\"],[0.7777777777777778,\"#fb9f3a\"],[0.8888888888888888,\"#fdca26\"],[1.0,\"#f0f921\"]],\"diverging\":[[0,\"#8e0152\"],[0.1,\"#c51b7d\"],[0.2,\"#de77ae\"],[0.3,\"#f1b6da\"],[0.4,\"#fde0ef\"],[0.5,\"#f7f7f7\"],[0.6,\"#e6f5d0\"],[0.7,\"#b8e186\"],[0.8,\"#7fbc41\"],[0.9,\"#4d9221\"],[1,\"#276419\"]]},\"xaxis\":{\"gridcolor\":\"white\",\"linecolor\":\"white\",\"ticks\":\"\",\"title\":{\"standoff\":15},\"zerolinecolor\":\"white\",\"automargin\":true,\"zerolinewidth\":2},\"yaxis\":{\"gridcolor\":\"white\",\"linecolor\":\"white\",\"ticks\":\"\",\"title\":{\"standoff\":15},\"zerolinecolor\":\"white\",\"automargin\":true,\"zerolinewidth\":2},\"scene\":{\"xaxis\":{\"backgroundcolor\":\"#E5ECF6\",\"gridcolor\":\"white\",\"linecolor\":\"white\",\"showbackground\":true,\"ticks\":\"\",\"zerolinecolor\":\"white\",\"gridwidth\":2},\"yaxis\":{\"backgroundcolor\":\"#E5ECF6\",\"gridcolor\":\"white\",\"linecolor\":\"white\",\"showbackground\":true,\"ticks\":\"\",\"zerolinecolor\":\"white\",\"gridwidth\":2},\"zaxis\":{\"backgroundcolor\":\"#E5ECF6\",\"gridcolor\":\"white\",\"linecolor\":\"white\",\"showbackground\":true,\"ticks\":\"\",\"zerolinecolor\":\"white\",\"gridwidth\":2}},\"shapedefaults\":{\"line\":{\"color\":\"#2a3f5f\"}},\"annotationdefaults\":{\"arrowcolor\":\"#2a3f5f\",\"arrowhead\":0,\"arrowwidth\":1},\"geo\":{\"bgcolor\":\"white\",\"landcolor\":\"#E5ECF6\",\"subunitcolor\":\"white\",\"showland\":true,\"showlakes\":true,\"lakecolor\":\"white\"},\"title\":{\"x\":0.05},\"mapbox\":{\"style\":\"light\"}}},\"xaxis\":{\"anchor\":\"y\",\"domain\":[0.0,1.0],\"title\":{\"text\":\"city\"}},\"yaxis\":{\"anchor\":\"x\",\"domain\":[0.0,1.0],\"title\":{\"text\":\"User Count\"}},\"coloraxis\":{\"colorbar\":{\"title\":{\"text\":\"Avg Order Value\"}},\"colorscale\":[[0.0,\"#440154\"],[0.1111111111111111,\"#482878\"],[0.2222222222222222,\"#3e4989\"],[0.3333333333333333,\"#31688e\"],[0.4444444444444444,\"#26828e\"],[0.5555555555555556,\"#1f9e89\"],[0.6666666666666666,\"#35b779\"],[0.7777777777777778,\"#6ece58\"],[0.8888888888888888,\"#b5de2b\"],[1.0,\"#fde725\"]]},\"legend\":{\"tracegroupgap\":0},\"title\":{\"text\":\"\\ud83c\\udfd9\\ufe0f Top 15 Cities by User Count and AOV\"},\"barmode\":\"relative\"},                        {\"responsive\": true}                    ).then(function(){\n",
       "                            \n",
       "var gd = document.getElementById('059d2105-0edd-44cb-8a3e-50bd17f057fd');\n",
       "var x = new MutationObserver(function (mutations, observer) {{\n",
       "        var display = window.getComputedStyle(gd).display;\n",
       "        if (!display || display === 'none') {{\n",
       "            console.log([gd, 'removed!']);\n",
       "            Plotly.purge(gd);\n",
       "            observer.disconnect();\n",
       "        }}\n",
       "}});\n",
       "\n",
       "// Listen for the removal of the full notebook cells\n",
       "var notebookContainer = gd.closest('#notebook-container');\n",
       "if (notebookContainer) {{\n",
       "    x.observe(notebookContainer, {childList: true});\n",
       "}}\n",
       "\n",
       "// Listen for the clearing of the current output cell\n",
       "var outputEl = gd.closest('.output');\n",
       "if (outputEl) {{\n",
       "    x.observe(outputEl, {childList: true});\n",
       "}}\n",
       "\n",
       "                        })                };                });            </script>        </div>"
      ]
     },
     "metadata": {},
     "output_type": "display_data"
    },
    {
     "data": {
      "application/vnd.plotly.v1+json": {
       "config": {
        "plotlyServerURL": "https://plot.ly"
       },
       "data": [
        {
         "alignmentgroup": "True",
         "hovertemplate": "variable=retained_7_days<br>signup_channel=%{x}<br>value=%{y}<extra></extra>",
         "legendgroup": "retained_7_days",
         "marker": {
          "color": "#AB63FA",
          "pattern": {
           "shape": ""
          }
         },
         "name": "retained_7_days",
         "offsetgroup": "retained_7_days",
         "orientation": "v",
         "showlegend": true,
         "textposition": "auto",
         "type": "bar",
         "x": [
          "Email",
          "Organic",
          "Paid",
          "Referral",
          "Social"
         ],
         "xaxis": "x",
         "y": [
          0.4883720930232558,
          0.4871060171919771,
          0.46335078534031415,
          0.5113924050632911,
          0.47570332480818417
         ],
         "yaxis": "y"
        },
        {
         "alignmentgroup": "True",
         "hovertemplate": "variable=retained_30_days<br>signup_channel=%{x}<br>value=%{y}<extra></extra>",
         "legendgroup": "retained_30_days",
         "marker": {
          "color": "#FFA15A",
          "pattern": {
           "shape": ""
          }
         },
         "name": "retained_30_days",
         "offsetgroup": "retained_30_days",
         "orientation": "v",
         "showlegend": true,
         "textposition": "auto",
         "type": "bar",
         "x": [
          "Email",
          "Organic",
          "Paid",
          "Referral",
          "Social"
         ],
         "xaxis": "x",
         "y": [
          0.7151162790697675,
          0.7363896848137536,
          0.7303664921465969,
          0.7316455696202532,
          0.6930946291560103
         ],
         "yaxis": "y"
        }
       ],
       "layout": {
        "barmode": "group",
        "legend": {
         "title": {
          "text": "variable"
         },
         "tracegroupgap": 0
        },
        "template": {
         "data": {
          "bar": [
           {
            "error_x": {
             "color": "#2a3f5f"
            },
            "error_y": {
             "color": "#2a3f5f"
            },
            "marker": {
             "line": {
              "color": "#E5ECF6",
              "width": 0.5
             },
             "pattern": {
              "fillmode": "overlay",
              "size": 10,
              "solidity": 0.2
             }
            },
            "type": "bar"
           }
          ],
          "barpolar": [
           {
            "marker": {
             "line": {
              "color": "#E5ECF6",
              "width": 0.5
             },
             "pattern": {
              "fillmode": "overlay",
              "size": 10,
              "solidity": 0.2
             }
            },
            "type": "barpolar"
           }
          ],
          "carpet": [
           {
            "aaxis": {
             "endlinecolor": "#2a3f5f",
             "gridcolor": "white",
             "linecolor": "white",
             "minorgridcolor": "white",
             "startlinecolor": "#2a3f5f"
            },
            "baxis": {
             "endlinecolor": "#2a3f5f",
             "gridcolor": "white",
             "linecolor": "white",
             "minorgridcolor": "white",
             "startlinecolor": "#2a3f5f"
            },
            "type": "carpet"
           }
          ],
          "choropleth": [
           {
            "colorbar": {
             "outlinewidth": 0,
             "ticks": ""
            },
            "type": "choropleth"
           }
          ],
          "contour": [
           {
            "colorbar": {
             "outlinewidth": 0,
             "ticks": ""
            },
            "colorscale": [
             [
              0,
              "#0d0887"
             ],
             [
              0.1111111111111111,
              "#46039f"
             ],
             [
              0.2222222222222222,
              "#7201a8"
             ],
             [
              0.3333333333333333,
              "#9c179e"
             ],
             [
              0.4444444444444444,
              "#bd3786"
             ],
             [
              0.5555555555555556,
              "#d8576b"
             ],
             [
              0.6666666666666666,
              "#ed7953"
             ],
             [
              0.7777777777777778,
              "#fb9f3a"
             ],
             [
              0.8888888888888888,
              "#fdca26"
             ],
             [
              1,
              "#f0f921"
             ]
            ],
            "type": "contour"
           }
          ],
          "contourcarpet": [
           {
            "colorbar": {
             "outlinewidth": 0,
             "ticks": ""
            },
            "type": "contourcarpet"
           }
          ],
          "heatmap": [
           {
            "colorbar": {
             "outlinewidth": 0,
             "ticks": ""
            },
            "colorscale": [
             [
              0,
              "#0d0887"
             ],
             [
              0.1111111111111111,
              "#46039f"
             ],
             [
              0.2222222222222222,
              "#7201a8"
             ],
             [
              0.3333333333333333,
              "#9c179e"
             ],
             [
              0.4444444444444444,
              "#bd3786"
             ],
             [
              0.5555555555555556,
              "#d8576b"
             ],
             [
              0.6666666666666666,
              "#ed7953"
             ],
             [
              0.7777777777777778,
              "#fb9f3a"
             ],
             [
              0.8888888888888888,
              "#fdca26"
             ],
             [
              1,
              "#f0f921"
             ]
            ],
            "type": "heatmap"
           }
          ],
          "heatmapgl": [
           {
            "colorbar": {
             "outlinewidth": 0,
             "ticks": ""
            },
            "colorscale": [
             [
              0,
              "#0d0887"
             ],
             [
              0.1111111111111111,
              "#46039f"
             ],
             [
              0.2222222222222222,
              "#7201a8"
             ],
             [
              0.3333333333333333,
              "#9c179e"
             ],
             [
              0.4444444444444444,
              "#bd3786"
             ],
             [
              0.5555555555555556,
              "#d8576b"
             ],
             [
              0.6666666666666666,
              "#ed7953"
             ],
             [
              0.7777777777777778,
              "#fb9f3a"
             ],
             [
              0.8888888888888888,
              "#fdca26"
             ],
             [
              1,
              "#f0f921"
             ]
            ],
            "type": "heatmapgl"
           }
          ],
          "histogram": [
           {
            "marker": {
             "pattern": {
              "fillmode": "overlay",
              "size": 10,
              "solidity": 0.2
             }
            },
            "type": "histogram"
           }
          ],
          "histogram2d": [
           {
            "colorbar": {
             "outlinewidth": 0,
             "ticks": ""
            },
            "colorscale": [
             [
              0,
              "#0d0887"
             ],
             [
              0.1111111111111111,
              "#46039f"
             ],
             [
              0.2222222222222222,
              "#7201a8"
             ],
             [
              0.3333333333333333,
              "#9c179e"
             ],
             [
              0.4444444444444444,
              "#bd3786"
             ],
             [
              0.5555555555555556,
              "#d8576b"
             ],
             [
              0.6666666666666666,
              "#ed7953"
             ],
             [
              0.7777777777777778,
              "#fb9f3a"
             ],
             [
              0.8888888888888888,
              "#fdca26"
             ],
             [
              1,
              "#f0f921"
             ]
            ],
            "type": "histogram2d"
           }
          ],
          "histogram2dcontour": [
           {
            "colorbar": {
             "outlinewidth": 0,
             "ticks": ""
            },
            "colorscale": [
             [
              0,
              "#0d0887"
             ],
             [
              0.1111111111111111,
              "#46039f"
             ],
             [
              0.2222222222222222,
              "#7201a8"
             ],
             [
              0.3333333333333333,
              "#9c179e"
             ],
             [
              0.4444444444444444,
              "#bd3786"
             ],
             [
              0.5555555555555556,
              "#d8576b"
             ],
             [
              0.6666666666666666,
              "#ed7953"
             ],
             [
              0.7777777777777778,
              "#fb9f3a"
             ],
             [
              0.8888888888888888,
              "#fdca26"
             ],
             [
              1,
              "#f0f921"
             ]
            ],
            "type": "histogram2dcontour"
           }
          ],
          "mesh3d": [
           {
            "colorbar": {
             "outlinewidth": 0,
             "ticks": ""
            },
            "type": "mesh3d"
           }
          ],
          "parcoords": [
           {
            "line": {
             "colorbar": {
              "outlinewidth": 0,
              "ticks": ""
             }
            },
            "type": "parcoords"
           }
          ],
          "pie": [
           {
            "automargin": true,
            "type": "pie"
           }
          ],
          "scatter": [
           {
            "fillpattern": {
             "fillmode": "overlay",
             "size": 10,
             "solidity": 0.2
            },
            "type": "scatter"
           }
          ],
          "scatter3d": [
           {
            "line": {
             "colorbar": {
              "outlinewidth": 0,
              "ticks": ""
             }
            },
            "marker": {
             "colorbar": {
              "outlinewidth": 0,
              "ticks": ""
             }
            },
            "type": "scatter3d"
           }
          ],
          "scattercarpet": [
           {
            "marker": {
             "colorbar": {
              "outlinewidth": 0,
              "ticks": ""
             }
            },
            "type": "scattercarpet"
           }
          ],
          "scattergeo": [
           {
            "marker": {
             "colorbar": {
              "outlinewidth": 0,
              "ticks": ""
             }
            },
            "type": "scattergeo"
           }
          ],
          "scattergl": [
           {
            "marker": {
             "colorbar": {
              "outlinewidth": 0,
              "ticks": ""
             }
            },
            "type": "scattergl"
           }
          ],
          "scattermapbox": [
           {
            "marker": {
             "colorbar": {
              "outlinewidth": 0,
              "ticks": ""
             }
            },
            "type": "scattermapbox"
           }
          ],
          "scatterpolar": [
           {
            "marker": {
             "colorbar": {
              "outlinewidth": 0,
              "ticks": ""
             }
            },
            "type": "scatterpolar"
           }
          ],
          "scatterpolargl": [
           {
            "marker": {
             "colorbar": {
              "outlinewidth": 0,
              "ticks": ""
             }
            },
            "type": "scatterpolargl"
           }
          ],
          "scatterternary": [
           {
            "marker": {
             "colorbar": {
              "outlinewidth": 0,
              "ticks": ""
             }
            },
            "type": "scatterternary"
           }
          ],
          "surface": [
           {
            "colorbar": {
             "outlinewidth": 0,
             "ticks": ""
            },
            "colorscale": [
             [
              0,
              "#0d0887"
             ],
             [
              0.1111111111111111,
              "#46039f"
             ],
             [
              0.2222222222222222,
              "#7201a8"
             ],
             [
              0.3333333333333333,
              "#9c179e"
             ],
             [
              0.4444444444444444,
              "#bd3786"
             ],
             [
              0.5555555555555556,
              "#d8576b"
             ],
             [
              0.6666666666666666,
              "#ed7953"
             ],
             [
              0.7777777777777778,
              "#fb9f3a"
             ],
             [
              0.8888888888888888,
              "#fdca26"
             ],
             [
              1,
              "#f0f921"
             ]
            ],
            "type": "surface"
           }
          ],
          "table": [
           {
            "cells": {
             "fill": {
              "color": "#EBF0F8"
             },
             "line": {
              "color": "white"
             }
            },
            "header": {
             "fill": {
              "color": "#C8D4E3"
             },
             "line": {
              "color": "white"
             }
            },
            "type": "table"
           }
          ]
         },
         "layout": {
          "annotationdefaults": {
           "arrowcolor": "#2a3f5f",
           "arrowhead": 0,
           "arrowwidth": 1
          },
          "autotypenumbers": "strict",
          "coloraxis": {
           "colorbar": {
            "outlinewidth": 0,
            "ticks": ""
           }
          },
          "colorscale": {
           "diverging": [
            [
             0,
             "#8e0152"
            ],
            [
             0.1,
             "#c51b7d"
            ],
            [
             0.2,
             "#de77ae"
            ],
            [
             0.3,
             "#f1b6da"
            ],
            [
             0.4,
             "#fde0ef"
            ],
            [
             0.5,
             "#f7f7f7"
            ],
            [
             0.6,
             "#e6f5d0"
            ],
            [
             0.7,
             "#b8e186"
            ],
            [
             0.8,
             "#7fbc41"
            ],
            [
             0.9,
             "#4d9221"
            ],
            [
             1,
             "#276419"
            ]
           ],
           "sequential": [
            [
             0,
             "#0d0887"
            ],
            [
             0.1111111111111111,
             "#46039f"
            ],
            [
             0.2222222222222222,
             "#7201a8"
            ],
            [
             0.3333333333333333,
             "#9c179e"
            ],
            [
             0.4444444444444444,
             "#bd3786"
            ],
            [
             0.5555555555555556,
             "#d8576b"
            ],
            [
             0.6666666666666666,
             "#ed7953"
            ],
            [
             0.7777777777777778,
             "#fb9f3a"
            ],
            [
             0.8888888888888888,
             "#fdca26"
            ],
            [
             1,
             "#f0f921"
            ]
           ],
           "sequentialminus": [
            [
             0,
             "#0d0887"
            ],
            [
             0.1111111111111111,
             "#46039f"
            ],
            [
             0.2222222222222222,
             "#7201a8"
            ],
            [
             0.3333333333333333,
             "#9c179e"
            ],
            [
             0.4444444444444444,
             "#bd3786"
            ],
            [
             0.5555555555555556,
             "#d8576b"
            ],
            [
             0.6666666666666666,
             "#ed7953"
            ],
            [
             0.7777777777777778,
             "#fb9f3a"
            ],
            [
             0.8888888888888888,
             "#fdca26"
            ],
            [
             1,
             "#f0f921"
            ]
           ]
          },
          "colorway": [
           "#636efa",
           "#EF553B",
           "#00cc96",
           "#ab63fa",
           "#FFA15A",
           "#19d3f3",
           "#FF6692",
           "#B6E880",
           "#FF97FF",
           "#FECB52"
          ],
          "font": {
           "color": "#2a3f5f"
          },
          "geo": {
           "bgcolor": "white",
           "lakecolor": "white",
           "landcolor": "#E5ECF6",
           "showlakes": true,
           "showland": true,
           "subunitcolor": "white"
          },
          "hoverlabel": {
           "align": "left"
          },
          "hovermode": "closest",
          "mapbox": {
           "style": "light"
          },
          "paper_bgcolor": "white",
          "plot_bgcolor": "#E5ECF6",
          "polar": {
           "angularaxis": {
            "gridcolor": "white",
            "linecolor": "white",
            "ticks": ""
           },
           "bgcolor": "#E5ECF6",
           "radialaxis": {
            "gridcolor": "white",
            "linecolor": "white",
            "ticks": ""
           }
          },
          "scene": {
           "xaxis": {
            "backgroundcolor": "#E5ECF6",
            "gridcolor": "white",
            "gridwidth": 2,
            "linecolor": "white",
            "showbackground": true,
            "ticks": "",
            "zerolinecolor": "white"
           },
           "yaxis": {
            "backgroundcolor": "#E5ECF6",
            "gridcolor": "white",
            "gridwidth": 2,
            "linecolor": "white",
            "showbackground": true,
            "ticks": "",
            "zerolinecolor": "white"
           },
           "zaxis": {
            "backgroundcolor": "#E5ECF6",
            "gridcolor": "white",
            "gridwidth": 2,
            "linecolor": "white",
            "showbackground": true,
            "ticks": "",
            "zerolinecolor": "white"
           }
          },
          "shapedefaults": {
           "line": {
            "color": "#2a3f5f"
           }
          },
          "ternary": {
           "aaxis": {
            "gridcolor": "white",
            "linecolor": "white",
            "ticks": ""
           },
           "baxis": {
            "gridcolor": "white",
            "linecolor": "white",
            "ticks": ""
           },
           "bgcolor": "#E5ECF6",
           "caxis": {
            "gridcolor": "white",
            "linecolor": "white",
            "ticks": ""
           }
          },
          "title": {
           "x": 0.05
          },
          "xaxis": {
           "automargin": true,
           "gridcolor": "white",
           "linecolor": "white",
           "ticks": "",
           "title": {
            "standoff": 15
           },
           "zerolinecolor": "white",
           "zerolinewidth": 2
          },
          "yaxis": {
           "automargin": true,
           "gridcolor": "white",
           "linecolor": "white",
           "ticks": "",
           "title": {
            "standoff": 15
           },
           "zerolinecolor": "white",
           "zerolinewidth": 2
          }
         }
        },
        "title": {
         "text": "📱 Retention by Signup Channel"
        },
        "xaxis": {
         "anchor": "y",
         "domain": [
          0,
          1
         ],
         "title": {
          "text": "signup_channel"
         }
        },
        "yaxis": {
         "anchor": "x",
         "domain": [
          0,
          1
         ],
         "title": {
          "text": "value"
         }
        }
       }
      },
      "image/png": "[encoded data removed]",
      "text/html": [
       "<div>                            <div id=\"1be5071a-7c34-4acf-9f3b-d7254c3e2483\" class=\"plotly-graph-div\" style=\"height:525px; width:100%;\"></div>            <script type=\"text/javascript\">                require([\"plotly\"], function(Plotly) {                    window.PLOTLYENV=window.PLOTLYENV || {};                                    if (document.getElementById(\"1be5071a-7c34-4acf-9f3b-d7254c3e2483\")) {                    Plotly.newPlot(                        \"1be5071a-7c34-4acf-9f3b-d7254c3e2483\",                        [{\"alignmentgroup\":\"True\",\"hovertemplate\":\"variable=retained_7_days\\u003cbr\\u003esignup_channel=%{x}\\u003cbr\\u003evalue=%{y}\\u003cextra\\u003e\\u003c\\u002fextra\\u003e\",\"legendgroup\":\"retained_7_days\",\"marker\":{\"color\":\"#AB63FA\",\"pattern\":{\"shape\":\"\"}},\"name\":\"retained_7_days\",\"offsetgroup\":\"retained_7_days\",\"orientation\":\"v\",\"showlegend\":true,\"textposition\":\"auto\",\"x\":[\"Email\",\"Organic\",\"Paid\",\"Referral\",\"Social\"],\"xaxis\":\"x\",\"y\":[0.4883720930232558,0.4871060171919771,0.46335078534031415,0.5113924050632911,0.47570332480818417],\"yaxis\":\"y\",\"type\":\"bar\"},{\"alignmentgroup\":\"True\",\"hovertemplate\":\"variable=retained_30_days\\u003cbr\\u003esignup_channel=%{x}\\u003cbr\\u003evalue=%{y}\\u003cextra\\u003e\\u003c\\u002fextra\\u003e\",\"legendgroup\":\"retained_30_days\",\"marker\":{\"color\":\"#FFA15A\",\"pattern\":{\"shape\":\"\"}},\"name\":\"retained_30_days\",\"offsetgroup\":\"retained_30_days\",\"orientation\":\"v\",\"showlegend\":true,\"textposition\":\"auto\",\"x\":[\"Email\",\"Organic\",\"Paid\",\"Referral\",\"Social\"],\"xaxis\":\"x\",\"y\":[0.7151162790697675,0.7363896848137536,0.7303664921465969,0.7316455696202532,0.6930946291560103],\"yaxis\":\"y\",\"type\":\"bar\"}],                        {\"template\":{\"data\":{\"histogram2dcontour\":[{\"type\":\"histogram2dcontour\",\"colorbar\":{\"outlinewidth\":0,\"ticks\":\"\"},\"colorscale\":[[0.0,\"#0d0887\"],[0.1111111111111111,\"#46039f\"],[0.2222222222222222,\"#7201a8\"],[0.3333333333333333,\"#9c179e\"],[0.4444444444444444,\"#bd3786\"],[0.5555555555555556,\"#d8576b\"],[0.6666666666666666,\"#ed7953\"],[0.7777777777777778,\"#fb9f3a\"],[0.8888888888888888,\"#fdca26\"],[1.0,\"#f0f921\"]]}],\"choropleth\":[{\"type\":\"choropleth\",\"colorbar\":{\"outlinewidth\":0,\"ticks\":\"\"}}],\"histogram2d\":[{\"type\":\"histogram2d\",\"colorbar\":{\"outlinewidth\":0,\"ticks\":\"\"},\"colorscale\":[[0.0,\"#0d0887\"],[0.1111111111111111,\"#46039f\"],[0.2222222222222222,\"#7201a8\"],[0.3333333333333333,\"#9c179e\"],[0.4444444444444444,\"#bd3786\"],[0.5555555555555556,\"#d8576b\"],[0.6666666666666666,\"#ed7953\"],[0.7777777777777778,\"#fb9f3a\"],[0.8888888888888888,\"#fdca26\"],[1.0,\"#f0f921\"]]}],\"heatmap\":[{\"type\":\"heatmap\",\"colorbar\":{\"outlinewidth\":0,\"ticks\":\"\"},\"colorscale\":[[0.0,\"#0d0887\"],[0.1111111111111111,\"#46039f\"],[0.2222222222222222,\"#7201a8\"],[0.3333333333333333,\"#9c179e\"],[0.4444444444444444,\"#bd3786\"],[0.5555555555555556,\"#d8576b\"],[0.6666666666666666,\"#ed7953\"],[0.7777777777777778,\"#fb9f3a\"],[0.8888888888888888,\"#fdca26\"],[1.0,\"#f0f921\"]]}],\"heatmapgl\":[{\"type\":\"heatmapgl\",\"colorbar\":{\"outlinewidth\":0,\"ticks\":\"\"},\"colorscale\":[[0.0,\"#0d0887\"],[0.1111111111111111,\"#46039f\"],[0.2222222222222222,\"#7201a8\"],[0.3333333333333333,\"#9c179e\"],[0.4444444444444444,\"#bd3786\"],[0.5555555555555556,\"#d8576b\"],[0.6666666666666666,\"#ed7953\"],[0.7777777777777778,\"#fb9f3a\"],[0.8888888888888888,\"#fdca26\"],[1.0,\"#f0f921\"]]}],\"contourcarpet\":[{\"type\":\"contourcarpet\",\"colorbar\":{\"outlinewidth\":0,\"ticks\":\"\"}}],\"contour\":[{\"type\":\"contour\",\"colorbar\":{\"outlinewidth\":0,\"ticks\":\"\"},\"colorscale\":[[0.0,\"#0d0887\"],[0.1111111111111111,\"#46039f\"],[0.2222222222222222,\"#7201a8\"],[0.3333333333333333,\"#9c179e\"],[0.4444444444444444,\"#bd3786\"],[0.5555555555555556,\"#d8576b\"],[0.6666666666666666,\"#ed7953\"],[0.7777777777777778,\"#fb9f3a\"],[0.8888888888888888,\"#fdca26\"],[1.0,\"#f0f921\"]]}],\"surface\":[{\"type\":\"surface\",\"colorbar\":{\"outlinewidth\":0,\"ticks\":\"\"},\"colorscale\":[[0.0,\"#0d0887\"],[0.1111111111111111,\"#46039f\"],[0.2222222222222222,\"#7201a8\"],[0.3333333333333333,\"#9c179e\"],[0.4444444444444444,\"#bd3786\"],[0.5555555555555556,\"#d8576b\"],[0.6666666666666666,\"#ed7953\"],[0.7777777777777778,\"#fb9f3a\"],[0.8888888888888888,\"#fdca26\"],[1.0,\"#f0f921\"]]}],\"mesh3d\":[{\"type\":\"mesh3d\",\"colorbar\":{\"outlinewidth\":0,\"ticks\":\"\"}}],\"scatter\":[{\"fillpattern\":{\"fillmode\":\"overlay\",\"size\":10,\"solidity\":0.2},\"type\":\"scatter\"}],\"parcoords\":[{\"type\":\"parcoords\",\"line\":{\"colorbar\":{\"outlinewidth\":0,\"ticks\":\"\"}}}],\"scatterpolargl\":[{\"type\":\"scatterpolargl\",\"marker\":{\"colorbar\":{\"outlinewidth\":0,\"ticks\":\"\"}}}],\"bar\":[{\"error_x\":{\"color\":\"#2a3f5f\"},\"error_y\":{\"color\":\"#2a3f5f\"},\"marker\":{\"line\":{\"color\":\"#E5ECF6\",\"width\":0.5},\"pattern\":{\"fillmode\":\"overlay\",\"size\":10,\"solidity\":0.2}},\"type\":\"bar\"}],\"scattergeo\":[{\"type\":\"scattergeo\",\"marker\":{\"colorbar\":{\"outlinewidth\":0,\"ticks\":\"\"}}}],\"scatterpolar\":[{\"type\":\"scatterpolar\",\"marker\":{\"colorbar\":{\"outlinewidth\":0,\"ticks\":\"\"}}}],\"histogram\":[{\"marker\":{\"pattern\":{\"fillmode\":\"overlay\",\"size\":10,\"solidity\":0.2}},\"type\":\"histogram\"}],\"scattergl\":[{\"type\":\"scattergl\",\"marker\":{\"colorbar\":{\"outlinewidth\":0,\"ticks\":\"\"}}}],\"scatter3d\":[{\"type\":\"scatter3d\",\"line\":{\"colorbar\":{\"outlinewidth\":0,\"ticks\":\"\"}},\"marker\":{\"colorbar\":{\"outlinewidth\":0,\"ticks\":\"\"}}}],\"scattermapbox\":[{\"type\":\"scattermapbox\",\"marker\":{\"colorbar\":{\"outlinewidth\":0,\"ticks\":\"\"}}}],\"scatterternary\":[{\"type\":\"scatterternary\",\"marker\":{\"colorbar\":{\"outlinewidth\":0,\"ticks\":\"\"}}}],\"scattercarpet\":[{\"type\":\"scattercarpet\",\"marker\":{\"colorbar\":{\"outlinewidth\":0,\"ticks\":\"\"}}}],\"carpet\":[{\"aaxis\":{\"endlinecolor\":\"#2a3f5f\",\"gridcolor\":\"white\",\"linecolor\":\"white\",\"minorgridcolor\":\"white\",\"startlinecolor\":\"#2a3f5f\"},\"baxis\":{\"endlinecolor\":\"#2a3f5f\",\"gridcolor\":\"white\",\"linecolor\":\"white\",\"minorgridcolor\":\"white\",\"startlinecolor\":\"#2a3f5f\"},\"type\":\"carpet\"}],\"table\":[{\"cells\":{\"fill\":{\"color\":\"#EBF0F8\"},\"line\":{\"color\":\"white\"}},\"header\":{\"fill\":{\"color\":\"#C8D4E3\"},\"line\":{\"color\":\"white\"}},\"type\":\"table\"}],\"barpolar\":[{\"marker\":{\"line\":{\"color\":\"#E5ECF6\",\"width\":0.5},\"pattern\":{\"fillmode\":\"overlay\",\"size\":10,\"solidity\":0.2}},\"type\":\"barpolar\"}],\"pie\":[{\"automargin\":true,\"type\":\"pie\"}]},\"layout\":{\"autotypenumbers\":\"strict\",\"colorway\":[\"#636efa\",\"#EF553B\",\"#00cc96\",\"#ab63fa\",\"#FFA15A\",\"#19d3f3\",\"#FF6692\",\"#B6E880\",\"#FF97FF\",\"#FECB52\"],\"font\":{\"color\":\"#2a3f5f\"},\"hovermode\":\"closest\",\"hoverlabel\":{\"align\":\"left\"},\"paper_bgcolor\":\"white\",\"plot_bgcolor\":\"#E5ECF6\",\"polar\":{\"bgcolor\":\"#E5ECF6\",\"angularaxis\":{\"gridcolor\":\"white\",\"linecolor\":\"white\",\"ticks\":\"\"},\"radialaxis\":{\"gridcolor\":\"white\",\"linecolor\":\"white\",\"ticks\":\"\"}},\"ternary\":{\"bgcolor\":\"#E5ECF6\",\"aaxis\":{\"gridcolor\":\"white\",\"linecolor\":\"white\",\"ticks\":\"\"},\"baxis\":{\"gridcolor\":\"white\",\"linecolor\":\"white\",\"ticks\":\"\"},\"caxis\":{\"gridcolor\":\"white\",\"linecolor\":\"white\",\"ticks\":\"\"}},\"coloraxis\":{\"colorbar\":{\"outlinewidth\":0,\"ticks\":\"\"}},\"colorscale\":{\"sequential\":[[0.0,\"#0d0887\"],[0.1111111111111111,\"#46039f\"],[0.2222222222222222,\"#7201a8\"],[0.3333333333333333,\"#9c179e\"],[0.4444444444444444,\"#bd3786\"],[0.5555555555555556,\"#d8576b\"],[0.6666666666666666,\"#ed7953\"],[0.7777777777777778,\"#fb9f3a\"],[0.8888888888888888,\"#fdca26\"],[1.0,\"#f0f921\"]],\"sequentialminus\":[[0.0,\"#0d0887\"],[0.1111111111111111,\"#46039f\"],[0.2222222222222222,\"#7201a8\"],[0.3333333333333333,\"#9c179e\"],[0.4444444444444444,\"#bd3786\"],[0.5555555555555556,\"#d8576b\"],[0.6666666666666666,\"#ed7953\"],[0.7777777777777778,\"#fb9f3a\"],[0.8888888888888888,\"#fdca26\"],[1.0,\"#f0f921\"]],\"diverging\":[[0,\"#8e0152\"],[0.1,\"#c51b7d\"],[0.2,\"#de77ae\"],[0.3,\"#f1b6da\"],[0.4,\"#fde0ef\"],[0.5,\"#f7f7f7\"],[0.6,\"#e6f5d0\"],[0.7,\"#b8e186\"],[0.8,\"#7fbc41\"],[0.9,\"#4d9221\"],[1,\"#276419\"]]},\"xaxis\":{\"gridcolor\":\"white\",\"linecolor\":\"white\",\"ticks\":\"\",\"title\":{\"standoff\":15},\"zerolinecolor\":\"white\",\"automargin\":true,\"zerolinewidth\":2},\"yaxis\":{\"gridcolor\":\"white\",\"linecolor\":\"white\",\"ticks\":\"\",\"title\":{\"standoff\":15},\"zerolinecolor\":\"white\",\"automargin\":true,\"zerolinewidth\":2},\"scene\":{\"xaxis\":{\"backgroundcolor\":\"#E5ECF6\",\"gridcolor\":\"white\",\"linecolor\":\"white\",\"showbackground\":true,\"ticks\":\"\",\"zerolinecolor\":\"white\",\"gridwidth\":2},\"yaxis\":{\"backgroundcolor\":\"#E5ECF6\",\"gridcolor\":\"white\",\"linecolor\":\"white\",\"showbackground\":true,\"ticks\":\"\",\"zerolinecolor\":\"white\",\"gridwidth\":2},\"zaxis\":{\"backgroundcolor\":\"#E5ECF6\",\"gridcolor\":\"white\",\"linecolor\":\"white\",\"showbackground\":true,\"ticks\":\"\",\"zerolinecolor\":\"white\",\"gridwidth\":2}},\"shapedefaults\":{\"line\":{\"color\":\"#2a3f5f\"}},\"annotationdefaults\":{\"arrowcolor\":\"#2a3f5f\",\"arrowhead\":0,\"arrowwidth\":1},\"geo\":{\"bgcolor\":\"white\",\"landcolor\":\"#E5ECF6\",\"subunitcolor\":\"white\",\"showland\":true,\"showlakes\":true,\"lakecolor\":\"white\"},\"title\":{\"x\":0.05},\"mapbox\":{\"style\":\"light\"}}},\"xaxis\":{\"anchor\":\"y\",\"domain\":[0.0,1.0],\"title\":{\"text\":\"signup_channel\"}},\"yaxis\":{\"anchor\":\"x\",\"domain\":[0.0,1.0],\"title\":{\"text\":\"value\"}},\"legend\":{\"title\":{\"text\":\"variable\"},\"tracegroupgap\":0},\"title\":{\"text\":\"\\ud83d\\udcf1 Retention by Signup Channel\"},\"barmode\":\"group\"},                        {\"responsive\": true}                    ).then(function(){\n",
       "                            \n",
       "var gd = document.getElementById('1be5071a-7c34-4acf-9f3b-d7254c3e2483');\n",
       "var x = new MutationObserver(function (mutations, observer) {{\n",
       "        var display = window.getComputedStyle(gd).display;\n",
       "        if (!display || display === 'none') {{\n",
       "            console.log([gd, 'removed!']);\n",
       "            Plotly.purge(gd);\n",
       "            observer.disconnect();\n",
       "        }}\n",
       "}});\n",
       "\n",
       "// Listen for the removal of the full notebook cells\n",
       "var notebookContainer = gd.closest('#notebook-container');\n",
       "if (notebookContainer) {{\n",
       "    x.observe(notebookContainer, {childList: true});\n",
       "}}\n",
       "\n",
       "// Listen for the clearing of the current output cell\n",
       "var outputEl = gd.closest('.output');\n",
       "if (outputEl) {{\n",
       "    x.observe(outputEl, {childList: true});\n",
       "}}\n",
       "\n",
       "                        })                };                });            </script>        </div>"
      ]
     },
     "metadata": {},
     "output_type": "display_data"
    },
    {
     "data": {
      "application/vnd.plotly.v1+json": {
       "config": {
        "plotlyServerURL": "https://plot.ly"
       },
       "data": [
        {
         "alignmentgroup": "True",
         "hovertemplate": "variable=retained_7_days<br>device=%{x}<br>value=%{y}<extra></extra>",
         "legendgroup": "retained_7_days",
         "marker": {
          "color": "#AB63FA",
          "pattern": {
           "shape": ""
          }
         },
         "name": "retained_7_days",
         "offsetgroup": "retained_7_days",
         "orientation": "v",
         "showlegend": true,
         "textposition": "auto",
         "type": "bar",
         "x": [
          "Android",
          "Web",
          "iOS"
         ],
         "xaxis": "x",
         "y": [
          0.484304932735426,
          0.4876923076923077,
          0.47430249632892807
         ],
         "yaxis": "y"
        },
        {
         "alignmentgroup": "True",
         "hovertemplate": "variable=retained_30_days<br>device=%{x}<br>value=%{y}<extra></extra>",
         "legendgroup": "retained_30_days",
         "marker": {
          "color": "#FFA15A",
          "pattern": {
           "shape": ""
          }
         },
         "name": "retained_30_days",
         "offsetgroup": "retained_30_days",
         "orientation": "v",
         "showlegend": true,
         "textposition": "auto",
         "type": "bar",
         "x": [
          "Android",
          "Web",
          "iOS"
         ],
         "xaxis": "x",
         "y": [
          0.7354260089686099,
          0.7276923076923076,
          0.6945668135095447
         ],
         "yaxis": "y"
        }
       ],
       "layout": {
        "barmode": "group",
        "legend": {
         "title": {
          "text": "variable"
         },
         "tracegroupgap": 0
        },
        "template": {
         "data": {
          "bar": [
           {
            "error_x": {
             "color": "#2a3f5f"
            },
            "error_y": {
             "color": "#2a3f5f"
            },
            "marker": {
             "line": {
              "color": "#E5ECF6",
              "width": 0.5
             },
             "pattern": {
              "fillmode": "overlay",
              "size": 10,
              "solidity": 0.2
             }
            },
            "type": "bar"
           }
          ],
          "barpolar": [
           {
            "marker": {
             "line": {
              "color": "#E5ECF6",
              "width": 0.5
             },
             "pattern": {
              "fillmode": "overlay",
              "size": 10,
              "solidity": 0.2
             }
            },
            "type": "barpolar"
           }
          ],
          "carpet": [
           {
            "aaxis": {
             "endlinecolor": "#2a3f5f",
             "gridcolor": "white",
             "linecolor": "white",
             "minorgridcolor": "white",
             "startlinecolor": "#2a3f5f"
            },
            "baxis": {
             "endlinecolor": "#2a3f5f",
             "gridcolor": "white",
             "linecolor": "white",
             "minorgridcolor": "white",
             "startlinecolor": "#2a3f5f"
            },
            "type": "carpet"
           }
          ],
          "choropleth": [
           {
            "colorbar": {
             "outlinewidth": 0,
             "ticks": ""
            },
            "type": "choropleth"
           }
          ],
          "contour": [
           {
            "colorbar": {
             "outlinewidth": 0,
             "ticks": ""
            },
            "colorscale": [
             [
              0,
              "#0d0887"
             ],
             [
              0.1111111111111111,
              "#46039f"
             ],
             [
              0.2222222222222222,
              "#7201a8"
             ],
             [
              0.3333333333333333,
              "#9c179e"
             ],
             [
              0.4444444444444444,
              "#bd3786"
             ],
             [
              0.5555555555555556,
              "#d8576b"
             ],
             [
              0.6666666666666666,
              "#ed7953"
             ],
             [
              0.7777777777777778,
              "#fb9f3a"
             ],
             [
              0.8888888888888888,
              "#fdca26"
             ],
             [
              1,
              "#f0f921"
             ]
            ],
            "type": "contour"
           }
          ],
          "contourcarpet": [
           {
            "colorbar": {
             "outlinewidth": 0,
             "ticks": ""
            },
            "type": "contourcarpet"
           }
          ],
          "heatmap": [
           {
            "colorbar": {
             "outlinewidth": 0,
             "ticks": ""
            },
            "colorscale": [
             [
              0,
              "#0d0887"
             ],
             [
              0.1111111111111111,
              "#46039f"
             ],
             [
              0.2222222222222222,
              "#7201a8"
             ],
             [
              0.3333333333333333,
              "#9c179e"
             ],
             [
              0.4444444444444444,
              "#bd3786"
             ],
             [
              0.5555555555555556,
              "#d8576b"
             ],
             [
              0.6666666666666666,
              "#ed7953"
             ],
             [
              0.7777777777777778,
              "#fb9f3a"
             ],
             [
              0.8888888888888888,
              "#fdca26"
             ],
             [
              1,
              "#f0f921"
             ]
            ],
            "type": "heatmap"
           }
          ],
          "heatmapgl": [
           {
            "colorbar": {
             "outlinewidth": 0,
             "ticks": ""
            },
            "colorscale": [
             [
              0,
              "#0d0887"
             ],
             [
              0.1111111111111111,
              "#46039f"
             ],
             [
              0.2222222222222222,
              "#7201a8"
             ],
             [
              0.3333333333333333,
              "#9c179e"
             ],
             [
              0.4444444444444444,
              "#bd3786"
             ],
             [
              0.5555555555555556,
              "#d8576b"
             ],
             [
              0.6666666666666666,
              "#ed7953"
             ],
             [
              0.7777777777777778,
              "#fb9f3a"
             ],
             [
              0.8888888888888888,
              "#fdca26"
             ],
             [
              1,
              "#f0f921"
             ]
            ],
            "type": "heatmapgl"
           }
          ],
          "histogram": [
           {
            "marker": {
             "pattern": {
              "fillmode": "overlay",
              "size": 10,
              "solidity": 0.2
             }
            },
            "type": "histogram"
           }
          ],
          "histogram2d": [
           {
            "colorbar": {
             "outlinewidth": 0,
             "ticks": ""
            },
            "colorscale": [
             [
              0,
              "#0d0887"
             ],
             [
              0.1111111111111111,
              "#46039f"
             ],
             [
              0.2222222222222222,
              "#7201a8"
             ],
             [
              0.3333333333333333,
              "#9c179e"
             ],
             [
              0.4444444444444444,
              "#bd3786"
             ],
             [
              0.5555555555555556,
              "#d8576b"
             ],
             [
              0.6666666666666666,
              "#ed7953"
             ],
             [
              0.7777777777777778,
              "#fb9f3a"
             ],
             [
              0.8888888888888888,
              "#fdca26"
             ],
             [
              1,
              "#f0f921"
             ]
            ],
            "type": "histogram2d"
           }
          ],
          "histogram2dcontour": [
           {
            "colorbar": {
             "outlinewidth": 0,
             "ticks": ""
            },
            "colorscale": [
             [
              0,
              "#0d0887"
             ],
             [
              0.1111111111111111,
              "#46039f"
             ],
             [
              0.2222222222222222,
              "#7201a8"
             ],
             [
              0.3333333333333333,
              "#9c179e"
             ],
             [
              0.4444444444444444,
              "#bd3786"
             ],
             [
              0.5555555555555556,
              "#d8576b"
             ],
             [
              0.6666666666666666,
              "#ed7953"
             ],
             [
              0.7777777777777778,
              "#fb9f3a"
             ],
             [
              0.8888888888888888,
              "#fdca26"
             ],
             [
              1,
              "#f0f921"
             ]
            ],
            "type": "histogram2dcontour"
           }
          ],
          "mesh3d": [
           {
            "colorbar": {
             "outlinewidth": 0,
             "ticks": ""
            },
            "type": "mesh3d"
           }
          ],
          "parcoords": [
           {
            "line": {
             "colorbar": {
              "outlinewidth": 0,
              "ticks": ""
             }
            },
            "type": "parcoords"
           }
          ],
          "pie": [
           {
            "automargin": true,
            "type": "pie"
           }
          ],
          "scatter": [
           {
            "fillpattern": {
             "fillmode": "overlay",
             "size": 10,
             "solidity": 0.2
            },
            "type": "scatter"
           }
          ],
          "scatter3d": [
           {
            "line": {
             "colorbar": {
              "outlinewidth": 0,
              "ticks": ""
             }
            },
            "marker": {
             "colorbar": {
              "outlinewidth": 0,
              "ticks": ""
             }
            },
            "type": "scatter3d"
           }
          ],
          "scattercarpet": [
           {
            "marker": {
             "colorbar": {
              "outlinewidth": 0,
              "ticks": ""
             }
            },
            "type": "scattercarpet"
           }
          ],
          "scattergeo": [
           {
            "marker": {
             "colorbar": {
              "outlinewidth": 0,
              "ticks": ""
             }
            },
            "type": "scattergeo"
           }
          ],
          "scattergl": [
           {
            "marker": {
             "colorbar": {
              "outlinewidth": 0,
              "ticks": ""
             }
            },
            "type": "scattergl"
           }
          ],
          "scattermapbox": [
           {
            "marker": {
             "colorbar": {
              "outlinewidth": 0,
              "ticks": ""
             }
            },
            "type": "scattermapbox"
           }
          ],
          "scatterpolar": [
           {
            "marker": {
             "colorbar": {
              "outlinewidth": 0,
              "ticks": ""
             }
            },
            "type": "scatterpolar"
           }
          ],
          "scatterpolargl": [
           {
            "marker": {
             "colorbar": {
              "outlinewidth": 0,
              "ticks": ""
             }
            },
            "type": "scatterpolargl"
           }
          ],
          "scatterternary": [
           {
            "marker": {
             "colorbar": {
              "outlinewidth": 0,
              "ticks": ""
             }
            },
            "type": "scatterternary"
           }
          ],
          "surface": [
           {
            "colorbar": {
             "outlinewidth": 0,
             "ticks": ""
            },
            "colorscale": [
             [
              0,
              "#0d0887"
             ],
             [
              0.1111111111111111,
              "#46039f"
             ],
             [
              0.2222222222222222,
              "#7201a8"
             ],
             [
              0.3333333333333333,
              "#9c179e"
             ],
             [
              0.4444444444444444,
              "#bd3786"
             ],
             [
              0.5555555555555556,
              "#d8576b"
             ],
             [
              0.6666666666666666,
              "#ed7953"
             ],
             [
              0.7777777777777778,
              "#fb9f3a"
             ],
             [
              0.8888888888888888,
              "#fdca26"
             ],
             [
              1,
              "#f0f921"
             ]
            ],
            "type": "surface"
           }
          ],
          "table": [
           {
            "cells": {
             "fill": {
              "color": "#EBF0F8"
             },
             "line": {
              "color": "white"
             }
            },
            "header": {
             "fill": {
              "color": "#C8D4E3"
             },
             "line": {
              "color": "white"
             }
            },
            "type": "table"
           }
          ]
         },
         "layout": {
          "annotationdefaults": {
           "arrowcolor": "#2a3f5f",
           "arrowhead": 0,
           "arrowwidth": 1
          },
          "autotypenumbers": "strict",
          "coloraxis": {
           "colorbar": {
            "outlinewidth": 0,
            "ticks": ""
           }
          },
          "colorscale": {
           "diverging": [
            [
             0,
             "#8e0152"
            ],
            [
             0.1,
             "#c51b7d"
            ],
            [
             0.2,
             "#de77ae"
            ],
            [
             0.3,
             "#f1b6da"
            ],
            [
             0.4,
             "#fde0ef"
            ],
            [
             0.5,
             "#f7f7f7"
            ],
            [
             0.6,
             "#e6f5d0"
            ],
            [
             0.7,
             "#b8e186"
            ],
            [
             0.8,
             "#7fbc41"
            ],
            [
             0.9,
             "#4d9221"
            ],
            [
             1,
             "#276419"
            ]
           ],
           "sequential": [
            [
             0,
             "#0d0887"
            ],
            [
             0.1111111111111111,
             "#46039f"
            ],
            [
             0.2222222222222222,
             "#7201a8"
            ],
            [
             0.3333333333333333,
             "#9c179e"
            ],
            [
             0.4444444444444444,
             "#bd3786"
            ],
            [
             0.5555555555555556,
             "#d8576b"
            ],
            [
             0.6666666666666666,
             "#ed7953"
            ],
            [
             0.7777777777777778,
             "#fb9f3a"
            ],
            [
             0.8888888888888888,
             "#fdca26"
            ],
            [
             1,
             "#f0f921"
            ]
           ],
           "sequentialminus": [
            [
             0,
             "#0d0887"
            ],
            [
             0.1111111111111111,
             "#46039f"
            ],
            [
             0.2222222222222222,
             "#7201a8"
            ],
            [
             0.3333333333333333,
             "#9c179e"
            ],
            [
             0.4444444444444444,
             "#bd3786"
            ],
            [
             0.5555555555555556,
             "#d8576b"
            ],
            [
             0.6666666666666666,
             "#ed7953"
            ],
            [
             0.7777777777777778,
             "#fb9f3a"
            ],
            [
             0.8888888888888888,
             "#fdca26"
            ],
            [
             1,
             "#f0f921"
            ]
           ]
          },
          "colorway": [
           "#636efa",
           "#EF553B",
           "#00cc96",
           "#ab63fa",
           "#FFA15A",
           "#19d3f3",
           "#FF6692",
           "#B6E880",
           "#FF97FF",
           "#FECB52"
          ],
          "font": {
           "color": "#2a3f5f"
          },
          "geo": {
           "bgcolor": "white",
           "lakecolor": "white",
           "landcolor": "#E5ECF6",
           "showlakes": true,
           "showland": true,
           "subunitcolor": "white"
          },
          "hoverlabel": {
           "align": "left"
          },
          "hovermode": "closest",
          "mapbox": {
           "style": "light"
          },
          "paper_bgcolor": "white",
          "plot_bgcolor": "#E5ECF6",
          "polar": {
           "angularaxis": {
            "gridcolor": "white",
            "linecolor": "white",
            "ticks": ""
           },
           "bgcolor": "#E5ECF6",
           "radialaxis": {
            "gridcolor": "white",
            "linecolor": "white",
            "ticks": ""
           }
          },
          "scene": {
           "xaxis": {
            "backgroundcolor": "#E5ECF6",
            "gridcolor": "white",
            "gridwidth": 2,
            "linecolor": "white",
            "showbackground": true,
            "ticks": "",
            "zerolinecolor": "white"
           },
           "yaxis": {
            "backgroundcolor": "#E5ECF6",
            "gridcolor": "white",
            "gridwidth": 2,
            "linecolor": "white",
            "showbackground": true,
            "ticks": "",
            "zerolinecolor": "white"
           },
           "zaxis": {
            "backgroundcolor": "#E5ECF6",
            "gridcolor": "white",
            "gridwidth": 2,
            "linecolor": "white",
            "showbackground": true,
            "ticks": "",
            "zerolinecolor": "white"
           }
          },
          "shapedefaults": {
           "line": {
            "color": "#2a3f5f"
           }
          },
          "ternary": {
           "aaxis": {
            "gridcolor": "white",
            "linecolor": "white",
            "ticks": ""
           },
           "baxis": {
            "gridcolor": "white",
            "linecolor": "white",
            "ticks": ""
           },
           "bgcolor": "#E5ECF6",
           "caxis": {
            "gridcolor": "white",
            "linecolor": "white",
            "ticks": ""
           }
          },
          "title": {
           "x": 0.05
          },
          "xaxis": {
           "automargin": true,
           "gridcolor": "white",
           "linecolor": "white",
           "ticks": "",
           "title": {
            "standoff": 15
           },
           "zerolinecolor": "white",
           "zerolinewidth": 2
          },
          "yaxis": {
           "automargin": true,
           "gridcolor": "white",
           "linecolor": "white",
           "ticks": "",
           "title": {
            "standoff": 15
           },
           "zerolinecolor": "white",
           "zerolinewidth": 2
          }
         }
        },
        "title": {
         "text": "📱 Retention by Device"
        },
        "xaxis": {
         "anchor": "y",
         "domain": [
          0,
          1
         ],
         "title": {
          "text": "device"
         }
        },
        "yaxis": {
         "anchor": "x",
         "domain": [
          0,
          1
         ],
         "title": {
          "text": "value"
         }
        }
       }
      },
      "image/png": "[encoded data removed]",
      "text/html": [
       "<div>                            <div id=\"4e657f4c-893b-4afa-a090-adaad3d8d31a\" class=\"plotly-graph-div\" style=\"height:525px; width:100%;\"></div>            <script type=\"text/javascript\">                require([\"plotly\"], function(Plotly) {                    window.PLOTLYENV=window.PLOTLYENV || {};                                    if (document.getElementById(\"4e657f4c-893b-4afa-a090-adaad3d8d31a\")) {                    Plotly.newPlot(                        \"4e657f4c-893b-4afa-a090-adaad3d8d31a\",                        [{\"alignmentgroup\":\"True\",\"hovertemplate\":\"variable=retained_7_days\\u003cbr\\u003edevice=%{x}\\u003cbr\\u003evalue=%{y}\\u003cextra\\u003e\\u003c\\u002fextra\\u003e\",\"legendgroup\":\"retained_7_days\",\"marker\":{\"color\":\"#AB63FA\",\"pattern\":{\"shape\":\"\"}},\"name\":\"retained_7_days\",\"offsetgroup\":\"retained_7_days\",\"orientation\":\"v\",\"showlegend\":true,\"textposition\":\"auto\",\"x\":[\"Android\",\"Web\",\"iOS\"],\"xaxis\":\"x\",\"y\":[0.484304932735426,0.4876923076923077,0.47430249632892807],\"yaxis\":\"y\",\"type\":\"bar\"},{\"alignmentgroup\":\"True\",\"hovertemplate\":\"variable=retained_30_days\\u003cbr\\u003edevice=%{x}\\u003cbr\\u003evalue=%{y}\\u003cextra\\u003e\\u003c\\u002fextra\\u003e\",\"legendgroup\":\"retained_30_days\",\"marker\":{\"color\":\"#FFA15A\",\"pattern\":{\"shape\":\"\"}},\"name\":\"retained_30_days\",\"offsetgroup\":\"retained_30_days\",\"orientation\":\"v\",\"showlegend\":true,\"textposition\":\"auto\",\"x\":[\"Android\",\"Web\",\"iOS\"],\"xaxis\":\"x\",\"y\":[0.7354260089686099,0.7276923076923076,0.6945668135095447],\"yaxis\":\"y\",\"type\":\"bar\"}],                        {\"template\":{\"data\":{\"histogram2dcontour\":[{\"type\":\"histogram2dcontour\",\"colorbar\":{\"outlinewidth\":0,\"ticks\":\"\"},\"colorscale\":[[0.0,\"#0d0887\"],[0.1111111111111111,\"#46039f\"],[0.2222222222222222,\"#7201a8\"],[0.3333333333333333,\"#9c179e\"],[0.4444444444444444,\"#bd3786\"],[0.5555555555555556,\"#d8576b\"],[0.6666666666666666,\"#ed7953\"],[0.7777777777777778,\"#fb9f3a\"],[0.8888888888888888,\"#fdca26\"],[1.0,\"#f0f921\"]]}],\"choropleth\":[{\"type\":\"choropleth\",\"colorbar\":{\"outlinewidth\":0,\"ticks\":\"\"}}],\"histogram2d\":[{\"type\":\"histogram2d\",\"colorbar\":{\"outlinewidth\":0,\"ticks\":\"\"},\"colorscale\":[[0.0,\"#0d0887\"],[0.1111111111111111,\"#46039f\"],[0.2222222222222222,\"#7201a8\"],[0.3333333333333333,\"#9c179e\"],[0.4444444444444444,\"#bd3786\"],[0.5555555555555556,\"#d8576b\"],[0.6666666666666666,\"#ed7953\"],[0.7777777777777778,\"#fb9f3a\"],[0.8888888888888888,\"#fdca26\"],[1.0,\"#f0f921\"]]}],\"heatmap\":[{\"type\":\"heatmap\",\"colorbar\":{\"outlinewidth\":0,\"ticks\":\"\"},\"colorscale\":[[0.0,\"#0d0887\"],[0.1111111111111111,\"#46039f\"],[0.2222222222222222,\"#7201a8\"],[0.3333333333333333,\"#9c179e\"],[0.4444444444444444,\"#bd3786\"],[0.5555555555555556,\"#d8576b\"],[0.6666666666666666,\"#ed7953\"],[0.7777777777777778,\"#fb9f3a\"],[0.8888888888888888,\"#fdca26\"],[1.0,\"#f0f921\"]]}],\"heatmapgl\":[{\"type\":\"heatmapgl\",\"colorbar\":{\"outlinewidth\":0,\"ticks\":\"\"},\"colorscale\":[[0.0,\"#0d0887\"],[0.1111111111111111,\"#46039f\"],[0.2222222222222222,\"#7201a8\"],[0.3333333333333333,\"#9c179e\"],[0.4444444444444444,\"#bd3786\"],[0.5555555555555556,\"#d8576b\"],[0.6666666666666666,\"#ed7953\"],[0.7777777777777778,\"#fb9f3a\"],[0.8888888888888888,\"#fdca26\"],[1.0,\"#f0f921\"]]}],\"contourcarpet\":[{\"type\":\"contourcarpet\",\"colorbar\":{\"outlinewidth\":0,\"ticks\":\"\"}}],\"contour\":[{\"type\":\"contour\",\"colorbar\":{\"outlinewidth\":0,\"ticks\":\"\"},\"colorscale\":[[0.0,\"#0d0887\"],[0.1111111111111111,\"#46039f\"],[0.2222222222222222,\"#7201a8\"],[0.3333333333333333,\"#9c179e\"],[0.4444444444444444,\"#bd3786\"],[0.5555555555555556,\"#d8576b\"],[0.6666666666666666,\"#ed7953\"],[0.7777777777777778,\"#fb9f3a\"],[0.8888888888888888,\"#fdca26\"],[1.0,\"#f0f921\"]]}],\"surface\":[{\"type\":\"surface\",\"colorbar\":{\"outlinewidth\":0,\"ticks\":\"\"},\"colorscale\":[[0.0,\"#0d0887\"],[0.1111111111111111,\"#46039f\"],[0.2222222222222222,\"#7201a8\"],[0.3333333333333333,\"#9c179e\"],[0.4444444444444444,\"#bd3786\"],[0.5555555555555556,\"#d8576b\"],[0.6666666666666666,\"#ed7953\"],[0.7777777777777778,\"#fb9f3a\"],[0.8888888888888888,\"#fdca26\"],[1.0,\"#f0f921\"]]}],\"mesh3d\":[{\"type\":\"mesh3d\",\"colorbar\":{\"outlinewidth\":0,\"ticks\":\"\"}}],\"scatter\":[{\"fillpattern\":{\"fillmode\":\"overlay\",\"size\":10,\"solidity\":0.2},\"type\":\"scatter\"}],\"parcoords\":[{\"type\":\"parcoords\",\"line\":{\"colorbar\":{\"outlinewidth\":0,\"ticks\":\"\"}}}],\"scatterpolargl\":[{\"type\":\"scatterpolargl\",\"marker\":{\"colorbar\":{\"outlinewidth\":0,\"ticks\":\"\"}}}],\"bar\":[{\"error_x\":{\"color\":\"#2a3f5f\"},\"error_y\":{\"color\":\"#2a3f5f\"},\"marker\":{\"line\":{\"color\":\"#E5ECF6\",\"width\":0.5},\"pattern\":{\"fillmode\":\"overlay\",\"size\":10,\"solidity\":0.2}},\"type\":\"bar\"}],\"scattergeo\":[{\"type\":\"scattergeo\",\"marker\":{\"colorbar\":{\"outlinewidth\":0,\"ticks\":\"\"}}}],\"scatterpolar\":[{\"type\":\"scatterpolar\",\"marker\":{\"colorbar\":{\"outlinewidth\":0,\"ticks\":\"\"}}}],\"histogram\":[{\"marker\":{\"pattern\":{\"fillmode\":\"overlay\",\"size\":10,\"solidity\":0.2}},\"type\":\"histogram\"}],\"scattergl\":[{\"type\":\"scattergl\",\"marker\":{\"colorbar\":{\"outlinewidth\":0,\"ticks\":\"\"}}}],\"scatter3d\":[{\"type\":\"scatter3d\",\"line\":{\"colorbar\":{\"outlinewidth\":0,\"ticks\":\"\"}},\"marker\":{\"colorbar\":{\"outlinewidth\":0,\"ticks\":\"\"}}}],\"scattermapbox\":[{\"type\":\"scattermapbox\",\"marker\":{\"colorbar\":{\"outlinewidth\":0,\"ticks\":\"\"}}}],\"scatterternary\":[{\"type\":\"scatterternary\",\"marker\":{\"colorbar\":{\"outlinewidth\":0,\"ticks\":\"\"}}}],\"scattercarpet\":[{\"type\":\"scattercarpet\",\"marker\":{\"colorbar\":{\"outlinewidth\":0,\"ticks\":\"\"}}}],\"carpet\":[{\"aaxis\":{\"endlinecolor\":\"#2a3f5f\",\"gridcolor\":\"white\",\"linecolor\":\"white\",\"minorgridcolor\":\"white\",\"startlinecolor\":\"#2a3f5f\"},\"baxis\":{\"endlinecolor\":\"#2a3f5f\",\"gridcolor\":\"white\",\"linecolor\":\"white\",\"minorgridcolor\":\"white\",\"startlinecolor\":\"#2a3f5f\"},\"type\":\"carpet\"}],\"table\":[{\"cells\":{\"fill\":{\"color\":\"#EBF0F8\"},\"line\":{\"color\":\"white\"}},\"header\":{\"fill\":{\"color\":\"#C8D4E3\"},\"line\":{\"color\":\"white\"}},\"type\":\"table\"}],\"barpolar\":[{\"marker\":{\"line\":{\"color\":\"#E5ECF6\",\"width\":0.5},\"pattern\":{\"fillmode\":\"overlay\",\"size\":10,\"solidity\":0.2}},\"type\":\"barpolar\"}],\"pie\":[{\"automargin\":true,\"type\":\"pie\"}]},\"layout\":{\"autotypenumbers\":\"strict\",\"colorway\":[\"#636efa\",\"#EF553B\",\"#00cc96\",\"#ab63fa\",\"#FFA15A\",\"#19d3f3\",\"#FF6692\",\"#B6E880\",\"#FF97FF\",\"#FECB52\"],\"font\":{\"color\":\"#2a3f5f\"},\"hovermode\":\"closest\",\"hoverlabel\":{\"align\":\"left\"},\"paper_bgcolor\":\"white\",\"plot_bgcolor\":\"#E5ECF6\",\"polar\":{\"bgcolor\":\"#E5ECF6\",\"angularaxis\":{\"gridcolor\":\"white\",\"linecolor\":\"white\",\"ticks\":\"\"},\"radialaxis\":{\"gridcolor\":\"white\",\"linecolor\":\"white\",\"ticks\":\"\"}},\"ternary\":{\"bgcolor\":\"#E5ECF6\",\"aaxis\":{\"gridcolor\":\"white\",\"linecolor\":\"white\",\"ticks\":\"\"},\"baxis\":{\"gridcolor\":\"white\",\"linecolor\":\"white\",\"ticks\":\"\"},\"caxis\":{\"gridcolor\":\"white\",\"linecolor\":\"white\",\"ticks\":\"\"}},\"coloraxis\":{\"colorbar\":{\"outlinewidth\":0,\"ticks\":\"\"}},\"colorscale\":{\"sequential\":[[0.0,\"#0d0887\"],[0.1111111111111111,\"#46039f\"],[0.2222222222222222,\"#7201a8\"],[0.3333333333333333,\"#9c179e\"],[0.4444444444444444,\"#bd3786\"],[0.5555555555555556,\"#d8576b\"],[0.6666666666666666,\"#ed7953\"],[0.7777777777777778,\"#fb9f3a\"],[0.8888888888888888,\"#fdca26\"],[1.0,\"#f0f921\"]],\"sequentialminus\":[[0.0,\"#0d0887\"],[0.1111111111111111,\"#46039f\"],[0.2222222222222222,\"#7201a8\"],[0.3333333333333333,\"#9c179e\"],[0.4444444444444444,\"#bd3786\"],[0.5555555555555556,\"#d8576b\"],[0.6666666666666666,\"#ed7953\"],[0.7777777777777778,\"#fb9f3a\"],[0.8888888888888888,\"#fdca26\"],[1.0,\"#f0f921\"]],\"diverging\":[[0,\"#8e0152\"],[0.1,\"#c51b7d\"],[0.2,\"#de77ae\"],[0.3,\"#f1b6da\"],[0.4,\"#fde0ef\"],[0.5,\"#f7f7f7\"],[0.6,\"#e6f5d0\"],[0.7,\"#b8e186\"],[0.8,\"#7fbc41\"],[0.9,\"#4d9221\"],[1,\"#276419\"]]},\"xaxis\":{\"gridcolor\":\"white\",\"linecolor\":\"white\",\"ticks\":\"\",\"title\":{\"standoff\":15},\"zerolinecolor\":\"white\",\"automargin\":true,\"zerolinewidth\":2},\"yaxis\":{\"gridcolor\":\"white\",\"linecolor\":\"white\",\"ticks\":\"\",\"title\":{\"standoff\":15},\"zerolinecolor\":\"white\",\"automargin\":true,\"zerolinewidth\":2},\"scene\":{\"xaxis\":{\"backgroundcolor\":\"#E5ECF6\",\"gridcolor\":\"white\",\"linecolor\":\"white\",\"showbackground\":true,\"ticks\":\"\",\"zerolinecolor\":\"white\",\"gridwidth\":2},\"yaxis\":{\"backgroundcolor\":\"#E5ECF6\",\"gridcolor\":\"white\",\"linecolor\":\"white\",\"showbackground\":true,\"ticks\":\"\",\"zerolinecolor\":\"white\",\"gridwidth\":2},\"zaxis\":{\"backgroundcolor\":\"#E5ECF6\",\"gridcolor\":\"white\",\"linecolor\":\"white\",\"showbackground\":true,\"ticks\":\"\",\"zerolinecolor\":\"white\",\"gridwidth\":2}},\"shapedefaults\":{\"line\":{\"color\":\"#2a3f5f\"}},\"annotationdefaults\":{\"arrowcolor\":\"#2a3f5f\",\"arrowhead\":0,\"arrowwidth\":1},\"geo\":{\"bgcolor\":\"white\",\"landcolor\":\"#E5ECF6\",\"subunitcolor\":\"white\",\"showland\":true,\"showlakes\":true,\"lakecolor\":\"white\"},\"title\":{\"x\":0.05},\"mapbox\":{\"style\":\"light\"}}},\"xaxis\":{\"anchor\":\"y\",\"domain\":[0.0,1.0],\"title\":{\"text\":\"device\"}},\"yaxis\":{\"anchor\":\"x\",\"domain\":[0.0,1.0],\"title\":{\"text\":\"value\"}},\"legend\":{\"title\":{\"text\":\"variable\"},\"tracegroupgap\":0},\"title\":{\"text\":\"\\ud83d\\udcf1 Retention by Device\"},\"barmode\":\"group\"},                        {\"responsive\": true}                    ).then(function(){\n",
       "                            \n",
       "var gd = document.getElementById('4e657f4c-893b-4afa-a090-adaad3d8d31a');\n",
       "var x = new MutationObserver(function (mutations, observer) {{\n",
       "        var display = window.getComputedStyle(gd).display;\n",
       "        if (!display || display === 'none') {{\n",
       "            console.log([gd, 'removed!']);\n",
       "            Plotly.purge(gd);\n",
       "            observer.disconnect();\n",
       "        }}\n",
       "}});\n",
       "\n",
       "// Listen for the removal of the full notebook cells\n",
       "var notebookContainer = gd.closest('#notebook-container');\n",
       "if (notebookContainer) {{\n",
       "    x.observe(notebookContainer, {childList: true});\n",
       "}}\n",
       "\n",
       "// Listen for the clearing of the current output cell\n",
       "var outputEl = gd.closest('.output');\n",
       "if (outputEl) {{\n",
       "    x.observe(outputEl, {childList: true});\n",
       "}}\n",
       "\n",
       "                        })                };                });            </script>        </div>"
      ]
     },
     "metadata": {},
     "output_type": "display_data"
    },
    {
     "data": {
      "application/vnd.plotly.v1+json": {
       "config": {
        "plotlyServerURL": "https://plot.ly"
       },
       "data": [
        {
         "coloraxis": "coloraxis",
         "hovertemplate": "x: %{x}<br>y: %{y}<br>color: %{z}<extra></extra>",
         "name": "0",
         "texttemplate": "%{z}",
         "type": "heatmap",
         "x": [
          "days_to_1st_order",
          "days_between_1st_2nd",
          "avg_order_value",
          "retained_7_days",
          "retained_30_days"
         ],
         "xaxis": "x",
         "y": [
          "days_to_1st_order",
          "days_between_1st_2nd",
          "avg_order_value",
          "retained_7_days",
          "retained_30_days"
         ],
         "yaxis": "y",
         "z": [
          [
           1,
           0.0356776313241986,
           0.05014501937277186,
           -0.035768686840624175,
           -0.03312749540952957
          ],
          [
           0.0356776313241986,
           1,
           0.0016960849354677844,
           -0.821200590709532,
           null
          ],
          [
           0.05014501937277186,
           0.0016960849354677844,
           1,
           0.0506000996975963,
           0.10770066995309878
          ],
          [
           -0.035768686840624175,
           -0.821200590709532,
           0.0506000996975963,
           1,
           0.6030417133387098
          ],
          [
           -0.03312749540952957,
           null,
           0.10770066995309878,
           0.6030417133387098,
           1
          ]
         ]
        }
       ],
       "layout": {
        "coloraxis": {
         "colorscale": [
          [
           0,
           "rgb(5,48,97)"
          ],
          [
           0.1,
           "rgb(33,102,172)"
          ],
          [
           0.2,
           "rgb(67,147,195)"
          ],
          [
           0.3,
           "rgb(146,197,222)"
          ],
          [
           0.4,
           "rgb(209,229,240)"
          ],
          [
           0.5,
           "rgb(247,247,247)"
          ],
          [
           0.6,
           "rgb(253,219,199)"
          ],
          [
           0.7,
           "rgb(244,165,130)"
          ],
          [
           0.8,
           "rgb(214,96,77)"
          ],
          [
           0.9,
           "rgb(178,24,43)"
          ],
          [
           1,
           "rgb(103,0,31)"
          ]
         ]
        },
        "template": {
         "data": {
          "bar": [
           {
            "error_x": {
             "color": "#2a3f5f"
            },
            "error_y": {
             "color": "#2a3f5f"
            },
            "marker": {
             "line": {
              "color": "#E5ECF6",
              "width": 0.5
             },
             "pattern": {
              "fillmode": "overlay",
              "size": 10,
              "solidity": 0.2
             }
            },
            "type": "bar"
           }
          ],
          "barpolar": [
           {
            "marker": {
             "line": {
              "color": "#E5ECF6",
              "width": 0.5
             },
             "pattern": {
              "fillmode": "overlay",
              "size": 10,
              "solidity": 0.2
             }
            },
            "type": "barpolar"
           }
          ],
          "carpet": [
           {
            "aaxis": {
             "endlinecolor": "#2a3f5f",
             "gridcolor": "white",
             "linecolor": "white",
             "minorgridcolor": "white",
             "startlinecolor": "#2a3f5f"
            },
            "baxis": {
             "endlinecolor": "#2a3f5f",
             "gridcolor": "white",
             "linecolor": "white",
             "minorgridcolor": "white",
             "startlinecolor": "#2a3f5f"
            },
            "type": "carpet"
           }
          ],
          "choropleth": [
           {
            "colorbar": {
             "outlinewidth": 0,
             "ticks": ""
            },
            "type": "choropleth"
           }
          ],
          "contour": [
           {
            "colorbar": {
             "outlinewidth": 0,
             "ticks": ""
            },
            "colorscale": [
             [
              0,
              "#0d0887"
             ],
             [
              0.1111111111111111,
              "#46039f"
             ],
             [
              0.2222222222222222,
              "#7201a8"
             ],
             [
              0.3333333333333333,
              "#9c179e"
             ],
             [
              0.4444444444444444,
              "#bd3786"
             ],
             [
              0.5555555555555556,
              "#d8576b"
             ],
             [
              0.6666666666666666,
              "#ed7953"
             ],
             [
              0.7777777777777778,
              "#fb9f3a"
             ],
             [
              0.8888888888888888,
              "#fdca26"
             ],
             [
              1,
              "#f0f921"
             ]
            ],
            "type": "contour"
           }
          ],
          "contourcarpet": [
           {
            "colorbar": {
             "outlinewidth": 0,
             "ticks": ""
            },
            "type": "contourcarpet"
           }
          ],
          "heatmap": [
           {
            "colorbar": {
             "outlinewidth": 0,
             "ticks": ""
            },
            "colorscale": [
             [
              0,
              "#0d0887"
             ],
             [
              0.1111111111111111,
              "#46039f"
             ],
             [
              0.2222222222222222,
              "#7201a8"
             ],
             [
              0.3333333333333333,
              "#9c179e"
             ],
             [
              0.4444444444444444,
              "#bd3786"
             ],
             [
              0.5555555555555556,
              "#d8576b"
             ],
             [
              0.6666666666666666,
              "#ed7953"
             ],
             [
              0.7777777777777778,
              "#fb9f3a"
             ],
             [
              0.8888888888888888,
              "#fdca26"
             ],
             [
              1,
              "#f0f921"
             ]
            ],
            "type": "heatmap"
           }
          ],
          "heatmapgl": [
           {
            "colorbar": {
             "outlinewidth": 0,
             "ticks": ""
            },
            "colorscale": [
             [
              0,
              "#0d0887"
             ],
             [
              0.1111111111111111,
              "#46039f"
             ],
             [
              0.2222222222222222,
              "#7201a8"
             ],
             [
              0.3333333333333333,
              "#9c179e"
             ],
             [
              0.4444444444444444,
              "#bd3786"
             ],
             [
              0.5555555555555556,
              "#d8576b"
             ],
             [
              0.6666666666666666,
              "#ed7953"
             ],
             [
              0.7777777777777778,
              "#fb9f3a"
             ],
             [
              0.8888888888888888,
              "#fdca26"
             ],
             [
              1,
              "#f0f921"
             ]
            ],
            "type": "heatmapgl"
           }
          ],
          "histogram": [
           {
            "marker": {
             "pattern": {
              "fillmode": "overlay",
              "size": 10,
              "solidity": 0.2
             }
            },
            "type": "histogram"
           }
          ],
          "histogram2d": [
           {
            "colorbar": {
             "outlinewidth": 0,
             "ticks": ""
            },
            "colorscale": [
             [
              0,
              "#0d0887"
             ],
             [
              0.1111111111111111,
              "#46039f"
             ],
             [
              0.2222222222222222,
              "#7201a8"
             ],
             [
              0.3333333333333333,
              "#9c179e"
             ],
             [
              0.4444444444444444,
              "#bd3786"
             ],
             [
              0.5555555555555556,
              "#d8576b"
             ],
             [
              0.6666666666666666,
              "#ed7953"
             ],
             [
              0.7777777777777778,
              "#fb9f3a"
             ],
             [
              0.8888888888888888,
              "#fdca26"
             ],
             [
              1,
              "#f0f921"
             ]
            ],
            "type": "histogram2d"
           }
          ],
          "histogram2dcontour": [
           {
            "colorbar": {
             "outlinewidth": 0,
             "ticks": ""
            },
            "colorscale": [
             [
              0,
              "#0d0887"
             ],
             [
              0.1111111111111111,
              "#46039f"
             ],
             [
              0.2222222222222222,
              "#7201a8"
             ],
             [
              0.3333333333333333,
              "#9c179e"
             ],
             [
              0.4444444444444444,
              "#bd3786"
             ],
             [
              0.5555555555555556,
              "#d8576b"
             ],
             [
              0.6666666666666666,
              "#ed7953"
             ],
             [
              0.7777777777777778,
              "#fb9f3a"
             ],
             [
              0.8888888888888888,
              "#fdca26"
             ],
             [
              1,
              "#f0f921"
             ]
            ],
            "type": "histogram2dcontour"
           }
          ],
          "mesh3d": [
           {
            "colorbar": {
             "outlinewidth": 0,
             "ticks": ""
            },
            "type": "mesh3d"
           }
          ],
          "parcoords": [
           {
            "line": {
             "colorbar": {
              "outlinewidth": 0,
              "ticks": ""
             }
            },
            "type": "parcoords"
           }
          ],
          "pie": [
           {
            "automargin": true,
            "type": "pie"
           }
          ],
          "scatter": [
           {
            "fillpattern": {
             "fillmode": "overlay",
             "size": 10,
             "solidity": 0.2
            },
            "type": "scatter"
           }
          ],
          "scatter3d": [
           {
            "line": {
             "colorbar": {
              "outlinewidth": 0,
              "ticks": ""
             }
            },
            "marker": {
             "colorbar": {
              "outlinewidth": 0,
              "ticks": ""
             }
            },
            "type": "scatter3d"
           }
          ],
          "scattercarpet": [
           {
            "marker": {
             "colorbar": {
              "outlinewidth": 0,
              "ticks": ""
             }
            },
            "type": "scattercarpet"
           }
          ],
          "scattergeo": [
           {
            "marker": {
             "colorbar": {
              "outlinewidth": 0,
              "ticks": ""
             }
            },
            "type": "scattergeo"
           }
          ],
          "scattergl": [
           {
            "marker": {
             "colorbar": {
              "outlinewidth": 0,
              "ticks": ""
             }
            },
            "type": "scattergl"
           }
          ],
          "scattermapbox": [
           {
            "marker": {
             "colorbar": {
              "outlinewidth": 0,
              "ticks": ""
             }
            },
            "type": "scattermapbox"
           }
          ],
          "scatterpolar": [
           {
            "marker": {
             "colorbar": {
              "outlinewidth": 0,
              "ticks": ""
             }
            },
            "type": "scatterpolar"
           }
          ],
          "scatterpolargl": [
           {
            "marker": {
             "colorbar": {
              "outlinewidth": 0,
              "ticks": ""
             }
            },
            "type": "scatterpolargl"
           }
          ],
          "scatterternary": [
           {
            "marker": {
             "colorbar": {
              "outlinewidth": 0,
              "ticks": ""
             }
            },
            "type": "scatterternary"
           }
          ],
          "surface": [
           {
            "colorbar": {
             "outlinewidth": 0,
             "ticks": ""
            },
            "colorscale": [
             [
              0,
              "#0d0887"
             ],
             [
              0.1111111111111111,
              "#46039f"
             ],
             [
              0.2222222222222222,
              "#7201a8"
             ],
             [
              0.3333333333333333,
              "#9c179e"
             ],
             [
              0.4444444444444444,
              "#bd3786"
             ],
             [
              0.5555555555555556,
              "#d8576b"
             ],
             [
              0.6666666666666666,
              "#ed7953"
             ],
             [
              0.7777777777777778,
              "#fb9f3a"
             ],
             [
              0.8888888888888888,
              "#fdca26"
             ],
             [
              1,
              "#f0f921"
             ]
            ],
            "type": "surface"
           }
          ],
          "table": [
           {
            "cells": {
             "fill": {
              "color": "#EBF0F8"
             },
             "line": {
              "color": "white"
             }
            },
            "header": {
             "fill": {
              "color": "#C8D4E3"
             },
             "line": {
              "color": "white"
             }
            },
            "type": "table"
           }
          ]
         },
         "layout": {
          "annotationdefaults": {
           "arrowcolor": "#2a3f5f",
           "arrowhead": 0,
           "arrowwidth": 1
          },
          "autotypenumbers": "strict",
          "coloraxis": {
           "colorbar": {
            "outlinewidth": 0,
            "ticks": ""
           }
          },
          "colorscale": {
           "diverging": [
            [
             0,
             "#8e0152"
            ],
            [
             0.1,
             "#c51b7d"
            ],
            [
             0.2,
             "#de77ae"
            ],
            [
             0.3,
             "#f1b6da"
            ],
            [
             0.4,
             "#fde0ef"
            ],
            [
             0.5,
             "#f7f7f7"
            ],
            [
             0.6,
             "#e6f5d0"
            ],
            [
             0.7,
             "#b8e186"
            ],
            [
             0.8,
             "#7fbc41"
            ],
            [
             0.9,
             "#4d9221"
            ],
            [
             1,
             "#276419"
            ]
           ],
           "sequential": [
            [
             0,
             "#0d0887"
            ],
            [
             0.1111111111111111,
             "#46039f"
            ],
            [
             0.2222222222222222,
             "#7201a8"
            ],
            [
             0.3333333333333333,
             "#9c179e"
            ],
            [
             0.4444444444444444,
             "#bd3786"
            ],
            [
             0.5555555555555556,
             "#d8576b"
            ],
            [
             0.6666666666666666,
             "#ed7953"
            ],
            [
             0.7777777777777778,
             "#fb9f3a"
            ],
            [
             0.8888888888888888,
             "#fdca26"
            ],
            [
             1,
             "#f0f921"
            ]
           ],
           "sequentialminus": [
            [
             0,
             "#0d0887"
            ],
            [
             0.1111111111111111,
             "#46039f"
            ],
            [
             0.2222222222222222,
             "#7201a8"
            ],
            [
             0.3333333333333333,
             "#9c179e"
            ],
            [
             0.4444444444444444,
             "#bd3786"
            ],
            [
             0.5555555555555556,
             "#d8576b"
            ],
            [
             0.6666666666666666,
             "#ed7953"
            ],
            [
             0.7777777777777778,
             "#fb9f3a"
            ],
            [
             0.8888888888888888,
             "#fdca26"
            ],
            [
             1,
             "#f0f921"
            ]
           ]
          },
          "colorway": [
           "#636efa",
           "#EF553B",
           "#00cc96",
           "#ab63fa",
           "#FFA15A",
           "#19d3f3",
           "#FF6692",
           "#B6E880",
           "#FF97FF",
           "#FECB52"
          ],
          "font": {
           "color": "#2a3f5f"
          },
          "geo": {
           "bgcolor": "white",
           "lakecolor": "white",
           "landcolor": "#E5ECF6",
           "showlakes": true,
           "showland": true,
           "subunitcolor": "white"
          },
          "hoverlabel": {
           "align": "left"
          },
          "hovermode": "closest",
          "mapbox": {
           "style": "light"
          },
          "paper_bgcolor": "white",
          "plot_bgcolor": "#E5ECF6",
          "polar": {
           "angularaxis": {
            "gridcolor": "white",
            "linecolor": "white",
            "ticks": ""
           },
           "bgcolor": "#E5ECF6",
           "radialaxis": {
            "gridcolor": "white",
            "linecolor": "white",
            "ticks": ""
           }
          },
          "scene": {
           "xaxis": {
            "backgroundcolor": "#E5ECF6",
            "gridcolor": "white",
            "gridwidth": 2,
            "linecolor": "white",
            "showbackground": true,
            "ticks": "",
            "zerolinecolor": "white"
           },
           "yaxis": {
            "backgroundcolor": "#E5ECF6",
            "gridcolor": "white",
            "gridwidth": 2,
            "linecolor": "white",
            "showbackground": true,
            "ticks": "",
            "zerolinecolor": "white"
           },
           "zaxis": {
            "backgroundcolor": "#E5ECF6",
            "gridcolor": "white",
            "gridwidth": 2,
            "linecolor": "white",
            "showbackground": true,
            "ticks": "",
            "zerolinecolor": "white"
           }
          },
          "shapedefaults": {
           "line": {
            "color": "#2a3f5f"
           }
          },
          "ternary": {
           "aaxis": {
            "gridcolor": "white",
            "linecolor": "white",
            "ticks": ""
           },
           "baxis": {
            "gridcolor": "white",
            "linecolor": "white",
            "ticks": ""
           },
           "bgcolor": "#E5ECF6",
           "caxis": {
            "gridcolor": "white",
            "linecolor": "white",
            "ticks": ""
           }
          },
          "title": {
           "x": 0.05
          },
          "xaxis": {
           "automargin": true,
           "gridcolor": "white",
           "linecolor": "white",
           "ticks": "",
           "title": {
            "standoff": 15
           },
           "zerolinecolor": "white",
           "zerolinewidth": 2
          },
          "yaxis": {
           "automargin": true,
           "gridcolor": "white",
           "linecolor": "white",
           "ticks": "",
           "title": {
            "standoff": 15
           },
           "zerolinecolor": "white",
           "zerolinewidth": 2
          }
         }
        },
        "title": {
         "text": "📊 Correlation Heatmap of Key Metrics"
        },
        "xaxis": {
         "anchor": "y",
         "constrain": "domain",
         "domain": [
          0,
          1
         ],
         "scaleanchor": "y"
        },
        "yaxis": {
         "anchor": "x",
         "autorange": "reversed",
         "constrain": "domain",
         "domain": [
          0,
          1
         ]
        }
       }
      },
      "image/png": "[encoded data removed]",
      "text/html": [
       "<div>                            <div id=\"87ebe548-d469-4768-940b-9ff11aa55c8f\" class=\"plotly-graph-div\" style=\"height:525px; width:100%;\"></div>            <script type=\"text/javascript\">                require([\"plotly\"], function(Plotly) {                    window.PLOTLYENV=window.PLOTLYENV || {};                                    if (document.getElementById(\"87ebe548-d469-4768-940b-9ff11aa55c8f\")) {                    Plotly.newPlot(                        \"87ebe548-d469-4768-940b-9ff11aa55c8f\",                        [{\"coloraxis\":\"coloraxis\",\"name\":\"0\",\"texttemplate\":\"%{z}\",\"x\":[\"days_to_1st_order\",\"days_between_1st_2nd\",\"avg_order_value\",\"retained_7_days\",\"retained_30_days\"],\"y\":[\"days_to_1st_order\",\"days_between_1st_2nd\",\"avg_order_value\",\"retained_7_days\",\"retained_30_days\"],\"z\":[[1.0,0.0356776313241986,0.05014501937277186,-0.035768686840624175,-0.03312749540952957],[0.0356776313241986,1.0,0.0016960849354677844,-0.821200590709532,null],[0.05014501937277186,0.0016960849354677844,1.0,0.0506000996975963,0.10770066995309878],[-0.035768686840624175,-0.821200590709532,0.0506000996975963,1.0,0.6030417133387098],[-0.03312749540952957,null,0.10770066995309878,0.6030417133387098,1.0]],\"type\":\"heatmap\",\"xaxis\":\"x\",\"yaxis\":\"y\",\"hovertemplate\":\"x: %{x}\\u003cbr\\u003ey: %{y}\\u003cbr\\u003ecolor: %{z}\\u003cextra\\u003e\\u003c\\u002fextra\\u003e\"}],                        {\"template\":{\"data\":{\"histogram2dcontour\":[{\"type\":\"histogram2dcontour\",\"colorbar\":{\"outlinewidth\":0,\"ticks\":\"\"},\"colorscale\":[[0.0,\"#0d0887\"],[0.1111111111111111,\"#46039f\"],[0.2222222222222222,\"#7201a8\"],[0.3333333333333333,\"#9c179e\"],[0.4444444444444444,\"#bd3786\"],[0.5555555555555556,\"#d8576b\"],[0.6666666666666666,\"#ed7953\"],[0.7777777777777778,\"#fb9f3a\"],[0.8888888888888888,\"#fdca26\"],[1.0,\"#f0f921\"]]}],\"choropleth\":[{\"type\":\"choropleth\",\"colorbar\":{\"outlinewidth\":0,\"ticks\":\"\"}}],\"histogram2d\":[{\"type\":\"histogram2d\",\"colorbar\":{\"outlinewidth\":0,\"ticks\":\"\"},\"colorscale\":[[0.0,\"#0d0887\"],[0.1111111111111111,\"#46039f\"],[0.2222222222222222,\"#7201a8\"],[0.3333333333333333,\"#9c179e\"],[0.4444444444444444,\"#bd3786\"],[0.5555555555555556,\"#d8576b\"],[0.6666666666666666,\"#ed7953\"],[0.7777777777777778,\"#fb9f3a\"],[0.8888888888888888,\"#fdca26\"],[1.0,\"#f0f921\"]]}],\"heatmap\":[{\"type\":\"heatmap\",\"colorbar\":{\"outlinewidth\":0,\"ticks\":\"\"},\"colorscale\":[[0.0,\"#0d0887\"],[0.1111111111111111,\"#46039f\"],[0.2222222222222222,\"#7201a8\"],[0.3333333333333333,\"#9c179e\"],[0.4444444444444444,\"#bd3786\"],[0.5555555555555556,\"#d8576b\"],[0.6666666666666666,\"#ed7953\"],[0.7777777777777778,\"#fb9f3a\"],[0.8888888888888888,\"#fdca26\"],[1.0,\"#f0f921\"]]}],\"heatmapgl\":[{\"type\":\"heatmapgl\",\"colorbar\":{\"outlinewidth\":0,\"ticks\":\"\"},\"colorscale\":[[0.0,\"#0d0887\"],[0.1111111111111111,\"#46039f\"],[0.2222222222222222,\"#7201a8\"],[0.3333333333333333,\"#9c179e\"],[0.4444444444444444,\"#bd3786\"],[0.5555555555555556,\"#d8576b\"],[0.6666666666666666,\"#ed7953\"],[0.7777777777777778,\"#fb9f3a\"],[0.8888888888888888,\"#fdca26\"],[1.0,\"#f0f921\"]]}],\"contourcarpet\":[{\"type\":\"contourcarpet\",\"colorbar\":{\"outlinewidth\":0,\"ticks\":\"\"}}],\"contour\":[{\"type\":\"contour\",\"colorbar\":{\"outlinewidth\":0,\"ticks\":\"\"},\"colorscale\":[[0.0,\"#0d0887\"],[0.1111111111111111,\"#46039f\"],[0.2222222222222222,\"#7201a8\"],[0.3333333333333333,\"#9c179e\"],[0.4444444444444444,\"#bd3786\"],[0.5555555555555556,\"#d8576b\"],[0.6666666666666666,\"#ed7953\"],[0.7777777777777778,\"#fb9f3a\"],[0.8888888888888888,\"#fdca26\"],[1.0,\"#f0f921\"]]}],\"surface\":[{\"type\":\"surface\",\"colorbar\":{\"outlinewidth\":0,\"ticks\":\"\"},\"colorscale\":[[0.0,\"#0d0887\"],[0.1111111111111111,\"#46039f\"],[0.2222222222222222,\"#7201a8\"],[0.3333333333333333,\"#9c179e\"],[0.4444444444444444,\"#bd3786\"],[0.5555555555555556,\"#d8576b\"],[0.6666666666666666,\"#ed7953\"],[0.7777777777777778,\"#fb9f3a\"],[0.8888888888888888,\"#fdca26\"],[1.0,\"#f0f921\"]]}],\"mesh3d\":[{\"type\":\"mesh3d\",\"colorbar\":{\"outlinewidth\":0,\"ticks\":\"\"}}],\"scatter\":[{\"fillpattern\":{\"fillmode\":\"overlay\",\"size\":10,\"solidity\":0.2},\"type\":\"scatter\"}],\"parcoords\":[{\"type\":\"parcoords\",\"line\":{\"colorbar\":{\"outlinewidth\":0,\"ticks\":\"\"}}}],\"scatterpolargl\":[{\"type\":\"scatterpolargl\",\"marker\":{\"colorbar\":{\"outlinewidth\":0,\"ticks\":\"\"}}}],\"bar\":[{\"error_x\":{\"color\":\"#2a3f5f\"},\"error_y\":{\"color\":\"#2a3f5f\"},\"marker\":{\"line\":{\"color\":\"#E5ECF6\",\"width\":0.5},\"pattern\":{\"fillmode\":\"overlay\",\"size\":10,\"solidity\":0.2}},\"type\":\"bar\"}],\"scattergeo\":[{\"type\":\"scattergeo\",\"marker\":{\"colorbar\":{\"outlinewidth\":0,\"ticks\":\"\"}}}],\"scatterpolar\":[{\"type\":\"scatterpolar\",\"marker\":{\"colorbar\":{\"outlinewidth\":0,\"ticks\":\"\"}}}],\"histogram\":[{\"marker\":{\"pattern\":{\"fillmode\":\"overlay\",\"size\":10,\"solidity\":0.2}},\"type\":\"histogram\"}],\"scattergl\":[{\"type\":\"scattergl\",\"marker\":{\"colorbar\":{\"outlinewidth\":0,\"ticks\":\"\"}}}],\"scatter3d\":[{\"type\":\"scatter3d\",\"line\":{\"colorbar\":{\"outlinewidth\":0,\"ticks\":\"\"}},\"marker\":{\"colorbar\":{\"outlinewidth\":0,\"ticks\":\"\"}}}],\"scattermapbox\":[{\"type\":\"scattermapbox\",\"marker\":{\"colorbar\":{\"outlinewidth\":0,\"ticks\":\"\"}}}],\"scatterternary\":[{\"type\":\"scatterternary\",\"marker\":{\"colorbar\":{\"outlinewidth\":0,\"ticks\":\"\"}}}],\"scattercarpet\":[{\"type\":\"scattercarpet\",\"marker\":{\"colorbar\":{\"outlinewidth\":0,\"ticks\":\"\"}}}],\"carpet\":[{\"aaxis\":{\"endlinecolor\":\"#2a3f5f\",\"gridcolor\":\"white\",\"linecolor\":\"white\",\"minorgridcolor\":\"white\",\"startlinecolor\":\"#2a3f5f\"},\"baxis\":{\"endlinecolor\":\"#2a3f5f\",\"gridcolor\":\"white\",\"linecolor\":\"white\",\"minorgridcolor\":\"white\",\"startlinecolor\":\"#2a3f5f\"},\"type\":\"carpet\"}],\"table\":[{\"cells\":{\"fill\":{\"color\":\"#EBF0F8\"},\"line\":{\"color\":\"white\"}},\"header\":{\"fill\":{\"color\":\"#C8D4E3\"},\"line\":{\"color\":\"white\"}},\"type\":\"table\"}],\"barpolar\":[{\"marker\":{\"line\":{\"color\":\"#E5ECF6\",\"width\":0.5},\"pattern\":{\"fillmode\":\"overlay\",\"size\":10,\"solidity\":0.2}},\"type\":\"barpolar\"}],\"pie\":[{\"automargin\":true,\"type\":\"pie\"}]},\"layout\":{\"autotypenumbers\":\"strict\",\"colorway\":[\"#636efa\",\"#EF553B\",\"#00cc96\",\"#ab63fa\",\"#FFA15A\",\"#19d3f3\",\"#FF6692\",\"#B6E880\",\"#FF97FF\",\"#FECB52\"],\"font\":{\"color\":\"#2a3f5f\"},\"hovermode\":\"closest\",\"hoverlabel\":{\"align\":\"left\"},\"paper_bgcolor\":\"white\",\"plot_bgcolor\":\"#E5ECF6\",\"polar\":{\"bgcolor\":\"#E5ECF6\",\"angularaxis\":{\"gridcolor\":\"white\",\"linecolor\":\"white\",\"ticks\":\"\"},\"radialaxis\":{\"gridcolor\":\"white\",\"linecolor\":\"white\",\"ticks\":\"\"}},\"ternary\":{\"bgcolor\":\"#E5ECF6\",\"aaxis\":{\"gridcolor\":\"white\",\"linecolor\":\"white\",\"ticks\":\"\"},\"baxis\":{\"gridcolor\":\"white\",\"linecolor\":\"white\",\"ticks\":\"\"},\"caxis\":{\"gridcolor\":\"white\",\"linecolor\":\"white\",\"ticks\":\"\"}},\"coloraxis\":{\"colorbar\":{\"outlinewidth\":0,\"ticks\":\"\"}},\"colorscale\":{\"sequential\":[[0.0,\"#0d0887\"],[0.1111111111111111,\"#46039f\"],[0.2222222222222222,\"#7201a8\"],[0.3333333333333333,\"#9c179e\"],[0.4444444444444444,\"#bd3786\"],[0.5555555555555556,\"#d8576b\"],[0.6666666666666666,\"#ed7953\"],[0.7777777777777778,\"#fb9f3a\"],[0.8888888888888888,\"#fdca26\"],[1.0,\"#f0f921\"]],\"sequentialminus\":[[0.0,\"#0d0887\"],[0.1111111111111111,\"#46039f\"],[0.2222222222222222,\"#7201a8\"],[0.3333333333333333,\"#9c179e\"],[0.4444444444444444,\"#bd3786\"],[0.5555555555555556,\"#d8576b\"],[0.6666666666666666,\"#ed7953\"],[0.7777777777777778,\"#fb9f3a\"],[0.8888888888888888,\"#fdca26\"],[1.0,\"#f0f921\"]],\"diverging\":[[0,\"#8e0152\"],[0.1,\"#c51b7d\"],[0.2,\"#de77ae\"],[0.3,\"#f1b6da\"],[0.4,\"#fde0ef\"],[0.5,\"#f7f7f7\"],[0.6,\"#e6f5d0\"],[0.7,\"#b8e186\"],[0.8,\"#7fbc41\"],[0.9,\"#4d9221\"],[1,\"#276419\"]]},\"xaxis\":{\"gridcolor\":\"white\",\"linecolor\":\"white\",\"ticks\":\"\",\"title\":{\"standoff\":15},\"zerolinecolor\":\"white\",\"automargin\":true,\"zerolinewidth\":2},\"yaxis\":{\"gridcolor\":\"white\",\"linecolor\":\"white\",\"ticks\":\"\",\"title\":{\"standoff\":15},\"zerolinecolor\":\"white\",\"automargin\":true,\"zerolinewidth\":2},\"scene\":{\"xaxis\":{\"backgroundcolor\":\"#E5ECF6\",\"gridcolor\":\"white\",\"linecolor\":\"white\",\"showbackground\":true,\"ticks\":\"\",\"zerolinecolor\":\"white\",\"gridwidth\":2},\"yaxis\":{\"backgroundcolor\":\"#E5ECF6\",\"gridcolor\":\"white\",\"linecolor\":\"white\",\"showbackground\":true,\"ticks\":\"\",\"zerolinecolor\":\"white\",\"gridwidth\":2},\"zaxis\":{\"backgroundcolor\":\"#E5ECF6\",\"gridcolor\":\"white\",\"linecolor\":\"white\",\"showbackground\":true,\"ticks\":\"\",\"zerolinecolor\":\"white\",\"gridwidth\":2}},\"shapedefaults\":{\"line\":{\"color\":\"#2a3f5f\"}},\"annotationdefaults\":{\"arrowcolor\":\"#2a3f5f\",\"arrowhead\":0,\"arrowwidth\":1},\"geo\":{\"bgcolor\":\"white\",\"landcolor\":\"#E5ECF6\",\"subunitcolor\":\"white\",\"showland\":true,\"showlakes\":true,\"lakecolor\":\"white\"},\"title\":{\"x\":0.05},\"mapbox\":{\"style\":\"light\"}}},\"xaxis\":{\"anchor\":\"y\",\"domain\":[0.0,1.0],\"scaleanchor\":\"y\",\"constrain\":\"domain\"},\"yaxis\":{\"anchor\":\"x\",\"domain\":[0.0,1.0],\"autorange\":\"reversed\",\"constrain\":\"domain\"},\"coloraxis\":{\"colorscale\":[[0.0,\"rgb(5,48,97)\"],[0.1,\"rgb(33,102,172)\"],[0.2,\"rgb(67,147,195)\"],[0.3,\"rgb(146,197,222)\"],[0.4,\"rgb(209,229,240)\"],[0.5,\"rgb(247,247,247)\"],[0.6,\"rgb(253,219,199)\"],[0.7,\"rgb(244,165,130)\"],[0.8,\"rgb(214,96,77)\"],[0.9,\"rgb(178,24,43)\"],[1.0,\"rgb(103,0,31)\"]]},\"title\":{\"text\":\"\\ud83d\\udcca Correlation Heatmap of Key Metrics\"}},                        {\"responsive\": true}                    ).then(function(){\n",
       "                            \n",
       "var gd = document.getElementById('87ebe548-d469-4768-940b-9ff11aa55c8f');\n",
       "var x = new MutationObserver(function (mutations, observer) {{\n",
       "        var display = window.getComputedStyle(gd).display;\n",
       "        if (!display || display === 'none') {{\n",
       "            console.log([gd, 'removed!']);\n",
       "            Plotly.purge(gd);\n",
       "            observer.disconnect();\n",
       "        }}\n",
       "}});\n",
       "\n",
       "// Listen for the removal of the full notebook cells\n",
       "var notebookContainer = gd.closest('#notebook-container');\n",
       "if (notebookContainer) {{\n",
       "    x.observe(notebookContainer, {childList: true});\n",
       "}}\n",
       "\n",
       "// Listen for the clearing of the current output cell\n",
       "var outputEl = gd.closest('.output');\n",
       "if (outputEl) {{\n",
       "    x.observe(outputEl, {childList: true});\n",
       "}}\n",
       "\n",
       "                        })                };                });            </script>        </div>"
      ]
     },
     "metadata": {},
     "output_type": "display_data"
    },
    {
     "data": {
      "application/vnd.plotly.v1+json": {
       "config": {
        "plotlyServerURL": "https://plot.ly"
       },
       "data": [
        {
         "alignmentgroup": "True",
         "bingroup": "x",
         "hovertemplate": "days_between_1st_2nd=%{x}<br>count=%{y}<extra></extra>",
         "legendgroup": "",
         "marker": {
          "color": "#636EFA",
          "pattern": {
           "shape": ""
          }
         },
         "name": "",
         "nbinsx": 40,
         "offsetgroup": "",
         "orientation": "v",
         "showlegend": false,
         "type": "histogram",
         "x": [
          9,
          5,
          7,
          9,
          6,
          6,
          5,
          8,
          9,
          2,
          4,
          5,
          8,
          6,
          4,
          5,
          10,
          2,
          8,
          5,
          2,
          2,
          10,
          8,
          2,
          5,
          3,
          3,
          2,
          8,
          8,
          2,
          9,
          7,
          10,
          3,
          5,
          5,
          8,
          7,
          7,
          5,
          3,
          2,
          2,
          9,
          5,
          5,
          8,
          2,
          9,
          2,
          7,
          4,
          2,
          4,
          5,
          3,
          5,
          7,
          10,
          5,
          3,
          5,
          7,
          9,
          6,
          6,
          4,
          4,
          9,
          5,
          6,
          6,
          7,
          3,
          8,
          7,
          10,
          7,
          8,
          3,
          8,
          4,
          7,
          10,
          9,
          2,
          2,
          3,
          8,
          2,
          2,
          7,
          4,
          2,
          4,
          7,
          10,
          2,
          4,
          2,
          3,
          2,
          10,
          6,
          6,
          8,
          9,
          10,
          4,
          6,
          7,
          2,
          7,
          5,
          4,
          5,
          6,
          4,
          10,
          6,
          10,
          3,
          5,
          5,
          5,
          8,
          7,
          7,
          5,
          2,
          9,
          4,
          6,
          2,
          3,
          9,
          8,
          6,
          5,
          3,
          8,
          8,
          10,
          5,
          3,
          8,
          3,
          5,
          3,
          2,
          8,
          5,
          3,
          8,
          5,
          9,
          6,
          8,
          3,
          10,
          8,
          6,
          3,
          10,
          4,
          7,
          6,
          9,
          2,
          9,
          4,
          10,
          5,
          5,
          8,
          4,
          9,
          9,
          7,
          5,
          8,
          4,
          6,
          4,
          5,
          7,
          2,
          4,
          2,
          6,
          10,
          6,
          6,
          4,
          6,
          3,
          8,
          4,
          10,
          5,
          6,
          7,
          7,
          9,
          8,
          7,
          5,
          10,
          2,
          4,
          6,
          6,
          5,
          4,
          10,
          3,
          5,
          5,
          7,
          10,
          6,
          6,
          7,
          3,
          7,
          2,
          8,
          8,
          9,
          10,
          7,
          5,
          8,
          7,
          10,
          6,
          5,
          7,
          9,
          3,
          8,
          9,
          8,
          7,
          4,
          2,
          3,
          7,
          8,
          5,
          3,
          7,
          8,
          5,
          4,
          3,
          3,
          5,
          4,
          3,
          9,
          2,
          8,
          3,
          6,
          6,
          9,
          9,
          7,
          8,
          6,
          3,
          7,
          10,
          10,
          7,
          3,
          7,
          3,
          10,
          9,
          8,
          4,
          7,
          4,
          3,
          5,
          7,
          4,
          4,
          5,
          9,
          5,
          8,
          10,
          5,
          4,
          7,
          9,
          2,
          10,
          7,
          8,
          5,
          3,
          4,
          6,
          6,
          10,
          3,
          2,
          4,
          6,
          8,
          9,
          4,
          8,
          6,
          10,
          8,
          9,
          4,
          3,
          2,
          4,
          6,
          7,
          3,
          4,
          10,
          4,
          10,
          7,
          9,
          5,
          4,
          2,
          9,
          5,
          8,
          8,
          3,
          4,
          10,
          9,
          4,
          2,
          9,
          7,
          10,
          3,
          8,
          6,
          8,
          3,
          9,
          6,
          4,
          9,
          2,
          2,
          2,
          4,
          5,
          6,
          7,
          8,
          2,
          5,
          8,
          7,
          6,
          5,
          10,
          5,
          7,
          8,
          6,
          9,
          9,
          5,
          5,
          4,
          9,
          10,
          2,
          8,
          6,
          10,
          7,
          7,
          4,
          2,
          5,
          10,
          6,
          5,
          10,
          10,
          4,
          10,
          9,
          10,
          3,
          2,
          7,
          4,
          6,
          9,
          3,
          10,
          9,
          7,
          4,
          2,
          3,
          8,
          8,
          5,
          9,
          9,
          4,
          2,
          10,
          6,
          6,
          7,
          7,
          2,
          3,
          8,
          10,
          5,
          2,
          2,
          8,
          7,
          4,
          4,
          4,
          5,
          10,
          6,
          5,
          2,
          10,
          3,
          7,
          2,
          8,
          10,
          5,
          8,
          5,
          6,
          10,
          9,
          6,
          2,
          4,
          6,
          2,
          7,
          10,
          9,
          6,
          3,
          5,
          3,
          6,
          10,
          2,
          3,
          5,
          2,
          4,
          5,
          7,
          6,
          8,
          4,
          4,
          7,
          9,
          3,
          7,
          2,
          4,
          9,
          10,
          7,
          8,
          3,
          4,
          6,
          6,
          9,
          8,
          5,
          6,
          4,
          8,
          8,
          5,
          5,
          3,
          9,
          7,
          6,
          10,
          7,
          6,
          3,
          2,
          3,
          9,
          9,
          3,
          4,
          7,
          4,
          10,
          8,
          6,
          8,
          4,
          4,
          7,
          9,
          3,
          8,
          8,
          9,
          5,
          9,
          6,
          10,
          2,
          9,
          8,
          6,
          8,
          8,
          9,
          7,
          3,
          7,
          6,
          2,
          6,
          8,
          8,
          3,
          10,
          6,
          10,
          4,
          2,
          5,
          7,
          9,
          6,
          4,
          5,
          6,
          5,
          4,
          4,
          2,
          10,
          4,
          3,
          3,
          7,
          7,
          9,
          2,
          8,
          6,
          9,
          10,
          8,
          7,
          3,
          7,
          5,
          9,
          9,
          2,
          10,
          6,
          3,
          3,
          8,
          8,
          2,
          7,
          6,
          7,
          6,
          9,
          7,
          9,
          9,
          10,
          10,
          9,
          10,
          5,
          4,
          8,
          4,
          6,
          8,
          5,
          5,
          2,
          8,
          9,
          9,
          8,
          3,
          6,
          9,
          10,
          8,
          5,
          3,
          9,
          2,
          8,
          8,
          3,
          4,
          7,
          4,
          8,
          2,
          8,
          3,
          6,
          8,
          5,
          5,
          7,
          2,
          6,
          10,
          5,
          5,
          5,
          3,
          2,
          5,
          10,
          8,
          2,
          4,
          9,
          6,
          6,
          4,
          10,
          9,
          9,
          3,
          2,
          5,
          3,
          3,
          2,
          3,
          4,
          8,
          4,
          5,
          7,
          6,
          2,
          7,
          2,
          4,
          8,
          10,
          10,
          5,
          8,
          4,
          9,
          5,
          5,
          7,
          3,
          7,
          5,
          7,
          2,
          3,
          9,
          4,
          5,
          5,
          9,
          3,
          8,
          8,
          10,
          3,
          6,
          10,
          2,
          3,
          5,
          2,
          8,
          6,
          7,
          3,
          6,
          5,
          3,
          6,
          6,
          10,
          4,
          2,
          3,
          6,
          3,
          5,
          8,
          6,
          4,
          6,
          6,
          2,
          10,
          10,
          6,
          3,
          8,
          8,
          6,
          4,
          7,
          6,
          9,
          5,
          6,
          7,
          7,
          4,
          4,
          9,
          7,
          3,
          6,
          8,
          10,
          4,
          2,
          3,
          5,
          3,
          2,
          8,
          5,
          10,
          5,
          10,
          2,
          9,
          3,
          3,
          6,
          3,
          7,
          5,
          5,
          3,
          3,
          8,
          7,
          10,
          5,
          8,
          3,
          3,
          9,
          5,
          4,
          5,
          10,
          5,
          9,
          9,
          10,
          4,
          5,
          2,
          5,
          2,
          9,
          6,
          3,
          2,
          10,
          5,
          5,
          7,
          6,
          8,
          9,
          4,
          7,
          9,
          10,
          9,
          4,
          7,
          8,
          3,
          7,
          5,
          5,
          9,
          6,
          9,
          4,
          7,
          9,
          4,
          2,
          3,
          3,
          2,
          4,
          7,
          3,
          7,
          5,
          3,
          9,
          9,
          2,
          10,
          6,
          10,
          7,
          8,
          7,
          10,
          6,
          9,
          4,
          8,
          6,
          7,
          5,
          8,
          9,
          7,
          8,
          9,
          8,
          2,
          8,
          10,
          9,
          2,
          3,
          5,
          6,
          9,
          8,
          4,
          9,
          9,
          10,
          7,
          4,
          9,
          6,
          3,
          6,
          5,
          2,
          9,
          9,
          6,
          5,
          10,
          7,
          8,
          6,
          10,
          10,
          6,
          9,
          5,
          10,
          4,
          7,
          10,
          10,
          6,
          8,
          5,
          6,
          3,
          5,
          3,
          9,
          8,
          7,
          8,
          10,
          4,
          3,
          5,
          4,
          10,
          9,
          10,
          10,
          8,
          3,
          5,
          2,
          7,
          10,
          2,
          3,
          4,
          5,
          9,
          5,
          5,
          9,
          5,
          2,
          7,
          10,
          7,
          3,
          3,
          4,
          9,
          9,
          6,
          8,
          8,
          6,
          6,
          6,
          6,
          3,
          9,
          2,
          3,
          3,
          9,
          8,
          2,
          7,
          7,
          8,
          9,
          6,
          8,
          3,
          2,
          9,
          5,
          4,
          9,
          9,
          3,
          8,
          2,
          7,
          5,
          9,
          5,
          10,
          3,
          3,
          4,
          3,
          3,
          10,
          4,
          10,
          6,
          2,
          10,
          10,
          8,
          6,
          2,
          6,
          7,
          3,
          9,
          5,
          5,
          10,
          4,
          10,
          4,
          8,
          5,
          4,
          2,
          7,
          2,
          8,
          2,
          9,
          2,
          8,
          7,
          4,
          9,
          8,
          6,
          10,
          5,
          9,
          9,
          9,
          4,
          4,
          4,
          9,
          7,
          10,
          6,
          10,
          4,
          2,
          7,
          3,
          7,
          7,
          6,
          5,
          6,
          4,
          7,
          2,
          3,
          8,
          9,
          9,
          8,
          9,
          9,
          7,
          9,
          4,
          9,
          2,
          3,
          9,
          3,
          6,
          2,
          6,
          8,
          2,
          4,
          9,
          2,
          4,
          8,
          10,
          3,
          5,
          5,
          3,
          6,
          5,
          5,
          6,
          7,
          5,
          2,
          5,
          10,
          7,
          9,
          5,
          10,
          2,
          6,
          8,
          6,
          5,
          10,
          2,
          6,
          4,
          7,
          9,
          5,
          4,
          10,
          2,
          5,
          5,
          4,
          4,
          7,
          3,
          4,
          4,
          7,
          2,
          8,
          6,
          5,
          5,
          5,
          5,
          8,
          3,
          3,
          6,
          4,
          5,
          6,
          8,
          4,
          2,
          9,
          9,
          9,
          9,
          4,
          9,
          9,
          6,
          9,
          5,
          2,
          5,
          7,
          8,
          8,
          5,
          5,
          10,
          4,
          10,
          10,
          6,
          5,
          2,
          7,
          7,
          8,
          4,
          8,
          7,
          2,
          3,
          7,
          8,
          8,
          3,
          3,
          5,
          2,
          2,
          7,
          2,
          6,
          4,
          10,
          2,
          8,
          7,
          4,
          4,
          5,
          5,
          6,
          7,
          6,
          10,
          5,
          10,
          2,
          5,
          9,
          10,
          4,
          3,
          6,
          5,
          2,
          6,
          5,
          9,
          7,
          6,
          7,
          10,
          4,
          4,
          5,
          7,
          2,
          2,
          10,
          4,
          3,
          2,
          2,
          9,
          4,
          7,
          7,
          9,
          9,
          10,
          10,
          4,
          6,
          3,
          7,
          3,
          6,
          5,
          2,
          5,
          5,
          9,
          6,
          8,
          10,
          8,
          8,
          10,
          9,
          8,
          5,
          4,
          9,
          10,
          10,
          5,
          7,
          9,
          3,
          2,
          3,
          2,
          6,
          10,
          6,
          7,
          8,
          4,
          3,
          3,
          6,
          6,
          6,
          6,
          10,
          7,
          6,
          10,
          8,
          10,
          6,
          8,
          3,
          6,
          7,
          6,
          7,
          10,
          9,
          9,
          9,
          9,
          4,
          10,
          7,
          5,
          2,
          6,
          4,
          9,
          9,
          8,
          7,
          7,
          6,
          7,
          6,
          6,
          4,
          10,
          7,
          6,
          4,
          7,
          4,
          6,
          4,
          3,
          7,
          4,
          8,
          4,
          6,
          8,
          4,
          3,
          7,
          6,
          6,
          8,
          3,
          6,
          7,
          4,
          2,
          4,
          4,
          10,
          2,
          3,
          4,
          6,
          7,
          5,
          3,
          5,
          4,
          8,
          9,
          2,
          10,
          6,
          2,
          2,
          9,
          6,
          4,
          9,
          10,
          3,
          5,
          4,
          5,
          9,
          5,
          10,
          10,
          5,
          7,
          10,
          5,
          10,
          2,
          2,
          2,
          4,
          2,
          8,
          8,
          3,
          9,
          6,
          9,
          9,
          2,
          2,
          3,
          10,
          9,
          9,
          9,
          5,
          4,
          10,
          9,
          5,
          4,
          6,
          9,
          7,
          3,
          9,
          4,
          7,
          9,
          7,
          4,
          4,
          2,
          4,
          9,
          7,
          10,
          3,
          10,
          8,
          3,
          9,
          9,
          5,
          10,
          4,
          7,
          2,
          3,
          6,
          4,
          2,
          4,
          8,
          8,
          2,
          10,
          7,
          10,
          4,
          6,
          5,
          8
         ],
         "xaxis": "x",
         "yaxis": "y"
        },
        {
         "alignmentgroup": "True",
         "boxpoints": "all",
         "fillcolor": "rgba(255,255,255,0)",
         "hoveron": "points",
         "hovertemplate": "days_between_1st_2nd=%{x}<extra></extra>",
         "jitter": 0,
         "legendgroup": "",
         "line": {
          "color": "rgba(255,255,255,0)"
         },
         "marker": {
          "color": "#636EFA",
          "symbol": "line-ns-open"
         },
         "name": "",
         "offsetgroup": "",
         "showlegend": false,
         "type": "box",
         "x": [
          9,
          5,
          7,
          9,
          6,
          6,
          5,
          8,
          9,
          2,
          4,
          5,
          8,
          6,
          4,
          5,
          10,
          2,
          8,
          5,
          2,
          2,
          10,
          8,
          2,
          5,
          3,
          3,
          2,
          8,
          8,
          2,
          9,
          7,
          10,
          3,
          5,
          5,
          8,
          7,
          7,
          5,
          3,
          2,
          2,
          9,
          5,
          5,
          8,
          2,
          9,
          2,
          7,
          4,
          2,
          4,
          5,
          3,
          5,
          7,
          10,
          5,
          3,
          5,
          7,
          9,
          6,
          6,
          4,
          4,
          9,
          5,
          6,
          6,
          7,
          3,
          8,
          7,
          10,
          7,
          8,
          3,
          8,
          4,
          7,
          10,
          9,
          2,
          2,
          3,
          8,
          2,
          2,
          7,
          4,
          2,
          4,
          7,
          10,
          2,
          4,
          2,
          3,
          2,
          10,
          6,
          6,
          8,
          9,
          10,
          4,
          6,
          7,
          2,
          7,
          5,
          4,
          5,
          6,
          4,
          10,
          6,
          10,
          3,
          5,
          5,
          5,
          8,
          7,
          7,
          5,
          2,
          9,
          4,
          6,
          2,
          3,
          9,
          8,
          6,
          5,
          3,
          8,
          8,
          10,
          5,
          3,
          8,
          3,
          5,
          3,
          2,
          8,
          5,
          3,
          8,
          5,
          9,
          6,
          8,
          3,
          10,
          8,
          6,
          3,
          10,
          4,
          7,
          6,
          9,
          2,
          9,
          4,
          10,
          5,
          5,
          8,
          4,
          9,
          9,
          7,
          5,
          8,
          4,
          6,
          4,
          5,
          7,
          2,
          4,
          2,
          6,
          10,
          6,
          6,
          4,
          6,
          3,
          8,
          4,
          10,
          5,
          6,
          7,
          7,
          9,
          8,
          7,
          5,
          10,
          2,
          4,
          6,
          6,
          5,
          4,
          10,
          3,
          5,
          5,
          7,
          10,
          6,
          6,
          7,
          3,
          7,
          2,
          8,
          8,
          9,
          10,
          7,
          5,
          8,
          7,
          10,
          6,
          5,
          7,
          9,
          3,
          8,
          9,
          8,
          7,
          4,
          2,
          3,
          7,
          8,
          5,
          3,
          7,
          8,
          5,
          4,
          3,
          3,
          5,
          4,
          3,
          9,
          2,
          8,
          3,
          6,
          6,
          9,
          9,
          7,
          8,
          6,
          3,
          7,
          10,
          10,
          7,
          3,
          7,
          3,
          10,
          9,
          8,
          4,
          7,
          4,
          3,
          5,
          7,
          4,
          4,
          5,
          9,
          5,
          8,
          10,
          5,
          4,
          7,
          9,
          2,
          10,
          7,
          8,
          5,
          3,
          4,
          6,
          6,
          10,
          3,
          2,
          4,
          6,
          8,
          9,
          4,
          8,
          6,
          10,
          8,
          9,
          4,
          3,
          2,
          4,
          6,
          7,
          3,
          4,
          10,
          4,
          10,
          7,
          9,
          5,
          4,
          2,
          9,
          5,
          8,
          8,
          3,
          4,
          10,
          9,
          4,
          2,
          9,
          7,
          10,
          3,
          8,
          6,
          8,
          3,
          9,
          6,
          4,
          9,
          2,
          2,
          2,
          4,
          5,
          6,
          7,
          8,
          2,
          5,
          8,
          7,
          6,
          5,
          10,
          5,
          7,
          8,
          6,
          9,
          9,
          5,
          5,
          4,
          9,
          10,
          2,
          8,
          6,
          10,
          7,
          7,
          4,
          2,
          5,
          10,
          6,
          5,
          10,
          10,
          4,
          10,
          9,
          10,
          3,
          2,
          7,
          4,
          6,
          9,
          3,
          10,
          9,
          7,
          4,
          2,
          3,
          8,
          8,
          5,
          9,
          9,
          4,
          2,
          10,
          6,
          6,
          7,
          7,
          2,
          3,
          8,
          10,
          5,
          2,
          2,
          8,
          7,
          4,
          4,
          4,
          5,
          10,
          6,
          5,
          2,
          10,
          3,
          7,
          2,
          8,
          10,
          5,
          8,
          5,
          6,
          10,
          9,
          6,
          2,
          4,
          6,
          2,
          7,
          10,
          9,
          6,
          3,
          5,
          3,
          6,
          10,
          2,
          3,
          5,
          2,
          4,
          5,
          7,
          6,
          8,
          4,
          4,
          7,
          9,
          3,
          7,
          2,
          4,
          9,
          10,
          7,
          8,
          3,
          4,
          6,
          6,
          9,
          8,
          5,
          6,
          4,
          8,
          8,
          5,
          5,
          3,
          9,
          7,
          6,
          10,
          7,
          6,
          3,
          2,
          3,
          9,
          9,
          3,
          4,
          7,
          4,
          10,
          8,
          6,
          8,
          4,
          4,
          7,
          9,
          3,
          8,
          8,
          9,
          5,
          9,
          6,
          10,
          2,
          9,
          8,
          6,
          8,
          8,
          9,
          7,
          3,
          7,
          6,
          2,
          6,
          8,
          8,
          3,
          10,
          6,
          10,
          4,
          2,
          5,
          7,
          9,
          6,
          4,
          5,
          6,
          5,
          4,
          4,
          2,
          10,
          4,
          3,
          3,
          7,
          7,
          9,
          2,
          8,
          6,
          9,
          10,
          8,
          7,
          3,
          7,
          5,
          9,
          9,
          2,
          10,
          6,
          3,
          3,
          8,
          8,
          2,
          7,
          6,
          7,
          6,
          9,
          7,
          9,
          9,
          10,
          10,
          9,
          10,
          5,
          4,
          8,
          4,
          6,
          8,
          5,
          5,
          2,
          8,
          9,
          9,
          8,
          3,
          6,
          9,
          10,
          8,
          5,
          3,
          9,
          2,
          8,
          8,
          3,
          4,
          7,
          4,
          8,
          2,
          8,
          3,
          6,
          8,
          5,
          5,
          7,
          2,
          6,
          10,
          5,
          5,
          5,
          3,
          2,
          5,
          10,
          8,
          2,
          4,
          9,
          6,
          6,
          4,
          10,
          9,
          9,
          3,
          2,
          5,
          3,
          3,
          2,
          3,
          4,
          8,
          4,
          5,
          7,
          6,
          2,
          7,
          2,
          4,
          8,
          10,
          10,
          5,
          8,
          4,
          9,
          5,
          5,
          7,
          3,
          7,
          5,
          7,
          2,
          3,
          9,
          4,
          5,
          5,
          9,
          3,
          8,
          8,
          10,
          3,
          6,
          10,
          2,
          3,
          5,
          2,
          8,
          6,
          7,
          3,
          6,
          5,
          3,
          6,
          6,
          10,
          4,
          2,
          3,
          6,
          3,
          5,
          8,
          6,
          4,
          6,
          6,
          2,
          10,
          10,
          6,
          3,
          8,
          8,
          6,
          4,
          7,
          6,
          9,
          5,
          6,
          7,
          7,
          4,
          4,
          9,
          7,
          3,
          6,
          8,
          10,
          4,
          2,
          3,
          5,
          3,
          2,
          8,
          5,
          10,
          5,
          10,
          2,
          9,
          3,
          3,
          6,
          3,
          7,
          5,
          5,
          3,
          3,
          8,
          7,
          10,
          5,
          8,
          3,
          3,
          9,
          5,
          4,
          5,
          10,
          5,
          9,
          9,
          10,
          4,
          5,
          2,
          5,
          2,
          9,
          6,
          3,
          2,
          10,
          5,
          5,
          7,
          6,
          8,
          9,
          4,
          7,
          9,
          10,
          9,
          4,
          7,
          8,
          3,
          7,
          5,
          5,
          9,
          6,
          9,
          4,
          7,
          9,
          4,
          2,
          3,
          3,
          2,
          4,
          7,
          3,
          7,
          5,
          3,
          9,
          9,
          2,
          10,
          6,
          10,
          7,
          8,
          7,
          10,
          6,
          9,
          4,
          8,
          6,
          7,
          5,
          8,
          9,
          7,
          8,
          9,
          8,
          2,
          8,
          10,
          9,
          2,
          3,
          5,
          6,
          9,
          8,
          4,
          9,
          9,
          10,
          7,
          4,
          9,
          6,
          3,
          6,
          5,
          2,
          9,
          9,
          6,
          5,
          10,
          7,
          8,
          6,
          10,
          10,
          6,
          9,
          5,
          10,
          4,
          7,
          10,
          10,
          6,
          8,
          5,
          6,
          3,
          5,
          3,
          9,
          8,
          7,
          8,
          10,
          4,
          3,
          5,
          4,
          10,
          9,
          10,
          10,
          8,
          3,
          5,
          2,
          7,
          10,
          2,
          3,
          4,
          5,
          9,
          5,
          5,
          9,
          5,
          2,
          7,
          10,
          7,
          3,
          3,
          4,
          9,
          9,
          6,
          8,
          8,
          6,
          6,
          6,
          6,
          3,
          9,
          2,
          3,
          3,
          9,
          8,
          2,
          7,
          7,
          8,
          9,
          6,
          8,
          3,
          2,
          9,
          5,
          4,
          9,
          9,
          3,
          8,
          2,
          7,
          5,
          9,
          5,
          10,
          3,
          3,
          4,
          3,
          3,
          10,
          4,
          10,
          6,
          2,
          10,
          10,
          8,
          6,
          2,
          6,
          7,
          3,
          9,
          5,
          5,
          10,
          4,
          10,
          4,
          8,
          5,
          4,
          2,
          7,
          2,
          8,
          2,
          9,
          2,
          8,
          7,
          4,
          9,
          8,
          6,
          10,
          5,
          9,
          9,
          9,
          4,
          4,
          4,
          9,
          7,
          10,
          6,
          10,
          4,
          2,
          7,
          3,
          7,
          7,
          6,
          5,
          6,
          4,
          7,
          2,
          3,
          8,
          9,
          9,
          8,
          9,
          9,
          7,
          9,
          4,
          9,
          2,
          3,
          9,
          3,
          6,
          2,
          6,
          8,
          2,
          4,
          9,
          2,
          4,
          8,
          10,
          3,
          5,
          5,
          3,
          6,
          5,
          5,
          6,
          7,
          5,
          2,
          5,
          10,
          7,
          9,
          5,
          10,
          2,
          6,
          8,
          6,
          5,
          10,
          2,
          6,
          4,
          7,
          9,
          5,
          4,
          10,
          2,
          5,
          5,
          4,
          4,
          7,
          3,
          4,
          4,
          7,
          2,
          8,
          6,
          5,
          5,
          5,
          5,
          8,
          3,
          3,
          6,
          4,
          5,
          6,
          8,
          4,
          2,
          9,
          9,
          9,
          9,
          4,
          9,
          9,
          6,
          9,
          5,
          2,
          5,
          7,
          8,
          8,
          5,
          5,
          10,
          4,
          10,
          10,
          6,
          5,
          2,
          7,
          7,
          8,
          4,
          8,
          7,
          2,
          3,
          7,
          8,
          8,
          3,
          3,
          5,
          2,
          2,
          7,
          2,
          6,
          4,
          10,
          2,
          8,
          7,
          4,
          4,
          5,
          5,
          6,
          7,
          6,
          10,
          5,
          10,
          2,
          5,
          9,
          10,
          4,
          3,
          6,
          5,
          2,
          6,
          5,
          9,
          7,
          6,
          7,
          10,
          4,
          4,
          5,
          7,
          2,
          2,
          10,
          4,
          3,
          2,
          2,
          9,
          4,
          7,
          7,
          9,
          9,
          10,
          10,
          4,
          6,
          3,
          7,
          3,
          6,
          5,
          2,
          5,
          5,
          9,
          6,
          8,
          10,
          8,
          8,
          10,
          9,
          8,
          5,
          4,
          9,
          10,
          10,
          5,
          7,
          9,
          3,
          2,
          3,
          2,
          6,
          10,
          6,
          7,
          8,
          4,
          3,
          3,
          6,
          6,
          6,
          6,
          10,
          7,
          6,
          10,
          8,
          10,
          6,
          8,
          3,
          6,
          7,
          6,
          7,
          10,
          9,
          9,
          9,
          9,
          4,
          10,
          7,
          5,
          2,
          6,
          4,
          9,
          9,
          8,
          7,
          7,
          6,
          7,
          6,
          6,
          4,
          10,
          7,
          6,
          4,
          7,
          4,
          6,
          4,
          3,
          7,
          4,
          8,
          4,
          6,
          8,
          4,
          3,
          7,
          6,
          6,
          8,
          3,
          6,
          7,
          4,
          2,
          4,
          4,
          10,
          2,
          3,
          4,
          6,
          7,
          5,
          3,
          5,
          4,
          8,
          9,
          2,
          10,
          6,
          2,
          2,
          9,
          6,
          4,
          9,
          10,
          3,
          5,
          4,
          5,
          9,
          5,
          10,
          10,
          5,
          7,
          10,
          5,
          10,
          2,
          2,
          2,
          4,
          2,
          8,
          8,
          3,
          9,
          6,
          9,
          9,
          2,
          2,
          3,
          10,
          9,
          9,
          9,
          5,
          4,
          10,
          9,
          5,
          4,
          6,
          9,
          7,
          3,
          9,
          4,
          7,
          9,
          7,
          4,
          4,
          2,
          4,
          9,
          7,
          10,
          3,
          10,
          8,
          3,
          9,
          9,
          5,
          10,
          4,
          7,
          2,
          3,
          6,
          4,
          2,
          4,
          8,
          8,
          2,
          10,
          7,
          10,
          4,
          6,
          5,
          8
         ],
         "xaxis": "x2",
         "yaxis": "y2"
        }
       ],
       "layout": {
        "barmode": "relative",
        "legend": {
         "tracegroupgap": 0
        },
        "template": {
         "data": {
          "bar": [
           {
            "error_x": {
             "color": "#2a3f5f"
            },
            "error_y": {
             "color": "#2a3f5f"
            },
            "marker": {
             "line": {
              "color": "#E5ECF6",
              "width": 0.5
             },
             "pattern": {
              "fillmode": "overlay",
              "size": 10,
              "solidity": 0.2
             }
            },
            "type": "bar"
           }
          ],
          "barpolar": [
           {
            "marker": {
             "line": {
              "color": "#E5ECF6",
              "width": 0.5
             },
             "pattern": {
              "fillmode": "overlay",
              "size": 10,
              "solidity": 0.2
             }
            },
            "type": "barpolar"
           }
          ],
          "carpet": [
           {
            "aaxis": {
             "endlinecolor": "#2a3f5f",
             "gridcolor": "white",
             "linecolor": "white",
             "minorgridcolor": "white",
             "startlinecolor": "#2a3f5f"
            },
            "baxis": {
             "endlinecolor": "#2a3f5f",
             "gridcolor": "white",
             "linecolor": "white",
             "minorgridcolor": "white",
             "startlinecolor": "#2a3f5f"
            },
            "type": "carpet"
           }
          ],
          "choropleth": [
           {
            "colorbar": {
             "outlinewidth": 0,
             "ticks": ""
            },
            "type": "choropleth"
           }
          ],
          "contour": [
           {
            "colorbar": {
             "outlinewidth": 0,
             "ticks": ""
            },
            "colorscale": [
             [
              0,
              "#0d0887"
             ],
             [
              0.1111111111111111,
              "#46039f"
             ],
             [
              0.2222222222222222,
              "#7201a8"
             ],
             [
              0.3333333333333333,
              "#9c179e"
             ],
             [
              0.4444444444444444,
              "#bd3786"
             ],
             [
              0.5555555555555556,
              "#d8576b"
             ],
             [
              0.6666666666666666,
              "#ed7953"
             ],
             [
              0.7777777777777778,
              "#fb9f3a"
             ],
             [
              0.8888888888888888,
              "#fdca26"
             ],
             [
              1,
              "#f0f921"
             ]
            ],
            "type": "contour"
           }
          ],
          "contourcarpet": [
           {
            "colorbar": {
             "outlinewidth": 0,
             "ticks": ""
            },
            "type": "contourcarpet"
           }
          ],
          "heatmap": [
           {
            "colorbar": {
             "outlinewidth": 0,
             "ticks": ""
            },
            "colorscale": [
             [
              0,
              "#0d0887"
             ],
             [
              0.1111111111111111,
              "#46039f"
             ],
             [
              0.2222222222222222,
              "#7201a8"
             ],
             [
              0.3333333333333333,
              "#9c179e"
             ],
             [
              0.4444444444444444,
              "#bd3786"
             ],
             [
              0.5555555555555556,
              "#d8576b"
             ],
             [
              0.6666666666666666,
              "#ed7953"
             ],
             [
              0.7777777777777778,
              "#fb9f3a"
             ],
             [
              0.8888888888888888,
              "#fdca26"
             ],
             [
              1,
              "#f0f921"
             ]
            ],
            "type": "heatmap"
           }
          ],
          "heatmapgl": [
           {
            "colorbar": {
             "outlinewidth": 0,
             "ticks": ""
            },
            "colorscale": [
             [
              0,
              "#0d0887"
             ],
             [
              0.1111111111111111,
              "#46039f"
             ],
             [
              0.2222222222222222,
              "#7201a8"
             ],
             [
              0.3333333333333333,
              "#9c179e"
             ],
             [
              0.4444444444444444,
              "#bd3786"
             ],
             [
              0.5555555555555556,
              "#d8576b"
             ],
             [
              0.6666666666666666,
              "#ed7953"
             ],
             [
              0.7777777777777778,
              "#fb9f3a"
             ],
             [
              0.8888888888888888,
              "#fdca26"
             ],
             [
              1,
              "#f0f921"
             ]
            ],
            "type": "heatmapgl"
           }
          ],
          "histogram": [
           {
            "marker": {
             "pattern": {
              "fillmode": "overlay",
              "size": 10,
              "solidity": 0.2
             }
            },
            "type": "histogram"
           }
          ],
          "histogram2d": [
           {
            "colorbar": {
             "outlinewidth": 0,
             "ticks": ""
            },
            "colorscale": [
             [
              0,
              "#0d0887"
             ],
             [
              0.1111111111111111,
              "#46039f"
             ],
             [
              0.2222222222222222,
              "#7201a8"
             ],
             [
              0.3333333333333333,
              "#9c179e"
             ],
             [
              0.4444444444444444,
              "#bd3786"
             ],
             [
              0.5555555555555556,
              "#d8576b"
             ],
             [
              0.6666666666666666,
              "#ed7953"
             ],
             [
              0.7777777777777778,
              "#fb9f3a"
             ],
             [
              0.8888888888888888,
              "#fdca26"
             ],
             [
              1,
              "#f0f921"
             ]
            ],
            "type": "histogram2d"
           }
          ],
          "histogram2dcontour": [
           {
            "colorbar": {
             "outlinewidth": 0,
             "ticks": ""
            },
            "colorscale": [
             [
              0,
              "#0d0887"
             ],
             [
              0.1111111111111111,
              "#46039f"
             ],
             [
              0.2222222222222222,
              "#7201a8"
             ],
             [
              0.3333333333333333,
              "#9c179e"
             ],
             [
              0.4444444444444444,
              "#bd3786"
             ],
             [
              0.5555555555555556,
              "#d8576b"
             ],
             [
              0.6666666666666666,
              "#ed7953"
             ],
             [
              0.7777777777777778,
              "#fb9f3a"
             ],
             [
              0.8888888888888888,
              "#fdca26"
             ],
             [
              1,
              "#f0f921"
             ]
            ],
            "type": "histogram2dcontour"
           }
          ],
          "mesh3d": [
           {
            "colorbar": {
             "outlinewidth": 0,
             "ticks": ""
            },
            "type": "mesh3d"
           }
          ],
          "parcoords": [
           {
            "line": {
             "colorbar": {
              "outlinewidth": 0,
              "ticks": ""
             }
            },
            "type": "parcoords"
           }
          ],
          "pie": [
           {
            "automargin": true,
            "type": "pie"
           }
          ],
          "scatter": [
           {
            "fillpattern": {
             "fillmode": "overlay",
             "size": 10,
             "solidity": 0.2
            },
            "type": "scatter"
           }
          ],
          "scatter3d": [
           {
            "line": {
             "colorbar": {
              "outlinewidth": 0,
              "ticks": ""
             }
            },
            "marker": {
             "colorbar": {
              "outlinewidth": 0,
              "ticks": ""
             }
            },
            "type": "scatter3d"
           }
          ],
          "scattercarpet": [
           {
            "marker": {
             "colorbar": {
              "outlinewidth": 0,
              "ticks": ""
             }
            },
            "type": "scattercarpet"
           }
          ],
          "scattergeo": [
           {
            "marker": {
             "colorbar": {
              "outlinewidth": 0,
              "ticks": ""
             }
            },
            "type": "scattergeo"
           }
          ],
          "scattergl": [
           {
            "marker": {
             "colorbar": {
              "outlinewidth": 0,
              "ticks": ""
             }
            },
            "type": "scattergl"
           }
          ],
          "scattermapbox": [
           {
            "marker": {
             "colorbar": {
              "outlinewidth": 0,
              "ticks": ""
             }
            },
            "type": "scattermapbox"
           }
          ],
          "scatterpolar": [
           {
            "marker": {
             "colorbar": {
              "outlinewidth": 0,
              "ticks": ""
             }
            },
            "type": "scatterpolar"
           }
          ],
          "scatterpolargl": [
           {
            "marker": {
             "colorbar": {
              "outlinewidth": 0,
              "ticks": ""
             }
            },
            "type": "scatterpolargl"
           }
          ],
          "scatterternary": [
           {
            "marker": {
             "colorbar": {
              "outlinewidth": 0,
              "ticks": ""
             }
            },
            "type": "scatterternary"
           }
          ],
          "surface": [
           {
            "colorbar": {
             "outlinewidth": 0,
             "ticks": ""
            },
            "colorscale": [
             [
              0,
              "#0d0887"
             ],
             [
              0.1111111111111111,
              "#46039f"
             ],
             [
              0.2222222222222222,
              "#7201a8"
             ],
             [
              0.3333333333333333,
              "#9c179e"
             ],
             [
              0.4444444444444444,
              "#bd3786"
             ],
             [
              0.5555555555555556,
              "#d8576b"
             ],
             [
              0.6666666666666666,
              "#ed7953"
             ],
             [
              0.7777777777777778,
              "#fb9f3a"
             ],
             [
              0.8888888888888888,
              "#fdca26"
             ],
             [
              1,
              "#f0f921"
             ]
            ],
            "type": "surface"
           }
          ],
          "table": [
           {
            "cells": {
             "fill": {
              "color": "#EBF0F8"
             },
             "line": {
              "color": "white"
             }
            },
            "header": {
             "fill": {
              "color": "#C8D4E3"
             },
             "line": {
              "color": "white"
             }
            },
            "type": "table"
           }
          ]
         },
         "layout": {
          "annotationdefaults": {
           "arrowcolor": "#2a3f5f",
           "arrowhead": 0,
           "arrowwidth": 1
          },
          "autotypenumbers": "strict",
          "coloraxis": {
           "colorbar": {
            "outlinewidth": 0,
            "ticks": ""
           }
          },
          "colorscale": {
           "diverging": [
            [
             0,
             "#8e0152"
            ],
            [
             0.1,
             "#c51b7d"
            ],
            [
             0.2,
             "#de77ae"
            ],
            [
             0.3,
             "#f1b6da"
            ],
            [
             0.4,
             "#fde0ef"
            ],
            [
             0.5,
             "#f7f7f7"
            ],
            [
             0.6,
             "#e6f5d0"
            ],
            [
             0.7,
             "#b8e186"
            ],
            [
             0.8,
             "#7fbc41"
            ],
            [
             0.9,
             "#4d9221"
            ],
            [
             1,
             "#276419"
            ]
           ],
           "sequential": [
            [
             0,
             "#0d0887"
            ],
            [
             0.1111111111111111,
             "#46039f"
            ],
            [
             0.2222222222222222,
             "#7201a8"
            ],
            [
             0.3333333333333333,
             "#9c179e"
            ],
            [
             0.4444444444444444,
             "#bd3786"
            ],
            [
             0.5555555555555556,
             "#d8576b"
            ],
            [
             0.6666666666666666,
             "#ed7953"
            ],
            [
             0.7777777777777778,
             "#fb9f3a"
            ],
            [
             0.8888888888888888,
             "#fdca26"
            ],
            [
             1,
             "#f0f921"
            ]
           ],
           "sequentialminus": [
            [
             0,
             "#0d0887"
            ],
            [
             0.1111111111111111,
             "#46039f"
            ],
            [
             0.2222222222222222,
             "#7201a8"
            ],
            [
             0.3333333333333333,
             "#9c179e"
            ],
            [
             0.4444444444444444,
             "#bd3786"
            ],
            [
             0.5555555555555556,
             "#d8576b"
            ],
            [
             0.6666666666666666,
             "#ed7953"
            ],
            [
             0.7777777777777778,
             "#fb9f3a"
            ],
            [
             0.8888888888888888,
             "#fdca26"
            ],
            [
             1,
             "#f0f921"
            ]
           ]
          },
          "colorway": [
           "#636efa",
           "#EF553B",
           "#00cc96",
           "#ab63fa",
           "#FFA15A",
           "#19d3f3",
           "#FF6692",
           "#B6E880",
           "#FF97FF",
           "#FECB52"
          ],
          "font": {
           "color": "#2a3f5f"
          },
          "geo": {
           "bgcolor": "white",
           "lakecolor": "white",
           "landcolor": "#E5ECF6",
           "showlakes": true,
           "showland": true,
           "subunitcolor": "white"
          },
          "hoverlabel": {
           "align": "left"
          },
          "hovermode": "closest",
          "mapbox": {
           "style": "light"
          },
          "paper_bgcolor": "white",
          "plot_bgcolor": "#E5ECF6",
          "polar": {
           "angularaxis": {
            "gridcolor": "white",
            "linecolor": "white",
            "ticks": ""
           },
           "bgcolor": "#E5ECF6",
           "radialaxis": {
            "gridcolor": "white",
            "linecolor": "white",
            "ticks": ""
           }
          },
          "scene": {
           "xaxis": {
            "backgroundcolor": "#E5ECF6",
            "gridcolor": "white",
            "gridwidth": 2,
            "linecolor": "white",
            "showbackground": true,
            "ticks": "",
            "zerolinecolor": "white"
           },
           "yaxis": {
            "backgroundcolor": "#E5ECF6",
            "gridcolor": "white",
            "gridwidth": 2,
            "linecolor": "white",
            "showbackground": true,
            "ticks": "",
            "zerolinecolor": "white"
           },
           "zaxis": {
            "backgroundcolor": "#E5ECF6",
            "gridcolor": "white",
            "gridwidth": 2,
            "linecolor": "white",
            "showbackground": true,
            "ticks": "",
            "zerolinecolor": "white"
           }
          },
          "shapedefaults": {
           "line": {
            "color": "#2a3f5f"
           }
          },
          "ternary": {
           "aaxis": {
            "gridcolor": "white",
            "linecolor": "white",
            "ticks": ""
           },
           "baxis": {
            "gridcolor": "white",
            "linecolor": "white",
            "ticks": ""
           },
           "bgcolor": "#E5ECF6",
           "caxis": {
            "gridcolor": "white",
            "linecolor": "white",
            "ticks": ""
           }
          },
          "title": {
           "x": 0.05
          },
          "xaxis": {
           "automargin": true,
           "gridcolor": "white",
           "linecolor": "white",
           "ticks": "",
           "title": {
            "standoff": 15
           },
           "zerolinecolor": "white",
           "zerolinewidth": 2
          },
          "yaxis": {
           "automargin": true,
           "gridcolor": "white",
           "linecolor": "white",
           "ticks": "",
           "title": {
            "standoff": 15
           },
           "zerolinecolor": "white",
           "zerolinewidth": 2
          }
         }
        },
        "title": {
         "text": "🕒 Distribution of Days Between 1st and 2nd Orders"
        },
        "xaxis": {
         "anchor": "y",
         "domain": [
          0,
          1
         ],
         "title": {
          "text": "days_between_1st_2nd"
         }
        },
        "xaxis2": {
         "anchor": "y2",
         "domain": [
          0,
          1
         ],
         "matches": "x",
         "showgrid": true,
         "showticklabels": false
        },
        "yaxis": {
         "anchor": "x",
         "domain": [
          0,
          0.8316
         ],
         "title": {
          "text": "count"
         }
        },
        "yaxis2": {
         "anchor": "x2",
         "domain": [
          0.8416,
          1
         ],
         "matches": "y2",
         "showgrid": false,
         "showline": false,
         "showticklabels": false,
         "ticks": ""
        }
       }
      },
      "image/png": "[encoded data removed]",
      "text/html": [
       "<div>                            <div id=\"a24e1379-c7f2-4bfa-8032-f3ac0809ffce\" class=\"plotly-graph-div\" style=\"height:525px; width:100%;\"></div>            <script type=\"text/javascript\">                require([\"plotly\"], function(Plotly) {                    window.PLOTLYENV=window.PLOTLYENV || {};                                    if (document.getElementById(\"a24e1379-c7f2-4bfa-8032-f3ac0809ffce\")) {                    Plotly.newPlot(                        \"a24e1379-c7f2-4bfa-8032-f3ac0809ffce\",                        [{\"alignmentgroup\":\"True\",\"bingroup\":\"x\",\"hovertemplate\":\"days_between_1st_2nd=%{x}\\u003cbr\\u003ecount=%{y}\\u003cextra\\u003e\\u003c\\u002fextra\\u003e\",\"legendgroup\":\"\",\"marker\":{\"color\":\"#636EFA\",\"pattern\":{\"shape\":\"\"}},\"name\":\"\",\"nbinsx\":40,\"offsetgroup\":\"\",\"orientation\":\"v\",\"showlegend\":false,\"x\":[9.0,5.0,7.0,9.0,6.0,6.0,5.0,8.0,9.0,2.0,4.0,5.0,8.0,6.0,4.0,5.0,10.0,2.0,8.0,5.0,2.0,2.0,10.0,8.0,2.0,5.0,3.0,3.0,2.0,8.0,8.0,2.0,9.0,7.0,10.0,3.0,5.0,5.0,8.0,7.0,7.0,5.0,3.0,2.0,2.0,9.0,5.0,5.0,8.0,2.0,9.0,2.0,7.0,4.0,2.0,4.0,5.0,3.0,5.0,7.0,10.0,5.0,3.0,5.0,7.0,9.0,6.0,6.0,4.0,4.0,9.0,5.0,6.0,6.0,7.0,3.0,8.0,7.0,10.0,7.0,8.0,3.0,8.0,4.0,7.0,10.0,9.0,2.0,2.0,3.0,8.0,2.0,2.0,7.0,4.0,2.0,4.0,7.0,10.0,2.0,4.0,2.0,3.0,2.0,10.0,6.0,6.0,8.0,9.0,10.0,4.0,6.0,7.0,2.0,7.0,5.0,4.0,5.0,6.0,4.0,10.0,6.0,10.0,3.0,5.0,5.0,5.0,8.0,7.0,7.0,5.0,2.0,9.0,4.0,6.0,2.0,3.0,9.0,8.0,6.0,5.0,3.0,8.0,8.0,10.0,5.0,3.0,8.0,3.0,5.0,3.0,2.0,8.0,5.0,3.0,8.0,5.0,9.0,6.0,8.0,3.0,10.0,8.0,6.0,3.0,10.0,4.0,7.0,6.0,9.0,2.0,9.0,4.0,10.0,5.0,5.0,8.0,4.0,9.0,9.0,7.0,5.0,8.0,4.0,6.0,4.0,5.0,7.0,2.0,4.0,2.0,6.0,10.0,6.0,6.0,4.0,6.0,3.0,8.0,4.0,10.0,5.0,6.0,7.0,7.0,9.0,8.0,7.0,5.0,10.0,2.0,4.0,6.0,6.0,5.0,4.0,10.0,3.0,5.0,5.0,7.0,10.0,6.0,6.0,7.0,3.0,7.0,2.0,8.0,8.0,9.0,10.0,7.0,5.0,8.0,7.0,10.0,6.0,5.0,7.0,9.0,3.0,8.0,9.0,8.0,7.0,4.0,2.0,3.0,7.0,8.0,5.0,3.0,7.0,8.0,5.0,4.0,3.0,3.0,5.0,4.0,3.0,9.0,2.0,8.0,3.0,6.0,6.0,9.0,9.0,7.0,8.0,6.0,3.0,7.0,10.0,10.0,7.0,3.0,7.0,3.0,10.0,9.0,8.0,4.0,7.0,4.0,3.0,5.0,7.0,4.0,4.0,5.0,9.0,5.0,8.0,10.0,5.0,4.0,7.0,9.0,2.0,10.0,7.0,8.0,5.0,3.0,4.0,6.0,6.0,10.0,3.0,2.0,4.0,6.0,8.0,9.0,4.0,8.0,6.0,10.0,8.0,9.0,4.0,3.0,2.0,4.0,6.0,7.0,3.0,4.0,10.0,4.0,10.0,7.0,9.0,5.0,4.0,2.0,9.0,5.0,8.0,8.0,3.0,4.0,10.0,9.0,4.0,2.0,9.0,7.0,10.0,3.0,8.0,6.0,8.0,3.0,9.0,6.0,4.0,9.0,2.0,2.0,2.0,4.0,5.0,6.0,7.0,8.0,2.0,5.0,8.0,7.0,6.0,5.0,10.0,5.0,7.0,8.0,6.0,9.0,9.0,5.0,5.0,4.0,9.0,10.0,2.0,8.0,6.0,10.0,7.0,7.0,4.0,2.0,5.0,10.0,6.0,5.0,10.0,10.0,4.0,10.0,9.0,10.0,3.0,2.0,7.0,4.0,6.0,9.0,3.0,10.0,9.0,7.0,4.0,2.0,3.0,8.0,8.0,5.0,9.0,9.0,4.0,2.0,10.0,6.0,6.0,7.0,7.0,2.0,3.0,8.0,10.0,5.0,2.0,2.0,8.0,7.0,4.0,4.0,4.0,5.0,10.0,6.0,5.0,2.0,10.0,3.0,7.0,2.0,8.0,10.0,5.0,8.0,5.0,6.0,10.0,9.0,6.0,2.0,4.0,6.0,2.0,7.0,10.0,9.0,6.0,3.0,5.0,3.0,6.0,10.0,2.0,3.0,5.0,2.0,4.0,5.0,7.0,6.0,8.0,4.0,4.0,7.0,9.0,3.0,7.0,2.0,4.0,9.0,10.0,7.0,8.0,3.0,4.0,6.0,6.0,9.0,8.0,5.0,6.0,4.0,8.0,8.0,5.0,5.0,3.0,9.0,7.0,6.0,10.0,7.0,6.0,3.0,2.0,3.0,9.0,9.0,3.0,4.0,7.0,4.0,10.0,8.0,6.0,8.0,4.0,4.0,7.0,9.0,3.0,8.0,8.0,9.0,5.0,9.0,6.0,10.0,2.0,9.0,8.0,6.0,8.0,8.0,9.0,7.0,3.0,7.0,6.0,2.0,6.0,8.0,8.0,3.0,10.0,6.0,10.0,4.0,2.0,5.0,7.0,9.0,6.0,4.0,5.0,6.0,5.0,4.0,4.0,2.0,10.0,4.0,3.0,3.0,7.0,7.0,9.0,2.0,8.0,6.0,9.0,10.0,8.0,7.0,3.0,7.0,5.0,9.0,9.0,2.0,10.0,6.0,3.0,3.0,8.0,8.0,2.0,7.0,6.0,7.0,6.0,9.0,7.0,9.0,9.0,10.0,10.0,9.0,10.0,5.0,4.0,8.0,4.0,6.0,8.0,5.0,5.0,2.0,8.0,9.0,9.0,8.0,3.0,6.0,9.0,10.0,8.0,5.0,3.0,9.0,2.0,8.0,8.0,3.0,4.0,7.0,4.0,8.0,2.0,8.0,3.0,6.0,8.0,5.0,5.0,7.0,2.0,6.0,10.0,5.0,5.0,5.0,3.0,2.0,5.0,10.0,8.0,2.0,4.0,9.0,6.0,6.0,4.0,10.0,9.0,9.0,3.0,2.0,5.0,3.0,3.0,2.0,3.0,4.0,8.0,4.0,5.0,7.0,6.0,2.0,7.0,2.0,4.0,8.0,10.0,10.0,5.0,8.0,4.0,9.0,5.0,5.0,7.0,3.0,7.0,5.0,7.0,2.0,3.0,9.0,4.0,5.0,5.0,9.0,3.0,8.0,8.0,10.0,3.0,6.0,10.0,2.0,3.0,5.0,2.0,8.0,6.0,7.0,3.0,6.0,5.0,3.0,6.0,6.0,10.0,4.0,2.0,3.0,6.0,3.0,5.0,8.0,6.0,4.0,6.0,6.0,2.0,10.0,10.0,6.0,3.0,8.0,8.0,6.0,4.0,7.0,6.0,9.0,5.0,6.0,7.0,7.0,4.0,4.0,9.0,7.0,3.0,6.0,8.0,10.0,4.0,2.0,3.0,5.0,3.0,2.0,8.0,5.0,10.0,5.0,10.0,2.0,9.0,3.0,3.0,6.0,3.0,7.0,5.0,5.0,3.0,3.0,8.0,7.0,10.0,5.0,8.0,3.0,3.0,9.0,5.0,4.0,5.0,10.0,5.0,9.0,9.0,10.0,4.0,5.0,2.0,5.0,2.0,9.0,6.0,3.0,2.0,10.0,5.0,5.0,7.0,6.0,8.0,9.0,4.0,7.0,9.0,10.0,9.0,4.0,7.0,8.0,3.0,7.0,5.0,5.0,9.0,6.0,9.0,4.0,7.0,9.0,4.0,2.0,3.0,3.0,2.0,4.0,7.0,3.0,7.0,5.0,3.0,9.0,9.0,2.0,10.0,6.0,10.0,7.0,8.0,7.0,10.0,6.0,9.0,4.0,8.0,6.0,7.0,5.0,8.0,9.0,7.0,8.0,9.0,8.0,2.0,8.0,10.0,9.0,2.0,3.0,5.0,6.0,9.0,8.0,4.0,9.0,9.0,10.0,7.0,4.0,9.0,6.0,3.0,6.0,5.0,2.0,9.0,9.0,6.0,5.0,10.0,7.0,8.0,6.0,10.0,10.0,6.0,9.0,5.0,10.0,4.0,7.0,10.0,10.0,6.0,8.0,5.0,6.0,3.0,5.0,3.0,9.0,8.0,7.0,8.0,10.0,4.0,3.0,5.0,4.0,10.0,9.0,10.0,10.0,8.0,3.0,5.0,2.0,7.0,10.0,2.0,3.0,4.0,5.0,9.0,5.0,5.0,9.0,5.0,2.0,7.0,10.0,7.0,3.0,3.0,4.0,9.0,9.0,6.0,8.0,8.0,6.0,6.0,6.0,6.0,3.0,9.0,2.0,3.0,3.0,9.0,8.0,2.0,7.0,7.0,8.0,9.0,6.0,8.0,3.0,2.0,9.0,5.0,4.0,9.0,9.0,3.0,8.0,2.0,7.0,5.0,9.0,5.0,10.0,3.0,3.0,4.0,3.0,3.0,10.0,4.0,10.0,6.0,2.0,10.0,10.0,8.0,6.0,2.0,6.0,7.0,3.0,9.0,5.0,5.0,10.0,4.0,10.0,4.0,8.0,5.0,4.0,2.0,7.0,2.0,8.0,2.0,9.0,2.0,8.0,7.0,4.0,9.0,8.0,6.0,10.0,5.0,9.0,9.0,9.0,4.0,4.0,4.0,9.0,7.0,10.0,6.0,10.0,4.0,2.0,7.0,3.0,7.0,7.0,6.0,5.0,6.0,4.0,7.0,2.0,3.0,8.0,9.0,9.0,8.0,9.0,9.0,7.0,9.0,4.0,9.0,2.0,3.0,9.0,3.0,6.0,2.0,6.0,8.0,2.0,4.0,9.0,2.0,4.0,8.0,10.0,3.0,5.0,5.0,3.0,6.0,5.0,5.0,6.0,7.0,5.0,2.0,5.0,10.0,7.0,9.0,5.0,10.0,2.0,6.0,8.0,6.0,5.0,10.0,2.0,6.0,4.0,7.0,9.0,5.0,4.0,10.0,2.0,5.0,5.0,4.0,4.0,7.0,3.0,4.0,4.0,7.0,2.0,8.0,6.0,5.0,5.0,5.0,5.0,8.0,3.0,3.0,6.0,4.0,5.0,6.0,8.0,4.0,2.0,9.0,9.0,9.0,9.0,4.0,9.0,9.0,6.0,9.0,5.0,2.0,5.0,7.0,8.0,8.0,5.0,5.0,10.0,4.0,10.0,10.0,6.0,5.0,2.0,7.0,7.0,8.0,4.0,8.0,7.0,2.0,3.0,7.0,8.0,8.0,3.0,3.0,5.0,2.0,2.0,7.0,2.0,6.0,4.0,10.0,2.0,8.0,7.0,4.0,4.0,5.0,5.0,6.0,7.0,6.0,10.0,5.0,10.0,2.0,5.0,9.0,10.0,4.0,3.0,6.0,5.0,2.0,6.0,5.0,9.0,7.0,6.0,7.0,10.0,4.0,4.0,5.0,7.0,2.0,2.0,10.0,4.0,3.0,2.0,2.0,9.0,4.0,7.0,7.0,9.0,9.0,10.0,10.0,4.0,6.0,3.0,7.0,3.0,6.0,5.0,2.0,5.0,5.0,9.0,6.0,8.0,10.0,8.0,8.0,10.0,9.0,8.0,5.0,4.0,9.0,10.0,10.0,5.0,7.0,9.0,3.0,2.0,3.0,2.0,6.0,10.0,6.0,7.0,8.0,4.0,3.0,3.0,6.0,6.0,6.0,6.0,10.0,7.0,6.0,10.0,8.0,10.0,6.0,8.0,3.0,6.0,7.0,6.0,7.0,10.0,9.0,9.0,9.0,9.0,4.0,10.0,7.0,5.0,2.0,6.0,4.0,9.0,9.0,8.0,7.0,7.0,6.0,7.0,6.0,6.0,4.0,10.0,7.0,6.0,4.0,7.0,4.0,6.0,4.0,3.0,7.0,4.0,8.0,4.0,6.0,8.0,4.0,3.0,7.0,6.0,6.0,8.0,3.0,6.0,7.0,4.0,2.0,4.0,4.0,10.0,2.0,3.0,4.0,6.0,7.0,5.0,3.0,5.0,4.0,8.0,9.0,2.0,10.0,6.0,2.0,2.0,9.0,6.0,4.0,9.0,10.0,3.0,5.0,4.0,5.0,9.0,5.0,10.0,10.0,5.0,7.0,10.0,5.0,10.0,2.0,2.0,2.0,4.0,2.0,8.0,8.0,3.0,9.0,6.0,9.0,9.0,2.0,2.0,3.0,10.0,9.0,9.0,9.0,5.0,4.0,10.0,9.0,5.0,4.0,6.0,9.0,7.0,3.0,9.0,4.0,7.0,9.0,7.0,4.0,4.0,2.0,4.0,9.0,7.0,10.0,3.0,10.0,8.0,3.0,9.0,9.0,5.0,10.0,4.0,7.0,2.0,3.0,6.0,4.0,2.0,4.0,8.0,8.0,2.0,10.0,7.0,10.0,4.0,6.0,5.0,8.0],\"xaxis\":\"x\",\"yaxis\":\"y\",\"type\":\"histogram\"},{\"alignmentgroup\":\"True\",\"boxpoints\":\"all\",\"fillcolor\":\"rgba(255,255,255,0)\",\"hoveron\":\"points\",\"hovertemplate\":\"days_between_1st_2nd=%{x}\\u003cextra\\u003e\\u003c\\u002fextra\\u003e\",\"jitter\":0,\"legendgroup\":\"\",\"line\":{\"color\":\"rgba(255,255,255,0)\"},\"marker\":{\"color\":\"#636EFA\",\"symbol\":\"line-ns-open\"},\"name\":\"\",\"offsetgroup\":\"\",\"showlegend\":false,\"x\":[9.0,5.0,7.0,9.0,6.0,6.0,5.0,8.0,9.0,2.0,4.0,5.0,8.0,6.0,4.0,5.0,10.0,2.0,8.0,5.0,2.0,2.0,10.0,8.0,2.0,5.0,3.0,3.0,2.0,8.0,8.0,2.0,9.0,7.0,10.0,3.0,5.0,5.0,8.0,7.0,7.0,5.0,3.0,2.0,2.0,9.0,5.0,5.0,8.0,2.0,9.0,2.0,7.0,4.0,2.0,4.0,5.0,3.0,5.0,7.0,10.0,5.0,3.0,5.0,7.0,9.0,6.0,6.0,4.0,4.0,9.0,5.0,6.0,6.0,7.0,3.0,8.0,7.0,10.0,7.0,8.0,3.0,8.0,4.0,7.0,10.0,9.0,2.0,2.0,3.0,8.0,2.0,2.0,7.0,4.0,2.0,4.0,7.0,10.0,2.0,4.0,2.0,3.0,2.0,10.0,6.0,6.0,8.0,9.0,10.0,4.0,6.0,7.0,2.0,7.0,5.0,4.0,5.0,6.0,4.0,10.0,6.0,10.0,3.0,5.0,5.0,5.0,8.0,7.0,7.0,5.0,2.0,9.0,4.0,6.0,2.0,3.0,9.0,8.0,6.0,5.0,3.0,8.0,8.0,10.0,5.0,3.0,8.0,3.0,5.0,3.0,2.0,8.0,5.0,3.0,8.0,5.0,9.0,6.0,8.0,3.0,10.0,8.0,6.0,3.0,10.0,4.0,7.0,6.0,9.0,2.0,9.0,4.0,10.0,5.0,5.0,8.0,4.0,9.0,9.0,7.0,5.0,8.0,4.0,6.0,4.0,5.0,7.0,2.0,4.0,2.0,6.0,10.0,6.0,6.0,4.0,6.0,3.0,8.0,4.0,10.0,5.0,6.0,7.0,7.0,9.0,8.0,7.0,5.0,10.0,2.0,4.0,6.0,6.0,5.0,4.0,10.0,3.0,5.0,5.0,7.0,10.0,6.0,6.0,7.0,3.0,7.0,2.0,8.0,8.0,9.0,10.0,7.0,5.0,8.0,7.0,10.0,6.0,5.0,7.0,9.0,3.0,8.0,9.0,8.0,7.0,4.0,2.0,3.0,7.0,8.0,5.0,3.0,7.0,8.0,5.0,4.0,3.0,3.0,5.0,4.0,3.0,9.0,2.0,8.0,3.0,6.0,6.0,9.0,9.0,7.0,8.0,6.0,3.0,7.0,10.0,10.0,7.0,3.0,7.0,3.0,10.0,9.0,8.0,4.0,7.0,4.0,3.0,5.0,7.0,4.0,4.0,5.0,9.0,5.0,8.0,10.0,5.0,4.0,7.0,9.0,2.0,10.0,7.0,8.0,5.0,3.0,4.0,6.0,6.0,10.0,3.0,2.0,4.0,6.0,8.0,9.0,4.0,8.0,6.0,10.0,8.0,9.0,4.0,3.0,2.0,4.0,6.0,7.0,3.0,4.0,10.0,4.0,10.0,7.0,9.0,5.0,4.0,2.0,9.0,5.0,8.0,8.0,3.0,4.0,10.0,9.0,4.0,2.0,9.0,7.0,10.0,3.0,8.0,6.0,8.0,3.0,9.0,6.0,4.0,9.0,2.0,2.0,2.0,4.0,5.0,6.0,7.0,8.0,2.0,5.0,8.0,7.0,6.0,5.0,10.0,5.0,7.0,8.0,6.0,9.0,9.0,5.0,5.0,4.0,9.0,10.0,2.0,8.0,6.0,10.0,7.0,7.0,4.0,2.0,5.0,10.0,6.0,5.0,10.0,10.0,4.0,10.0,9.0,10.0,3.0,2.0,7.0,4.0,6.0,9.0,3.0,10.0,9.0,7.0,4.0,2.0,3.0,8.0,8.0,5.0,9.0,9.0,4.0,2.0,10.0,6.0,6.0,7.0,7.0,2.0,3.0,8.0,10.0,5.0,2.0,2.0,8.0,7.0,4.0,4.0,4.0,5.0,10.0,6.0,5.0,2.0,10.0,3.0,7.0,2.0,8.0,10.0,5.0,8.0,5.0,6.0,10.0,9.0,6.0,2.0,4.0,6.0,2.0,7.0,10.0,9.0,6.0,3.0,5.0,3.0,6.0,10.0,2.0,3.0,5.0,2.0,4.0,5.0,7.0,6.0,8.0,4.0,4.0,7.0,9.0,3.0,7.0,2.0,4.0,9.0,10.0,7.0,8.0,3.0,4.0,6.0,6.0,9.0,8.0,5.0,6.0,4.0,8.0,8.0,5.0,5.0,3.0,9.0,7.0,6.0,10.0,7.0,6.0,3.0,2.0,3.0,9.0,9.0,3.0,4.0,7.0,4.0,10.0,8.0,6.0,8.0,4.0,4.0,7.0,9.0,3.0,8.0,8.0,9.0,5.0,9.0,6.0,10.0,2.0,9.0,8.0,6.0,8.0,8.0,9.0,7.0,3.0,7.0,6.0,2.0,6.0,8.0,8.0,3.0,10.0,6.0,10.0,4.0,2.0,5.0,7.0,9.0,6.0,4.0,5.0,6.0,5.0,4.0,4.0,2.0,10.0,4.0,3.0,3.0,7.0,7.0,9.0,2.0,8.0,6.0,9.0,10.0,8.0,7.0,3.0,7.0,5.0,9.0,9.0,2.0,10.0,6.0,3.0,3.0,8.0,8.0,2.0,7.0,6.0,7.0,6.0,9.0,7.0,9.0,9.0,10.0,10.0,9.0,10.0,5.0,4.0,8.0,4.0,6.0,8.0,5.0,5.0,2.0,8.0,9.0,9.0,8.0,3.0,6.0,9.0,10.0,8.0,5.0,3.0,9.0,2.0,8.0,8.0,3.0,4.0,7.0,4.0,8.0,2.0,8.0,3.0,6.0,8.0,5.0,5.0,7.0,2.0,6.0,10.0,5.0,5.0,5.0,3.0,2.0,5.0,10.0,8.0,2.0,4.0,9.0,6.0,6.0,4.0,10.0,9.0,9.0,3.0,2.0,5.0,3.0,3.0,2.0,3.0,4.0,8.0,4.0,5.0,7.0,6.0,2.0,7.0,2.0,4.0,8.0,10.0,10.0,5.0,8.0,4.0,9.0,5.0,5.0,7.0,3.0,7.0,5.0,7.0,2.0,3.0,9.0,4.0,5.0,5.0,9.0,3.0,8.0,8.0,10.0,3.0,6.0,10.0,2.0,3.0,5.0,2.0,8.0,6.0,7.0,3.0,6.0,5.0,3.0,6.0,6.0,10.0,4.0,2.0,3.0,6.0,3.0,5.0,8.0,6.0,4.0,6.0,6.0,2.0,10.0,10.0,6.0,3.0,8.0,8.0,6.0,4.0,7.0,6.0,9.0,5.0,6.0,7.0,7.0,4.0,4.0,9.0,7.0,3.0,6.0,8.0,10.0,4.0,2.0,3.0,5.0,3.0,2.0,8.0,5.0,10.0,5.0,10.0,2.0,9.0,3.0,3.0,6.0,3.0,7.0,5.0,5.0,3.0,3.0,8.0,7.0,10.0,5.0,8.0,3.0,3.0,9.0,5.0,4.0,5.0,10.0,5.0,9.0,9.0,10.0,4.0,5.0,2.0,5.0,2.0,9.0,6.0,3.0,2.0,10.0,5.0,5.0,7.0,6.0,8.0,9.0,4.0,7.0,9.0,10.0,9.0,4.0,7.0,8.0,3.0,7.0,5.0,5.0,9.0,6.0,9.0,4.0,7.0,9.0,4.0,2.0,3.0,3.0,2.0,4.0,7.0,3.0,7.0,5.0,3.0,9.0,9.0,2.0,10.0,6.0,10.0,7.0,8.0,7.0,10.0,6.0,9.0,4.0,8.0,6.0,7.0,5.0,8.0,9.0,7.0,8.0,9.0,8.0,2.0,8.0,10.0,9.0,2.0,3.0,5.0,6.0,9.0,8.0,4.0,9.0,9.0,10.0,7.0,4.0,9.0,6.0,3.0,6.0,5.0,2.0,9.0,9.0,6.0,5.0,10.0,7.0,8.0,6.0,10.0,10.0,6.0,9.0,5.0,10.0,4.0,7.0,10.0,10.0,6.0,8.0,5.0,6.0,3.0,5.0,3.0,9.0,8.0,7.0,8.0,10.0,4.0,3.0,5.0,4.0,10.0,9.0,10.0,10.0,8.0,3.0,5.0,2.0,7.0,10.0,2.0,3.0,4.0,5.0,9.0,5.0,5.0,9.0,5.0,2.0,7.0,10.0,7.0,3.0,3.0,4.0,9.0,9.0,6.0,8.0,8.0,6.0,6.0,6.0,6.0,3.0,9.0,2.0,3.0,3.0,9.0,8.0,2.0,7.0,7.0,8.0,9.0,6.0,8.0,3.0,2.0,9.0,5.0,4.0,9.0,9.0,3.0,8.0,2.0,7.0,5.0,9.0,5.0,10.0,3.0,3.0,4.0,3.0,3.0,10.0,4.0,10.0,6.0,2.0,10.0,10.0,8.0,6.0,2.0,6.0,7.0,3.0,9.0,5.0,5.0,10.0,4.0,10.0,4.0,8.0,5.0,4.0,2.0,7.0,2.0,8.0,2.0,9.0,2.0,8.0,7.0,4.0,9.0,8.0,6.0,10.0,5.0,9.0,9.0,9.0,4.0,4.0,4.0,9.0,7.0,10.0,6.0,10.0,4.0,2.0,7.0,3.0,7.0,7.0,6.0,5.0,6.0,4.0,7.0,2.0,3.0,8.0,9.0,9.0,8.0,9.0,9.0,7.0,9.0,4.0,9.0,2.0,3.0,9.0,3.0,6.0,2.0,6.0,8.0,2.0,4.0,9.0,2.0,4.0,8.0,10.0,3.0,5.0,5.0,3.0,6.0,5.0,5.0,6.0,7.0,5.0,2.0,5.0,10.0,7.0,9.0,5.0,10.0,2.0,6.0,8.0,6.0,5.0,10.0,2.0,6.0,4.0,7.0,9.0,5.0,4.0,10.0,2.0,5.0,5.0,4.0,4.0,7.0,3.0,4.0,4.0,7.0,2.0,8.0,6.0,5.0,5.0,5.0,5.0,8.0,3.0,3.0,6.0,4.0,5.0,6.0,8.0,4.0,2.0,9.0,9.0,9.0,9.0,4.0,9.0,9.0,6.0,9.0,5.0,2.0,5.0,7.0,8.0,8.0,5.0,5.0,10.0,4.0,10.0,10.0,6.0,5.0,2.0,7.0,7.0,8.0,4.0,8.0,7.0,2.0,3.0,7.0,8.0,8.0,3.0,3.0,5.0,2.0,2.0,7.0,2.0,6.0,4.0,10.0,2.0,8.0,7.0,4.0,4.0,5.0,5.0,6.0,7.0,6.0,10.0,5.0,10.0,2.0,5.0,9.0,10.0,4.0,3.0,6.0,5.0,2.0,6.0,5.0,9.0,7.0,6.0,7.0,10.0,4.0,4.0,5.0,7.0,2.0,2.0,10.0,4.0,3.0,2.0,2.0,9.0,4.0,7.0,7.0,9.0,9.0,10.0,10.0,4.0,6.0,3.0,7.0,3.0,6.0,5.0,2.0,5.0,5.0,9.0,6.0,8.0,10.0,8.0,8.0,10.0,9.0,8.0,5.0,4.0,9.0,10.0,10.0,5.0,7.0,9.0,3.0,2.0,3.0,2.0,6.0,10.0,6.0,7.0,8.0,4.0,3.0,3.0,6.0,6.0,6.0,6.0,10.0,7.0,6.0,10.0,8.0,10.0,6.0,8.0,3.0,6.0,7.0,6.0,7.0,10.0,9.0,9.0,9.0,9.0,4.0,10.0,7.0,5.0,2.0,6.0,4.0,9.0,9.0,8.0,7.0,7.0,6.0,7.0,6.0,6.0,4.0,10.0,7.0,6.0,4.0,7.0,4.0,6.0,4.0,3.0,7.0,4.0,8.0,4.0,6.0,8.0,4.0,3.0,7.0,6.0,6.0,8.0,3.0,6.0,7.0,4.0,2.0,4.0,4.0,10.0,2.0,3.0,4.0,6.0,7.0,5.0,3.0,5.0,4.0,8.0,9.0,2.0,10.0,6.0,2.0,2.0,9.0,6.0,4.0,9.0,10.0,3.0,5.0,4.0,5.0,9.0,5.0,10.0,10.0,5.0,7.0,10.0,5.0,10.0,2.0,2.0,2.0,4.0,2.0,8.0,8.0,3.0,9.0,6.0,9.0,9.0,2.0,2.0,3.0,10.0,9.0,9.0,9.0,5.0,4.0,10.0,9.0,5.0,4.0,6.0,9.0,7.0,3.0,9.0,4.0,7.0,9.0,7.0,4.0,4.0,2.0,4.0,9.0,7.0,10.0,3.0,10.0,8.0,3.0,9.0,9.0,5.0,10.0,4.0,7.0,2.0,3.0,6.0,4.0,2.0,4.0,8.0,8.0,2.0,10.0,7.0,10.0,4.0,6.0,5.0,8.0],\"xaxis\":\"x2\",\"yaxis\":\"y2\",\"type\":\"box\"}],                        {\"template\":{\"data\":{\"histogram2dcontour\":[{\"type\":\"histogram2dcontour\",\"colorbar\":{\"outlinewidth\":0,\"ticks\":\"\"},\"colorscale\":[[0.0,\"#0d0887\"],[0.1111111111111111,\"#46039f\"],[0.2222222222222222,\"#7201a8\"],[0.3333333333333333,\"#9c179e\"],[0.4444444444444444,\"#bd3786\"],[0.5555555555555556,\"#d8576b\"],[0.6666666666666666,\"#ed7953\"],[0.7777777777777778,\"#fb9f3a\"],[0.8888888888888888,\"#fdca26\"],[1.0,\"#f0f921\"]]}],\"choropleth\":[{\"type\":\"choropleth\",\"colorbar\":{\"outlinewidth\":0,\"ticks\":\"\"}}],\"histogram2d\":[{\"type\":\"histogram2d\",\"colorbar\":{\"outlinewidth\":0,\"ticks\":\"\"},\"colorscale\":[[0.0,\"#0d0887\"],[0.1111111111111111,\"#46039f\"],[0.2222222222222222,\"#7201a8\"],[0.3333333333333333,\"#9c179e\"],[0.4444444444444444,\"#bd3786\"],[0.5555555555555556,\"#d8576b\"],[0.6666666666666666,\"#ed7953\"],[0.7777777777777778,\"#fb9f3a\"],[0.8888888888888888,\"#fdca26\"],[1.0,\"#f0f921\"]]}],\"heatmap\":[{\"type\":\"heatmap\",\"colorbar\":{\"outlinewidth\":0,\"ticks\":\"\"},\"colorscale\":[[0.0,\"#0d0887\"],[0.1111111111111111,\"#46039f\"],[0.2222222222222222,\"#7201a8\"],[0.3333333333333333,\"#9c179e\"],[0.4444444444444444,\"#bd3786\"],[0.5555555555555556,\"#d8576b\"],[0.6666666666666666,\"#ed7953\"],[0.7777777777777778,\"#fb9f3a\"],[0.8888888888888888,\"#fdca26\"],[1.0,\"#f0f921\"]]}],\"heatmapgl\":[{\"type\":\"heatmapgl\",\"colorbar\":{\"outlinewidth\":0,\"ticks\":\"\"},\"colorscale\":[[0.0,\"#0d0887\"],[0.1111111111111111,\"#46039f\"],[0.2222222222222222,\"#7201a8\"],[0.3333333333333333,\"#9c179e\"],[0.4444444444444444,\"#bd3786\"],[0.5555555555555556,\"#d8576b\"],[0.6666666666666666,\"#ed7953\"],[0.7777777777777778,\"#fb9f3a\"],[0.8888888888888888,\"#fdca26\"],[1.0,\"#f0f921\"]]}],\"contourcarpet\":[{\"type\":\"contourcarpet\",\"colorbar\":{\"outlinewidth\":0,\"ticks\":\"\"}}],\"contour\":[{\"type\":\"contour\",\"colorbar\":{\"outlinewidth\":0,\"ticks\":\"\"},\"colorscale\":[[0.0,\"#0d0887\"],[0.1111111111111111,\"#46039f\"],[0.2222222222222222,\"#7201a8\"],[0.3333333333333333,\"#9c179e\"],[0.4444444444444444,\"#bd3786\"],[0.5555555555555556,\"#d8576b\"],[0.6666666666666666,\"#ed7953\"],[0.7777777777777778,\"#fb9f3a\"],[0.8888888888888888,\"#fdca26\"],[1.0,\"#f0f921\"]]}],\"surface\":[{\"type\":\"surface\",\"colorbar\":{\"outlinewidth\":0,\"ticks\":\"\"},\"colorscale\":[[0.0,\"#0d0887\"],[0.1111111111111111,\"#46039f\"],[0.2222222222222222,\"#7201a8\"],[0.3333333333333333,\"#9c179e\"],[0.4444444444444444,\"#bd3786\"],[0.5555555555555556,\"#d8576b\"],[0.6666666666666666,\"#ed7953\"],[0.7777777777777778,\"#fb9f3a\"],[0.8888888888888888,\"#fdca26\"],[1.0,\"#f0f921\"]]}],\"mesh3d\":[{\"type\":\"mesh3d\",\"colorbar\":{\"outlinewidth\":0,\"ticks\":\"\"}}],\"scatter\":[{\"fillpattern\":{\"fillmode\":\"overlay\",\"size\":10,\"solidity\":0.2},\"type\":\"scatter\"}],\"parcoords\":[{\"type\":\"parcoords\",\"line\":{\"colorbar\":{\"outlinewidth\":0,\"ticks\":\"\"}}}],\"scatterpolargl\":[{\"type\":\"scatterpolargl\",\"marker\":{\"colorbar\":{\"outlinewidth\":0,\"ticks\":\"\"}}}],\"bar\":[{\"error_x\":{\"color\":\"#2a3f5f\"},\"error_y\":{\"color\":\"#2a3f5f\"},\"marker\":{\"line\":{\"color\":\"#E5ECF6\",\"width\":0.5},\"pattern\":{\"fillmode\":\"overlay\",\"size\":10,\"solidity\":0.2}},\"type\":\"bar\"}],\"scattergeo\":[{\"type\":\"scattergeo\",\"marker\":{\"colorbar\":{\"outlinewidth\":0,\"ticks\":\"\"}}}],\"scatterpolar\":[{\"type\":\"scatterpolar\",\"marker\":{\"colorbar\":{\"outlinewidth\":0,\"ticks\":\"\"}}}],\"histogram\":[{\"marker\":{\"pattern\":{\"fillmode\":\"overlay\",\"size\":10,\"solidity\":0.2}},\"type\":\"histogram\"}],\"scattergl\":[{\"type\":\"scattergl\",\"marker\":{\"colorbar\":{\"outlinewidth\":0,\"ticks\":\"\"}}}],\"scatter3d\":[{\"type\":\"scatter3d\",\"line\":{\"colorbar\":{\"outlinewidth\":0,\"ticks\":\"\"}},\"marker\":{\"colorbar\":{\"outlinewidth\":0,\"ticks\":\"\"}}}],\"scattermapbox\":[{\"type\":\"scattermapbox\",\"marker\":{\"colorbar\":{\"outlinewidth\":0,\"ticks\":\"\"}}}],\"scatterternary\":[{\"type\":\"scatterternary\",\"marker\":{\"colorbar\":{\"outlinewidth\":0,\"ticks\":\"\"}}}],\"scattercarpet\":[{\"type\":\"scattercarpet\",\"marker\":{\"colorbar\":{\"outlinewidth\":0,\"ticks\":\"\"}}}],\"carpet\":[{\"aaxis\":{\"endlinecolor\":\"#2a3f5f\",\"gridcolor\":\"white\",\"linecolor\":\"white\",\"minorgridcolor\":\"white\",\"startlinecolor\":\"#2a3f5f\"},\"baxis\":{\"endlinecolor\":\"#2a3f5f\",\"gridcolor\":\"white\",\"linecolor\":\"white\",\"minorgridcolor\":\"white\",\"startlinecolor\":\"#2a3f5f\"},\"type\":\"carpet\"}],\"table\":[{\"cells\":{\"fill\":{\"color\":\"#EBF0F8\"},\"line\":{\"color\":\"white\"}},\"header\":{\"fill\":{\"color\":\"#C8D4E3\"},\"line\":{\"color\":\"white\"}},\"type\":\"table\"}],\"barpolar\":[{\"marker\":{\"line\":{\"color\":\"#E5ECF6\",\"width\":0.5},\"pattern\":{\"fillmode\":\"overlay\",\"size\":10,\"solidity\":0.2}},\"type\":\"barpolar\"}],\"pie\":[{\"automargin\":true,\"type\":\"pie\"}]},\"layout\":{\"autotypenumbers\":\"strict\",\"colorway\":[\"#636efa\",\"#EF553B\",\"#00cc96\",\"#ab63fa\",\"#FFA15A\",\"#19d3f3\",\"#FF6692\",\"#B6E880\",\"#FF97FF\",\"#FECB52\"],\"font\":{\"color\":\"#2a3f5f\"},\"hovermode\":\"closest\",\"hoverlabel\":{\"align\":\"left\"},\"paper_bgcolor\":\"white\",\"plot_bgcolor\":\"#E5ECF6\",\"polar\":{\"bgcolor\":\"#E5ECF6\",\"angularaxis\":{\"gridcolor\":\"white\",\"linecolor\":\"white\",\"ticks\":\"\"},\"radialaxis\":{\"gridcolor\":\"white\",\"linecolor\":\"white\",\"ticks\":\"\"}},\"ternary\":{\"bgcolor\":\"#E5ECF6\",\"aaxis\":{\"gridcolor\":\"white\",\"linecolor\":\"white\",\"ticks\":\"\"},\"baxis\":{\"gridcolor\":\"white\",\"linecolor\":\"white\",\"ticks\":\"\"},\"caxis\":{\"gridcolor\":\"white\",\"linecolor\":\"white\",\"ticks\":\"\"}},\"coloraxis\":{\"colorbar\":{\"outlinewidth\":0,\"ticks\":\"\"}},\"colorscale\":{\"sequential\":[[0.0,\"#0d0887\"],[0.1111111111111111,\"#46039f\"],[0.2222222222222222,\"#7201a8\"],[0.3333333333333333,\"#9c179e\"],[0.4444444444444444,\"#bd3786\"],[0.5555555555555556,\"#d8576b\"],[0.6666666666666666,\"#ed7953\"],[0.7777777777777778,\"#fb9f3a\"],[0.8888888888888888,\"#fdca26\"],[1.0,\"#f0f921\"]],\"sequentialminus\":[[0.0,\"#0d0887\"],[0.1111111111111111,\"#46039f\"],[0.2222222222222222,\"#7201a8\"],[0.3333333333333333,\"#9c179e\"],[0.4444444444444444,\"#bd3786\"],[0.5555555555555556,\"#d8576b\"],[0.6666666666666666,\"#ed7953\"],[0.7777777777777778,\"#fb9f3a\"],[0.8888888888888888,\"#fdca26\"],[1.0,\"#f0f921\"]],\"diverging\":[[0,\"#8e0152\"],[0.1,\"#c51b7d\"],[0.2,\"#de77ae\"],[0.3,\"#f1b6da\"],[0.4,\"#fde0ef\"],[0.5,\"#f7f7f7\"],[0.6,\"#e6f5d0\"],[0.7,\"#b8e186\"],[0.8,\"#7fbc41\"],[0.9,\"#4d9221\"],[1,\"#276419\"]]},\"xaxis\":{\"gridcolor\":\"white\",\"linecolor\":\"white\",\"ticks\":\"\",\"title\":{\"standoff\":15},\"zerolinecolor\":\"white\",\"automargin\":true,\"zerolinewidth\":2},\"yaxis\":{\"gridcolor\":\"white\",\"linecolor\":\"white\",\"ticks\":\"\",\"title\":{\"standoff\":15},\"zerolinecolor\":\"white\",\"automargin\":true,\"zerolinewidth\":2},\"scene\":{\"xaxis\":{\"backgroundcolor\":\"#E5ECF6\",\"gridcolor\":\"white\",\"linecolor\":\"white\",\"showbackground\":true,\"ticks\":\"\",\"zerolinecolor\":\"white\",\"gridwidth\":2},\"yaxis\":{\"backgroundcolor\":\"#E5ECF6\",\"gridcolor\":\"white\",\"linecolor\":\"white\",\"showbackground\":true,\"ticks\":\"\",\"zerolinecolor\":\"white\",\"gridwidth\":2},\"zaxis\":{\"backgroundcolor\":\"#E5ECF6\",\"gridcolor\":\"white\",\"linecolor\":\"white\",\"showbackground\":true,\"ticks\":\"\",\"zerolinecolor\":\"white\",\"gridwidth\":2}},\"shapedefaults\":{\"line\":{\"color\":\"#2a3f5f\"}},\"annotationdefaults\":{\"arrowcolor\":\"#2a3f5f\",\"arrowhead\":0,\"arrowwidth\":1},\"geo\":{\"bgcolor\":\"white\",\"landcolor\":\"#E5ECF6\",\"subunitcolor\":\"white\",\"showland\":true,\"showlakes\":true,\"lakecolor\":\"white\"},\"title\":{\"x\":0.05},\"mapbox\":{\"style\":\"light\"}}},\"xaxis\":{\"anchor\":\"y\",\"domain\":[0.0,1.0],\"title\":{\"text\":\"days_between_1st_2nd\"}},\"yaxis\":{\"anchor\":\"x\",\"domain\":[0.0,0.8316],\"title\":{\"text\":\"count\"}},\"xaxis2\":{\"anchor\":\"y2\",\"domain\":[0.0,1.0],\"matches\":\"x\",\"showticklabels\":false,\"showgrid\":true},\"yaxis2\":{\"anchor\":\"x2\",\"domain\":[0.8416,1.0],\"matches\":\"y2\",\"showticklabels\":false,\"showline\":false,\"ticks\":\"\",\"showgrid\":false},\"legend\":{\"tracegroupgap\":0},\"title\":{\"text\":\"\\ud83d\\udd52 Distribution of Days Between 1st and 2nd Orders\"},\"barmode\":\"relative\"},                        {\"responsive\": true}                    ).then(function(){\n",
       "                            \n",
       "var gd = document.getElementById('a24e1379-c7f2-4bfa-8032-f3ac0809ffce');\n",
       "var x = new MutationObserver(function (mutations, observer) {{\n",
       "        var display = window.getComputedStyle(gd).display;\n",
       "        if (!display || display === 'none') {{\n",
       "            console.log([gd, 'removed!']);\n",
       "            Plotly.purge(gd);\n",
       "            observer.disconnect();\n",
       "        }}\n",
       "}});\n",
       "\n",
       "// Listen for the removal of the full notebook cells\n",
       "var notebookContainer = gd.closest('#notebook-container');\n",
       "if (notebookContainer) {{\n",
       "    x.observe(notebookContainer, {childList: true});\n",
       "}}\n",
       "\n",
       "// Listen for the clearing of the current output cell\n",
       "var outputEl = gd.closest('.output');\n",
       "if (outputEl) {{\n",
       "    x.observe(outputEl, {childList: true});\n",
       "}}\n",
       "\n",
       "                        })                };                });            </script>        </div>"
      ]
     },
     "metadata": {},
     "output_type": "display_data"
    },
    {
     "name": "stdout",
     "output_type": "stream",
     "text": [
      "🧯 Churn after 1st order: 28.10%\n"
     ]
    }
   ],
   "source": [
    "import pandas as pd\n",
    "import plotly.express as px\n",
    "import plotly.graph_objects as go\n",
    "\n",
    "# Load data\n",
    "df = pd.read_csv(\"swiggy_user_orders_dataset.csv\")\n",
    "\n",
    "# -----------------------------\n",
    "# 🛠️ Date Parsing & Engineering\n",
    "# -----------------------------\n",
    "date_cols = ['signup_date', 'first_order_date', 'second_order_date', 'third_order_date']\n",
    "for col in date_cols:\n",
    "    df[col] = pd.to_datetime(df[col], errors='coerce')\n",
    "\n",
    "df['days_to_1st_order'] = (df['first_order_date'] - df['signup_date']).dt.days\n",
    "df['days_between_1st_2nd'] = (df['second_order_date'] - df['first_order_date']).dt.days\n",
    "df['days_between_2nd_3rd'] = (df['third_order_date'] - df['second_order_date']).dt.days\n",
    "df['total_orders'] = df[['first_order_date', 'second_order_date', 'third_order_date']].notnull().sum(axis=1)\n",
    "df['avg_order_value'] = df[['order_value_1', 'order_value_2', 'order_value_3']].mean(axis=1)\n",
    "df['signup_month'] = df['signup_date'].dt.to_period('M').astype(str)\n",
    "\n",
    "# ---------------------------------\n",
    "# 🔽 Funnel Chart: Conversion Stages\n",
    "# ---------------------------------\n",
    "signup_total = df.shape[0]\n",
    "first_orders = df['first_order_date'].notna().sum()\n",
    "second_orders = df['second_order_date'].notna().sum()\n",
    "\n",
    "fig_funnel = go.Figure(go.Funnel(\n",
    "    y=[\"Signed Up\", \"Placed 1st Order\", \"Placed 2nd Order\"],\n",
    "    x=[signup_total, first_orders, second_orders],\n",
    "    textposition=\"inside\", textinfo=\"value+percent previous\",\n",
    "    marker=dict(color=[\"#636EFA\", \"#EF553B\", \"#00CC96\"])\n",
    "))\n",
    "fig_funnel.update_layout(title=\"🔽 User Conversion Funnel\")\n",
    "fig_funnel.show()\n",
    "\n",
    "# ----------------------------------------\n",
    "# 📈 Retention Rate Over Signup Cohorts\n",
    "# ----------------------------------------\n",
    "monthly_ret = df.groupby('signup_month').agg(\n",
    "    total_signups=('user_id', 'count'),\n",
    "    first_orders=('first_order_date', lambda x: x.notna().sum()),\n",
    "    second_orders=('second_order_date', lambda x: x.notna().sum())\n",
    ").reset_index()\n",
    "\n",
    "monthly_ret['retention_1st'] = monthly_ret['first_orders'] / monthly_ret['total_signups']\n",
    "monthly_ret['retention_2nd'] = monthly_ret['second_orders'] / monthly_ret['total_signups']\n",
    "\n",
    "fig_retention = px.line(\n",
    "    monthly_ret,\n",
    "    x='signup_month',\n",
    "    y=['retention_1st', 'retention_2nd'],\n",
    "    title=\"📅 Monthly Retention Trends (1st & 2nd Orders)\",\n",
    "    markers=True,\n",
    "    labels={\"value\": \"Retention Rate\", \"signup_month\": \"Signup Month\"},\n",
    "    color_discrete_map={'retention_1st': '#636EFA', 'retention_2nd': '#EF553B'}\n",
    ")\n",
    "fig_retention.show()\n",
    "\n",
    "# -----------------------------------------------\n",
    "# 🧊 Average Order Value Distribution & Outliers\n",
    "# -----------------------------------------------\n",
    "fig_aov = px.histogram(\n",
    "    df, x=\"avg_order_value\", nbins=40,\n",
    "    marginal=\"box\", title=\"💰 Distribution of Average Order Value\",\n",
    "    color_discrete_sequence=[\"#00CC96\"]\n",
    ")\n",
    "fig_aov.show()\n",
    "\n",
    "# ---------------------------------------------------\n",
    "# 🏙️ Top Cities by User Count and Avg Order Value\n",
    "# ---------------------------------------------------\n",
    "city_stats = df.groupby('city').agg(\n",
    "    user_count=('user_id', 'count'),\n",
    "    avg_order_value=('avg_order_value', 'mean')\n",
    ").sort_values('user_count', ascending=False).head(15).reset_index()\n",
    "\n",
    "fig_city = px.bar(\n",
    "    city_stats, x='city', y='user_count',\n",
    "    text='avg_order_value', color='avg_order_value',\n",
    "    title=\"🏙️ Top 15 Cities by User Count and AOV\",\n",
    "    labels={'user_count': 'User Count', 'avg_order_value': 'Avg Order Value'},\n",
    "    color_continuous_scale='Viridis'\n",
    ")\n",
    "fig_city.show()\n",
    "\n",
    "# -----------------------------------------\n",
    "# 🔍 Retention by Signup Channel & Device\n",
    "# -----------------------------------------\n",
    "for attr in ['signup_channel', 'device']:\n",
    "    attr_ret = df.groupby(attr)[['retained_7_days', 'retained_30_days']].mean().reset_index()\n",
    "    fig_attr = px.bar(\n",
    "        attr_ret, x=attr,\n",
    "        y=['retained_7_days', 'retained_30_days'],\n",
    "        barmode=\"group\",\n",
    "        title=f\"📱 Retention by {attr.replace('_', ' ').title()}\",\n",
    "        color_discrete_map={'retained_7_days': '#AB63FA', 'retained_30_days': '#FFA15A'}\n",
    "    )\n",
    "    fig_attr.show()\n",
    "\n",
    "# ------------------------------------\n",
    "# 🧮 Correlation Between Key Features\n",
    "# ------------------------------------\n",
    "corr_cols = ['days_to_1st_order', 'days_between_1st_2nd', 'avg_order_value', 'retained_7_days', 'retained_30_days']\n",
    "fig_corr = px.imshow(\n",
    "    df[corr_cols].corr(), text_auto=True,\n",
    "    title=\"📊 Correlation Heatmap of Key Metrics\",\n",
    "    color_continuous_scale=\"RdBu_r\"\n",
    ")\n",
    "fig_corr.show()\n",
    "\n",
    "# ----------------------------------------------------------\n",
    "# ⏱️ Time to First Order vs 30-Day Retention (Trendline)\n",
    "# ----------------------------------------------------------\n",
    "import pandas as pd\n",
    "import numpy as np\n",
    "import plotly.express as px\n",
    "\n",
    "# --- Sample DataFrame creation (replace with your actual DataFrame) ---\n",
    "# df = pd.read_csv(\"your_data.csv\")  # If loading from a CSV\n",
    "\n",
    "# Ensure correct data types\n",
    "df['days_to_1st_order'] = pd.to_numeric(df['days_to_1st_order'], errors='coerce')\n",
    "df['retained_30_days'] = pd.to_numeric(df['retained_30_days'], errors='coerce')\n",
    "\n",
    "# Drop rows with NaNs in either of the relevant columns\n",
    "scatter_data = df[['days_to_1st_order', 'retained_30_days']].dropna()\n",
    "\n",
    "# ---------------------------------------------------\n",
    "# 🔁 Reorder Delays Distribution (1st to 2nd Order)\n",
    "# ---------------------------------------------------\n",
    "fig_reorder_delay = px.histogram(\n",
    "    df[df['days_between_1st_2nd'].notna()],\n",
    "    x=\"days_between_1st_2nd\", nbins=40, marginal=\"rug\",\n",
    "    title=\"🕒 Distribution of Days Between 1st and 2nd Orders\",\n",
    "    color_discrete_sequence=[\"#636EFA\"]\n",
    ")\n",
    "fig_reorder_delay.show()\n",
    "\n",
    "# ---------------------------------------------------\n",
    "# 📉 Churn Rate = Users who didn't order again\n",
    "# ---------------------------------------------------\n",
    "df['churned_after_1st'] = df['second_order_date'].isna()\n",
    "churn_rate = df['churned_after_1st'].mean()\n",
    "\n",
    "print(f\"🧯 Churn after 1st order: {churn_rate:.2%}\")\n"
   ]
  }
 ],
 "metadata": {
  "kernelspec": {
   "display_name": "Python 3 (ipykernel)",
   "language": "python",
   "name": "python3"
  },
  "language_info": {
   "codemirror_mode": {
    "name": "ipython",
    "version": 3
   },
   "file_extension": ".py",
   "mimetype": "text/x-python",
   "name": "python",
   "nbconvert_exporter": "python",
   "pygments_lexer": "ipython3",
   "version": "3.13.5"
  }
 },
 "nbformat": 4,
 "nbformat_minor": 5
}
